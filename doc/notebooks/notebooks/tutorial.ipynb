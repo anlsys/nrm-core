{
 "cells": [
  {
   "cell_type": "markdown",
   "metadata": {},
   "source": [
    "# NRM python upstream client library tutorial\n",
    "\n",
    "This tutorial covers the use of NRM's python upstream client library, in the context of running an external resource management strategy. Its cell's output are deterministic, and the executed version that is vendored in the source tree is checked by the project's CI, so its behavior should always be up-to-date with the latest version of the software, and no cells should be throwing exceptions.  \n",
    "\n",
    "The next few cells are for setup purposes."
   ]
  },
  {
   "cell_type": "code",
   "execution_count": 1,
   "metadata": {},
   "outputs": [],
   "source": [
    "%%capture\n",
    "cd .."
   ]
  },
  {
   "cell_type": "code",
   "execution_count": 2,
   "metadata": {},
   "outputs": [
    {
     "data": {
      "application/javascript": [
       "\n",
       "            setTimeout(function() {\n",
       "                var nbb_cell_id = 2;\n",
       "                var nbb_unformatted_code = \"%load_ext nb_black\";\n",
       "                var nbb_formatted_code = \"%load_ext nb_black\";\n",
       "                var nbb_cells = Jupyter.notebook.get_cells();\n",
       "                for (var i = 0; i < nbb_cells.length; ++i) {\n",
       "                    if (nbb_cells[i].input_prompt_number == nbb_cell_id) {\n",
       "                        if (nbb_cells[i].get_text() == nbb_unformatted_code) {\n",
       "                             nbb_cells[i].set_text(nbb_formatted_code);\n",
       "                        }\n",
       "                        break;\n",
       "                    }\n",
       "                }\n",
       "            }, 500);\n",
       "            "
      ],
      "text/plain": [
       "<IPython.core.display.Javascript object>"
      ]
     },
     "metadata": {},
     "output_type": "display_data"
    }
   ],
   "source": [
    "%load_ext nb_black"
   ]
  },
  {
   "cell_type": "markdown",
   "metadata": {},
   "source": [
    "## Setup\n",
    "\n",
    "This notebook uses `nrm`'s python library bindings and needs the `nrmd` daemon in the `$PATH`. \n",
    "\n",
    "Assuming the project is cloned **with submodules updated** (and the code unmodified), one needs to run the following from the root of the project before running it:"
   ]
  },
  {
   "cell_type": "code",
   "execution_count": 3,
   "metadata": {},
   "outputs": [
    {
     "data": {
      "application/javascript": [
       "\n",
       "            setTimeout(function() {\n",
       "                var nbb_cell_id = 3;\n",
       "                var nbb_unformatted_code = \"%%capture\\n%%bash\\n./shake.sh build # for the daemon \\n./shake.sh client # for the upstream client\\n./shake.sh pyclient # for the shared client library\";\n",
       "                var nbb_formatted_code = \"%%capture\\n%%bash\\n./shake.sh build # for the daemon \\n./shake.sh client # for the upstream client\\n./shake.sh pyclient # for the shared client library\";\n",
       "                var nbb_cells = Jupyter.notebook.get_cells();\n",
       "                for (var i = 0; i < nbb_cells.length; ++i) {\n",
       "                    if (nbb_cells[i].input_prompt_number == nbb_cell_id) {\n",
       "                        if (nbb_cells[i].get_text() == nbb_unformatted_code) {\n",
       "                             nbb_cells[i].set_text(nbb_formatted_code);\n",
       "                        }\n",
       "                        break;\n",
       "                    }\n",
       "                }\n",
       "            }, 500);\n",
       "            "
      ],
      "text/plain": [
       "<IPython.core.display.Javascript object>"
      ]
     },
     "metadata": {},
     "output_type": "display_data"
    }
   ],
   "source": [
    "%%capture\n",
    "%%bash\n",
    "./shake.sh build # for the daemon \n",
    "./shake.sh client # for the upstream client\n",
    "./shake.sh pyclient # for the shared client library"
   ]
  },
  {
   "cell_type": "markdown",
   "metadata": {},
   "source": [
    "This allows to use the command-line daemon and client in the working directory, should you need to for debugging purposes. Those should be available in the jupyter-lab terminal."
   ]
  },
  {
   "cell_type": "code",
   "execution_count": 4,
   "metadata": {},
   "outputs": [
    {
     "name": "stdout",
     "output_type": "stream",
     "text": [
      "nrmd\n",
      "\n",
      "Usage: <unknown> [-i|--stdin] [CONFIG] [-y|--yaml]\n",
      "  NRM Daemon\n",
      "\n",
      "Available options:\n",
      "  -h,--help                Show this help text\n",
      "  -i,--stdin               Read configuration on stdin.\n",
      "  CONFIG                   Input configuration with .yml/.yaml/.dh/.dhall\n",
      "                           extension. Leave void for stdin (dhall) input.\n",
      "  -y,--yaml                Assume configuration to be yaml(json is valid yaml)\n",
      "                           instead of dhall.\n",
      "  -h,--help                Show this help text\n"
     ]
    },
    {
     "data": {
      "application/javascript": [
       "\n",
       "            setTimeout(function() {\n",
       "                var nbb_cell_id = 4;\n",
       "                var nbb_unformatted_code = \"%%bash\\nnrmd --help\";\n",
       "                var nbb_formatted_code = \"%%bash\\nnrmd --help\";\n",
       "                var nbb_cells = Jupyter.notebook.get_cells();\n",
       "                for (var i = 0; i < nbb_cells.length; ++i) {\n",
       "                    if (nbb_cells[i].input_prompt_number == nbb_cell_id) {\n",
       "                        if (nbb_cells[i].get_text() == nbb_unformatted_code) {\n",
       "                             nbb_cells[i].set_text(nbb_formatted_code);\n",
       "                        }\n",
       "                        break;\n",
       "                    }\n",
       "                }\n",
       "            }, 500);\n",
       "            "
      ],
      "text/plain": [
       "<IPython.core.display.Javascript object>"
      ]
     },
     "metadata": {},
     "output_type": "display_data"
    }
   ],
   "source": [
    "%%bash\n",
    "nrmd --help"
   ]
  },
  {
   "cell_type": "code",
   "execution_count": 5,
   "metadata": {},
   "outputs": [
    {
     "name": "stdout",
     "output_type": "stream",
     "text": [
      "nrm\n",
      "\n",
      "Usage: nrm COMMAND\n",
      "  NRM Client\n",
      "\n",
      "Available options:\n",
      "  -h,--help                Show this help text\n",
      "  COMMAND                  Choice of operation.\n",
      "\n",
      "Available commands:\n",
      "  run                      Run the application via NRM\n",
      "  killcmd                  Kill cmd\n",
      "  killslice                Kill slice\n",
      "  setpower                 Set power limit\n",
      "  cpd                      Show current CPD\n",
      "  list                     List existing slices\n",
      "  state                    Show NRM state\n",
      "  config                   Show NRM configuration\n",
      "  listen-raw               Listen to raw NRM upstream pub messages\n",
      "  listen-cpd               Listen to CPD messages\n",
      "  listen-all               Listen to all upstream pub messages\n"
     ]
    },
    {
     "data": {
      "application/javascript": [
       "\n",
       "            setTimeout(function() {\n",
       "                var nbb_cell_id = 5;\n",
       "                var nbb_unformatted_code = \"%%bash\\nnrm --help\";\n",
       "                var nbb_formatted_code = \"%%bash\\nnrm --help\";\n",
       "                var nbb_cells = Jupyter.notebook.get_cells();\n",
       "                for (var i = 0; i < nbb_cells.length; ++i) {\n",
       "                    if (nbb_cells[i].input_prompt_number == nbb_cell_id) {\n",
       "                        if (nbb_cells[i].get_text() == nbb_unformatted_code) {\n",
       "                             nbb_cells[i].set_text(nbb_formatted_code);\n",
       "                        }\n",
       "                        break;\n",
       "                    }\n",
       "                }\n",
       "            }, 500);\n",
       "            "
      ],
      "text/plain": [
       "<IPython.core.display.Javascript object>"
      ]
     },
     "metadata": {},
     "output_type": "display_data"
    }
   ],
   "source": [
    "%%bash\n",
    "nrm --help"
   ]
  },
  {
   "cell_type": "markdown",
   "metadata": {},
   "source": [
    "## Defining experiments\n",
    "\n",
    "Now that the daemon is properly set-up, we will configure and run some experiments using the python interface.\n",
    "\n",
    "The next cell imports the upstream client library and some tools."
   ]
  },
  {
   "cell_type": "code",
   "execution_count": 95,
   "metadata": {},
   "outputs": [
    {
     "data": {
      "application/javascript": [
       "\n",
       "            setTimeout(function() {\n",
       "                var nbb_cell_id = 95;\n",
       "                var nbb_unformatted_code = \"import nrm.tooling\\nimport time\\nimport json\\nimport pandas as pd\\nimport matplotlib.pyplot as plt\";\n",
       "                var nbb_formatted_code = \"import nrm.tooling\\nimport time\\nimport json\\nimport pandas as pd\\nimport matplotlib.pyplot as plt\";\n",
       "                var nbb_cells = Jupyter.notebook.get_cells();\n",
       "                for (var i = 0; i < nbb_cells.length; ++i) {\n",
       "                    if (nbb_cells[i].input_prompt_number == nbb_cell_id) {\n",
       "                        if (nbb_cells[i].get_text() == nbb_unformatted_code) {\n",
       "                             nbb_cells[i].set_text(nbb_formatted_code);\n",
       "                        }\n",
       "                        break;\n",
       "                    }\n",
       "                }\n",
       "            }, 500);\n",
       "            "
      ],
      "text/plain": [
       "<IPython.core.display.Javascript object>"
      ]
     },
     "metadata": {},
     "output_type": "display_data"
    }
   ],
   "source": [
    "import nrm.tooling\n",
    "import time\n",
    "import json\n",
    "import pandas as pd\n",
    "import matplotlib.pyplot as plt"
   ]
  },
  {
   "cell_type": "markdown",
   "metadata": {},
   "source": [
    "This notebook will start `nrmd` on the same machine as the notebok, but the same interface should be available for remote execution:"
   ]
  },
  {
   "cell_type": "code",
   "execution_count": 96,
   "metadata": {},
   "outputs": [
    {
     "data": {
      "application/javascript": [
       "\n",
       "            setTimeout(function() {\n",
       "                var nbb_cell_id = 96;\n",
       "                var nbb_unformatted_code = \"host = nrm.tooling.Local()\\n# host=Remote( target=\\\"cc@129.114.108.201\\\")\";\n",
       "                var nbb_formatted_code = \"host = nrm.tooling.Local()\\n# host=Remote( target=\\\"cc@129.114.108.201\\\")\";\n",
       "                var nbb_cells = Jupyter.notebook.get_cells();\n",
       "                for (var i = 0; i < nbb_cells.length; ++i) {\n",
       "                    if (nbb_cells[i].input_prompt_number == nbb_cell_id) {\n",
       "                        if (nbb_cells[i].get_text() == nbb_unformatted_code) {\n",
       "                             nbb_cells[i].set_text(nbb_formatted_code);\n",
       "                        }\n",
       "                        break;\n",
       "                    }\n",
       "                }\n",
       "            }, 500);\n",
       "            "
      ],
      "text/plain": [
       "<IPython.core.display.Javascript object>"
      ]
     },
     "metadata": {},
     "output_type": "display_data"
    }
   ],
   "source": [
    "host = nrm.tooling.Local()\n",
    "# host=Remote( target=\"cc@129.114.108.201\")"
   ]
  },
  {
   "cell_type": "markdown",
   "metadata": {},
   "source": [
    "Note that the two classes (`Local` and `Remote`) offer the same methods to start nrmd and interact via blocking message passing primitives. The supported methods are the following:"
   ]
  },
  {
   "cell_type": "code",
   "execution_count": 97,
   "metadata": {
    "jupyter": {
     "source_hidden": true
    }
   },
   "outputs": [
    {
     "name": "stdout",
     "output_type": "stream",
     "text": [
      "__init__: None\n",
      "check_daemon:  checks if nrmd is alive \n",
      "get_cpd:  Obtain the current Control Problem Description \n",
      "get_state:  Obtain the current daemon state \n",
      "run_workload:  Runs a workload via NRM. The `nrmd` daemon must be running. \n",
      "start_daemon:  start nrmd \n",
      "stop_daemon:  stops nrmd \n",
      "workload_exit_status:  Check the workload's exit status. \n",
      "workload_finished:  Checks NRM to see whether all tasks are finished. \n",
      "workload_recv:  Receive a message from NRM's upstream API. \n",
      "workload_send:  Send a message to NRM's upstream API. \n"
     ]
    },
    {
     "data": {
      "application/javascript": [
       "\n",
       "            setTimeout(function() {\n",
       "                var nbb_cell_id = 97;\n",
       "                var nbb_unformatted_code = \"import inspect\\n\\nfor a, x in inspect.getmembers(host, predicate=inspect.ismethod):\\n    print(\\\"%s: %s\\\" % (a, x.__doc__))\";\n",
       "                var nbb_formatted_code = \"import inspect\\n\\nfor a, x in inspect.getmembers(host, predicate=inspect.ismethod):\\n    print(\\\"%s: %s\\\" % (a, x.__doc__))\";\n",
       "                var nbb_cells = Jupyter.notebook.get_cells();\n",
       "                for (var i = 0; i < nbb_cells.length; ++i) {\n",
       "                    if (nbb_cells[i].input_prompt_number == nbb_cell_id) {\n",
       "                        if (nbb_cells[i].get_text() == nbb_unformatted_code) {\n",
       "                             nbb_cells[i].set_text(nbb_formatted_code);\n",
       "                        }\n",
       "                        break;\n",
       "                    }\n",
       "                }\n",
       "            }, 500);\n",
       "            "
      ],
      "text/plain": [
       "<IPython.core.display.Javascript object>"
      ]
     },
     "metadata": {},
     "output_type": "display_data"
    }
   ],
   "source": [
    "import inspect\n",
    "\n",
    "for a, x in inspect.getmembers(host, predicate=inspect.ismethod):\n",
    "    print(\"%s: %s\" % (a, x.__doc__))"
   ]
  },
  {
   "cell_type": "markdown",
   "metadata": {},
   "source": [
    "The next cell defines some node experimental node (`nrmd`) daemon configurations and some workloads. Please see notebook [notebooks/configuration.ipynb](notebooks/configuration.ipynb) for an overview of `nrmd`'s and the \"Manifest\"'s configuration format."
   ]
  },
  {
   "cell_type": "code",
   "execution_count": 98,
   "metadata": {},
   "outputs": [
    {
     "data": {
      "application/javascript": [
       "\n",
       "            setTimeout(function() {\n",
       "                var nbb_cell_id = 98;\n",
       "                var nbb_unformatted_code = \"daemonCfgs = {\\n    \\\"redirected_log\\\": {\\\"logfile\\\": \\\"/tmp/logfile_experiment2\\\", \\\"verbose\\\": \\\"Info\\\"},\\n    # \\\"other\\\":your code\\n}\\n\\nworkloads = {\\n    \\\"dummy\\\":[{\\\"cmd\\\":\\\"sleep\\\",\\n              \\\"args\\\": [\\\"10\\\"] , # running the sleep command for 10 seconds.\\n              \\\"sliceID\\\": \\\"toto\\\",\\n              \\\"manifest\\\":{\\n                  \\\"app\\\": { \\\"slice\\\": {\\n                                 \\\"cpus\\\": 1,\\n                                 \\\"mems\\\": 1 \\n                           },  \\n                           \\\"perfwrapper\\\":{\\\"perfLimit\\\":{\\\"fromOps\\\":100000},\\\"perfFreq\\\":{\\\"fromHz\\\":1}}\\n                         },\\n                          \\\"name\\\": \\\"perfwrap\\\",\\n                         }\\n            }\\n            ],\\n    #\\\"other\\\":your code\\n}\";\n",
       "                var nbb_formatted_code = \"daemonCfgs = {\\n    \\\"redirected_log\\\": {\\\"logfile\\\": \\\"/tmp/logfile_experiment2\\\", \\\"verbose\\\": \\\"Info\\\"},\\n    # \\\"other\\\":your code\\n}\\n\\nworkloads = {\\n    \\\"dummy\\\": [\\n        {\\n            \\\"cmd\\\": \\\"sleep\\\",\\n            \\\"args\\\": [\\\"10\\\"],  # running the sleep command for 10 seconds.\\n            \\\"sliceID\\\": \\\"toto\\\",\\n            \\\"manifest\\\": {\\n                \\\"app\\\": {\\n                    \\\"slice\\\": {\\\"cpus\\\": 1, \\\"mems\\\": 1},\\n                    \\\"perfwrapper\\\": {\\n                        \\\"perfLimit\\\": {\\\"fromOps\\\": 100000},\\n                        \\\"perfFreq\\\": {\\\"fromHz\\\": 1},\\n                    },\\n                },\\n                \\\"name\\\": \\\"perfwrap\\\",\\n            },\\n        }\\n    ],\\n    # \\\"other\\\":your code\\n}\";\n",
       "                var nbb_cells = Jupyter.notebook.get_cells();\n",
       "                for (var i = 0; i < nbb_cells.length; ++i) {\n",
       "                    if (nbb_cells[i].input_prompt_number == nbb_cell_id) {\n",
       "                        if (nbb_cells[i].get_text() == nbb_unformatted_code) {\n",
       "                             nbb_cells[i].set_text(nbb_formatted_code);\n",
       "                        }\n",
       "                        break;\n",
       "                    }\n",
       "                }\n",
       "            }, 500);\n",
       "            "
      ],
      "text/plain": [
       "<IPython.core.display.Javascript object>"
      ]
     },
     "metadata": {},
     "output_type": "display_data"
    }
   ],
   "source": [
    "daemonCfgs = {\n",
    "    \"redirected_log\": {\"logfile\": \"/tmp/logfile_experiment2\", \"verbose\": \"Info\"},\n",
    "    # \"other\":your code\n",
    "}\n",
    "\n",
    "workloads = {\n",
    "    \"dummy\":[{\"cmd\":\"sleep\",\n",
    "              \"args\": [\"10\"] , # running the sleep command for 10 seconds.\n",
    "              \"sliceID\": \"toto\",\n",
    "              \"manifest\":{\n",
    "                  \"app\": { \"slice\": {\n",
    "                                 \"cpus\": 1,\n",
    "                                 \"mems\": 1 \n",
    "                           },  \n",
    "                           \"perfwrapper\":{\"perfLimit\":{\"fromOps\":100000},\"perfFreq\":{\"fromHz\":1}}\n",
    "                         },\n",
    "                          \"name\": \"perfwrap\",\n",
    "                         }\n",
    "            }\n",
    "            ],\n",
    "    #\"other\":your code\n",
    "}"
   ]
  },
  {
   "cell_type": "markdown",
   "metadata": {},
   "source": [
    "The next cell defines some experiments:"
   ]
  },
  {
   "cell_type": "code",
   "execution_count": 99,
   "metadata": {},
   "outputs": [
    {
     "data": {
      "application/javascript": [
       "\n",
       "            setTimeout(function() {\n",
       "                var nbb_cell_id = 99;\n",
       "                var nbb_unformatted_code = \"experiments = {\\n    \\\"example\\\": (daemonCfgs[\\\"redirected_log\\\"], workloads[\\\"dummy\\\"]),\\n    # \\\"other\\\": your code\\n}\";\n",
       "                var nbb_formatted_code = \"experiments = {\\n    \\\"example\\\": (daemonCfgs[\\\"redirected_log\\\"], workloads[\\\"dummy\\\"]),\\n    # \\\"other\\\": your code\\n}\";\n",
       "                var nbb_cells = Jupyter.notebook.get_cells();\n",
       "                for (var i = 0; i < nbb_cells.length; ++i) {\n",
       "                    if (nbb_cells[i].input_prompt_number == nbb_cell_id) {\n",
       "                        if (nbb_cells[i].get_text() == nbb_unformatted_code) {\n",
       "                             nbb_cells[i].set_text(nbb_formatted_code);\n",
       "                        }\n",
       "                        break;\n",
       "                    }\n",
       "                }\n",
       "            }, 500);\n",
       "            "
      ],
      "text/plain": [
       "<IPython.core.display.Javascript object>"
      ]
     },
     "metadata": {},
     "output_type": "display_data"
    }
   ],
   "source": [
    "experiments = {\n",
    "    \"example\": (daemonCfgs[\"redirected_log\"], workloads[\"dummy\"]),\n",
    "    # \"other\": your code\n",
    "}"
   ]
  },
  {
   "cell_type": "markdown",
   "metadata": {},
   "source": [
    "## Running experiments\n",
    "The next cell shows how to start the daemon and obtain the current control description problem."
   ]
  },
  {
   "cell_type": "code",
   "execution_count": 100,
   "metadata": {},
   "outputs": [
    {
     "name": "stdout",
     "output_type": "stream",
     "text": [
      "connecting\n",
      "connected to tcp://localhost:2345\n",
      "The control problem description is:\n",
      " Problem \n",
      "    \u001b[1m\u001b[96m{\u001b[0m sensors = fromList \n",
      "        \u001b[1m\u001b[93m[\u001b[0m \n",
      "            \u001b[35m(\u001b[0m SensorID \u001b[36m{\u001b[0m sensorID = \u001b[1m\u001b[97m\"\u001b[0m\u001b[1m\u001b[94mRaplKey (PackageID 0)\u001b[0m\u001b[1m\u001b[97m\"\u001b[0m \u001b[36m}\u001b[0m\n",
      "            \u001b[35m,\u001b[0m Sensor \n",
      "                \u001b[36m{\u001b[0m range = 0.0 ... 2.6214332885e11\n",
      "                \u001b[36m,\u001b[0m maxFrequency = 3.0\n",
      "                \u001b[36m}\u001b[0m \n",
      "            \u001b[35m)\u001b[0m \n",
      "        \u001b[1m\u001b[93m]\u001b[0m\n",
      "    \u001b[1m\u001b[96m,\u001b[0m actuators = fromList \n",
      "        \u001b[1m\u001b[93m[\u001b[0m \n",
      "            \u001b[35m(\u001b[0m ActuatorID \u001b[36m{\u001b[0m actuatorID = \u001b[1m\u001b[97m\"\u001b[0m\u001b[1m\u001b[94mRaplKey (PackageID 0)\u001b[0m\u001b[1m\u001b[97m\"\u001b[0m \u001b[36m}\u001b[0m\n",
      "            \u001b[35m,\u001b[0m Actuator \n",
      "                \u001b[36m{\u001b[0m actions = \n",
      "                    \u001b[33m[\u001b[0m DiscreteDouble 180.0\n",
      "                    \u001b[33m,\u001b[0m DiscreteDouble 200.0\n",
      "                    \u001b[33m]\u001b[0m \n",
      "                \u001b[36m}\u001b[0m\n",
      "            \u001b[35m)\u001b[0m \n",
      "        \u001b[1m\u001b[93m]\u001b[0m\n",
      "    \u001b[1m\u001b[96m,\u001b[0m objectives = \u001b[1m\u001b[93m[\u001b[0m\u001b[1m\u001b[93m]\u001b[0m\n",
      "    \u001b[1m\u001b[96m,\u001b[0m constraints = \u001b[1m\u001b[93m[\u001b[0m\u001b[1m\u001b[93m]\u001b[0m\n",
      "    \u001b[1m\u001b[96m}\u001b[0m \n"
     ]
    },
    {
     "data": {
      "application/javascript": [
       "\n",
       "            setTimeout(function() {\n",
       "                var nbb_cell_id = 100;\n",
       "                var nbb_unformatted_code = \"host.start_daemon(daemonCfgs[\\\"redirected_log\\\"]) # this acts as a silent restart in case the daemon is still running.\\nassert host.check_daemon()\\ncpd=host.get_cpd()\\nprint(\\\"The control problem description is:\\\\n %s\\\" % cpd)\";\n",
       "                var nbb_formatted_code = \"host.start_daemon(\\n    daemonCfgs[\\\"redirected_log\\\"]\\n)  # this acts as a silent restart in case the daemon is still running.\\nassert host.check_daemon()\\ncpd = host.get_cpd()\\nprint(\\\"The control problem description is:\\\\n %s\\\" % cpd)\";\n",
       "                var nbb_cells = Jupyter.notebook.get_cells();\n",
       "                for (var i = 0; i < nbb_cells.length; ++i) {\n",
       "                    if (nbb_cells[i].input_prompt_number == nbb_cell_id) {\n",
       "                        if (nbb_cells[i].get_text() == nbb_unformatted_code) {\n",
       "                             nbb_cells[i].set_text(nbb_formatted_code);\n",
       "                        }\n",
       "                        break;\n",
       "                    }\n",
       "                }\n",
       "            }, 500);\n",
       "            "
      ],
      "text/plain": [
       "<IPython.core.display.Javascript object>"
      ]
     },
     "metadata": {},
     "output_type": "display_data"
    }
   ],
   "source": [
    "host.start_daemon(daemonCfgs[\"redirected_log\"]) # this acts as a silent restart in case the daemon is still running.\n",
    "assert host.check_daemon()\n",
    "cpd=host.get_cpd()\n",
    "print(\"The control problem description is:\\n %s\" % cpd)"
   ]
  },
  {
   "cell_type": "code",
   "execution_count": 101,
   "metadata": {},
   "outputs": [
    {
     "data": {
      "application/javascript": [
       "\n",
       "            setTimeout(function() {\n",
       "                var nbb_cell_id = 101;\n",
       "                var nbb_unformatted_code = \"host.stop_daemon()\\nassert host.check_daemon() == False\";\n",
       "                var nbb_formatted_code = \"host.stop_daemon()\\nassert host.check_daemon() == False\";\n",
       "                var nbb_cells = Jupyter.notebook.get_cells();\n",
       "                for (var i = 0; i < nbb_cells.length; ++i) {\n",
       "                    if (nbb_cells[i].input_prompt_number == nbb_cell_id) {\n",
       "                        if (nbb_cells[i].get_text() == nbb_unformatted_code) {\n",
       "                             nbb_cells[i].set_text(nbb_formatted_code);\n",
       "                        }\n",
       "                        break;\n",
       "                    }\n",
       "                }\n",
       "            }, 500);\n",
       "            "
      ],
      "text/plain": [
       "<IPython.core.display.Javascript object>"
      ]
     },
     "metadata": {},
     "output_type": "display_data"
    }
   ],
   "source": [
    "host.stop_daemon()\n",
    "assert host.check_daemon() == False"
   ]
  },
  {
   "cell_type": "markdown",
   "metadata": {},
   "source": [
    "### Dummy experiment: printing measurements\n",
    "\n",
    "We now are ready to run an external resource management strategy. The next cell uses the low-level \"upstream\" message passing interface. Message schemas for this API can be browsed in the [./resources/](./resources/) folder."
   ]
  },
  {
   "cell_type": "code",
   "execution_count": 103,
   "metadata": {},
   "outputs": [
    {
     "name": "stdout",
     "output_type": "stream",
     "text": [
      "connecting\n",
      "connected to tcp://localhost:2345\n",
      "Starting the workload\n",
      "Operating with the following problem:\n",
      "Problem \n",
      "    \u001b[1m\u001b[96m{\u001b[0m sensors = fromList \n",
      "        \u001b[1m\u001b[93m[\u001b[0m \n",
      "            \u001b[35m(\u001b[0m SensorID \u001b[36m{\u001b[0m sensorID = \u001b[1m\u001b[97m\"\u001b[0m\u001b[1m\u001b[94mRaplKey (PackageID 0)\u001b[0m\u001b[1m\u001b[97m\"\u001b[0m \u001b[36m}\u001b[0m\n",
      "            \u001b[35m,\u001b[0m Sensor \n",
      "                \u001b[36m{\u001b[0m range = 0.0 ... 2.6214332885e11\n",
      "                \u001b[36m,\u001b[0m maxFrequency = 3.0\n",
      "                \u001b[36m}\u001b[0m \n",
      "            \u001b[35m)\u001b[0m \n",
      "        \u001b[1m\u001b[93m]\u001b[0m\n",
      "    \u001b[1m\u001b[96m,\u001b[0m actuators = fromList \n",
      "        \u001b[1m\u001b[93m[\u001b[0m \n",
      "            \u001b[35m(\u001b[0m ActuatorID \u001b[36m{\u001b[0m actuatorID = \u001b[1m\u001b[97m\"\u001b[0m\u001b[1m\u001b[94mRaplKey (PackageID 0)\u001b[0m\u001b[1m\u001b[97m\"\u001b[0m \u001b[36m}\u001b[0m\n",
      "            \u001b[35m,\u001b[0m Actuator \n",
      "                \u001b[36m{\u001b[0m actions = \n",
      "                    \u001b[33m[\u001b[0m DiscreteDouble 180.0\n",
      "                    \u001b[33m,\u001b[0m DiscreteDouble 200.0\n",
      "                    \u001b[33m]\u001b[0m \n",
      "                \u001b[36m}\u001b[0m\n",
      "            \u001b[35m)\u001b[0m \n",
      "        \u001b[1m\u001b[93m]\u001b[0m\n",
      "    \u001b[1m\u001b[96m,\u001b[0m objectives = \u001b[1m\u001b[93m[\u001b[0m\u001b[1m\u001b[93m]\u001b[0m\n",
      "    \u001b[1m\u001b[96m,\u001b[0m constraints = \u001b[1m\u001b[93m[\u001b[0m\u001b[1m\u001b[93m]\u001b[0m\n",
      "    \u001b[1m\u001b[96m}\u001b[0m \n",
      "Received measurement at time 1579813463985521.2 for sensor RaplKey (PackageID 0) of value 226643536551\n",
      "Received measurement at time 1579813464985641.8 for sensor RaplKey (PackageID 0) of value 226657011370\n",
      "Received measurement at time 1579813465755535.2 for sensor DownstreamCmdKey (DownstreamCmdID 924187d4-e6ec-4582-b2e5-97370e245f62) of value 0\n",
      "Received measurement at time 1579813465985432.5 for sensor RaplKey (PackageID 0) of value 226669507065\n",
      "Received measurement at time 1579813466755552 for sensor DownstreamCmdKey (DownstreamCmdID 924187d4-e6ec-4582-b2e5-97370e245f62) of value 0\n",
      "Received measurement at time 1579813466985257.8 for sensor RaplKey (PackageID 0) of value 226683337963\n",
      "Received measurement at time 1579813467755557.8 for sensor DownstreamCmdKey (DownstreamCmdID 924187d4-e6ec-4582-b2e5-97370e245f62) of value 0\n",
      "Received measurement at time 1579813467985547.5 for sensor RaplKey (PackageID 0) of value 226695959390\n",
      "Received measurement at time 1579813468755532.8 for sensor DownstreamCmdKey (DownstreamCmdID 924187d4-e6ec-4582-b2e5-97370e245f62) of value 0\n",
      "Received measurement at time 1579813468985637.2 for sensor RaplKey (PackageID 0) of value 226713760431\n",
      "Received measurement at time 1579813469756247.5 for sensor DownstreamCmdKey (DownstreamCmdID 924187d4-e6ec-4582-b2e5-97370e245f62) of value 0\n",
      "Received measurement at time 1579813469986085.2 for sensor RaplKey (PackageID 0) of value 226734092044\n",
      "Received measurement at time 1579813470756617.2 for sensor DownstreamCmdKey (DownstreamCmdID 924187d4-e6ec-4582-b2e5-97370e245f62) of value 0\n",
      "Received measurement at time 1579813470985698 for sensor RaplKey (PackageID 0) of value 226750046166\n",
      "Received measurement at time 1579813471756177.5 for sensor DownstreamCmdKey (DownstreamCmdID 924187d4-e6ec-4582-b2e5-97370e245f62) of value 0\n",
      "Received measurement at time 1579813471985280.8 for sensor RaplKey (PackageID 0) of value 226765191635\n",
      "Received measurement at time 1579813472756270 for sensor DownstreamCmdKey (DownstreamCmdID 924187d4-e6ec-4582-b2e5-97370e245f62) of value 0\n",
      "Received measurement at time 1579813472985904 for sensor RaplKey (PackageID 0) of value 226780266975\n",
      "Received measurement at time 1579813473756791.5 for sensor DownstreamCmdKey (DownstreamCmdID 924187d4-e6ec-4582-b2e5-97370e245f62) of value 0\n",
      "Received measurement at time 1579813473986565 for sensor RaplKey (PackageID 0) of value 226796442592\n",
      "True\n"
     ]
    },
    {
     "data": {
      "application/javascript": [
       "\n",
       "            setTimeout(function() {\n",
       "                var nbb_cell_id = 103;\n",
       "                var nbb_unformatted_code = \"for name, (daemonCfg, workload) in experiments.items():\\n    host.start_daemon(daemonCfg)\\n    print(\\\"Starting the workload\\\")\\n    host.run_workload(workload)\\n    time.sleep(1)\\n    print(\\\"Operating with the following problem:\\\")\\n    print(host.get_cpd())\\n    history = {}\\n    while host.check_daemon() and not host.workload_finished():\\n        measurement_message = host.workload_recv()\\n        msg=json.loads(measurement_message)\\n        #print(\\\"received raw message: %s\\\" %msg)\\n        if \\\"pubMeasurements\\\" in msg:\\n            content = msg[\\\"pubMeasurements\\\"][1][0]\\n            #print(content)\\n            t = content[\\\"time\\\"]\\n            sensorID = content[\\\"sensorID\\\"]\\n            x = content[\\\"sensorValue\\\"]\\n            print(\\\"Received measurement at time %s for sensor %s of value %s\\\" % (content[\\\"time\\\"],content[\\\"sensorID\\\"],content[\\\"sensorValue\\\"]))\\n            if sensorID in history:\\n                history[sensorID].append((t,x))\\n            else:\\n                history[sensorID]= [(t,x)]\\n                \\n        #command_message = \\\"insert your code here\\\"\\n        #host.workload_send(command_message)\\n        \\n    print(host.check_daemon())\\n\\nhost.stop_daemon()\";\n",
       "                var nbb_formatted_code = \"for name, (daemonCfg, workload) in experiments.items():\\n    host.start_daemon(daemonCfg)\\n    print(\\\"Starting the workload\\\")\\n    host.run_workload(workload)\\n    time.sleep(1)\\n    print(\\\"Operating with the following problem:\\\")\\n    print(host.get_cpd())\\n    history = {}\\n    while host.check_daemon() and not host.workload_finished():\\n        measurement_message = host.workload_recv()\\n        msg = json.loads(measurement_message)\\n        # print(\\\"received raw message: %s\\\" %msg)\\n        if \\\"pubMeasurements\\\" in msg:\\n            content = msg[\\\"pubMeasurements\\\"][1][0]\\n            # print(content)\\n            t = content[\\\"time\\\"]\\n            sensorID = content[\\\"sensorID\\\"]\\n            x = content[\\\"sensorValue\\\"]\\n            print(\\n                \\\"Received measurement at time %s for sensor %s of value %s\\\"\\n                % (content[\\\"time\\\"], content[\\\"sensorID\\\"], content[\\\"sensorValue\\\"])\\n            )\\n            if sensorID in history:\\n                history[sensorID].append((t, x))\\n            else:\\n                history[sensorID] = [(t, x)]\\n\\n        # command_message = \\\"insert your code here\\\"\\n        # host.workload_send(command_message)\\n\\n    print(host.check_daemon())\\n\\nhost.stop_daemon()\";\n",
       "                var nbb_cells = Jupyter.notebook.get_cells();\n",
       "                for (var i = 0; i < nbb_cells.length; ++i) {\n",
       "                    if (nbb_cells[i].input_prompt_number == nbb_cell_id) {\n",
       "                        if (nbb_cells[i].get_text() == nbb_unformatted_code) {\n",
       "                             nbb_cells[i].set_text(nbb_formatted_code);\n",
       "                        }\n",
       "                        break;\n",
       "                    }\n",
       "                }\n",
       "            }, 500);\n",
       "            "
      ],
      "text/plain": [
       "<IPython.core.display.Javascript object>"
      ]
     },
     "metadata": {},
     "output_type": "display_data"
    }
   ],
   "source": [
    "for name, (daemonCfg, workload) in experiments.items():\n",
    "    host.start_daemon(daemonCfg)\n",
    "    print(\"Starting the workload\")\n",
    "    host.run_workload(workload)\n",
    "    time.sleep(1)\n",
    "    print(\"Operating with the following problem:\")\n",
    "    print(host.get_cpd())\n",
    "    history = {}\n",
    "    while host.check_daemon() and not host.workload_finished():\n",
    "        measurement_message = host.workload_recv()\n",
    "        msg=json.loads(measurement_message)\n",
    "        #print(\"received raw message: %s\" %msg)\n",
    "        if \"pubMeasurements\" in msg:\n",
    "            content = msg[\"pubMeasurements\"][1][0]\n",
    "            #print(content)\n",
    "            t = content[\"time\"]\n",
    "            sensorID = content[\"sensorID\"]\n",
    "            x = content[\"sensorValue\"]\n",
    "            print(\"Received measurement at time %s for sensor %s of value %s\" % (content[\"time\"],content[\"sensorID\"],content[\"sensorValue\"]))\n",
    "            if sensorID in history:\n",
    "                history[sensorID].append((t,x))\n",
    "            else:\n",
    "                history[sensorID]= [(t,x)]\n",
    "                \n",
    "        #command_message = \"insert your code here\"\n",
    "        #host.workload_send(command_message)\n",
    "        \n",
    "    print(host.check_daemon())\n",
    "\n",
    "host.stop_daemon()"
   ]
  },
  {
   "cell_type": "code",
   "execution_count": 94,
   "metadata": {},
   "outputs": [
    {
     "name": "stdout",
     "output_type": "stream",
     "text": [
      "sensorID RaplKey (PackageID 0)\n",
      "                                      value\n",
      "time                                       \n",
      "2020-01-23 20:52:15.290972750  218936873235\n",
      "2020-01-23 20:52:16.291880000  218945415694\n",
      "2020-01-23 20:52:17.292045250  218955095906\n",
      "2020-01-23 20:52:18.292031500  218964556941\n",
      "2020-01-23 20:52:19.291338500  218974278169\n",
      "2020-01-23 20:52:20.291700750  218984350714\n",
      "2020-01-23 20:52:21.291577500  218994074261\n",
      "2020-01-23 20:52:22.291591000  219003525592\n",
      "2020-01-23 20:52:23.291870000  219013268059\n",
      "2020-01-23 20:52:24.292598250  219023609464\n",
      "2020-01-23 20:52:25.291273000  219035465268\n",
      "\n",
      "\n",
      "sensorID DownstreamCmdKey (DownstreamCmdID 886e016a-93df-4a74-8120-f0bf260b1c3e)\n",
      "                               value\n",
      "time                                \n",
      "2020-01-23 20:52:16.901470250      0\n",
      "2020-01-23 20:52:17.902111500      0\n",
      "2020-01-23 20:52:18.902104250      0\n",
      "2020-01-23 20:52:19.902326500      0\n",
      "2020-01-23 20:52:20.902626750      0\n",
      "2020-01-23 20:52:21.902927500      0\n",
      "2020-01-23 20:52:22.903525000      0\n",
      "2020-01-23 20:52:23.903808000      0\n",
      "\n",
      "\n"
     ]
    },
    {
     "data": {
      "image/png": "[encoded data removed]",
      "text/plain": [
       "<Figure size 432x288 with 1 Axes>"
      ]
     },
     "metadata": {
      "needs_background": "light"
     },
     "output_type": "display_data"
    },
    {
     "data": {
      "image/png": "[encoded data removed]",
      "text/plain": [
       "<Figure size 432x288 with 1 Axes>"
      ]
     },
     "metadata": {
      "needs_background": "light"
     },
     "output_type": "display_data"
    },
    {
     "data": {
      "application/javascript": [
       "\n",
       "            setTimeout(function() {\n",
       "                var nbb_cell_id = 94;\n",
       "                var nbb_unformatted_code = \"for sensorID,measurements in history.items():\\n    dataframe = pd.DataFrame(data=[(pd.Timestamp(t, unit='us'), m) \\n                                   for t,m \\n                                   in measurements])\\n    print(\\\"sensorID %s\\\" % sensorID)\\n    dataframe.columns=[\\\"time\\\",\\\"value\\\"]\\n    dataframe = dataframe.set_index(\\\"time\\\")\\n    print(dataframe)\\n    ax = dataframe.plot(marker='o', \\n                        linestyle='-',\\n                        title='values for sensor \\\"%s[..]\\\"' % sensorID[:20])\\n    print(\\\"\\\\n\\\")\";\n",
       "                var nbb_formatted_code = \"for sensorID, measurements in history.items():\\n    dataframe = pd.DataFrame(\\n        data=[(pd.Timestamp(t, unit=\\\"us\\\"), m) for t, m in measurements]\\n    )\\n    print(\\\"sensorID %s\\\" % sensorID)\\n    dataframe.columns = [\\\"time\\\", \\\"value\\\"]\\n    dataframe = dataframe.set_index(\\\"time\\\")\\n    print(dataframe)\\n    ax = dataframe.plot(\\n        marker=\\\"o\\\", linestyle=\\\"-\\\", title='values for sensor \\\"%s[..]\\\"' % sensorID[:20]\\n    )\\n    print(\\\"\\\\n\\\")\";\n",
       "                var nbb_cells = Jupyter.notebook.get_cells();\n",
       "                for (var i = 0; i < nbb_cells.length; ++i) {\n",
       "                    if (nbb_cells[i].input_prompt_number == nbb_cell_id) {\n",
       "                        if (nbb_cells[i].get_text() == nbb_unformatted_code) {\n",
       "                             nbb_cells[i].set_text(nbb_formatted_code);\n",
       "                        }\n",
       "                        break;\n",
       "                    }\n",
       "                }\n",
       "            }, 500);\n",
       "            "
      ],
      "text/plain": [
       "<IPython.core.display.Javascript object>"
      ]
     },
     "metadata": {},
     "output_type": "display_data"
    }
   ],
   "source": [
    "for sensorID,measurements in history.items():\n",
    "    dataframe = pd.DataFrame(data=[(pd.Timestamp(t, unit='us'), m) \n",
    "                                   for t,m \n",
    "                                   in measurements])\n",
    "    print(\"sensorID %s\" % sensorID)\n",
    "    dataframe.columns=[\"time\",\"value\"]\n",
    "    dataframe = dataframe.set_index(\"time\")\n",
    "    print(dataframe)\n",
    "    ax = dataframe.plot(marker='o', \n",
    "                        linestyle='-',\n",
    "                        title='values for sensor \"%s[..]\"' % sensorID[:20])\n",
    "    print(\"\\n\")"
   ]
  },
  {
   "cell_type": "code",
   "execution_count": null,
   "metadata": {},
   "outputs": [],
   "source": []
  },
  {
   "cell_type": "code",
   "execution_count": null,
   "metadata": {},
   "outputs": [],
   "source": []
  }
 ],
 "metadata": {
  "kernelspec": {
   "display_name": "Python3 - Nix",
   "language": "python",
   "name": "ipython_nix"
  },
  "language_info": {
   "codemirror_mode": {
    "name": "ipython",
    "version": 3
   },
   "file_extension": ".py",
   "mimetype": "text/x-python",
   "name": "python",
   "nbconvert_exporter": "python",
   "pygments_lexer": "ipython3",
   "version": "3.7.4"
  }
 },
 "nbformat": 4,
 "nbformat_minor": 4
}
