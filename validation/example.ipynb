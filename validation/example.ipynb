{
 "cells": [
  {
   "cell_type": "code",
   "execution_count": 1,
   "metadata": {},
   "outputs": [],
   "source": [
    "import sharedlib, os\n",
    "hbandit = sharedlib.UnsafeLib(os.environ[\"SHELLSO\"])"
   ]
  },
  {
   "cell_type": "code",
   "execution_count": 2,
   "metadata": {},
   "outputs": [],
   "source": [
    "class Exp3(object):\n",
    "    \"\"\"Hyperparameter-free, anytime Exp3.\"\"\"\n",
    "    def __init__(self,armCount):\n",
    "        s,a = hbandit.initExp3(armCount)\n",
    "        self.state = s \n",
    "        self.action = a\n",
    "    def step(self,loss):\n",
    "        s,a = hbandit.stepExp3(self.state,loss)\n",
    "        self.state = s\n",
    "        self.action = a\n",
    "        return(a)"
   ]
  },
  {
   "cell_type": "code",
   "execution_count": 3,
   "metadata": {},
   "outputs": [
    {
     "name": "stdout",
     "output_type": "stream",
     "text": [
      "Info: Using the Jupyter notebook version of the tqdm() decorator, tqdm_notebook() ...\n"
     ]
    }
   ],
   "source": [
    "import SMPyBandits"
   ]
  },
  {
   "cell_type": "code",
   "execution_count": 4,
   "metadata": {},
   "outputs": [],
   "source": [
    "class SMPyExp3(object):\n",
    "    def __init__(self, nbArms, *args, **kwargs):\n",
    "        s,a = hbandit.initExp3(nbArms)\n",
    "        self.state = s \n",
    "        self.action = a\n",
    "\n",
    "    def __str__(self):\n",
    "        return(str(self.state) + str(self.action))\n",
    "\n",
    "    def startGame(self):\n",
    "        pass\n",
    "\n",
    "    def getReward(self, arm, reward):\n",
    "        s,a = hbandit.stepExp3(self.state,loss)\n",
    "        self.state = s\n",
    "        self.action = a\n",
    "\n",
    "    def choice(self):\n",
    "        return(self.action)\n",
    "\n",
    "    def handleCollision(self, arm):\n",
    "        pass "
   ]
  },
  {
   "cell_type": "code",
   "execution_count": 7,
   "metadata": {
    "collapsed": true
   },
   "outputs": [
    {
     "ename": "SyntaxError",
     "evalue": "invalid syntax (<ipython-input-7-99a1b3aa8856>, line 1)",
     "output_type": "error",
     "traceback": [
      "\u001b[0;36m  File \u001b[0;32m\"<ipython-input-7-99a1b3aa8856>\"\u001b[0;36m, line \u001b[0;32m1\u001b[0m\n\u001b[0;31m    expe_1 = nrm.Experiment(scenario=.., step=step)\u001b[0m\n\u001b[0m                                     ^\u001b[0m\n\u001b[0;31mSyntaxError\u001b[0m\u001b[0;31m:\u001b[0m invalid syntax\n"
     ]
    }
   ],
   "source": []
  },
  {
   "cell_type": "code",
   "execution_count": 14,
   "metadata": {
    "collapsed": true
   },
   "outputs": [
    {
     "ename": "SyntaxError",
     "evalue": "invalid syntax (<ipython-input-14-a8ef4575ae2f>, line 9)",
     "output_type": "error",
     "traceback": [
      "\u001b[0;36m  File \u001b[0;32m\"<ipython-input-14-a8ef4575ae2f>\"\u001b[0;36m, line \u001b[0;32m9\u001b[0m\n\u001b[0;31m    print expe_1.exit_status()\u001b[0m\n\u001b[0m               ^\u001b[0m\n\u001b[0;31mSyntaxError\u001b[0m\u001b[0;31m:\u001b[0m invalid syntax\n"
     ]
    }
   ],
   "source": []
  },
  {
   "cell_type": "code",
   "execution_count": null,
   "metadata": {},
   "outputs": [],
   "source": []
  },
  {
   "cell_type": "code",
   "execution_count": null,
   "metadata": {},
   "outputs": [],
   "source": []
  }
 ],
 "metadata": {
  "kernelspec": {
   "display_name": "Python 3",
   "language": "python",
   "name": "python3"
  },
  "language_info": {
   "codemirror_mode": {
    "name": "ipython",
    "version": 3
   },
   "file_extension": ".py",
   "mimetype": "text/x-python",
   "name": "python",
   "nbconvert_exporter": "python",
   "pygments_lexer": "ipython3",
   "version": "3.7.4"
  }
 },
 "nbformat": 4,
 "nbformat_minor": 2
}
