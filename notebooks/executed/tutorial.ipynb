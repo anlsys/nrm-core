{
 "cells": [
  {
   "cell_type": "markdown",
   "metadata": {},
   "source": [
    "# NRM python upstream client library tutorial\n",
    "\n",
    "This tutorial covers the use of NRM's python upstream client library, in the context of running an external resource management strategy. The next cell imports the upstream client library. and configures hosts."
   ]
  },
  {
   "cell_type": "code",
   "execution_count": 1,
   "metadata": {},
   "outputs": [],
   "source": [
    "from nrm.upstreamclient import Local,Remote"
   ]
  },
  {
   "cell_type": "markdown",
   "metadata": {},
   "source": [
    "This notebook will start `nrmd` on the same machine as the notebok, but the same interface should be available for remote execution:"
   ]
  },
  {
   "cell_type": "code",
   "execution_count": 2,
   "metadata": {},
   "outputs": [],
   "source": [
    "host=Local()\n",
    "#host=Remote( target=\"cc@129.114.108.201\")"
   ]
  },
  {
   "cell_type": "markdown",
   "metadata": {},
   "source": [
    "Note that the two classes offer the same method to start nrmd and interact via blocking message passing primitives. The following cell should show their docstrings and code when executed interactively."
   ]
  },
  {
   "cell_type": "code",
   "execution_count": 3,
   "metadata": {},
   "outputs": [],
   "source": [
    "# Local??\n",
    "# Remote??"
   ]
  },
  {
   "cell_type": "markdown",
   "metadata": {},
   "source": [
    "The next cell defines some dode (`nrmd`) daemon configurations as dictionaries:"
   ]
  },
  {
   "cell_type": "code",
   "execution_count": 4,
   "metadata": {},
   "outputs": [],
   "source": [
    "daemonCfgs = {\n",
    "    'redirected_log': { \"logfile\" : \"/tmp/logfile_experiment1\"},\n",
    "    #\"other\":'todo'\n",
    "}"
   ]
  },
  {
   "cell_type": "markdown",
   "metadata": {},
   "source": [
    "A workload need a command, some arguments, and a manifest, also represented as a python dictionary."
   ]
  },
  {
   "cell_type": "code",
   "execution_count": 5,
   "metadata": {},
   "outputs": [],
   "source": [
    "workloads = {\n",
    "    \"dummy\":{ \"cmd\":\"sleep\",\n",
    "              \"args\": [\"333\"] ,\n",
    "              \"sliceID\": \"toto\",\n",
    "              \"manifest\":{\"app\": {\n",
    "                              \"slice\": {\n",
    "                                  \"cpus\": 1,\n",
    "                                  \"mems\": 1 } \n",
    "                                       },\n",
    "                          \"name\": \"default\"\n",
    "                         },\n",
    "            },\n",
    "    #\"other\":todo\n",
    "}"
   ]
  },
  {
   "cell_type": "markdown",
   "metadata": {},
   "source": [
    "Manifest options are documented in schema file [resources/manifestSchema.json](../../resources/manifestSchema.json) . Clicking this link should open a useful tab - modern web browsers have JSON data explorers. Example manifest files are in [resources/examples](../../resources/examples) in JSON/YAML/Dhall format. For instance, the manifest file [resources/examples/perfwrap.json](../../resources/examples/perfwrap.json) enables enables performance monitoring:"
   ]
  },
  {
   "cell_type": "code",
   "execution_count": 6,
   "metadata": {},
   "outputs": [
    {
     "name": "stdout",
     "output_type": "stream",
     "text": [
      "cat: ../../resources/examples/perfwrap.json: No such file or directory\r\n"
     ]
    }
   ],
   "source": [
    "cat ../../resources/examples/perfwrap.json | jq"
   ]
  },
  {
   "cell_type": "markdown",
   "metadata": {},
   "source": [
    "Under-specified manifests like the one in our `workloads` above (with missing optional fields from the schema) fill missing values with defaults, which can be seen in file [resources/examples/default.json](../../resources/examples/default.json):"
   ]
  },
  {
   "cell_type": "code",
   "execution_count": 7,
   "metadata": {},
   "outputs": [
    {
     "name": "stdout",
     "output_type": "stream",
     "text": [
      "cat: ../../resources/examples/default.json: No such file or directory\r\n"
     ]
    }
   ],
   "source": [
    "cat ../../resources/examples/default.json | jq"
   ]
  },
  {
   "cell_type": "markdown",
   "metadata": {},
   "source": [
    "The next cell defines some experiments:"
   ]
  },
  {
   "cell_type": "code",
   "execution_count": 8,
   "metadata": {},
   "outputs": [],
   "source": [
    "experiments = { \"example\": (daemonCfgs['redirected_log'], workloads[\"dummy\"]),\n",
    "                #\"other\": todo\n",
    "              }"
   ]
  },
  {
   "cell_type": "code",
   "execution_count": 9,
   "metadata": {},
   "outputs": [],
   "source": [
    "host.start_daemon(daemonCfgs['redirected_log'])\n",
    "assert(host.check_daemon())"
   ]
  },
  {
   "cell_type": "code",
   "execution_count": 10,
   "metadata": {},
   "outputs": [],
   "source": [
    "host.stop_daemon()\n",
    "assert(host.check_daemon() == False)"
   ]
  },
  {
   "cell_type": "markdown",
   "metadata": {},
   "source": [
    "We now are ready to run an external resource management strategy. Using the low-level message passing interface:"
   ]
  },
  {
   "cell_type": "raw",
   "metadata": {},
   "source": [
    "for name, (daemonCfg, workload) in experiments.items():\n",
    "    #starting the daemon (does act as silent restart)\n",
    "    host.start_daemon(daemonCfg)\n",
    "    #running the workload\n",
    "    workloadHandler = host.run_workload(workload)\n",
    "    #message passing exchange: \n",
    "    while not workloadHandler.finished():\n",
    "        measurement_message = host.recv()\n",
    "        #insert your code here\n",
    "        host.send(command_message)\n",
    "    print(workloadHandler.exit_status())\n",
    "    print(host.check_daemon())\n",
    "    \n",
    "host.stop_daemon()"
   ]
  }
 ],
 "metadata": {
  "kernelspec": {
   "display_name": "Python 3",
   "language": "python",
   "name": "python3"
  },
  "language_info": {
   "codemirror_mode": {
    "name": "ipython",
    "version": 3
   },
   "file_extension": ".py",
   "mimetype": "text/x-python",
   "name": "python",
   "nbconvert_exporter": "python",
   "pygments_lexer": "ipython3",
   "version": "3.7.4"
  }
 },
 "nbformat": 4,
 "nbformat_minor": 2
}
