{
 "cells": [
  {
   "cell_type": "code",
   "execution_count": 102,
   "metadata": {},
   "outputs": [
    {
     "name": "stdout",
     "output_type": "stream",
     "text": [
      " [1] sensor-RaplKey (PackageID 0)  sensor-DownstreamCmdKey      \n",
      " [3] actionType                    RaplKey (PackageID 0)(action)\n",
      " [5] 6e-05-probability             6e-05-cumulativeLoss         \n",
      " [7] 7.5e-05-probability           7.5e-05-cumulativeLoss       \n",
      " [9] 0.0001-probability            0.0001-cumulativeLoss        \n",
      "[11] 0.00011-probability           0.00011-cumulativeLoss       \n",
      "[13] 0.00012-probability           0.00012-cumulativeLoss       \n",
      "[15] 0.00015-probability           0.00015-cumulativeLoss       \n",
      "[17] 0.00018-probability           0.00018-cumulativeLoss       \n",
      "[19] 0.00021-probability           0.00021-cumulativeLoss       \n",
      "[21] constraint-0                  objective-0                  \n",
      "[23] loss                         \n",
      "23 Levels: 0.0001-cumulativeLoss 0.0001-probability ... sensor-RaplKey (PackageID 0)\n"
     ]
    }
   ],
   "source": [
    "library(ggplot2)\n",
    "library(purrr)\n",
    "library(stringr)\n",
    "df <- read.csv(\"internal-control-experiments.csv\")\n",
    "df$variable=as.factor(map_chr(df$variable,function(s) str_replace_all(s, \"\\\\(DownstreamCmdID [a-z-0-9]*.\", \"\")))\n",
    "df$type=as.numeric(df$value)\n",
    "df$time=ts(df$time)\n",
    "df$iteration=factor(df$iteration)\n",
    "print(unique(df$variable))"
   ]
  },
  {
   "cell_type": "code",
   "execution_count": 103,
   "metadata": {
    "scrolled": true
   },
   "outputs": [
    {
     "data": {
      "text/plain": [
       "       X             time                               variable \n",
       " Min.   : 0.0   Min.   :  1.0   sensor-DownstreamCmdKey     :22  \n",
       " 1st Qu.: 5.0   1st Qu.: 34.0   sensor-RaplKey (PackageID 0):22  \n",
       " Median :10.5   Median : 88.5   0.0001-cumulativeLoss       : 0  \n",
       " Mean   :10.5   Mean   : 85.5   0.0001-probability          : 0  \n",
       " 3rd Qu.:16.0   3rd Qu.:135.0   0.00011-cumulativeLoss      : 0  \n",
       " Max.   :21.0   Max.   :171.0   0.00011-probability         : 0  \n",
       "                                (Other)                     : 0  \n",
       "     value        iteration        name         type       \n",
       " Min.   :  1.00   0:22      pcap210  :44   Min.   :  1.00  \n",
       " 1st Qu.:  1.00   1:22      controlOn: 0   1st Qu.:  1.00  \n",
       " Median :  1.50             pcap100  : 0   Median :  1.50  \n",
       " Mean   : 52.25             pcap110  : 0   Mean   : 52.25  \n",
       " 3rd Qu.: 78.75             pcap120  : 0   3rd Qu.: 78.75  \n",
       " Max.   :237.00             pcap150  : 0   Max.   :237.00  \n",
       "                            (Other)  : 0                   "
      ]
     },
     "execution_count": 103,
     "metadata": {},
     "output_type": "execute_result"
    }
   ],
   "source": [
    "df_control=df[which(df[\"name\"]==\"controlOn\"),]\n",
    "df_maxP=df_control=df[which(df[\"name\"]==\"pcap210\"),]\n",
    "df_maxP$value=as.numeric(df_maxP$value)\n",
    "\n",
    "summary(df_maxP)"
   ]
  },
  {
   "cell_type": "code",
   "execution_count": 106,
   "metadata": {},
   "outputs": [
    {
     "name": "stderr",
     "output_type": "stream",
     "text": [
      "simpleWarning in if (class(res$value) == \"help_files_with_topic\") {: the condition has length > 1 and only the first element will be used\n",
      "\n",
      "\n"
     ]
    }
   ],
   "source": [
    "p <- ggplot(df_maxP, aes(time,value,group=iteration,color=iteration)) + geom_line() + facet_grid(rows = vars(variable))"
   ]
  },
  {
   "cell_type": "code",
   "execution_count": 107,
   "metadata": {
    "scrolled": false
   },
   "outputs": [
    {
     "name": "stderr",
     "output_type": "stream",
     "text": [
      "simpleWarning in if (class(res$value) == \"help_files_with_topic\") {: the condition has length > 1 and only the first element will be used\n",
      "\n",
      "\n"
     ]
    },
    {
     "data": {
      "image/svg+xml": [
       "<svg viewBox='0 0 720.00 360.00'><defs>  <style type='text/css'><![CDATA[    line, polyline, polygon, path, rect, circle {      fill: none;      stroke: #000000;      stroke-linecap: round;      stroke-linejoin: round;      stroke-miterlimit: 10.00;    }  ]]></style></defs><rect width='100%' height='100%' style='stroke: none; fill: #FFFFFF;'/><rect x='0.00' y='0.00' width='720.00' height='360.00' style='stroke-width: 1.07; stroke: #FFFFFF; fill: #FFFFFF;' /><defs>  <clipPath id='cpNDAuMjV8NjI5LjEyfDE2NC4xNXw1LjQ4'>    <rect x='40.25' y='5.48' width='588.86' height='158.67' />  </clipPath></defs><rect x='40.25' y='5.48' width='588.86' height='158.67' style='stroke-width: 1.07; stroke: none; fill: #EBEBEB;' clip-path='url(#cpNDAuMjV8NjI5LjEyfDE2NC4xNXw1LjQ4)' /><polyline points='40.25,142.27 629.12,142.27 ' style='stroke-width: 0.53; stroke: #FFFFFF; stroke-linecap: butt;' clip-path='url(#cpNDAuMjV8NjI5LjEyfDE2NC4xNXw1LjQ4)' /><polyline points='40.25,111.71 629.12,111.71 ' style='stroke-width: 0.53; stroke: #FFFFFF; stroke-linecap: butt;' clip-path='url(#cpNDAuMjV8NjI5LjEyfDE2NC4xNXw1LjQ4)' /><polyline points='40.25,81.15 629.12,81.15 ' style='stroke-width: 0.53; stroke: #FFFFFF; stroke-linecap: butt;' clip-path='url(#cpNDAuMjV8NjI5LjEyfDE2NC4xNXw1LjQ4)' /><polyline points='40.25,50.59 629.12,50.59 ' style='stroke-width: 0.53; stroke: #FFFFFF; stroke-linecap: butt;' clip-path='url(#cpNDAuMjV8NjI5LjEyfDE2NC4xNXw1LjQ4)' /><polyline points='40.25,20.03 629.12,20.03 ' style='stroke-width: 0.53; stroke: #FFFFFF; stroke-linecap: butt;' clip-path='url(#cpNDAuMjV8NjI5LjEyfDE2NC4xNXw1LjQ4)' /><polyline points='142.60,164.15 142.60,5.48 ' style='stroke-width: 0.53; stroke: #FFFFFF; stroke-linecap: butt;' clip-path='url(#cpNDAuMjV8NjI5LjEyfDE2NC4xNXw1LjQ4)' /><polyline points='300.05,164.15 300.05,5.48 ' style='stroke-width: 0.53; stroke: #FFFFFF; stroke-linecap: butt;' clip-path='url(#cpNDAuMjV8NjI5LjEyfDE2NC4xNXw1LjQ4)' /><polyline points='457.50,164.15 457.50,5.48 ' style='stroke-width: 0.53; stroke: #FFFFFF; stroke-linecap: butt;' clip-path='url(#cpNDAuMjV8NjI5LjEyfDE2NC4xNXw1LjQ4)' /><polyline points='614.95,164.15 614.95,5.48 ' style='stroke-width: 0.53; stroke: #FFFFFF; stroke-linecap: butt;' clip-path='url(#cpNDAuMjV8NjI5LjEyfDE2NC4xNXw1LjQ4)' /><polyline points='40.25,157.55 629.12,157.55 ' style='stroke-width: 1.07; stroke: #FFFFFF; stroke-linecap: butt;' clip-path='url(#cpNDAuMjV8NjI5LjEyfDE2NC4xNXw1LjQ4)' /><polyline points='40.25,126.99 629.12,126.99 ' style='stroke-width: 1.07; stroke: #FFFFFF; stroke-linecap: butt;' clip-path='url(#cpNDAuMjV8NjI5LjEyfDE2NC4xNXw1LjQ4)' /><polyline points='40.25,96.43 629.12,96.43 ' style='stroke-width: 1.07; stroke: #FFFFFF; stroke-linecap: butt;' clip-path='url(#cpNDAuMjV8NjI5LjEyfDE2NC4xNXw1LjQ4)' /><polyline points='40.25,65.87 629.12,65.87 ' style='stroke-width: 1.07; stroke: #FFFFFF; stroke-linecap: butt;' clip-path='url(#cpNDAuMjV8NjI5LjEyfDE2NC4xNXw1LjQ4)' /><polyline points='40.25,35.31 629.12,35.31 ' style='stroke-width: 1.07; stroke: #FFFFFF; stroke-linecap: butt;' clip-path='url(#cpNDAuMjV8NjI5LjEyfDE2NC4xNXw1LjQ4)' /><polyline points='63.87,164.15 63.87,5.48 ' style='stroke-width: 1.07; stroke: #FFFFFF; stroke-linecap: butt;' clip-path='url(#cpNDAuMjV8NjI5LjEyfDE2NC4xNXw1LjQ4)' /><polyline points='221.32,164.15 221.32,5.48 ' style='stroke-width: 1.07; stroke: #FFFFFF; stroke-linecap: butt;' clip-path='url(#cpNDAuMjV8NjI5LjEyfDE2NC4xNXw1LjQ4)' /><polyline points='378.77,164.15 378.77,5.48 ' style='stroke-width: 1.07; stroke: #FFFFFF; stroke-linecap: butt;' clip-path='url(#cpNDAuMjV8NjI5LjEyfDE2NC4xNXw1LjQ4)' /><polyline points='536.22,164.15 536.22,5.48 ' style='stroke-width: 1.07; stroke: #FFFFFF; stroke-linecap: butt;' clip-path='url(#cpNDAuMjV8NjI5LjEyfDE2NC4xNXw1LjQ4)' /><polyline points='67.02,156.94 123.70,156.94 170.94,156.94 233.92,156.94 265.41,49.36 359.88,156.94 378.77,58.53 470.09,156.94 488.99,67.70 570.86,156.94 599.20,81.76 ' style='stroke-width: 1.07; stroke: #F8766D; stroke-linecap: butt;' clip-path='url(#cpNDAuMjV8NjI5LjEyfDE2NC4xNXw1LjQ4)' /><polyline points='67.02,156.94 89.06,156.94 145.75,156.94 221.32,156.94 274.86,51.20 325.24,156.94 388.22,59.75 438.60,156.94 498.44,57.31 548.82,156.94 602.35,82.37 ' style='stroke-width: 1.07; stroke: #00BFC4; stroke-linecap: butt;' clip-path='url(#cpNDAuMjV8NjI5LjEyfDE2NC4xNXw1LjQ4)' /><defs>  <clipPath id='cpMC4wMHw3MjAuMDB8MzYwLjAwfDAuMDA='>    <rect x='0.00' y='0.00' width='720.00' height='360.00' />  </clipPath></defs><defs>  <clipPath id='cpNDAuMjV8NjI5LjEyfDMyOC4zMHwxNjkuNjM='>    <rect x='40.25' y='169.63' width='588.86' height='158.67' />  </clipPath></defs><rect x='40.25' y='169.63' width='588.86' height='158.67' style='stroke-width: 1.07; stroke: none; fill: #EBEBEB;' clip-path='url(#cpNDAuMjV8NjI5LjEyfDMyOC4zMHwxNjkuNjM=)' /><polyline points='40.25,306.42 629.12,306.42 ' style='stroke-width: 0.53; stroke: #FFFFFF; stroke-linecap: butt;' clip-path='url(#cpNDAuMjV8NjI5LjEyfDMyOC4zMHwxNjkuNjM=)' /><polyline points='40.25,275.86 629.12,275.86 ' style='stroke-width: 0.53; stroke: #FFFFFF; stroke-linecap: butt;' clip-path='url(#cpNDAuMjV8NjI5LjEyfDMyOC4zMHwxNjkuNjM=)' /><polyline points='40.25,245.29 629.12,245.29 ' style='stroke-width: 0.53; stroke: #FFFFFF; stroke-linecap: butt;' clip-path='url(#cpNDAuMjV8NjI5LjEyfDMyOC4zMHwxNjkuNjM=)' /><polyline points='40.25,214.73 629.12,214.73 ' style='stroke-width: 0.53; stroke: #FFFFFF; stroke-linecap: butt;' clip-path='url(#cpNDAuMjV8NjI5LjEyfDMyOC4zMHwxNjkuNjM=)' /><polyline points='40.25,184.17 629.12,184.17 ' style='stroke-width: 0.53; stroke: #FFFFFF; stroke-linecap: butt;' clip-path='url(#cpNDAuMjV8NjI5LjEyfDMyOC4zMHwxNjkuNjM=)' /><polyline points='142.60,328.30 142.60,169.63 ' style='stroke-width: 0.53; stroke: #FFFFFF; stroke-linecap: butt;' clip-path='url(#cpNDAuMjV8NjI5LjEyfDMyOC4zMHwxNjkuNjM=)' /><polyline points='300.05,328.30 300.05,169.63 ' style='stroke-width: 0.53; stroke: #FFFFFF; stroke-linecap: butt;' clip-path='url(#cpNDAuMjV8NjI5LjEyfDMyOC4zMHwxNjkuNjM=)' /><polyline points='457.50,328.30 457.50,169.63 ' style='stroke-width: 0.53; stroke: #FFFFFF; stroke-linecap: butt;' clip-path='url(#cpNDAuMjV8NjI5LjEyfDMyOC4zMHwxNjkuNjM=)' /><polyline points='614.95,328.30 614.95,169.63 ' style='stroke-width: 0.53; stroke: #FFFFFF; stroke-linecap: butt;' clip-path='url(#cpNDAuMjV8NjI5LjEyfDMyOC4zMHwxNjkuNjM=)' /><polyline points='40.25,321.70 629.12,321.70 ' style='stroke-width: 1.07; stroke: #FFFFFF; stroke-linecap: butt;' clip-path='url(#cpNDAuMjV8NjI5LjEyfDMyOC4zMHwxNjkuNjM=)' /><polyline points='40.25,291.14 629.12,291.14 ' style='stroke-width: 1.07; stroke: #FFFFFF; stroke-linecap: butt;' clip-path='url(#cpNDAuMjV8NjI5LjEyfDMyOC4zMHwxNjkuNjM=)' /><polyline points='40.25,260.57 629.12,260.57 ' style='stroke-width: 1.07; stroke: #FFFFFF; stroke-linecap: butt;' clip-path='url(#cpNDAuMjV8NjI5LjEyfDMyOC4zMHwxNjkuNjM=)' /><polyline points='40.25,230.01 629.12,230.01 ' style='stroke-width: 1.07; stroke: #FFFFFF; stroke-linecap: butt;' clip-path='url(#cpNDAuMjV8NjI5LjEyfDMyOC4zMHwxNjkuNjM=)' /><polyline points='40.25,199.45 629.12,199.45 ' style='stroke-width: 1.07; stroke: #FFFFFF; stroke-linecap: butt;' clip-path='url(#cpNDAuMjV8NjI5LjEyfDMyOC4zMHwxNjkuNjM=)' /><polyline points='63.87,328.30 63.87,169.63 ' style='stroke-width: 1.07; stroke: #FFFFFF; stroke-linecap: butt;' clip-path='url(#cpNDAuMjV8NjI5LjEyfDMyOC4zMHwxNjkuNjM=)' /><polyline points='221.32,328.30 221.32,169.63 ' style='stroke-width: 1.07; stroke: #FFFFFF; stroke-linecap: butt;' clip-path='url(#cpNDAuMjV8NjI5LjEyfDMyOC4zMHwxNjkuNjM=)' /><polyline points='378.77,328.30 378.77,169.63 ' style='stroke-width: 1.07; stroke: #FFFFFF; stroke-linecap: butt;' clip-path='url(#cpNDAuMjV8NjI5LjEyfDMyOC4zMHwxNjkuNjM=)' /><polyline points='536.22,328.30 536.22,169.63 ' style='stroke-width: 1.07; stroke: #FFFFFF; stroke-linecap: butt;' clip-path='url(#cpNDAuMjV8NjI5LjEyfDMyOC4zMHwxNjkuNjM=)' /><polyline points='67.02,320.47 123.70,188.45 170.94,277.69 233.92,274.63 265.41,321.08 359.88,287.47 378.77,321.08 470.09,300.30 488.99,321.08 570.86,290.52 599.20,321.08 ' style='stroke-width: 1.07; stroke: #F8766D; stroke-linecap: butt;' clip-path='url(#cpNDAuMjV8NjI5LjEyfDMyOC4zMHwxNjkuNjM=)' /><polyline points='67.02,320.47 89.06,176.84 145.75,278.30 221.32,270.35 274.86,321.08 325.24,288.69 388.22,321.08 438.60,299.08 498.44,321.08 548.82,291.14 602.35,321.08 ' style='stroke-width: 1.07; stroke: #00BFC4; stroke-linecap: butt;' clip-path='url(#cpNDAuMjV8NjI5LjEyfDMyOC4zMHwxNjkuNjM=)' /><defs>  <clipPath id='cpMC4wMHw3MjAuMDB8MzYwLjAwfDAuMDA='>    <rect x='0.00' y='0.00' width='720.00' height='360.00' />  </clipPath></defs><defs>  <clipPath id='cpNjI5LjEyfDY0Ni4xM3wxNjQuMTV8NS40OA=='>    <rect x='629.12' y='5.48' width='17.01' height='158.67' />  </clipPath></defs><rect x='629.12' y='5.48' width='17.01' height='158.67' style='stroke-width: 1.07; stroke: none; fill: #D9D9D9;' clip-path='url(#cpNjI5LjEyfDY0Ni4xM3wxNjQuMTV8NS40OA==)' /><g clip-path='url(#cpNjI5LjEyfDY0Ni4xM3wxNjQuMTV8NS40OA==)'><text transform='translate(634.42,20.92) rotate(90)' style='font-size: 8.80px; fill: #1A1A1A; font-family: Arial;' textLength='127.80px' lengthAdjust='spacingAndGlyphs'>sensor-DownstreamCmdKey </text></g><defs>  <clipPath id='cpMC4wMHw3MjAuMDB8MzYwLjAwfDAuMDA='>    <rect x='0.00' y='0.00' width='720.00' height='360.00' />  </clipPath></defs><defs>  <clipPath id='cpNjI5LjEyfDY0Ni4xM3wzMjguMzB8MTY5LjYz'>    <rect x='629.12' y='169.63' width='17.01' height='158.67' />  </clipPath></defs><rect x='629.12' y='169.63' width='17.01' height='158.67' style='stroke-width: 1.07; stroke: none; fill: #D9D9D9;' clip-path='url(#cpNjI5LjEyfDY0Ni4xM3wzMjguMzB8MTY5LjYz)' /><g clip-path='url(#cpNjI5LjEyfDY0Ni4xM3wzMjguMzB8MTY5LjYz)'><text transform='translate(634.42,182.60) rotate(90)' style='font-size: 8.80px; fill: #1A1A1A; font-family: Arial;' textLength='132.73px' lengthAdjust='spacingAndGlyphs'>sensor-RaplKey (PackageID 0)</text></g><defs>  <clipPath id='cpMC4wMHw3MjAuMDB8MzYwLjAwfDAuMDA='>    <rect x='0.00' y='0.00' width='720.00' height='360.00' />  </clipPath></defs><polyline points='63.87,331.04 63.87,328.30 ' style='stroke-width: 1.07; stroke: #333333; stroke-linecap: butt;' clip-path='url(#cpMC4wMHw3MjAuMDB8MzYwLjAwfDAuMDA=)' /><polyline points='221.32,331.04 221.32,328.30 ' style='stroke-width: 1.07; stroke: #333333; stroke-linecap: butt;' clip-path='url(#cpMC4wMHw3MjAuMDB8MzYwLjAwfDAuMDA=)' /><polyline points='378.77,331.04 378.77,328.30 ' style='stroke-width: 1.07; stroke: #333333; stroke-linecap: butt;' clip-path='url(#cpMC4wMHw3MjAuMDB8MzYwLjAwfDAuMDA=)' /><polyline points='536.22,331.04 536.22,328.30 ' style='stroke-width: 1.07; stroke: #333333; stroke-linecap: butt;' clip-path='url(#cpMC4wMHw3MjAuMDB8MzYwLjAwfDAuMDA=)' /><g clip-path='url(#cpMC4wMHw3MjAuMDB8MzYwLjAwfDAuMDA=)'><text x='61.07' y='339.64' style='font-size: 8.80px; fill: #4D4D4D; font-family: Arial;' textLength='5.60px' lengthAdjust='spacingAndGlyphs'>0</text></g><g clip-path='url(#cpMC4wMHw3MjAuMDB8MzYwLjAwfDAuMDA=)'><text x='215.72' y='339.64' style='font-size: 8.80px; fill: #4D4D4D; font-family: Arial;' textLength='11.20px' lengthAdjust='spacingAndGlyphs'>50</text></g><g clip-path='url(#cpMC4wMHw3MjAuMDB8MzYwLjAwfDAuMDA=)'><text x='370.37' y='339.64' style='font-size: 8.80px; fill: #4D4D4D; font-family: Arial;' textLength='16.80px' lengthAdjust='spacingAndGlyphs'>100</text></g><g clip-path='url(#cpMC4wMHw3MjAuMDB8MzYwLjAwfDAuMDA=)'><text x='527.83' y='339.64' style='font-size: 8.80px; fill: #4D4D4D; font-family: Arial;' textLength='16.80px' lengthAdjust='spacingAndGlyphs'>150</text></g><g clip-path='url(#cpMC4wMHw3MjAuMDB8MzYwLjAwfDAuMDA=)'><text x='29.72' y='160.75' style='font-size: 8.80px; fill: #4D4D4D; font-family: Arial;' textLength='5.60px' lengthAdjust='spacingAndGlyphs'>0</text></g><g clip-path='url(#cpMC4wMHw3MjAuMDB8MzYwLjAwfDAuMDA=)'><text x='24.13' y='130.19' style='font-size: 8.80px; fill: #4D4D4D; font-family: Arial;' textLength='11.20px' lengthAdjust='spacingAndGlyphs'>50</text></g><g clip-path='url(#cpMC4wMHw3MjAuMDB8MzYwLjAwfDAuMDA=)'><text x='18.53' y='99.63' style='font-size: 8.80px; fill: #4D4D4D; font-family: Arial;' textLength='16.80px' lengthAdjust='spacingAndGlyphs'>100</text></g><g clip-path='url(#cpMC4wMHw3MjAuMDB8MzYwLjAwfDAuMDA=)'><text x='18.53' y='69.07' style='font-size: 8.80px; fill: #4D4D4D; font-family: Arial;' textLength='16.80px' lengthAdjust='spacingAndGlyphs'>150</text></g><g clip-path='url(#cpMC4wMHw3MjAuMDB8MzYwLjAwfDAuMDA=)'><text x='18.53' y='38.51' style='font-size: 8.80px; fill: #4D4D4D; font-family: Arial;' textLength='16.80px' lengthAdjust='spacingAndGlyphs'>200</text></g><polyline points='37.51,157.55 40.25,157.55 ' style='stroke-width: 1.07; stroke: #333333; stroke-linecap: butt;' clip-path='url(#cpMC4wMHw3MjAuMDB8MzYwLjAwfDAuMDA=)' /><polyline points='37.51,126.99 40.25,126.99 ' style='stroke-width: 1.07; stroke: #333333; stroke-linecap: butt;' clip-path='url(#cpMC4wMHw3MjAuMDB8MzYwLjAwfDAuMDA=)' /><polyline points='37.51,96.43 40.25,96.43 ' style='stroke-width: 1.07; stroke: #333333; stroke-linecap: butt;' clip-path='url(#cpMC4wMHw3MjAuMDB8MzYwLjAwfDAuMDA=)' /><polyline points='37.51,65.87 40.25,65.87 ' style='stroke-width: 1.07; stroke: #333333; stroke-linecap: butt;' clip-path='url(#cpMC4wMHw3MjAuMDB8MzYwLjAwfDAuMDA=)' /><polyline points='37.51,35.31 40.25,35.31 ' style='stroke-width: 1.07; stroke: #333333; stroke-linecap: butt;' clip-path='url(#cpMC4wMHw3MjAuMDB8MzYwLjAwfDAuMDA=)' /><g clip-path='url(#cpMC4wMHw3MjAuMDB8MzYwLjAwfDAuMDA=)'><text x='29.72' y='324.90' style='font-size: 8.80px; fill: #4D4D4D; font-family: Arial;' textLength='5.60px' lengthAdjust='spacingAndGlyphs'>0</text></g><g clip-path='url(#cpMC4wMHw3MjAuMDB8MzYwLjAwfDAuMDA=)'><text x='24.13' y='294.34' style='font-size: 8.80px; fill: #4D4D4D; font-family: Arial;' textLength='11.20px' lengthAdjust='spacingAndGlyphs'>50</text></g><g clip-path='url(#cpMC4wMHw3MjAuMDB8MzYwLjAwfDAuMDA=)'><text x='18.53' y='263.78' style='font-size: 8.80px; fill: #4D4D4D; font-family: Arial;' textLength='16.80px' lengthAdjust='spacingAndGlyphs'>100</text></g><g clip-path='url(#cpMC4wMHw3MjAuMDB8MzYwLjAwfDAuMDA=)'><text x='18.53' y='233.22' style='font-size: 8.80px; fill: #4D4D4D; font-family: Arial;' textLength='16.80px' lengthAdjust='spacingAndGlyphs'>150</text></g><g clip-path='url(#cpMC4wMHw3MjAuMDB8MzYwLjAwfDAuMDA=)'><text x='18.53' y='202.66' style='font-size: 8.80px; fill: #4D4D4D; font-family: Arial;' textLength='16.80px' lengthAdjust='spacingAndGlyphs'>200</text></g><polyline points='37.51,321.70 40.25,321.70 ' style='stroke-width: 1.07; stroke: #333333; stroke-linecap: butt;' clip-path='url(#cpMC4wMHw3MjAuMDB8MzYwLjAwfDAuMDA=)' /><polyline points='37.51,291.14 40.25,291.14 ' style='stroke-width: 1.07; stroke: #333333; stroke-linecap: butt;' clip-path='url(#cpMC4wMHw3MjAuMDB8MzYwLjAwfDAuMDA=)' /><polyline points='37.51,260.57 40.25,260.57 ' style='stroke-width: 1.07; stroke: #333333; stroke-linecap: butt;' clip-path='url(#cpMC4wMHw3MjAuMDB8MzYwLjAwfDAuMDA=)' /><polyline points='37.51,230.01 40.25,230.01 ' style='stroke-width: 1.07; stroke: #333333; stroke-linecap: butt;' clip-path='url(#cpMC4wMHw3MjAuMDB8MzYwLjAwfDAuMDA=)' /><polyline points='37.51,199.45 40.25,199.45 ' style='stroke-width: 1.07; stroke: #333333; stroke-linecap: butt;' clip-path='url(#cpMC4wMHw3MjAuMDB8MzYwLjAwfDAuMDA=)' /><g clip-path='url(#cpMC4wMHw3MjAuMDB8MzYwLjAwfDAuMDA=)'><text x='322.26' y='352.23' style='font-size: 11.00px; font-family: Arial;' textLength='24.85px' lengthAdjust='spacingAndGlyphs'>time</text></g><g clip-path='url(#cpMC4wMHw3MjAuMDB8MzYwLjAwfDAuMDA=)'><text transform='translate(13.50,181.91) rotate(-90)' style='font-size: 11.00px; font-family: Arial;' textLength='30.05px' lengthAdjust='spacingAndGlyphs'>value</text></g><rect x='657.09' y='136.24' width='57.43' height='61.31' style='stroke-width: 1.07; stroke: none; fill: #FFFFFF;' clip-path='url(#cpMC4wMHw3MjAuMDB8MzYwLjAwfDAuMDA=)' /><g clip-path='url(#cpMC4wMHw3MjAuMDB8MzYwLjAwfDAuMDA=)'><text x='662.57' y='150.88' style='font-size: 11.00px; font-family: Arial;' textLength='46.47px' lengthAdjust='spacingAndGlyphs'>iteration</text></g><rect x='662.57' y='157.50' width='17.28' height='17.28' style='stroke-width: 1.07; stroke: #FFFFFF; fill: #F2F2F2;' clip-path='url(#cpMC4wMHw3MjAuMDB8MzYwLjAwfDAuMDA=)' /><line x1='664.30' y1='166.14' x2='678.12' y2='166.14' style='stroke-width: 1.07; stroke: #F8766D; stroke-linecap: butt;' clip-path='url(#cpMC4wMHw3MjAuMDB8MzYwLjAwfDAuMDA=)' /><rect x='662.57' y='174.78' width='17.28' height='17.28' style='stroke-width: 1.07; stroke: #FFFFFF; fill: #F2F2F2;' clip-path='url(#cpMC4wMHw3MjAuMDB8MzYwLjAwfDAuMDA=)' /><line x1='664.30' y1='183.42' x2='678.12' y2='183.42' style='stroke-width: 1.07; stroke: #00BFC4; stroke-linecap: butt;' clip-path='url(#cpMC4wMHw3MjAuMDB8MzYwLjAwfDAuMDA=)' /><g clip-path='url(#cpMC4wMHw3MjAuMDB8MzYwLjAwfDAuMDA=)'><text x='685.33' y='169.35' style='font-size: 8.80px; font-family: Arial;' textLength='5.60px' lengthAdjust='spacingAndGlyphs'>0</text></g><g clip-path='url(#cpMC4wMHw3MjAuMDB8MzYwLjAwfDAuMDA=)'><text x='685.33' y='186.63' style='font-size: 8.80px; font-family: Arial;' textLength='5.60px' lengthAdjust='spacingAndGlyphs'>1</text></g></svg>"
      ]
     },
     "metadata": {},
     "output_type": "display_data"
    }
   ],
   "source": [
    "print(p)"
   ]
  },
  {
   "cell_type": "code",
   "execution_count": null,
   "metadata": {},
   "outputs": [],
   "source": []
  },
  {
   "cell_type": "code",
   "execution_count": null,
   "metadata": {},
   "outputs": [],
   "source": []
  },
  {
   "cell_type": "code",
   "execution_count": null,
   "metadata": {},
   "outputs": [],
   "source": []
  },
  {
   "cell_type": "code",
   "execution_count": null,
   "metadata": {},
   "outputs": [],
   "source": []
  },
  {
   "cell_type": "code",
   "execution_count": null,
   "metadata": {},
   "outputs": [],
   "source": [
    "def summary(history, referenceRuntime=None, constraint=1.1):\n",
    "    t_min, t_max = plot_history(history)\n",
    "    runtime = t_max - t_min\n",
    "    powerseries = history[\"sensor-RaplKey (PackageID 0)\"]\n",
    "    powerMeasurements = [v for t, v in powerseries]\n",
    "    ts = [t / (1000000 * 3600) for t, v in powerseries]\n",
    "    energy = integrate.trapz(powerMeasurements, ts)\n",
    "    print(\"Runtime: %s \" % runtime)\n",
    "    print(\"Energy: %s Wh\" % energy)\n",
    "    if referenceRuntime:\n",
    "        constraintValue = runtime / referenceRuntime\n",
    "        print(\"Constraint value: %s\" % constraintValue, end=\" \")\n",
    "        if constraintValue > constraint:\n",
    "            print(\".. breached.\")\n",
    "        else:\n",
    "            print(\".. respected\")\n",
    "    return (runtime, energy)\n",
    "\n"
   ]
  }
 ],
 "metadata": {
  "kernelspec": {
   "display_name": "R",
   "language": "Rlang",
   "name": "rdf"
  },
  "language_info": {
   "codemirror_mode": "r",
   "file_extension": ".R",
   "mimetype": "text/x-r-source",
   "name": "R",
   "pygments_lexer": "r",
   "version": "3.6.1"
  }
 },
 "nbformat": 4,
 "nbformat_minor": 2
}
