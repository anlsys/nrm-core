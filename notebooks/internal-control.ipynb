{
 "cells": [
  {
   "cell_type": "markdown",
   "metadata": {},
   "source": [
    "# Internal control experiments\n",
    "\n",
    "This notebooks runs some experiments with internal bandit NRM control. "
   ]
  },
  {
   "cell_type": "markdown",
   "metadata": {},
   "source": [
    "For the application of the NRM model to resource management to one\n",
    "computational job, the global resource optimization problem is the following:\n",
    "\n",
    "$$\n",
    "\\begin{array}{l}\n",
    "    \\min \\quad e_{\\text{total}} \\\\\n",
    "\t\\text{s.t.} \\quad  t > \\tau t_{\\text{ref}}\n",
    "\\end{array}\n",
    "$$\n",
    "\n",
    "Where $e_{\\text{total}}$ denotes the total energy spent by the system during\n",
    "the lifetime of the job, whose duration is denoted by $t^T$. We denote by\n",
    "$t_{\\text{ref}}$ a reference measurement of the runtime of the job on an\n",
    "unmanaged system. $\\tau <1$ is a parameter controlling the amount of runtime\n",
    "degradation allowed for the job.\n",
    "\n",
    "The value of this global objective can be easily measured a-posteriori for a\n",
    "computational job using power instrumentation techniques. Assuming both\n",
    "workload and platform behavior to be deterministic, this objective is measured\n",
    "using two runs of the system: A first run without resource management to\n",
    "acquire $t_{\\text{ref}}$, and one run with NRM enabled. In order for NRM's\n",
    "round-based control strategy to address this problem, we need an online loss\n",
    "value however. This loss is obtained using the following loose assumptions:\n",
    "\n",
    "- The passive power consumption of the node is fixed and known. [1]\n",
    "\n",
    "- The total power consumption in a given time period can be estimated as\n",
    "  the sum of the static node consumption over that period and the RAPL power\n",
    "  measurement over that period. [2]\n",
    "\n",
    "- The impact of a choice of power-cap on the job's runtime can be\n",
    "  interpolated linearly from its impact on CPU counters. [3]\n",
    "\n",
    "\n",
    "Denoting as in the previous section the round counter by $0<r<T$, the known\n",
    "passive static power consumption by $p_{\\text{static}}$, the starting time of\n",
    "the job by $t^0$ and the end time of round $r$ by $t^r$, we can write the total\n",
    "energy expenditure of the job based on RAPL power measurements $p^r$ using\n",
    "assumptions 1 and 2 as:\n",
    "\n",
    "$$\n",
    "\te_{\\text{total}} = \\sum_{r=1}^{r=T} (p^r + p_{\\text{static}}) (t^{r-1} - t^{r})\n",
    "$$\n",
    "\n",
    "Using assumption 3 means that we can reasonably estimate the\n",
    "change in job runtime incurred by the choice of power-cap in round $r$ by\n",
    "evaluating $\\frac{s^r_{\\text{ref}}}{s^r}$. We use this as part of our proxy\n",
    "cost in two ways. First, this quantity is used to evaluate breaching of the\n",
    "constraint on $t$, and second, it is used to adjust for an expected increase in\n",
    "the number of rounds due to the impact on job runtime. This gives rise to the\n",
    "following value for the loss at round $r$:\n",
    "\n",
    "$$\n",
    "\t\\ell^r = \\mathbb{\\huge 1}_{\\left( \\frac{s^r}{s^r_{\\text{ref}}}>\\tau \\right)}\n",
    "   \\left( \\frac{s^r_{\\text{ref}}}{s^r} \\left( p^r + p_{\\text{static}} \\right) \\right)\n",
    "$$\n"
   ]
  },
  {
   "cell_type": "code",
   "execution_count": null,
   "metadata": {},
   "outputs": [],
   "source": [
    "cd .."
   ]
  },
  {
   "cell_type": "code",
   "execution_count": null,
   "metadata": {},
   "outputs": [],
   "source": [
    "%%capture\n",
    "%%bash\n",
    "./shake.sh build # for the daemon \n",
    "./shake.sh client # for the upstream client\n",
    "./shake.sh pyclient # for the shared client libraryt"
   ]
  },
  {
   "cell_type": "code",
   "execution_count": 2,
   "metadata": {},
   "outputs": [
    {
     "name": "stdout",
     "output_type": "stream",
     "text": [
      "{\"pmpi_lib\":\"pmpi_lib\",\"verbose\":\"Error\",\"logfile\":\"/tmp/nrm.log\",\"singularity\":false,\"argo_nodeos_config\":\"argo_nodeos_config\",\"controlCfg\":{\"referenceMeasurementRoundInterval\":10,\"learnCfg\":{\"lagrangeConstraint\":1},\"staticPower\":{\"fromuW\":200000000},\"speedThreshold\":0.9,\"minimumControlInterval\":{\"fromuS\":1000000}},\"upstreamCfg\":{\"upstreamBindAddress\":\"*\",\"rpcPort\":3456,\"pubPort\":2345},\"libnrmPath\":null,\"perf\":\"perf\",\"argo_perf_wrapper\":\"nrm-perfwrapper\",\"downstreamCfg\":{\"downstreamBindAddress\":\"ipc:///tmp/nrm-downstream-event\"},\"nodeos\":false,\"hwloc\":\"hwloc\",\"raplCfg\":{\"raplFrequency\":{\"fromHz\":1},\"raplPath\":\"/sys/devices/virtual/powercap/intel-rapl\"},\"dummy\":true,\"slice_runtime\":\"Dummy\",\"hwmonCfg\":{\"hwmonPath\":\"/sys/class/hwmon\",\"hwmonEnabled\":true}}\n"
     ]
    }
   ],
   "source": [
    "%%bash\n",
    "dhall-to-json <<< '\n",
    "    let \n",
    "        Cfg = ./resources/types/Cfg.dhall\n",
    "    in \n",
    "        (./resources/defaults/Cfg.dhall // {controlCfg = Some {\n",
    "         minimumControlInterval = {fromuS = 1000000.0},\n",
    "         staticPower = { fromuW = 200000000.0 },\n",
    "         learnCfg = < Lagrange :{lagrangeConstraint: Double}|\n",
    "                      Knapsack :{knapsackConstraint: Double} >.Lagrange {\n",
    "                        lagrangeConstraint = 1.0 \n",
    "                      },\n",
    "          speedThreshold = 0.9,\n",
    "        referenceMeasurementRoundInterval = +10\n",
    "        }}):Cfg'"
   ]
  },
  {
   "cell_type": "code",
   "execution_count": 40,
   "metadata": {},
   "outputs": [
    {
     "name": "stdout",
     "output_type": "stream",
     "text": [
      "The nb_black extension is already loaded. To reload it, use:\n",
      "  %reload_ext nb_black\n",
      "{'controlCfg': {'staticPower': {'fromuW': 200000000}, 'referenceMeasurementRoundInterval': 10, 'learnCfg': {'lagrangeConstraint': 1}, 'speedThreshold': 0.9, 'minimumControlInterval': {'fromuS': 1000000}}, 'verbose': 'Debug'}\n"
     ]
    },
    {
     "data": {
      "application/javascript": [
       "\n",
       "            setTimeout(function() {\n",
       "                var nbb_cell_id = 39;\n",
       "                var nbb_unformatted_code = \"import pandas as pd\\nimport matplotlib.pyplot as plt\\nimport seaborn as sns\\n\\nfig = plt.figure()\\nfig, (axes) = plt.subplots(11, 1, sharex=True)\\nfig.subplots_adjust(wspace=0.05)\\nfig.set_size_inches(17, 25, forward=True)\\n\\nminTime = min([ min(\\n    [pd.Timestamp(m[0],unit=\\\"us\\\") \\n     for m \\n     in measurements])\\n               for cname, measurements \\n               in history.items()\\n              ])\\nmaxTime = max([ max(\\n    [pd.Timestamp(m[0],unit=\\\"us\\\") \\n     for m in measurements]) \\n               for cname, measurements \\n               in history.items()\\n              ])\\n\\nplt.xlim(minTime,maxTime)\\nfor ((columnName, measurements), ax) in zip(history.items(), axes):\\n    ax.set_title(columnName)\\n    dataframe = pd.DataFrame(\\n        data=[(pd.Timestamp(t, unit=\\\"us\\\"), m) for t, m in measurements]\\n    )\\n    dataframe.columns = [\\\"time\\\", \\\"value\\\"]\\n    if dataframe.dtypes[\\\"value\\\"] == \\\"object\\\":\\n        sns.catplot(ax=ax, x=\\\"time\\\", y=\\\"value\\\", kind=\\\"swarm\\\", data=dataframe)\\n    else:\\n        sns.scatterplot(ax=ax, x=\\\"time\\\", y=\\\"value\\\", data=dataframe)\";\n",
       "                var nbb_formatted_code = \"import pandas as pd\\nimport matplotlib.pyplot as plt\\nimport seaborn as sns\\n\\nfig = plt.figure()\\nfig, (axes) = plt.subplots(11, 1, sharex=True)\\nfig.subplots_adjust(wspace=0.05)\\nfig.set_size_inches(17, 25, forward=True)\\n\\nminTime = min(\\n    [\\n        min([pd.Timestamp(m[0], unit=\\\"us\\\") for m in measurements])\\n        for cname, measurements in history.items()\\n    ]\\n)\\nmaxTime = max(\\n    [\\n        max([pd.Timestamp(m[0], unit=\\\"us\\\") for m in measurements])\\n        for cname, measurements in history.items()\\n    ]\\n)\\n\\nplt.xlim(minTime, maxTime)\\nfor ((columnName, measurements), ax) in zip(history.items(), axes):\\n    ax.set_title(columnName)\\n    dataframe = pd.DataFrame(\\n        data=[(pd.Timestamp(t, unit=\\\"us\\\"), m) for t, m in measurements]\\n    )\\n    dataframe.columns = [\\\"time\\\", \\\"value\\\"]\\n    if dataframe.dtypes[\\\"value\\\"] == \\\"object\\\":\\n        sns.catplot(ax=ax, x=\\\"time\\\", y=\\\"value\\\", kind=\\\"swarm\\\", data=dataframe)\\n    else:\\n        sns.scatterplot(ax=ax, x=\\\"time\\\", y=\\\"value\\\", data=dataframe)\";\n",
       "                var nbb_cells = Jupyter.notebook.get_cells();\n",
       "                for (var i = 0; i < nbb_cells.length; ++i) {\n",
       "                    if (nbb_cells[i].input_prompt_number == nbb_cell_id) {\n",
       "                        if (nbb_cells[i].get_text() == nbb_unformatted_code) {\n",
       "                             nbb_cells[i].set_text(nbb_formatted_code);\n",
       "                        }\n",
       "                        break;\n",
       "                    }\n",
       "                }\n",
       "            }, 500);\n",
       "            "
      ],
      "text/plain": [
       "<IPython.core.display.Javascript object>"
      ]
     },
     "metadata": {},
     "output_type": "display_data"
    }
   ],
   "source": [
    "%load_ext nb_black\n",
    "import json\n",
    "\n",
    "daemonCfg = {\n",
    "    \"controlCfg\": {\n",
    "        \"staticPower\": {\"fromuW\": 200000000},\n",
    "        \"referenceMeasurementRoundInterval\": 10,\n",
    "        \"learnCfg\": {\"lagrangeConstraint\": 1},\n",
    "        \"speedThreshold\": 0.9,\n",
    "        \"minimumControlInterval\": {\"fromuS\": 1000000},\n",
    "    },\n",
    "    \"verbose\": \"Debug\",\n",
    "}\n",
    "\n",
    "\n",
    "print(daemonCfg)\n",
    "\n",
    "workloads = {\n",
    "    \"dummy\": [\n",
    "        {\n",
    "            \"cmd\": \"stream_c\",\n",
    "            \"args\": [],  # running the sleep command for 10 seconds.\n",
    "            \"sliceID\": \"toto\",\n",
    "            \"manifest\": {\n",
    "                \"app\": {\n",
    "                    \"slice\": {\"cpus\": 1, \"mems\": 1},\n",
    "                    \"perfwrapper\": {\n",
    "                        \"perfLimit\": {\"fromOps\": 100000},\n",
    "                        \"perfFreq\": {\"fromHz\": 1},\n",
    "                    },\n",
    "                },\n",
    "                \"name\": \"perfwrap\",\n",
    "            },\n",
    "        }\n",
    "    ]\n",
    "}"
   ]
  },
  {
   "cell_type": "code",
   "execution_count": 4,
   "metadata": {},
   "outputs": [
    {
     "data": {
      "application/javascript": [
       "\n",
       "            setTimeout(function() {\n",
       "                var nbb_cell_id = 4;\n",
       "                var nbb_unformatted_code = \"import nrm.tooling as nrm\\n\\nhost = nrm.Local()\";\n",
       "                var nbb_formatted_code = \"import nrm.tooling as nrm\\n\\nhost = nrm.Local()\";\n",
       "                var nbb_cells = Jupyter.notebook.get_cells();\n",
       "                for (var i = 0; i < nbb_cells.length; ++i) {\n",
       "                    if (nbb_cells[i].input_prompt_number == nbb_cell_id) {\n",
       "                        if (nbb_cells[i].get_text() == nbb_unformatted_code) {\n",
       "                             nbb_cells[i].set_text(nbb_formatted_code);\n",
       "                        }\n",
       "                        break;\n",
       "                    }\n",
       "                }\n",
       "            }, 500);\n",
       "            "
      ],
      "text/plain": [
       "<IPython.core.display.Javascript object>"
      ]
     },
     "metadata": {},
     "output_type": "display_data"
    }
   ],
   "source": [
    "import nrm.tooling as nrm\n",
    "\n",
    "host = nrm.Local()"
   ]
  },
  {
   "cell_type": "code",
   "execution_count": 5,
   "metadata": {},
   "outputs": [
    {
     "name": "stdout",
     "output_type": "stream",
     "text": [
      "connecting\n",
      "connected to tcp://localhost:2345\n",
      "Pretty-printing the control problem description:\n",
      " Problem \n",
      "    \u001b[1m\u001b[96m{\u001b[0m sensors = Map \n",
      "        \u001b[1m\u001b[93m[\u001b[0m \n",
      "            \u001b[35m(\u001b[0m SensorID \u001b[36m{\u001b[0m sensorID = \u001b[1m\u001b[97m\"\u001b[0m\u001b[1m\u001b[94mRaplKey (PackageID 0)\u001b[0m\u001b[1m\u001b[97m\"\u001b[0m \u001b[36m}\u001b[0m\n",
      "            \u001b[35m,\u001b[0m Sensor \n",
      "                \u001b[36m{\u001b[0m range = 0.0 ... 3.0e8\n",
      "                \u001b[36m,\u001b[0m maxFrequency = 3.0\n",
      "                \u001b[36m}\u001b[0m \n",
      "            \u001b[35m)\u001b[0m \n",
      "        \u001b[1m\u001b[93m]\u001b[0m\n",
      "    \u001b[1m\u001b[96m,\u001b[0m actuators = Map \n",
      "        \u001b[1m\u001b[93m[\u001b[0m \n",
      "            \u001b[35m(\u001b[0m ActuatorID \u001b[36m{\u001b[0m actuatorID = \u001b[1m\u001b[97m\"\u001b[0m\u001b[1m\u001b[94mRaplKey (PackageID 0)\u001b[0m\u001b[1m\u001b[97m\"\u001b[0m \u001b[36m}\u001b[0m\n",
      "            \u001b[35m,\u001b[0m Actuator \n",
      "                \u001b[36m{\u001b[0m actions = \n",
      "                    \u001b[33m[\u001b[0m DiscreteDouble 1.8e8\n",
      "                    \u001b[33m,\u001b[0m DiscreteDouble 2.0e8\n",
      "                    \u001b[33m]\u001b[0m \n",
      "                \u001b[36m}\u001b[0m\n",
      "            \u001b[35m)\u001b[0m \n",
      "        \u001b[1m\u001b[93m]\u001b[0m\n",
      "    \u001b[1m\u001b[96m,\u001b[0m objectives = \n",
      "        \u001b[1m\u001b[93m[\u001b[0m \n",
      "            \u001b[35m(\u001b[0m 1.0\n",
      "            \u001b[35m,\u001b[0m OValue \n",
      "                \u001b[36m(\u001b[0m SensorID \u001b[33m{\u001b[0m sensorID = \u001b[1m\u001b[97m\"\u001b[0m\u001b[1m\u001b[94mRaplKey (PackageID 0)\u001b[0m\u001b[1m\u001b[97m\"\u001b[0m \u001b[33m}\u001b[0m \u001b[36m)\u001b[0m\n",
      "            \u001b[35m)\u001b[0m \n",
      "        \u001b[1m\u001b[93m,\u001b[0m \n",
      "            \u001b[35m(\u001b[0m 1.0\n",
      "            \u001b[35m,\u001b[0m OScalar 2.0e8\n",
      "            \u001b[35m)\u001b[0m \n",
      "        \u001b[1m\u001b[93m]\u001b[0m \n",
      "    \u001b[1m\u001b[96m,\u001b[0m constraints = \u001b[1m\u001b[93m[\u001b[0m\u001b[1m\u001b[93m]\u001b[0m\n",
      "    \u001b[1m\u001b[96m}\u001b[0m \n",
      "Python dictionary version: {'objectives': [[1, {'oValue': 'RaplKey (PackageID 0)'}], [1, {'oScalar': 200000000}]], 'constraints': [], 'sensors': [['RaplKey (PackageID 0)', {'maxFrequency': 3, 'range': {'i': [0, 300000000]}}]], 'actuators': [['RaplKey (PackageID 0)', {'actions': [180000000, 200000000]}]]}\n"
     ]
    },
    {
     "data": {
      "application/javascript": [
       "\n",
       "            setTimeout(function() {\n",
       "                var nbb_cell_id = 5;\n",
       "                var nbb_unformatted_code = \"host.start_daemon(daemonCfg)\\nassert host.check_daemon()\\n\\ncpd = host.get_cpd()\\nprint(\\\"Pretty-printing the control problem description:\\\\n %s\\\" % cpd)\\ncpdd = dict(cpd)\\nprint(\\\"Python dictionary version: %s\\\" % cpdd)\";\n",
       "                var nbb_formatted_code = \"host.start_daemon(daemonCfg)\\nassert host.check_daemon()\\n\\ncpd = host.get_cpd()\\nprint(\\\"Pretty-printing the control problem description:\\\\n %s\\\" % cpd)\\ncpdd = dict(cpd)\\nprint(\\\"Python dictionary version: %s\\\" % cpdd)\";\n",
       "                var nbb_cells = Jupyter.notebook.get_cells();\n",
       "                for (var i = 0; i < nbb_cells.length; ++i) {\n",
       "                    if (nbb_cells[i].input_prompt_number == nbb_cell_id) {\n",
       "                        if (nbb_cells[i].get_text() == nbb_unformatted_code) {\n",
       "                             nbb_cells[i].set_text(nbb_formatted_code);\n",
       "                        }\n",
       "                        break;\n",
       "                    }\n",
       "                }\n",
       "            }, 500);\n",
       "            "
      ],
      "text/plain": [
       "<IPython.core.display.Javascript object>"
      ]
     },
     "metadata": {},
     "output_type": "display_data"
    }
   ],
   "source": [
    "host.start_daemon(daemonCfg)\n",
    "assert host.check_daemon()\n",
    "\n",
    "cpd = host.get_cpd()\n",
    "print(\"Pretty-printing the control problem description:\\n %s\" % cpd)\n",
    "cpdd = dict(cpd)\n",
    "print(\"Python dictionary version: %s\" % cpdd)"
   ]
  },
  {
   "cell_type": "code",
   "execution_count": 6,
   "metadata": {},
   "outputs": [
    {
     "name": "stdout",
     "output_type": "stream",
     "text": [
      "NRMState \n",
      "    \u001b[1m\u001b[96m{\u001b[0m pus = Map \n",
      "        \u001b[1m\u001b[93m[\u001b[0m \n",
      "            \u001b[35m(\u001b[0m PUID 0\n",
      "            \u001b[35m,\u001b[0m PU\n",
      "            \u001b[35m)\u001b[0m \n",
      "        \u001b[1m\u001b[93m,\u001b[0m \n",
      "            \u001b[35m(\u001b[0m PUID 4\n",
      "            \u001b[35m,\u001b[0m PU\n",
      "            \u001b[35m)\u001b[0m \n",
      "        \u001b[1m\u001b[93m,\u001b[0m \n",
      "            \u001b[35m(\u001b[0m PUID 1\n",
      "            \u001b[35m,\u001b[0m PU\n",
      "            \u001b[35m)\u001b[0m \n",
      "        \u001b[1m\u001b[93m,\u001b[0m \n",
      "            \u001b[35m(\u001b[0m PUID 5\n",
      "            \u001b[35m,\u001b[0m PU\n",
      "            \u001b[35m)\u001b[0m \n",
      "        \u001b[1m\u001b[93m,\u001b[0m \n",
      "            \u001b[35m(\u001b[0m PUID 2\n",
      "            \u001b[35m,\u001b[0m PU\n",
      "            \u001b[35m)\u001b[0m \n",
      "        \u001b[1m\u001b[93m,\u001b[0m \n",
      "            \u001b[35m(\u001b[0m PUID 6\n",
      "            \u001b[35m,\u001b[0m PU\n",
      "            \u001b[35m)\u001b[0m \n",
      "        \u001b[1m\u001b[93m,\u001b[0m \n",
      "            \u001b[35m(\u001b[0m PUID 3\n",
      "            \u001b[35m,\u001b[0m PU\n",
      "            \u001b[35m)\u001b[0m \n",
      "        \u001b[1m\u001b[93m,\u001b[0m \n",
      "            \u001b[35m(\u001b[0m PUID 7\n",
      "            \u001b[35m,\u001b[0m PU\n",
      "            \u001b[35m)\u001b[0m \n",
      "        \u001b[1m\u001b[93m]\u001b[0m \n",
      "    \u001b[1m\u001b[96m,\u001b[0m cores = Map \n",
      "        \u001b[1m\u001b[93m[\u001b[0m \n",
      "            \u001b[35m(\u001b[0m CoreID 0\n",
      "            \u001b[35m,\u001b[0m Core\n",
      "            \u001b[35m)\u001b[0m \n",
      "        \u001b[1m\u001b[93m,\u001b[0m \n",
      "            \u001b[35m(\u001b[0m CoreID 1\n",
      "            \u001b[35m,\u001b[0m Core\n",
      "            \u001b[35m)\u001b[0m \n",
      "        \u001b[1m\u001b[93m,\u001b[0m \n",
      "            \u001b[35m(\u001b[0m CoreID 2\n",
      "            \u001b[35m,\u001b[0m Core\n",
      "            \u001b[35m)\u001b[0m \n",
      "        \u001b[1m\u001b[93m,\u001b[0m \n",
      "            \u001b[35m(\u001b[0m CoreID 3\n",
      "            \u001b[35m,\u001b[0m Core\n",
      "            \u001b[35m)\u001b[0m \n",
      "        \u001b[1m\u001b[93m]\u001b[0m \n",
      "    \u001b[1m\u001b[96m,\u001b[0m packages = Map \n",
      "        \u001b[1m\u001b[93m[\u001b[0m \n",
      "            \u001b[35m(\u001b[0m PackageID 0\n",
      "            \u001b[35m,\u001b[0m Package \n",
      "                \u001b[36m{\u001b[0m rapl = Just \n",
      "                    \u001b[33m(\u001b[0m Rapl \n",
      "                        \u001b[1m\u001b[35m{\u001b[0m raplPath = \u001b[1m\u001b[97m\"\u001b[0m\u001b[1m\u001b[94m/sys/devices/virtual/powercap/intel-rapl/intel-rapl:0\u001b[0m\u001b[1m\u001b[97m\"\u001b[0m \n",
      "                        \u001b[1m\u001b[35m,\u001b[0m max = 3.0e8\n",
      "                        \u001b[1m\u001b[35m,\u001b[0m frequency = 3.0\n",
      "                        \u001b[1m\u001b[35m,\u001b[0m discreteChoices = \n",
      "                            \u001b[1m\u001b[36m[\u001b[0m 1.8e8\n",
      "                            \u001b[1m\u001b[36m,\u001b[0m 2.0e8\n",
      "                            \u001b[1m\u001b[36m]\u001b[0m \n",
      "                        \u001b[1m\u001b[35m,\u001b[0m defaultPower = 2.0e8\n",
      "                        \u001b[1m\u001b[35m,\u001b[0m lastRead = Nothing\n",
      "                        \u001b[1m\u001b[35m,\u001b[0m history = Refined \u001b[1m\u001b[36m[\u001b[0m\u001b[1m\u001b[36m]\u001b[0m\n",
      "                        \u001b[1m\u001b[35m}\u001b[0m \n",
      "                    \u001b[33m)\u001b[0m\n",
      "                \u001b[36m}\u001b[0m\n",
      "            \u001b[35m)\u001b[0m \n",
      "        \u001b[1m\u001b[93m]\u001b[0m\n",
      "    \u001b[1m\u001b[96m,\u001b[0m slices = Map \u001b[1m\u001b[93m[\u001b[0m\u001b[1m\u001b[93m]\u001b[0m\n",
      "    \u001b[1m\u001b[96m,\u001b[0m dummyRuntime = Just \n",
      "        \u001b[1m\u001b[93m(\u001b[0m Dummy \u001b[35m(\u001b[0m fromList \u001b[36m[\u001b[0m\u001b[36m]\u001b[0m \u001b[35m)\u001b[0m \u001b[1m\u001b[93m)\u001b[0m\n",
      "    \u001b[1m\u001b[96m,\u001b[0m singularityRuntime = Nothing\n",
      "    \u001b[1m\u001b[96m,\u001b[0m nodeosRuntime = Nothing\n",
      "    \u001b[1m\u001b[96m,\u001b[0m controller = Just \n",
      "        \u001b[1m\u001b[93m(\u001b[0m Controller \n",
      "            \u001b[35m{\u001b[0m integrator = Integrator \n",
      "                \u001b[36m{\u001b[0m tLast = 1.58170923409047e9\n",
      "                \u001b[36m,\u001b[0m minimumControlInterval = 1000000.0\n",
      "                \u001b[36m,\u001b[0m measured = Map \u001b[33m[\u001b[0m\u001b[33m]\u001b[0m\n",
      "                \u001b[36m}\u001b[0m \n",
      "            \u001b[35m,\u001b[0m bandit = Nothing\n",
      "            \u001b[35m,\u001b[0m bufferedMeasurements = Nothing\n",
      "            \u001b[35m,\u001b[0m referenceMeasurements = Map \u001b[36m[\u001b[0m\u001b[36m]\u001b[0m\n",
      "            \u001b[35m,\u001b[0m referenceMeasurementCounter = Refined 0\n",
      "            \u001b[35m}\u001b[0m \n",
      "        \u001b[1m\u001b[93m)\u001b[0m\n",
      "    \u001b[1m\u001b[96m}\u001b[0m \n",
      "{'controller': {'referenceMeasurements': [], 'referenceMeasurementCounter': 0, 'integrator': {'measured': [], 'minimumControlInterval': 1000000, 'tLast': 1581709234.09047}}, 'slices': [], 'pus': [[0, []], [4, []], [1, []], [5, []], [2, []], [6, []], [3, []], [7, []]], 'packages': [[0, {'rapl': {'max': 300000000, 'defaultPower': 200000000, 'frequency': 3, 'history': [], 'raplPath': '/sys/devices/virtual/powercap/intel-rapl/intel-rapl:0', 'lastRead': None, 'discreteChoices': [180000000, 200000000]}}]], 'dummyRuntime': [], 'nodeosRuntime': None, 'cores': [[0, []], [1, []], [2, []], [3, []]], 'singularityRuntime': None}\n"
     ]
    },
    {
     "data": {
      "application/javascript": [
       "\n",
       "            setTimeout(function() {\n",
       "                var nbb_cell_id = 6;\n",
       "                var nbb_unformatted_code = \"s = host.get_state()\\nprint(s)\\nprint(dict(s))\";\n",
       "                var nbb_formatted_code = \"s = host.get_state()\\nprint(s)\\nprint(dict(s))\";\n",
       "                var nbb_cells = Jupyter.notebook.get_cells();\n",
       "                for (var i = 0; i < nbb_cells.length; ++i) {\n",
       "                    if (nbb_cells[i].input_prompt_number == nbb_cell_id) {\n",
       "                        if (nbb_cells[i].get_text() == nbb_unformatted_code) {\n",
       "                             nbb_cells[i].set_text(nbb_formatted_code);\n",
       "                        }\n",
       "                        break;\n",
       "                    }\n",
       "                }\n",
       "            }, 500);\n",
       "            "
      ],
      "text/plain": [
       "<IPython.core.display.Javascript object>"
      ]
     },
     "metadata": {},
     "output_type": "display_data"
    }
   ],
   "source": [
    "s = host.get_state()\n",
    "print(s)\n",
    "print(dict(s))"
   ]
  },
  {
   "cell_type": "markdown",
   "metadata": {},
   "source": [
    "The next cell just stops the daemon cleanly."
   ]
  },
  {
   "cell_type": "code",
   "execution_count": 7,
   "metadata": {},
   "outputs": [
    {
     "data": {
      "application/javascript": [
       "\n",
       "            setTimeout(function() {\n",
       "                var nbb_cell_id = 7;\n",
       "                var nbb_unformatted_code = \"host.stop_daemon()\\nassert host.check_daemon() == False\";\n",
       "                var nbb_formatted_code = \"host.stop_daemon()\\nassert host.check_daemon() == False\";\n",
       "                var nbb_cells = Jupyter.notebook.get_cells();\n",
       "                for (var i = 0; i < nbb_cells.length; ++i) {\n",
       "                    if (nbb_cells[i].input_prompt_number == nbb_cell_id) {\n",
       "                        if (nbb_cells[i].get_text() == nbb_unformatted_code) {\n",
       "                             nbb_cells[i].set_text(nbb_formatted_code);\n",
       "                        }\n",
       "                        break;\n",
       "                    }\n",
       "                }\n",
       "            }, 500);\n",
       "            "
      ],
      "text/plain": [
       "<IPython.core.display.Javascript object>"
      ]
     },
     "metadata": {},
     "output_type": "display_data"
    }
   ],
   "source": [
    "host.stop_daemon()\n",
    "assert host.check_daemon() == False"
   ]
  },
  {
   "cell_type": "markdown",
   "metadata": {},
   "source": [
    "### Dummy experiment: printing measurements\n",
    "\n",
    "We now are ready to run an external resource management strategy. The next cell uses the low-level \"upstream\" message passing interface to run a dummy strategy that takes a constant action. Message schemas for this API can be browsed in the [./resources/](./resources/) folder."
   ]
  },
  {
   "cell_type": "code",
   "execution_count": 8,
   "metadata": {
    "scrolled": false
   },
   "outputs": [
    {
     "name": "stdout",
     "output_type": "stream",
     "text": [
      "connecting\n",
      "connected to tcp://localhost:2345\n",
      "Starting the workload\n",
      "R\n",
      "a:initial decision\n",
      "Problem \n",
      "    \u001b[1m\u001b[96m{\u001b[0m sensors = Map \n",
      "        \u001b[1m\u001b[93m[\u001b[0m \n",
      "            \u001b[35m(\u001b[0m SensorID \u001b[36m{\u001b[0m sensorID = \u001b[1m\u001b[97m\"\u001b[0m\u001b[1m\u001b[94mDownstreamCmdKey (DownstreamCmdID 19ef7cd9-ece6-407f-bd5f-63de96925579)\u001b[0m\u001b[1m\u001b[97m\"\u001b[0m \u001b[36m}\u001b[0m\n",
      "            \u001b[35m,\u001b[0m Sensor \n",
      "                \u001b[36m{\u001b[0m range = 0.0 ... 100000.0\n",
      "                \u001b[36m,\u001b[0m maxFrequency = 1.0\n",
      "                \u001b[36m}\u001b[0m \n",
      "            \u001b[35m)\u001b[0m \n",
      "        \u001b[1m\u001b[93m,\u001b[0m \n",
      "            \u001b[35m(\u001b[0m SensorID \u001b[36m{\u001b[0m sensorID = \u001b[1m\u001b[97m\"\u001b[0m\u001b[1m\u001b[94mRaplKey (PackageID 0)\u001b[0m\u001b[1m\u001b[97m\"\u001b[0m \u001b[36m}\u001b[0m\n",
      "            \u001b[35m,\u001b[0m Sensor \n",
      "                \u001b[36m{\u001b[0m range = 0.0 ... 1.31941434444e11\n",
      "                \u001b[36m,\u001b[0m maxFrequency = 3.0\n",
      "                \u001b[36m}\u001b[0m \n",
      "            \u001b[35m)\u001b[0m \n",
      "        \u001b[1m\u001b[93m]\u001b[0m \n",
      "    \u001b[1m\u001b[96m,\u001b[0m actuators = Map \n",
      "        \u001b[1m\u001b[93m[\u001b[0m \n",
      "            \u001b[35m(\u001b[0m ActuatorID \u001b[36m{\u001b[0m actuatorID = \u001b[1m\u001b[97m\"\u001b[0m\u001b[1m\u001b[94mRaplKey (PackageID 0)\u001b[0m\u001b[1m\u001b[97m\"\u001b[0m \u001b[36m}\u001b[0m\n",
      "            \u001b[35m,\u001b[0m Actuator \n",
      "                \u001b[36m{\u001b[0m actions = \n",
      "                    \u001b[33m[\u001b[0m DiscreteDouble 1.8e8\n",
      "                    \u001b[33m,\u001b[0m DiscreteDouble 2.0e8\n",
      "                    \u001b[33m]\u001b[0m \n",
      "                \u001b[36m}\u001b[0m\n",
      "            \u001b[35m)\u001b[0m \n",
      "        \u001b[1m\u001b[93m]\u001b[0m\n",
      "    \u001b[1m\u001b[96m,\u001b[0m objectives = \n",
      "        \u001b[1m\u001b[93m[\u001b[0m \n",
      "            \u001b[35m(\u001b[0m 1.0\n",
      "            \u001b[35m,\u001b[0m OValue \n",
      "                \u001b[36m(\u001b[0m SensorID \u001b[33m{\u001b[0m sensorID = \u001b[1m\u001b[97m\"\u001b[0m\u001b[1m\u001b[94mRaplKey (PackageID 0)\u001b[0m\u001b[1m\u001b[97m\"\u001b[0m \u001b[33m}\u001b[0m \u001b[36m)\u001b[0m\n",
      "            \u001b[35m)\u001b[0m \n",
      "        \u001b[1m\u001b[93m,\u001b[0m \n",
      "            \u001b[35m(\u001b[0m 1.0\n",
      "            \u001b[35m,\u001b[0m OScalar 2.0e8\n",
      "            \u001b[35m)\u001b[0m \n",
      "        \u001b[1m\u001b[93m]\u001b[0m \n",
      "    \u001b[1m\u001b[96m,\u001b[0m constraints = \n",
      "        \u001b[1m\u001b[93m[\u001b[0m \n",
      "            \u001b[35m(\u001b[0m 0.0 ... 0.9\n",
      "            \u001b[35m,\u001b[0m OValue \n",
      "                \u001b[36m(\u001b[0m SensorID \u001b[33m{\u001b[0m sensorID = \u001b[1m\u001b[97m\"\u001b[0m\u001b[1m\u001b[94mDownstreamCmdKey (DownstreamCmdID 19ef7cd9-ece6-407f-bd5f-63de96925579)\u001b[0m\u001b[1m\u001b[97m\"\u001b[0m \u001b[33m}\u001b[0m \u001b[36m)\u001b[0m\n",
      "            \u001b[35m)\u001b[0m \n",
      "        \u001b[1m\u001b[93m]\u001b[0m\n",
      "    \u001b[1m\u001b[96m}\u001b[0m \n",
      "Sensor identifier list:\n",
      "- DownstreamCmdKey (DownstreamCmdID 19ef7cd9-ece6-407f-bd5f-63de96925579)\n",
      "- RaplKey (PackageID 0)\n",
      "Actuator identifier list:\n",
      "- RaplKey (PackageID 0)\n",
      ".a:inner\n",
      "R\n",
      "a:initial decision\n",
      ".R\n",
      "a:initial decision\n",
      "...a:reference\n",
      "..a:inner\n",
      "..a:inner\n",
      "..a:inner\n",
      "..a:inner\n",
      "..a:inner\n",
      "..a:inner\n",
      "..a:inner\n",
      "..a:inner\n",
      "..a:inner\n",
      "..a:inner\n",
      "..a:reference\n",
      "..a:inner\n",
      "..a:inner\n",
      "..a:inner\n",
      "..a:inner\n",
      "..a:inner\n",
      "..a:inner\n",
      "..a:inner\n",
      "..a:inner\n",
      "..a:inner\n",
      "..a:inner\n",
      "..a:reference\n",
      "..a:inner\n",
      "..a:inner\n",
      "..a:inner\n",
      "..a:inner\n",
      "..a:inner\n",
      "..a:inner\n",
      "..a:inner\n",
      "..a:inner\n",
      "..a:inner\n",
      "..a:inner\n",
      "..a:reference\n",
      "..a:inner\n",
      "..a:inner\n",
      "..a:inner\n",
      "..a:inner\n",
      "..a:inner\n",
      "..a:inner\n",
      "..a:inner\n",
      "..a:inner\n",
      "..a:inner\n",
      "..a:inner\n",
      "..a:reference\n",
      "..a:inner\n",
      "..a:inner\n",
      "..a:inner\n",
      "..a:inner\n",
      "..a:inner\n",
      "..a:inner\n",
      "..a:inner\n",
      "..a:inner\n",
      "..a:inner\n",
      "..a:inner\n",
      "..a:reference\n",
      "..a:inner\n",
      "..a:inner\n",
      "..a:inner\n",
      "..a:inner\n",
      "..a:inner\n",
      "..a:inner\n",
      "..a:inner\n",
      "..a:inner\n",
      "..a:inner\n",
      "..a:inner\n",
      "..a:reference\n",
      "..a:inner\n",
      "..a:inner\n",
      "..a:inner\n",
      "..a:inner\n",
      "..a:inner\n",
      "..a:inner\n",
      "..a:inner\n",
      "..a:inner\n",
      "..a:inner\n",
      "..a:inner\n",
      "..a:reference\n",
      "..a:inner\n",
      "..a:inner\n",
      "..a:inner\n",
      "..a:inner\n",
      "..a:inner\n",
      "..a:inner\n",
      "..a:inner\n",
      "..a:inner\n",
      "..a:inner\n",
      "..a:inner\n",
      "..a:reference\n",
      "..a:inner\n",
      "..a:inner\n",
      "..a:inner\n",
      "..a:inner\n",
      "..a:inner\n",
      "..a:inner\n",
      "..a:inner\n",
      "..a:inner\n",
      "..a:inner\n",
      "..a:inner\n",
      "..a:reference\n",
      "..a:inner\n",
      ".........."
     ]
    },
    {
     "ename": "KeyboardInterrupt",
     "evalue": "",
     "output_type": "error",
     "traceback": [
      "\u001b[0;31m---------------------------------------------------------------------------\u001b[0m",
      "\u001b[0;31mKeyboardInterrupt\u001b[0m                         Traceback (most recent call last)",
      "\u001b[0;32m<ipython-input-8-ac34b6ca8f9b>\u001b[0m in \u001b[0;36m<module>\u001b[0;34m\u001b[0m\n\u001b[1;32m     10\u001b[0m     \u001b[0mgetCPD\u001b[0m \u001b[0;34m=\u001b[0m \u001b[0;32mTrue\u001b[0m\u001b[0;34m\u001b[0m\u001b[0;34m\u001b[0m\u001b[0m\n\u001b[1;32m     11\u001b[0m     \u001b[0;32mwhile\u001b[0m \u001b[0mhost\u001b[0m\u001b[0;34m.\u001b[0m\u001b[0mcheck_daemon\u001b[0m\u001b[0;34m(\u001b[0m\u001b[0;34m)\u001b[0m \u001b[0;32mand\u001b[0m \u001b[0;32mnot\u001b[0m \u001b[0mhost\u001b[0m\u001b[0;34m.\u001b[0m\u001b[0mworkload_finished\u001b[0m\u001b[0;34m(\u001b[0m\u001b[0;34m)\u001b[0m\u001b[0;34m:\u001b[0m\u001b[0;34m\u001b[0m\u001b[0;34m\u001b[0m\u001b[0m\n\u001b[0;32m---> 12\u001b[0;31m         \u001b[0mmeasurement_message\u001b[0m \u001b[0;34m=\u001b[0m \u001b[0mhost\u001b[0m\u001b[0;34m.\u001b[0m\u001b[0mworkload_recv\u001b[0m\u001b[0;34m(\u001b[0m\u001b[0;34m)\u001b[0m\u001b[0;34m\u001b[0m\u001b[0;34m\u001b[0m\u001b[0m\n\u001b[0m\u001b[1;32m     13\u001b[0m         \u001b[0mmsg\u001b[0m \u001b[0;34m=\u001b[0m \u001b[0mjson\u001b[0m\u001b[0;34m.\u001b[0m\u001b[0mloads\u001b[0m\u001b[0;34m(\u001b[0m\u001b[0mmeasurement_message\u001b[0m\u001b[0;34m)\u001b[0m\u001b[0;34m\u001b[0m\u001b[0;34m\u001b[0m\u001b[0m\n\u001b[1;32m     14\u001b[0m         \u001b[0;32mif\u001b[0m \u001b[0;34m\"pubMeasurements\"\u001b[0m \u001b[0;32min\u001b[0m \u001b[0mmsg\u001b[0m\u001b[0;34m:\u001b[0m\u001b[0;34m\u001b[0m\u001b[0;34m\u001b[0m\u001b[0m\n",
      "\u001b[0;32m~/workspace/hnrm/pynrm/nrm/tooling.py\u001b[0m in \u001b[0;36mworkload_recv\u001b[0;34m(self)\u001b[0m\n\u001b[1;32m    184\u001b[0m     \u001b[0;32mdef\u001b[0m \u001b[0mworkload_recv\u001b[0m\u001b[0;34m(\u001b[0m\u001b[0mself\u001b[0m\u001b[0;34m)\u001b[0m\u001b[0;34m:\u001b[0m\u001b[0;34m\u001b[0m\u001b[0;34m\u001b[0m\u001b[0m\n\u001b[1;32m    185\u001b[0m         \u001b[0;34m\"\"\" Receive a message from NRM's upstream API. \"\"\"\u001b[0m\u001b[0;34m\u001b[0m\u001b[0;34m\u001b[0m\u001b[0m\n\u001b[0;32m--> 186\u001b[0;31m         \u001b[0;32mreturn\u001b[0m \u001b[0mself\u001b[0m\u001b[0;34m.\u001b[0m\u001b[0mupstreampub\u001b[0m\u001b[0;34m.\u001b[0m\u001b[0mrecv\u001b[0m\u001b[0;34m(\u001b[0m\u001b[0;34m)\u001b[0m\u001b[0;34m\u001b[0m\u001b[0;34m\u001b[0m\u001b[0m\n\u001b[0m\u001b[1;32m    187\u001b[0m \u001b[0;34m\u001b[0m\u001b[0m\n\u001b[1;32m    188\u001b[0m     \u001b[0;32mdef\u001b[0m \u001b[0mworkload_action\u001b[0m\u001b[0;34m(\u001b[0m\u001b[0mself\u001b[0m\u001b[0;34m,\u001b[0m \u001b[0mactionList\u001b[0m\u001b[0;34m:\u001b[0m \u001b[0mList\u001b[0m\u001b[0;34m[\u001b[0m\u001b[0mAction\u001b[0m\u001b[0;34m]\u001b[0m\u001b[0;34m)\u001b[0m\u001b[0;34m:\u001b[0m\u001b[0;34m\u001b[0m\u001b[0;34m\u001b[0m\u001b[0m\n",
      "\u001b[0;32m~/workspace/hnrm/pynrm/nrm/messaging.py\u001b[0m in \u001b[0;36mrecv\u001b[0;34m(self)\u001b[0m\n\u001b[1;32m    233\u001b[0m     \u001b[0;32mdef\u001b[0m \u001b[0mrecv\u001b[0m\u001b[0;34m(\u001b[0m\u001b[0mself\u001b[0m\u001b[0;34m)\u001b[0m\u001b[0;34m:\u001b[0m\u001b[0;34m\u001b[0m\u001b[0;34m\u001b[0m\u001b[0m\n\u001b[1;32m    234\u001b[0m         \u001b[0;34m\"\"\"Receives a message and returns it.\"\"\"\u001b[0m\u001b[0;34m\u001b[0m\u001b[0;34m\u001b[0m\u001b[0m\n\u001b[0;32m--> 235\u001b[0;31m         \u001b[0mframes\u001b[0m \u001b[0;34m=\u001b[0m \u001b[0mself\u001b[0m\u001b[0;34m.\u001b[0m\u001b[0msocket\u001b[0m\u001b[0;34m.\u001b[0m\u001b[0mrecv_multipart\u001b[0m\u001b[0;34m(\u001b[0m\u001b[0;34m)\u001b[0m\u001b[0;34m\u001b[0m\u001b[0;34m\u001b[0m\u001b[0m\n\u001b[0m\u001b[1;32m    236\u001b[0m         \u001b[0m_logger\u001b[0m\u001b[0;34m.\u001b[0m\u001b[0minfo\u001b[0m\u001b[0;34m(\u001b[0m\u001b[0;34m\"received message: %r\"\u001b[0m\u001b[0;34m,\u001b[0m \u001b[0mframes\u001b[0m\u001b[0;34m)\u001b[0m\u001b[0;34m\u001b[0m\u001b[0;34m\u001b[0m\u001b[0m\n\u001b[1;32m    237\u001b[0m         \u001b[0;32massert\u001b[0m \u001b[0mlen\u001b[0m\u001b[0;34m(\u001b[0m\u001b[0mframes\u001b[0m\u001b[0;34m)\u001b[0m \u001b[0;34m==\u001b[0m \u001b[0;36m1\u001b[0m\u001b[0;34m\u001b[0m\u001b[0;34m\u001b[0m\u001b[0m\n",
      "\u001b[0;32m/nix/store/53vnhlmsxcy79gb5bdvfih7qix4hy84b-python3.7-pyzmq-18.0.1/lib/python3.7/site-packages/zmq/sugar/socket.py\u001b[0m in \u001b[0;36mrecv_multipart\u001b[0;34m(self, flags, copy, track)\u001b[0m\n\u001b[1;32m    468\u001b[0m             \u001b[0;32mfor\u001b[0m \u001b[0many\u001b[0m \u001b[0mof\u001b[0m \u001b[0mthe\u001b[0m \u001b[0mreasons\u001b[0m \u001b[0;34m:\u001b[0m\u001b[0mfunc\u001b[0m\u001b[0;34m:\u001b[0m\u001b[0;31m`\u001b[0m\u001b[0;34m~\u001b[0m\u001b[0mSocket\u001b[0m\u001b[0;34m.\u001b[0m\u001b[0mrecv\u001b[0m\u001b[0;31m`\u001b[0m \u001b[0mmight\u001b[0m \u001b[0mfail\u001b[0m\u001b[0;34m\u001b[0m\u001b[0;34m\u001b[0m\u001b[0m\n\u001b[1;32m    469\u001b[0m         \"\"\"\n\u001b[0;32m--> 470\u001b[0;31m         \u001b[0mparts\u001b[0m \u001b[0;34m=\u001b[0m \u001b[0;34m[\u001b[0m\u001b[0mself\u001b[0m\u001b[0;34m.\u001b[0m\u001b[0mrecv\u001b[0m\u001b[0;34m(\u001b[0m\u001b[0mflags\u001b[0m\u001b[0;34m,\u001b[0m \u001b[0mcopy\u001b[0m\u001b[0;34m=\u001b[0m\u001b[0mcopy\u001b[0m\u001b[0;34m,\u001b[0m \u001b[0mtrack\u001b[0m\u001b[0;34m=\u001b[0m\u001b[0mtrack\u001b[0m\u001b[0;34m)\u001b[0m\u001b[0;34m]\u001b[0m\u001b[0;34m\u001b[0m\u001b[0;34m\u001b[0m\u001b[0m\n\u001b[0m\u001b[1;32m    471\u001b[0m         \u001b[0;31m# have first part already, only loop while more to receive\u001b[0m\u001b[0;34m\u001b[0m\u001b[0;34m\u001b[0m\u001b[0;34m\u001b[0m\u001b[0m\n\u001b[1;32m    472\u001b[0m         \u001b[0;32mwhile\u001b[0m \u001b[0mself\u001b[0m\u001b[0;34m.\u001b[0m\u001b[0mgetsockopt\u001b[0m\u001b[0;34m(\u001b[0m\u001b[0mzmq\u001b[0m\u001b[0;34m.\u001b[0m\u001b[0mRCVMORE\u001b[0m\u001b[0;34m)\u001b[0m\u001b[0;34m:\u001b[0m\u001b[0;34m\u001b[0m\u001b[0;34m\u001b[0m\u001b[0m\n",
      "\u001b[0;32mzmq/backend/cython/socket.pyx\u001b[0m in \u001b[0;36mzmq.backend.cython.socket.Socket.recv\u001b[0;34m()\u001b[0m\n",
      "\u001b[0;32mzmq/backend/cython/socket.pyx\u001b[0m in \u001b[0;36mzmq.backend.cython.socket.Socket.recv\u001b[0;34m()\u001b[0m\n",
      "\u001b[0;32mzmq/backend/cython/socket.pyx\u001b[0m in \u001b[0;36mzmq.backend.cython.socket._recv_copy\u001b[0;34m()\u001b[0m\n",
      "\u001b[0;32m/nix/store/53vnhlmsxcy79gb5bdvfih7qix4hy84b-python3.7-pyzmq-18.0.1/lib/python3.7/site-packages/zmq/backend/cython/checkrc.pxd\u001b[0m in \u001b[0;36mzmq.backend.cython.checkrc._check_rc\u001b[0;34m()\u001b[0m\n",
      "\u001b[0;31mKeyboardInterrupt\u001b[0m: "
     ]
    },
    {
     "data": {
      "application/javascript": [
       "\n",
       "            setTimeout(function() {\n",
       "                var nbb_cell_id = 8;\n",
       "                var nbb_unformatted_code = \"import time\\nfrom collections import defaultdict\\n\\nfor name, workload in workloads.items():\\n    host.start_daemon(daemonCfg)\\n    print(\\\"Starting the workload\\\")\\n    host.run_workload(workload)\\n    history = defaultdict(list)\\n    # print(host.get_state())\\n    getCPD = True\\n    while host.check_daemon() and not host.workload_finished():\\n        measurement_message = host.workload_recv()\\n        msg = json.loads(measurement_message)\\n        if \\\"pubMeasurements\\\" in msg:\\n            if getCPD:\\n                getCPD = False\\n                time.sleep(1)\\n                cpd = host.get_cpd()\\n                print(cpd)\\n                cpd = dict(cpd)\\n                print(\\\"Sensor identifier list:\\\")\\n                for sensorID in [sensor[0] for sensor in cpd[\\\"sensors\\\"]]:\\n                    print(\\\"- %s\\\" % sensorID)\\n                print(\\\"Actuator identifier list:\\\")\\n                for sensorID in [sensor[0] for sensor in cpd[\\\"actuators\\\"]]:\\n                    print(\\\"- %s\\\" % sensorID)\\n            content = msg[\\\"pubMeasurements\\\"][1][0]\\n            t = content[\\\"time\\\"]\\n            sensorID = content[\\\"sensorID\\\"]\\n            x = content[\\\"sensorValue\\\"]\\n            print(\\n                \\\".\\\",\\n                end=\\\"\\\"\\n                # \\\"Measurement: originating at time %s for sensor %s of value %s\\\"\\n                #% (content[\\\"time\\\"], content[\\\"sensorID\\\"], content[\\\"sensorValue\\\"])\\n            )\\n            history[sensorID].append((t, x))\\n        if \\\"pubCPD\\\" in msg:\\n            print(\\\"R\\\")\\n        if \\\"pubAction\\\" in msg:\\n            # print(msg)\\n            t, contents, meta, controller = msg[\\\"pubAction\\\"]\\n            if \\\"bandit\\\" in controller.keys():\\n                for key in meta.keys():\\n                    history[\\\"actionType\\\"].append((t, key))\\n                if \\\"referenceMeasurementDecision\\\" in meta.keys():\\n                    print(\\\"a:reference\\\")\\n                elif \\\"initialDecision\\\" in meta.keys():\\n                    print(\\\"a:initial decision\\\")\\n                elif \\\"innerDecision\\\" in meta.keys():\\n                    print(\\\"a:inner\\\")\\n                    counter = 0\\n                    for value in meta[\\\"innerDecision\\\"][\\\"constraints\\\"]:\\n                        history[\\\"constraint-\\\" + str(counter)].append(\\n                            (t, value[\\\"fromConstraintValue\\\"])\\n                        )\\n                        counter=counter+1\\n                    counter = 0\\n                    for value in meta[\\\"innerDecision\\\"][\\\"objectives\\\"]:\\n                        history[\\\"objective-\\\" + str(counter)].append(\\n                            (t, value[\\\"fromObjectiveValue\\\"])\\n                        )\\n                        counter=counter+1\\n            for content in contents:\\n                actuatorID = content[\\\"actuatorID\\\"] + \\\"(action)\\\"\\n                x = content[\\\"actuatorValue\\\"]\\n                history[actuatorID].append((t, x))\\n                for arm in controller[\\\"bandit\\\"][\\\"lagrange\\\"][\\\"lagrangeConstraint\\\"][\\n                    \\\"weights\\\"\\n                ]:\\n                    value = arm[\\\"action\\\"][0][\\\"actuatorValue\\\"]\\n                    history[str(value / 1000000) + \\\"-probability\\\"].append(\\n                        (t, arm[\\\"probability\\\"][\\\"getProbability\\\"])\\n                    )\\n                    history[str(value / 1000000) + \\\"-cumulativeLoss\\\"].append(\\n                        (t, arm[\\\"cumulativeLoss\\\"][\\\"getCumulativeLoss\\\"])\\n                    )\\n            # print(\\n            # \\\"Action: originating at time %s for actuator %s of value %s\\\"\\n            #% (t,actuatorID,x)\\n            # )\\n    host.check_daemon()\\nhost.stop_daemon()\";\n",
       "                var nbb_formatted_code = \"import time\\nfrom collections import defaultdict\\n\\nfor name, workload in workloads.items():\\n    host.start_daemon(daemonCfg)\\n    print(\\\"Starting the workload\\\")\\n    host.run_workload(workload)\\n    history = defaultdict(list)\\n    # print(host.get_state())\\n    getCPD = True\\n    while host.check_daemon() and not host.workload_finished():\\n        measurement_message = host.workload_recv()\\n        msg = json.loads(measurement_message)\\n        if \\\"pubMeasurements\\\" in msg:\\n            if getCPD:\\n                getCPD = False\\n                time.sleep(1)\\n                cpd = host.get_cpd()\\n                print(cpd)\\n                cpd = dict(cpd)\\n                print(\\\"Sensor identifier list:\\\")\\n                for sensorID in [sensor[0] for sensor in cpd[\\\"sensors\\\"]]:\\n                    print(\\\"- %s\\\" % sensorID)\\n                print(\\\"Actuator identifier list:\\\")\\n                for sensorID in [sensor[0] for sensor in cpd[\\\"actuators\\\"]]:\\n                    print(\\\"- %s\\\" % sensorID)\\n            content = msg[\\\"pubMeasurements\\\"][1][0]\\n            t = content[\\\"time\\\"]\\n            sensorID = content[\\\"sensorID\\\"]\\n            x = content[\\\"sensorValue\\\"]\\n            print(\\n                \\\".\\\",\\n                end=\\\"\\\"\\n                # \\\"Measurement: originating at time %s for sensor %s of value %s\\\"\\n                #% (content[\\\"time\\\"], content[\\\"sensorID\\\"], content[\\\"sensorValue\\\"])\\n            )\\n            history[sensorID].append((t, x))\\n        if \\\"pubCPD\\\" in msg:\\n            print(\\\"R\\\")\\n        if \\\"pubAction\\\" in msg:\\n            # print(msg)\\n            t, contents, meta, controller = msg[\\\"pubAction\\\"]\\n            if \\\"bandit\\\" in controller.keys():\\n                for key in meta.keys():\\n                    history[\\\"actionType\\\"].append((t, key))\\n                if \\\"referenceMeasurementDecision\\\" in meta.keys():\\n                    print(\\\"a:reference\\\")\\n                elif \\\"initialDecision\\\" in meta.keys():\\n                    print(\\\"a:initial decision\\\")\\n                elif \\\"innerDecision\\\" in meta.keys():\\n                    print(\\\"a:inner\\\")\\n                    counter = 0\\n                    for value in meta[\\\"innerDecision\\\"][\\\"constraints\\\"]:\\n                        history[\\\"constraint-\\\" + str(counter)].append(\\n                            (t, value[\\\"fromConstraintValue\\\"])\\n                        )\\n                        counter = counter + 1\\n                    counter = 0\\n                    for value in meta[\\\"innerDecision\\\"][\\\"objectives\\\"]:\\n                        history[\\\"objective-\\\" + str(counter)].append(\\n                            (t, value[\\\"fromObjectiveValue\\\"])\\n                        )\\n                        counter = counter + 1\\n            for content in contents:\\n                actuatorID = content[\\\"actuatorID\\\"] + \\\"(action)\\\"\\n                x = content[\\\"actuatorValue\\\"]\\n                history[actuatorID].append((t, x))\\n                for arm in controller[\\\"bandit\\\"][\\\"lagrange\\\"][\\\"lagrangeConstraint\\\"][\\n                    \\\"weights\\\"\\n                ]:\\n                    value = arm[\\\"action\\\"][0][\\\"actuatorValue\\\"]\\n                    history[str(value / 1000000) + \\\"-probability\\\"].append(\\n                        (t, arm[\\\"probability\\\"][\\\"getProbability\\\"])\\n                    )\\n                    history[str(value / 1000000) + \\\"-cumulativeLoss\\\"].append(\\n                        (t, arm[\\\"cumulativeLoss\\\"][\\\"getCumulativeLoss\\\"])\\n                    )\\n            # print(\\n            # \\\"Action: originating at time %s for actuator %s of value %s\\\"\\n            #% (t,actuatorID,x)\\n            # )\\n    host.check_daemon()\\nhost.stop_daemon()\";\n",
       "                var nbb_cells = Jupyter.notebook.get_cells();\n",
       "                for (var i = 0; i < nbb_cells.length; ++i) {\n",
       "                    if (nbb_cells[i].input_prompt_number == nbb_cell_id) {\n",
       "                        if (nbb_cells[i].get_text() == nbb_unformatted_code) {\n",
       "                             nbb_cells[i].set_text(nbb_formatted_code);\n",
       "                        }\n",
       "                        break;\n",
       "                    }\n",
       "                }\n",
       "            }, 500);\n",
       "            "
      ],
      "text/plain": [
       "<IPython.core.display.Javascript object>"
      ]
     },
     "metadata": {},
     "output_type": "display_data"
    }
   ],
   "source": [
    "import time\n",
    "from collections import defaultdict\n",
    "\n",
    "for name, workload in workloads.items():\n",
    "    host.start_daemon(daemonCfg)\n",
    "    print(\"Starting the workload\")\n",
    "    host.run_workload(workload)\n",
    "    history = defaultdict(list)\n",
    "    # print(host.get_state())\n",
    "    getCPD = True\n",
    "    while host.check_daemon() and not host.workload_finished():\n",
    "        measurement_message = host.workload_recv()\n",
    "        msg = json.loads(measurement_message)\n",
    "        if \"pubMeasurements\" in msg:\n",
    "            if getCPD:\n",
    "                getCPD = False\n",
    "                time.sleep(1)\n",
    "                cpd = host.get_cpd()\n",
    "                print(cpd)\n",
    "                cpd = dict(cpd)\n",
    "                print(\"Sensor identifier list:\")\n",
    "                for sensorID in [sensor[0] for sensor in cpd[\"sensors\"]]:\n",
    "                    print(\"- %s\" % sensorID)\n",
    "                print(\"Actuator identifier list:\")\n",
    "                for sensorID in [sensor[0] for sensor in cpd[\"actuators\"]]:\n",
    "                    print(\"- %s\" % sensorID)\n",
    "            content = msg[\"pubMeasurements\"][1][0]\n",
    "            t = content[\"time\"]\n",
    "            sensorID = content[\"sensorID\"]\n",
    "            x = content[\"sensorValue\"]\n",
    "            print(\n",
    "                \".\",\n",
    "                end=\"\"\n",
    "                # \"Measurement: originating at time %s for sensor %s of value %s\"\n",
    "                #% (content[\"time\"], content[\"sensorID\"], content[\"sensorValue\"])\n",
    "            )\n",
    "            history[sensorID].append((t, x))\n",
    "        if \"pubCPD\" in msg:\n",
    "            print(\"R\")\n",
    "        if \"pubAction\" in msg:\n",
    "            # print(msg)\n",
    "            t, contents, meta, controller = msg[\"pubAction\"]\n",
    "            if \"bandit\" in controller.keys():\n",
    "                for key in meta.keys():\n",
    "                    history[\"actionType\"].append((t, key))\n",
    "                if \"referenceMeasurementDecision\" in meta.keys():\n",
    "                    print(\"a:reference\")\n",
    "                elif \"initialDecision\" in meta.keys():\n",
    "                    print(\"a:initial decision\")\n",
    "                elif \"innerDecision\" in meta.keys():\n",
    "                    print(\"a:inner\")\n",
    "                    counter = 0\n",
    "                    for value in meta[\"innerDecision\"][\"constraints\"]:\n",
    "                        history[\"constraint-\" + str(counter)].append(\n",
    "                            (t, value[\"fromConstraintValue\"])\n",
    "                        )\n",
    "                        counter = counter + 1\n",
    "                    counter = 0\n",
    "                    for value in meta[\"innerDecision\"][\"objectives\"]:\n",
    "                        history[\"objective-\" + str(counter)].append(\n",
    "                            (t, value[\"fromObjectiveValue\"])\n",
    "                        )\n",
    "                        counter = counter + 1\n",
    "            for content in contents:\n",
    "                actuatorID = content[\"actuatorID\"] + \"(action)\"\n",
    "                x = content[\"actuatorValue\"]\n",
    "                history[actuatorID].append((t, x))\n",
    "                for arm in controller[\"bandit\"][\"lagrange\"][\"lagrangeConstraint\"][\n",
    "                    \"weights\"\n",
    "                ]:\n",
    "                    value = arm[\"action\"][0][\"actuatorValue\"]\n",
    "                    history[str(value / 1000000) + \"-probability\"].append(\n",
    "                        (t, arm[\"probability\"][\"getProbability\"])\n",
    "                    )\n",
    "                    history[str(value / 1000000) + \"-cumulativeLoss\"].append(\n",
    "                        (t, arm[\"cumulativeLoss\"][\"getCumulativeLoss\"])\n",
    "                    )\n",
    "            # print(\n",
    "            # \"Action: originating at time %s for actuator %s of value %s\"\n",
    "            #% (t,actuatorID,x)\n",
    "            # )\n",
    "    host.check_daemon()\n",
    "host.stop_daemon()"
   ]
  },
  {
   "cell_type": "code",
   "execution_count": 42,
   "metadata": {
    "scrolled": false
   },
   "outputs": [
    {
     "data": {
      "text/plain": [
       "<Figure size 432x288 with 0 Axes>"
      ]
     },
     "metadata": {},
     "output_type": "display_data"
    },
    {
     "data": {
      "image/png": "[encoded data removed]",
      "text/plain": [
       "<Figure size 1224x1800 with 11 Axes>"
      ]
     },
     "metadata": {
      "needs_background": "light"
     },
     "output_type": "display_data"
    },
    {
     "data": {
      "image/png": "[encoded data removed]",
      "text/plain": [
       "<Figure size 360x360 with 1 Axes>"
      ]
     },
     "metadata": {
      "needs_background": "light"
     },
     "output_type": "display_data"
    },
    {
     "data": {
      "application/javascript": [
       "\n",
       "            setTimeout(function() {\n",
       "                var nbb_cell_id = 41;\n",
       "                var nbb_unformatted_code = \"import pandas as pd\\nimport matplotlib.pyplot as plt\\nimport seaborn as sns\\n\\nfig = plt.figure()\\nfig, (axes) = plt.subplots(11, 1, sharex=True)\\nfig.subplots_adjust(wspace=0.05)\\nfig.set_size_inches(17, 25, forward=True)\\n\\nminTime = min(\\n    [\\n        min([pd.Timestamp(m[0], unit=\\\"us\\\") for m in measurements])\\n        for cname, measurements in history.items()\\n    ]\\n)\\nmaxTime = max(\\n    [\\n        max([pd.Timestamp(m[0], unit=\\\"us\\\") for m in measurements])\\n        for cname, measurements in history.items()\\n    ]\\n)\\n\\nplt.xlim(minTime, maxTime)\\nfor ((columnName, measurements), ax) in zip(history.items(), axes):\\n    ax.set_title(columnName)\\n    dataframe = pd.DataFrame(\\n        data=[(pd.Timestamp(t, unit=\\\"us\\\"), m) for t, m in measurements]\\n    )\\n    dataframe.columns = [\\\"time\\\", \\\"value\\\"]\\n    if dataframe.dtypes[\\\"value\\\"] == \\\"object\\\":\\n        sns.catplot(ax=ax, x=\\\"time\\\", y=\\\"value\\\", kind=\\\"swarm\\\", data=dataframe)\\n    else:\\n        sns.scatterplot(ax=ax, x=\\\"time\\\", y=\\\"value\\\", data=dataframe)\";\n",
       "                var nbb_formatted_code = \"import pandas as pd\\nimport matplotlib.pyplot as plt\\nimport seaborn as sns\\n\\nfig = plt.figure()\\nfig, (axes) = plt.subplots(11, 1, sharex=True)\\nfig.subplots_adjust(wspace=0.05)\\nfig.set_size_inches(17, 25, forward=True)\\n\\nminTime = min(\\n    [\\n        min([pd.Timestamp(m[0], unit=\\\"us\\\") for m in measurements])\\n        for cname, measurements in history.items()\\n    ]\\n)\\nmaxTime = max(\\n    [\\n        max([pd.Timestamp(m[0], unit=\\\"us\\\") for m in measurements])\\n        for cname, measurements in history.items()\\n    ]\\n)\\n\\nplt.xlim(minTime, maxTime)\\nfor ((columnName, measurements), ax) in zip(history.items(), axes):\\n    ax.set_title(columnName)\\n    dataframe = pd.DataFrame(\\n        data=[(pd.Timestamp(t, unit=\\\"us\\\"), m) for t, m in measurements]\\n    )\\n    dataframe.columns = [\\\"time\\\", \\\"value\\\"]\\n    if dataframe.dtypes[\\\"value\\\"] == \\\"object\\\":\\n        sns.catplot(ax=ax, x=\\\"time\\\", y=\\\"value\\\", kind=\\\"swarm\\\", data=dataframe)\\n    else:\\n        sns.scatterplot(ax=ax, x=\\\"time\\\", y=\\\"value\\\", data=dataframe)\";\n",
       "                var nbb_cells = Jupyter.notebook.get_cells();\n",
       "                for (var i = 0; i < nbb_cells.length; ++i) {\n",
       "                    if (nbb_cells[i].input_prompt_number == nbb_cell_id) {\n",
       "                        if (nbb_cells[i].get_text() == nbb_unformatted_code) {\n",
       "                             nbb_cells[i].set_text(nbb_formatted_code);\n",
       "                        }\n",
       "                        break;\n",
       "                    }\n",
       "                }\n",
       "            }, 500);\n",
       "            "
      ],
      "text/plain": [
       "<IPython.core.display.Javascript object>"
      ]
     },
     "metadata": {},
     "output_type": "display_data"
    }
   ],
   "source": [
    "import pandas as pd\n",
    "import matplotlib.pyplot as plt\n",
    "import seaborn as sns\n",
    "\n",
    "fig = plt.figure()\n",
    "fig, (axes) = plt.subplots(11, 1, sharex=True)\n",
    "fig.subplots_adjust(wspace=0.1)\n",
    "fig.set_size_inches(17, 25, forward=True)\n",
    "\n",
    "minTime = min(\n",
    "    [\n",
    "        min([pd.Timestamp(m[0], unit=\"us\") for m in measurements])\n",
    "        for cname, measurements in history.items()\n",
    "    ]\n",
    ")\n",
    "maxTime = max(\n",
    "    [\n",
    "        max([pd.Timestamp(m[0], unit=\"us\") for m in measurements])\n",
    "        for cname, measurements in history.items()\n",
    "    ]\n",
    ")\n",
    "\n",
    "plt.xlim(minTime, maxTime)\n",
    "for ((columnName, measurements), ax) in zip(history.items(), axes):\n",
    "    ax.set_title(columnName)\n",
    "    dataframe = pd.DataFrame(\n",
    "        data=[(pd.Timestamp(t, unit=\"us\"), m) for t, m in measurements]\n",
    "    )\n",
    "    dataframe.columns = [\"time\", \"value\"]\n",
    "    if dataframe.dtypes[\"value\"] == \"object\":\n",
    "        sns.catplot(ax=ax, x=\"time\", y=\"value\", kind=\"swarm\", data=dataframe)\n",
    "    else:\n",
    "        sns.scatterplot(ax=ax, x=\"time\", y=\"value\", data=dataframe)"
   ]
  },
  {
   "cell_type": "code",
   "execution_count": null,
   "metadata": {},
   "outputs": [],
   "source": []
  }
 ],
 "metadata": {
  "kernelspec": {
   "display_name": "Python 3",
   "language": "python",
   "name": "python3"
  },
  "language_info": {
   "codemirror_mode": {
    "name": "ipython",
    "version": 3
   },
   "file_extension": ".py",
   "mimetype": "text/x-python",
   "name": "python",
   "nbconvert_exporter": "python",
   "pygments_lexer": "ipython3",
   "version": "3.7.4"
  }
 },
 "nbformat": 4,
 "nbformat_minor": 4
}
