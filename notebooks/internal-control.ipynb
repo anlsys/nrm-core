{
 "cells": [
  {
   "cell_type": "markdown",
   "metadata": {},
   "source": [
    "# Internal control experiments\n",
    "\n",
    "This notebooks runs some experiments with internal bandit NRM control. "
   ]
  },
  {
   "cell_type": "markdown",
   "metadata": {},
   "source": [
    "For the application of the NRM model to resource management to one\n",
    "computational job, the global resource optimization problem is the following:\n",
    "\n",
    "$$\n",
    "\\begin{array}{l}\n",
    "    \\min \\quad e_{\\text{total}} \\\\\n",
    "\t\\text{s.t.} \\quad  t > \\tau t_{\\text{ref}}\n",
    "\\end{array}\n",
    "$$\n",
    "\n",
    "Where $e_{\\text{total}}$ denotes the total energy spent by the system during\n",
    "the lifetime of the job, whose duration is denoted by $t^T$. We denote by\n",
    "$t_{\\text{ref}}$ a reference measurement of the runtime of the job on an\n",
    "unmanaged system. $\\tau <1$ is a parameter controlling the amount of runtime\n",
    "degradation allowed for the job.\n",
    "\n",
    "The value of this global objective can be easily measured a-posteriori for a\n",
    "computational job using power instrumentation techniques. Assuming both\n",
    "workload and platform behavior to be deterministic, this objective is measured\n",
    "using two runs of the system: A first run without resource management to\n",
    "acquire $t_{\\text{ref}}$, and one run with NRM enabled. In order for NRM's\n",
    "round-based control strategy to address this problem, we need an online loss\n",
    "value however. This loss is obtained using the following loose assumptions:\n",
    "\n",
    "- The passive power consumption of the node is fixed and known. [1]\n",
    "\n",
    "- The total power consumption in a given time period can be estimated as\n",
    "  the sum of the static node consumption over that period and the RAPL power\n",
    "  measurement over that period. [2]\n",
    "\n",
    "- The impact of a choice of power-cap on the job's runtime can be\n",
    "  interpolated linearly from its impact on CPU counters. [3]\n",
    "\n",
    "\n",
    "Denoting as in the previous section the round counter by $0<r<T$, the known\n",
    "passive static power consumption by $p_{\\text{static}}$, the starting time of\n",
    "the job by $t^0$ and the end time of round $r$ by $t^r$, we can write the total\n",
    "energy expenditure of the job based on RAPL power measurements $p^r$ using\n",
    "assumptions 1 and 2 as:\n",
    "\n",
    "$$\n",
    "\te_{\\text{total}} = \\sum_{r=1}^{r=T} (p^r + p_{\\text{static}}) (t^{r-1} - t^{r})\n",
    "$$\n",
    "\n",
    "Using assumption 3 means that we can reasonably estimate the\n",
    "change in job runtime incurred by the choice of power-cap in round $r$ by\n",
    "evaluating $\\frac{s^r_{\\text{ref}}}{s^r}$. We use this as part of our proxy\n",
    "cost in two ways. First, this quantity is used to evaluate breaching of the\n",
    "constraint on $t$, and second, it is used to adjust for an expected increase in\n",
    "the number of rounds due to the impact on job runtime. This gives rise to the\n",
    "following value for the loss at round $r$:\n",
    "\n",
    "$$\n",
    "\t\\ell^r = \\mathbb{\\huge 1}_{\\left( \\frac{s^r}{s^r_{\\text{ref}}}>\\tau \\right)}\n",
    "   \\left( \\frac{s^r_{\\text{ref}}}{s^r} \\left( p^r + p_{\\text{static}} \\right) \\right)\n",
    "$$\n"
   ]
  },
  {
   "cell_type": "code",
   "execution_count": 1,
   "metadata": {},
   "outputs": [
    {
     "name": "stdout",
     "output_type": "stream",
     "text": [
      "/home/cc/hnrm\n"
     ]
    }
   ],
   "source": [
    "cd .."
   ]
  },
  {
   "cell_type": "code",
   "execution_count": 2,
   "metadata": {},
   "outputs": [],
   "source": [
    "%%capture\n",
    "%%bash\n",
    "./shake.sh build # for the daemon \n",
    "./shake.sh client # for the upstream client\n",
    "./shake.sh pyclient # for the shared client library"
   ]
  },
  {
   "cell_type": "code",
   "execution_count": 15,
   "metadata": {},
   "outputs": [
    {
     "name": "stdout",
     "output_type": "stream",
     "text": [
      "The nb_black extension is already loaded. To reload it, use:\n",
      "  %reload_ext nb_black\n",
      "[{'cmd': 'stream_c', 'args': [], 'sliceID': 'toto', 'manifest': {'app': {'slice': {'cpus': 1, 'mems': 1}, 'perfwrapper': {'perfLimit': {'fromOps': 100000}, 'perfFreq': {'fromHz': 1}}}, 'name': 'perfwrap'}}]\n"
     ]
    },
    {
     "data": {
      "application/javascript": [
       "\n",
       "            setTimeout(function() {\n",
       "                var nbb_cell_id = 15;\n",
       "                var nbb_unformatted_code = \"%load_ext nb_black\\nimport json\\n\\ndaemonCfgs = {\\n    \\\"controlOn\\\": {\\n        \\\"controlCfg\\\": {\\n            \\\"staticPower\\\": {\\\"fromuW\\\": 200000000},\\n            \\\"referenceMeasurementRoundInterval\\\": 10,\\n            \\\"learnCfg\\\": {\\\"lagrangeConstraint\\\": 1},\\n            \\\"speedThreshold\\\": 0.9,\\n            \\\"minimumControlInterval\\\": {\\\"fromuS\\\": 1000000},\\n        },\\n        \\\"verbose\\\": \\\"Debug\\\",\\n    },\\n    \\\"pcapMax\\\": {\\\"controlCfg\\\": {\\\"fixedPower\\\": {\\\"fromuW\\\": 200000000}}},\\n    \\\"pcapMin\\\": {\\\"controlCfg\\\": {\\\"fixedPower\\\": {\\\"fromuW\\\": 100000000}}},\\n}\\n\\n\\ndef perfwrapped(cmd, args):\\n    return [\\n        {\\n            \\\"cmd\\\": cmd,\\n            \\\"args\\\": args,\\n            \\\"sliceID\\\": \\\"toto\\\",\\n            \\\"manifest\\\": {\\n                \\\"app\\\": {\\n                    \\\"slice\\\": {\\\"cpus\\\": 1, \\\"mems\\\": 1},\\n                    \\\"perfwrapper\\\": {\\n                        \\\"perfLimit\\\": {\\\"fromOps\\\": 100000},\\n                        \\\"perfFreq\\\": {\\\"fromHz\\\": 1},\\n                    },\\n                },\\n                \\\"name\\\": \\\"perfwrap\\\",\\n            },\\n        }\\n    ]\\n\\n\\nstream = perfwrapped(\\\"stream_c\\\", [])\\nlammps = perfwrapped(\\n    \\\"mpiexec\\\",\\n    [\\\"-n\\\", \\\"24\\\", \\\"amg\\\", \\\"-problem\\\", \\\"2\\\", \\\"-n\\\", \\\"90\\\", \\\"90\\\", \\\"90\\\", \\\"-P\\\", \\\"2\\\", \\\"12\\\", \\\"1\\\"],\\n)\\nprint(stream)\";\n",
       "                var nbb_formatted_code = \"%load_ext nb_black\\nimport json\\n\\ndaemonCfgs = {\\n    \\\"controlOn\\\": {\\n        \\\"controlCfg\\\": {\\n            \\\"staticPower\\\": {\\\"fromuW\\\": 200000000},\\n            \\\"referenceMeasurementRoundInterval\\\": 10,\\n            \\\"learnCfg\\\": {\\\"lagrangeConstraint\\\": 1},\\n            \\\"speedThreshold\\\": 0.9,\\n            \\\"minimumControlInterval\\\": {\\\"fromuS\\\": 1000000},\\n        },\\n        \\\"verbose\\\": \\\"Debug\\\",\\n    },\\n    \\\"pcapMax\\\": {\\\"controlCfg\\\": {\\\"fixedPower\\\": {\\\"fromuW\\\": 200000000}}},\\n    \\\"pcapMin\\\": {\\\"controlCfg\\\": {\\\"fixedPower\\\": {\\\"fromuW\\\": 100000000}}},\\n}\\n\\n\\ndef perfwrapped(cmd, args):\\n    return [\\n        {\\n            \\\"cmd\\\": cmd,\\n            \\\"args\\\": args,\\n            \\\"sliceID\\\": \\\"toto\\\",\\n            \\\"manifest\\\": {\\n                \\\"app\\\": {\\n                    \\\"slice\\\": {\\\"cpus\\\": 1, \\\"mems\\\": 1},\\n                    \\\"perfwrapper\\\": {\\n                        \\\"perfLimit\\\": {\\\"fromOps\\\": 100000},\\n                        \\\"perfFreq\\\": {\\\"fromHz\\\": 1},\\n                    },\\n                },\\n                \\\"name\\\": \\\"perfwrap\\\",\\n            },\\n        }\\n    ]\\n\\n\\nstream = perfwrapped(\\\"stream_c\\\", [])\\nlammps = perfwrapped(\\n    \\\"mpiexec\\\",\\n    [\\\"-n\\\", \\\"24\\\", \\\"amg\\\", \\\"-problem\\\", \\\"2\\\", \\\"-n\\\", \\\"90\\\", \\\"90\\\", \\\"90\\\", \\\"-P\\\", \\\"2\\\", \\\"12\\\", \\\"1\\\"],\\n)\\nprint(stream)\";\n",
       "                var nbb_cells = Jupyter.notebook.get_cells();\n",
       "                for (var i = 0; i < nbb_cells.length; ++i) {\n",
       "                    if (nbb_cells[i].input_prompt_number == nbb_cell_id) {\n",
       "                        if (nbb_cells[i].get_text() == nbb_unformatted_code) {\n",
       "                             nbb_cells[i].set_text(nbb_formatted_code);\n",
       "                        }\n",
       "                        break;\n",
       "                    }\n",
       "                }\n",
       "            }, 500);\n",
       "            "
      ],
      "text/plain": [
       "<IPython.core.display.Javascript object>"
      ]
     },
     "metadata": {},
     "output_type": "display_data"
    }
   ],
   "source": [
    "%load_ext nb_black\n",
    "import json\n",
    "\n",
    "daemonCfgs = {\n",
    "    \"controlOn\": {\n",
    "        \"controlCfg\": {\n",
    "            \"staticPower\": {\"fromuW\": 200000000},\n",
    "            \"referenceMeasurementRoundInterval\": 10,\n",
    "            \"learnCfg\": {\"lagrangeConstraint\": 1},\n",
    "            \"speedThreshold\": 0.9,\n",
    "            \"minimumControlInterval\": {\"fromuS\": 1000000},\n",
    "        },\n",
    "        \"verbose\": \"Debug\",\n",
    "    },\n",
    "    \"pcapMax\": {\"controlCfg\": {\"fixedPower\": {\"fromuW\": 200000000}}},\n",
    "    \"pcapMin\": {\"controlCfg\": {\"fixedPower\": {\"fromuW\": 100000000}}},\n",
    "}\n",
    "\n",
    "\n",
    "def perfwrapped(cmd, args):\n",
    "    return [\n",
    "        {\n",
    "            \"cmd\": cmd,\n",
    "            \"args\": args,\n",
    "            \"sliceID\": \"toto\",\n",
    "            \"manifest\": {\n",
    "                \"app\": {\n",
    "                    \"slice\": {\"cpus\": 1, \"mems\": 1},\n",
    "                    \"perfwrapper\": {\n",
    "                        \"perfLimit\": {\"fromOps\": 100000},\n",
    "                        \"perfFreq\": {\"fromHz\": 1},\n",
    "                    },\n",
    "                },\n",
    "                \"name\": \"perfwrap\",\n",
    "            },\n",
    "        }\n",
    "    ]\n",
    "\n",
    "\n",
    "stream = perfwrapped(\"stream_c\", [])\n",
    "lammps = perfwrapped(\n",
    "    \"mpiexec\",\n",
    "    [\"-n\", \"24\", \"amg\", \"-problem\", \"2\", \"-n\", \"90\", \"90\", \"90\", \"-P\", \"2\", \"12\", \"1\"],\n",
    ")\n",
    "print(stream)"
   ]
  },
  {
   "cell_type": "code",
   "execution_count": 4,
   "metadata": {},
   "outputs": [
    {
     "data": {
      "application/javascript": [
       "\n",
       "            setTimeout(function() {\n",
       "                var nbb_cell_id = 4;\n",
       "                var nbb_unformatted_code = \"import nrm.tooling as nrm\\n\\nhost = nrm.Local()\";\n",
       "                var nbb_formatted_code = \"import nrm.tooling as nrm\\n\\nhost = nrm.Local()\";\n",
       "                var nbb_cells = Jupyter.notebook.get_cells();\n",
       "                for (var i = 0; i < nbb_cells.length; ++i) {\n",
       "                    if (nbb_cells[i].input_prompt_number == nbb_cell_id) {\n",
       "                        if (nbb_cells[i].get_text() == nbb_unformatted_code) {\n",
       "                             nbb_cells[i].set_text(nbb_formatted_code);\n",
       "                        }\n",
       "                        break;\n",
       "                    }\n",
       "                }\n",
       "            }, 500);\n",
       "            "
      ],
      "text/plain": [
       "<IPython.core.display.Javascript object>"
      ]
     },
     "metadata": {},
     "output_type": "display_data"
    }
   ],
   "source": [
    "import nrm.tooling as nrm\n",
    "\n",
    "host = nrm.Local()"
   ]
  },
  {
   "cell_type": "code",
   "execution_count": 5,
   "metadata": {},
   "outputs": [
    {
     "name": "stdout",
     "output_type": "stream",
     "text": [
      "connecting\n",
      "connected to tcp://localhost:2345\n",
      "Problem \n",
      "    \u001b[1m\u001b[96m{\u001b[0m sensors = Map \n",
      "        \u001b[1m\u001b[93m[\u001b[0m \n",
      "            \u001b[35m(\u001b[0m SensorID \u001b[36m{\u001b[0m sensorID = \u001b[1m\u001b[97m\"\u001b[0m\u001b[1m\u001b[94mRaplKey (PackageID 0)\u001b[0m\u001b[1m\u001b[97m\"\u001b[0m \u001b[36m}\u001b[0m\n",
      "            \u001b[35m,\u001b[0m Sensor \n",
      "                \u001b[36m{\u001b[0m range = 0.0 ... 300.0\n",
      "                \u001b[36m,\u001b[0m maxFrequency = 3.0\n",
      "                \u001b[36m}\u001b[0m \n",
      "            \u001b[35m)\u001b[0m \n",
      "        \u001b[1m\u001b[93m]\u001b[0m\n",
      "    \u001b[1m\u001b[96m,\u001b[0m actuators = Map \n",
      "        \u001b[1m\u001b[93m[\u001b[0m \n",
      "            \u001b[35m(\u001b[0m ActuatorID \u001b[36m{\u001b[0m actuatorID = \u001b[1m\u001b[97m\"\u001b[0m\u001b[1m\u001b[94mRaplKey (PackageID 0)\u001b[0m\u001b[1m\u001b[97m\"\u001b[0m \u001b[36m}\u001b[0m\n",
      "            \u001b[35m,\u001b[0m Actuator \n",
      "                \u001b[36m{\u001b[0m actions = \n",
      "                    \u001b[33m[\u001b[0m DiscreteDouble 100.0\n",
      "                    \u001b[33m,\u001b[0m DiscreteDouble 200.0\n",
      "                    \u001b[33m]\u001b[0m \n",
      "                \u001b[36m}\u001b[0m\n",
      "            \u001b[35m)\u001b[0m \n",
      "        \u001b[1m\u001b[93m]\u001b[0m\n",
      "    \u001b[1m\u001b[96m,\u001b[0m objectives = \u001b[1m\u001b[93m[\u001b[0m\u001b[1m\u001b[93m]\u001b[0m\n",
      "    \u001b[1m\u001b[96m,\u001b[0m constraints = \u001b[1m\u001b[93m[\u001b[0m\u001b[1m\u001b[93m]\u001b[0m\n",
      "    \u001b[1m\u001b[96m}\u001b[0m \n"
     ]
    },
    {
     "data": {
      "application/javascript": [
       "\n",
       "            setTimeout(function() {\n",
       "                var nbb_cell_id = 5;\n",
       "                var nbb_unformatted_code = \"host.start_daemon(daemonCfgs[\\\"pcapMax\\\"])\\nassert host.check_daemon()\\nprint(host.get_cpd())\";\n",
       "                var nbb_formatted_code = \"host.start_daemon(daemonCfgs[\\\"pcapMax\\\"])\\nassert host.check_daemon()\\nprint(host.get_cpd())\";\n",
       "                var nbb_cells = Jupyter.notebook.get_cells();\n",
       "                for (var i = 0; i < nbb_cells.length; ++i) {\n",
       "                    if (nbb_cells[i].input_prompt_number == nbb_cell_id) {\n",
       "                        if (nbb_cells[i].get_text() == nbb_unformatted_code) {\n",
       "                             nbb_cells[i].set_text(nbb_formatted_code);\n",
       "                        }\n",
       "                        break;\n",
       "                    }\n",
       "                }\n",
       "            }, 500);\n",
       "            "
      ],
      "text/plain": [
       "<IPython.core.display.Javascript object>"
      ]
     },
     "metadata": {},
     "output_type": "display_data"
    }
   ],
   "source": [
    "host.start_daemon(daemonCfgs[\"pcapMax\"])\n",
    "assert host.check_daemon()\n",
    "print(host.get_cpd())"
   ]
  },
  {
   "cell_type": "markdown",
   "metadata": {},
   "source": [
    "The next cell just stops the daemon cleanly."
   ]
  },
  {
   "cell_type": "code",
   "execution_count": 6,
   "metadata": {},
   "outputs": [
    {
     "data": {
      "application/javascript": [
       "\n",
       "            setTimeout(function() {\n",
       "                var nbb_cell_id = 6;\n",
       "                var nbb_unformatted_code = \"host.stop_daemon()\\nassert host.check_daemon() == False\";\n",
       "                var nbb_formatted_code = \"host.stop_daemon()\\nassert host.check_daemon() == False\";\n",
       "                var nbb_cells = Jupyter.notebook.get_cells();\n",
       "                for (var i = 0; i < nbb_cells.length; ++i) {\n",
       "                    if (nbb_cells[i].input_prompt_number == nbb_cell_id) {\n",
       "                        if (nbb_cells[i].get_text() == nbb_unformatted_code) {\n",
       "                             nbb_cells[i].set_text(nbb_formatted_code);\n",
       "                        }\n",
       "                        break;\n",
       "                    }\n",
       "                }\n",
       "            }, 500);\n",
       "            "
      ],
      "text/plain": [
       "<IPython.core.display.Javascript object>"
      ]
     },
     "metadata": {},
     "output_type": "display_data"
    }
   ],
   "source": [
    "host.stop_daemon()\n",
    "assert host.check_daemon() == False"
   ]
  },
  {
   "cell_type": "markdown",
   "metadata": {},
   "source": [
    "### Helpers\n",
    "\n",
    "For performing experiments:"
   ]
  },
  {
   "cell_type": "code",
   "execution_count": 7,
   "metadata": {
    "scrolled": true
   },
   "outputs": [
    {
     "data": {
      "application/javascript": [
       "\n",
       "            setTimeout(function() {\n",
       "                var nbb_cell_id = 7;\n",
       "                var nbb_unformatted_code = \"import time\\nfrom collections import defaultdict\\n\\n\\ndef do_workload(host, daemonCfg, workload):\\n    host.start_daemon(daemonCfg)\\n    print(\\\"Starting the workload\\\")\\n    host.run_workload(workload)\\n    history = defaultdict(list)\\n    # print(host.get_state())\\n    getCPD = True\\n    try:\\n        while host.check_daemon() and not host.workload_finished():\\n            measurement_message = host.workload_recv()\\n            msg = json.loads(measurement_message)\\n            if \\\"pubMeasurements\\\" in msg:\\n                if getCPD:\\n                    getCPD = False\\n                    time.sleep(3)\\n                    cpd = host.get_cpd()\\n                    print(cpd)\\n                    cpd = dict(cpd)\\n                    print(\\\"Sensor identifier list:\\\")\\n                    for sensorID in [sensor[0] for sensor in cpd[\\\"sensors\\\"]]:\\n                        print(\\\"- %s\\\" % sensorID)\\n                    print(\\\"Actuator identifier list:\\\")\\n                    for sensorID in [sensor[0] for sensor in cpd[\\\"actuators\\\"]]:\\n                        print(\\\"- %s\\\" % sensorID)\\n                content = msg[\\\"pubMeasurements\\\"][1][0]\\n                t = content[\\\"time\\\"]\\n                sensorID = content[\\\"sensorID\\\"]\\n                x = content[\\\"sensorValue\\\"]\\n                print(\\n                    \\\".\\\",\\n                    end=\\\"\\\"\\n                    # \\\"Measurement: originating at time %s for sensor %s of value %s\\\"\\n                    #% (content[\\\"time\\\"], content[\\\"sensorID\\\"], content[\\\"sensorValue\\\"])\\n                )\\n                history[\\\"sensor-\\\" + sensorID].append((t, x))\\n            if \\\"pubCPD\\\" in msg:\\n                print(\\\"R\\\")\\n            if \\\"pubAction\\\" in msg:\\n                # print(host.get_state())\\n                # print(msg)\\n                t, contents, meta, controller = msg[\\\"pubAction\\\"]\\n                if \\\"bandit\\\" in controller.keys():\\n                    for key in meta.keys():\\n                        history[\\\"actionType\\\"].append((t, key))\\n                    if \\\"referenceMeasurementDecision\\\" in meta.keys():\\n                        print(\\\"a:reference\\\")\\n                    elif \\\"initialDecision\\\" in meta.keys():\\n                        print(\\\"a:initial decision\\\")\\n                    elif \\\"innerDecision\\\" in meta.keys():\\n                        print(\\\"a:inner\\\")\\n                        counter = 0\\n                        for value in meta[\\\"innerDecision\\\"][\\\"constraints\\\"]:\\n                            history[\\\"constraint-\\\" + str(counter)].append(\\n                                (t, value[\\\"fromConstraintValue\\\"])\\n                            )\\n                            counter = counter + 1\\n                        counter = 0\\n                        for value in meta[\\\"innerDecision\\\"][\\\"objectives\\\"]:\\n                            history[\\\"objective-\\\" + str(counter)].append(\\n                                (t, value[\\\"fromObjectiveValue\\\"])\\n                            )\\n                            counter = counter + 1\\n                        history[\\\"loss\\\"].append((t, meta[\\\"innerDecision\\\"][\\\"loss\\\"]))\\n                for content in contents:\\n                    actuatorID = content[\\\"actuatorID\\\"] + \\\"(action)\\\"\\n                    x = content[\\\"actuatorValue\\\"]\\n                    history[actuatorID].append((t, x))\\n                    for arm in controller[\\\"bandit\\\"][\\\"lagrange\\\"][\\\"lagrangeConstraint\\\"][\\n                        \\\"weights\\\"\\n                    ]:\\n                        value = arm[\\\"action\\\"][0][\\\"actuatorValue\\\"]\\n                        history[str(value / 1000000) + \\\"-probability\\\"].append(\\n                            (t, arm[\\\"probability\\\"][\\\"getProbability\\\"])\\n                        )\\n                        history[str(value / 1000000) + \\\"-cumulativeLoss\\\"].append(\\n                            (t, arm[\\\"cumulativeLoss\\\"][\\\"getCumulativeLoss\\\"])\\n                        )\\n                # print(\\n                # \\\"Action: originating at time %s for actuator %s of value %s\\\"\\n                #% (t,actuatorID,x)\\n                # )\\n            host.check_daemon()\\n    except:\\n        return history\\n    host.stop_daemon()\\n    return history\";\n",
       "                var nbb_formatted_code = \"import time\\nfrom collections import defaultdict\\n\\n\\ndef do_workload(host, daemonCfg, workload):\\n    host.start_daemon(daemonCfg)\\n    print(\\\"Starting the workload\\\")\\n    host.run_workload(workload)\\n    history = defaultdict(list)\\n    # print(host.get_state())\\n    getCPD = True\\n    try:\\n        while host.check_daemon() and not host.workload_finished():\\n            measurement_message = host.workload_recv()\\n            msg = json.loads(measurement_message)\\n            if \\\"pubMeasurements\\\" in msg:\\n                if getCPD:\\n                    getCPD = False\\n                    time.sleep(3)\\n                    cpd = host.get_cpd()\\n                    print(cpd)\\n                    cpd = dict(cpd)\\n                    print(\\\"Sensor identifier list:\\\")\\n                    for sensorID in [sensor[0] for sensor in cpd[\\\"sensors\\\"]]:\\n                        print(\\\"- %s\\\" % sensorID)\\n                    print(\\\"Actuator identifier list:\\\")\\n                    for sensorID in [sensor[0] for sensor in cpd[\\\"actuators\\\"]]:\\n                        print(\\\"- %s\\\" % sensorID)\\n                content = msg[\\\"pubMeasurements\\\"][1][0]\\n                t = content[\\\"time\\\"]\\n                sensorID = content[\\\"sensorID\\\"]\\n                x = content[\\\"sensorValue\\\"]\\n                print(\\n                    \\\".\\\",\\n                    end=\\\"\\\"\\n                    # \\\"Measurement: originating at time %s for sensor %s of value %s\\\"\\n                    #% (content[\\\"time\\\"], content[\\\"sensorID\\\"], content[\\\"sensorValue\\\"])\\n                )\\n                history[\\\"sensor-\\\" + sensorID].append((t, x))\\n            if \\\"pubCPD\\\" in msg:\\n                print(\\\"R\\\")\\n            if \\\"pubAction\\\" in msg:\\n                # print(host.get_state())\\n                # print(msg)\\n                t, contents, meta, controller = msg[\\\"pubAction\\\"]\\n                if \\\"bandit\\\" in controller.keys():\\n                    for key in meta.keys():\\n                        history[\\\"actionType\\\"].append((t, key))\\n                    if \\\"referenceMeasurementDecision\\\" in meta.keys():\\n                        print(\\\"a:reference\\\")\\n                    elif \\\"initialDecision\\\" in meta.keys():\\n                        print(\\\"a:initial decision\\\")\\n                    elif \\\"innerDecision\\\" in meta.keys():\\n                        print(\\\"a:inner\\\")\\n                        counter = 0\\n                        for value in meta[\\\"innerDecision\\\"][\\\"constraints\\\"]:\\n                            history[\\\"constraint-\\\" + str(counter)].append(\\n                                (t, value[\\\"fromConstraintValue\\\"])\\n                            )\\n                            counter = counter + 1\\n                        counter = 0\\n                        for value in meta[\\\"innerDecision\\\"][\\\"objectives\\\"]:\\n                            history[\\\"objective-\\\" + str(counter)].append(\\n                                (t, value[\\\"fromObjectiveValue\\\"])\\n                            )\\n                            counter = counter + 1\\n                        history[\\\"loss\\\"].append((t, meta[\\\"innerDecision\\\"][\\\"loss\\\"]))\\n                for content in contents:\\n                    actuatorID = content[\\\"actuatorID\\\"] + \\\"(action)\\\"\\n                    x = content[\\\"actuatorValue\\\"]\\n                    history[actuatorID].append((t, x))\\n                    for arm in controller[\\\"bandit\\\"][\\\"lagrange\\\"][\\\"lagrangeConstraint\\\"][\\n                        \\\"weights\\\"\\n                    ]:\\n                        value = arm[\\\"action\\\"][0][\\\"actuatorValue\\\"]\\n                        history[str(value / 1000000) + \\\"-probability\\\"].append(\\n                            (t, arm[\\\"probability\\\"][\\\"getProbability\\\"])\\n                        )\\n                        history[str(value / 1000000) + \\\"-cumulativeLoss\\\"].append(\\n                            (t, arm[\\\"cumulativeLoss\\\"][\\\"getCumulativeLoss\\\"])\\n                        )\\n                # print(\\n                # \\\"Action: originating at time %s for actuator %s of value %s\\\"\\n                #% (t,actuatorID,x)\\n                # )\\n            host.check_daemon()\\n    except:\\n        return history\\n    host.stop_daemon()\\n    return history\";\n",
       "                var nbb_cells = Jupyter.notebook.get_cells();\n",
       "                for (var i = 0; i < nbb_cells.length; ++i) {\n",
       "                    if (nbb_cells[i].input_prompt_number == nbb_cell_id) {\n",
       "                        if (nbb_cells[i].get_text() == nbb_unformatted_code) {\n",
       "                             nbb_cells[i].set_text(nbb_formatted_code);\n",
       "                        }\n",
       "                        break;\n",
       "                    }\n",
       "                }\n",
       "            }, 500);\n",
       "            "
      ],
      "text/plain": [
       "<IPython.core.display.Javascript object>"
      ]
     },
     "metadata": {},
     "output_type": "display_data"
    }
   ],
   "source": [
    "import time\n",
    "from collections import defaultdict\n",
    "\n",
    "\n",
    "def do_workload(host, daemonCfg, workload):\n",
    "    host.start_daemon(daemonCfg)\n",
    "    print(\"Starting the workload\")\n",
    "    host.run_workload(workload)\n",
    "    history = defaultdict(list)\n",
    "    # print(host.get_state())\n",
    "    getCPD = True\n",
    "    try:\n",
    "        while host.check_daemon() and not host.workload_finished():\n",
    "            measurement_message = host.workload_recv()\n",
    "            msg = json.loads(measurement_message)\n",
    "            if \"pubMeasurements\" in msg:\n",
    "                if getCPD:\n",
    "                    getCPD = False\n",
    "                    time.sleep(3)\n",
    "                    cpd = host.get_cpd()\n",
    "                    print(cpd)\n",
    "                    cpd = dict(cpd)\n",
    "                    print(\"Sensor identifier list:\")\n",
    "                    for sensorID in [sensor[0] for sensor in cpd[\"sensors\"]]:\n",
    "                        print(\"- %s\" % sensorID)\n",
    "                    print(\"Actuator identifier list:\")\n",
    "                    for sensorID in [sensor[0] for sensor in cpd[\"actuators\"]]:\n",
    "                        print(\"- %s\" % sensorID)\n",
    "                content = msg[\"pubMeasurements\"][1][0]\n",
    "                t = content[\"time\"]\n",
    "                sensorID = content[\"sensorID\"]\n",
    "                x = content[\"sensorValue\"]\n",
    "                print(\n",
    "                    \".\",\n",
    "                    end=\"\"\n",
    "                    # \"Measurement: originating at time %s for sensor %s of value %s\"\n",
    "                    #% (content[\"time\"], content[\"sensorID\"], content[\"sensorValue\"])\n",
    "                )\n",
    "                history[\"sensor-\" + sensorID].append((t, x))\n",
    "            if \"pubCPD\" in msg:\n",
    "                print(\"R\")\n",
    "            if \"pubAction\" in msg:\n",
    "                # print(host.get_state())\n",
    "                # print(msg)\n",
    "                t, contents, meta, controller = msg[\"pubAction\"]\n",
    "                if \"bandit\" in controller.keys():\n",
    "                    for key in meta.keys():\n",
    "                        history[\"actionType\"].append((t, key))\n",
    "                    if \"referenceMeasurementDecision\" in meta.keys():\n",
    "                        print(\"a:reference\")\n",
    "                    elif \"initialDecision\" in meta.keys():\n",
    "                        print(\"a:initial decision\")\n",
    "                    elif \"innerDecision\" in meta.keys():\n",
    "                        print(\"a:inner\")\n",
    "                        counter = 0\n",
    "                        for value in meta[\"innerDecision\"][\"constraints\"]:\n",
    "                            history[\"constraint-\" + str(counter)].append(\n",
    "                                (t, value[\"fromConstraintValue\"])\n",
    "                            )\n",
    "                            counter = counter + 1\n",
    "                        counter = 0\n",
    "                        for value in meta[\"innerDecision\"][\"objectives\"]:\n",
    "                            history[\"objective-\" + str(counter)].append(\n",
    "                                (t, value[\"fromObjectiveValue\"])\n",
    "                            )\n",
    "                            counter = counter + 1\n",
    "                        history[\"loss\"].append((t, meta[\"innerDecision\"][\"loss\"]))\n",
    "                for content in contents:\n",
    "                    actuatorID = content[\"actuatorID\"] + \"(action)\"\n",
    "                    x = content[\"actuatorValue\"]\n",
    "                    history[actuatorID].append((t, x))\n",
    "                    for arm in controller[\"bandit\"][\"lagrange\"][\"lagrangeConstraint\"][\n",
    "                        \"weights\"\n",
    "                    ]:\n",
    "                        value = arm[\"action\"][0][\"actuatorValue\"]\n",
    "                        history[str(value / 1000000) + \"-probability\"].append(\n",
    "                            (t, arm[\"probability\"][\"getProbability\"])\n",
    "                        )\n",
    "                        history[str(value / 1000000) + \"-cumulativeLoss\"].append(\n",
    "                            (t, arm[\"cumulativeLoss\"][\"getCumulativeLoss\"])\n",
    "                        )\n",
    "                # print(\n",
    "                # \"Action: originating at time %s for actuator %s of value %s\"\n",
    "                #% (t,actuatorID,x)\n",
    "                # )\n",
    "            host.check_daemon()\n",
    "    except:\n",
    "        return history\n",
    "    host.stop_daemon()\n",
    "    return history"
   ]
  },
  {
   "cell_type": "markdown",
   "metadata": {},
   "source": [
    "For plotting experiment details:"
   ]
  },
  {
   "cell_type": "code",
   "execution_count": 8,
   "metadata": {
    "scrolled": false
   },
   "outputs": [
    {
     "data": {
      "application/javascript": [
       "\n",
       "            setTimeout(function() {\n",
       "                var nbb_cell_id = 8;\n",
       "                var nbb_unformatted_code = \"import pandas as pd\\nimport matplotlib.pyplot as plt\\nimport seaborn as sns\\n\\n\\ndef plot_history(history, nplots):\\n    fig = plt.figure()\\n    fig, (axes) = plt.subplots(nplots, 1, sharex=True)\\n    fig.subplots_adjust(wspace=0.1)\\n    fig.set_size_inches(17, 25 * nplots / 10, forward=True)\\n\\n    minTime = min(\\n        [\\n            min([pd.Timestamp(m[0], unit=\\\"us\\\") for m in measurements])\\n            for cname, measurements in history.items()\\n        ]\\n    )\\n    maxTime = max(\\n        [\\n            max([pd.Timestamp(m[0], unit=\\\"us\\\") for m in measurements])\\n            for cname, measurements in history.items()\\n        ]\\n    )\\n\\n    plt.xlim(minTime, maxTime)\\n\\n    for ((columnName, measurements), ax) in zip(history.items(), axes):\\n        ax.set_title(columnName)\\n        dataframe = pd.DataFrame(\\n            data=[(pd.Timestamp(t, unit=\\\"us\\\"), m) for t, m in measurements]\\n        )\\n        dataframe.columns = [\\\"time\\\", \\\"value\\\"]\\n        if dataframe.dtypes[\\\"value\\\"] == \\\"object\\\":\\n            sns.catplot(ax=ax, x=\\\"time\\\", y=\\\"value\\\", kind=\\\"swarm\\\", data=dataframe)\\n        else:\\n            sns.lineplot(ax=ax, x=\\\"time\\\", y=\\\"value\\\", data=dataframe)\\n    return (minTime, maxTime)\";\n",
       "                var nbb_formatted_code = \"import pandas as pd\\nimport matplotlib.pyplot as plt\\nimport seaborn as sns\\n\\n\\ndef plot_history(history, nplots):\\n    fig = plt.figure()\\n    fig, (axes) = plt.subplots(nplots, 1, sharex=True)\\n    fig.subplots_adjust(wspace=0.1)\\n    fig.set_size_inches(17, 25 * nplots / 10, forward=True)\\n\\n    minTime = min(\\n        [\\n            min([pd.Timestamp(m[0], unit=\\\"us\\\") for m in measurements])\\n            for cname, measurements in history.items()\\n        ]\\n    )\\n    maxTime = max(\\n        [\\n            max([pd.Timestamp(m[0], unit=\\\"us\\\") for m in measurements])\\n            for cname, measurements in history.items()\\n        ]\\n    )\\n\\n    plt.xlim(minTime, maxTime)\\n\\n    for ((columnName, measurements), ax) in zip(history.items(), axes):\\n        ax.set_title(columnName)\\n        dataframe = pd.DataFrame(\\n            data=[(pd.Timestamp(t, unit=\\\"us\\\"), m) for t, m in measurements]\\n        )\\n        dataframe.columns = [\\\"time\\\", \\\"value\\\"]\\n        if dataframe.dtypes[\\\"value\\\"] == \\\"object\\\":\\n            sns.catplot(ax=ax, x=\\\"time\\\", y=\\\"value\\\", kind=\\\"swarm\\\", data=dataframe)\\n        else:\\n            sns.lineplot(ax=ax, x=\\\"time\\\", y=\\\"value\\\", data=dataframe)\\n    return (minTime, maxTime)\";\n",
       "                var nbb_cells = Jupyter.notebook.get_cells();\n",
       "                for (var i = 0; i < nbb_cells.length; ++i) {\n",
       "                    if (nbb_cells[i].input_prompt_number == nbb_cell_id) {\n",
       "                        if (nbb_cells[i].get_text() == nbb_unformatted_code) {\n",
       "                             nbb_cells[i].set_text(nbb_formatted_code);\n",
       "                        }\n",
       "                        break;\n",
       "                    }\n",
       "                }\n",
       "            }, 500);\n",
       "            "
      ],
      "text/plain": [
       "<IPython.core.display.Javascript object>"
      ]
     },
     "metadata": {},
     "output_type": "display_data"
    }
   ],
   "source": [
    "import pandas as pd\n",
    "import matplotlib.pyplot as plt\n",
    "import seaborn as sns\n",
    "\n",
    "\n",
    "def plot_history(history, nplots):\n",
    "    fig = plt.figure()\n",
    "    fig, (axes) = plt.subplots(nplots, 1, sharex=True)\n",
    "    fig.subplots_adjust(wspace=0.1)\n",
    "    fig.set_size_inches(17, 25 * nplots / 10, forward=True)\n",
    "\n",
    "    minTime = min(\n",
    "        [\n",
    "            min([pd.Timestamp(m[0], unit=\"us\") for m in measurements])\n",
    "            for cname, measurements in history.items()\n",
    "        ]\n",
    "    )\n",
    "    maxTime = max(\n",
    "        [\n",
    "            max([pd.Timestamp(m[0], unit=\"us\") for m in measurements])\n",
    "            for cname, measurements in history.items()\n",
    "        ]\n",
    "    )\n",
    "\n",
    "    plt.xlim(minTime, maxTime)\n",
    "\n",
    "    for ((columnName, measurements), ax) in zip(history.items(), axes):\n",
    "        ax.set_title(columnName)\n",
    "        dataframe = pd.DataFrame(\n",
    "            data=[(pd.Timestamp(t, unit=\"us\"), m) for t, m in measurements]\n",
    "        )\n",
    "        dataframe.columns = [\"time\", \"value\"]\n",
    "        if dataframe.dtypes[\"value\"] == \"object\":\n",
    "            sns.catplot(ax=ax, x=\"time\", y=\"value\", kind=\"swarm\", data=dataframe)\n",
    "        else:\n",
    "            sns.lineplot(ax=ax, x=\"time\", y=\"value\", data=dataframe)\n",
    "    return (minTime, maxTime)"
   ]
  },
  {
   "cell_type": "markdown",
   "metadata": {},
   "source": [
    "For calculating final experiment quantities:"
   ]
  },
  {
   "cell_type": "code",
   "execution_count": 17,
   "metadata": {},
   "outputs": [
    {
     "name": "stdout",
     "output_type": "stream",
     "text": [
      "connecting\n",
      "connected to tcp://localhost:2345\n",
      "Starting the workload\n",
      "Problem \n",
      "    \u001b[1m\u001b[96m{\u001b[0m sensors = Map \n",
      "        \u001b[1m\u001b[93m[\u001b[0m \n",
      "            \u001b[35m(\u001b[0m SensorID \u001b[36m{\u001b[0m sensorID = \u001b[1m\u001b[97m\"\u001b[0m\u001b[1m\u001b[94mDownstreamCmdKey (DownstreamCmdID 6c572d0c-091f-461c-92a6-cd4b8aabdb04)\u001b[0m\u001b[1m\u001b[97m\"\u001b[0m \u001b[36m}\u001b[0m\n",
      "            \u001b[35m,\u001b[0m Sensor \n",
      "                \u001b[36m{\u001b[0m range = 0.0 ... 7.4065771898e10\n",
      "                \u001b[36m,\u001b[0m maxFrequency = 1.0\n",
      "                \u001b[36m}\u001b[0m \n",
      "            \u001b[35m)\u001b[0m \n",
      "        \u001b[1m\u001b[93m,\u001b[0m \n",
      "            \u001b[35m(\u001b[0m SensorID \u001b[36m{\u001b[0m sensorID = \u001b[1m\u001b[97m\"\u001b[0m\u001b[1m\u001b[94mRaplKey (PackageID 0)\u001b[0m\u001b[1m\u001b[97m\"\u001b[0m \u001b[36m}\u001b[0m\n",
      "            \u001b[35m,\u001b[0m Sensor \n",
      "                \u001b[36m{\u001b[0m range = 0.0 ... 300.0\n",
      "                \u001b[36m,\u001b[0m maxFrequency = 3.0\n",
      "                \u001b[36m}\u001b[0m \n",
      "            \u001b[35m)\u001b[0m \n",
      "        \u001b[1m\u001b[93m]\u001b[0m \n",
      "    \u001b[1m\u001b[96m,\u001b[0m actuators = Map \n",
      "        \u001b[1m\u001b[93m[\u001b[0m \n",
      "            \u001b[35m(\u001b[0m ActuatorID \u001b[36m{\u001b[0m actuatorID = \u001b[1m\u001b[97m\"\u001b[0m\u001b[1m\u001b[94mRaplKey (PackageID 0)\u001b[0m\u001b[1m\u001b[97m\"\u001b[0m \u001b[36m}\u001b[0m\n",
      "            \u001b[35m,\u001b[0m Actuator \n",
      "                \u001b[36m{\u001b[0m actions = \n",
      "                    \u001b[33m[\u001b[0m DiscreteDouble 100.0\n",
      "                    \u001b[33m,\u001b[0m DiscreteDouble 200.0\n",
      "                    \u001b[33m]\u001b[0m \n",
      "                \u001b[36m}\u001b[0m\n",
      "            \u001b[35m)\u001b[0m \n",
      "        \u001b[1m\u001b[93m]\u001b[0m\n",
      "    \u001b[1m\u001b[96m,\u001b[0m objectives = \u001b[1m\u001b[93m[\u001b[0m\u001b[1m\u001b[93m]\u001b[0m\n",
      "    \u001b[1m\u001b[96m,\u001b[0m constraints = \u001b[1m\u001b[93m[\u001b[0m\u001b[1m\u001b[93m]\u001b[0m\n",
      "    \u001b[1m\u001b[96m}\u001b[0m \n",
      "Sensor identifier list:\n",
      "- DownstreamCmdKey (DownstreamCmdID 6c572d0c-091f-461c-92a6-cd4b8aabdb04)\n",
      "- RaplKey (PackageID 0)\n",
      "Actuator identifier list:\n",
      "- RaplKey (PackageID 0)\n",
      "......................................................................................................................................................................................................................................................................................................................................................................................................................................................................................................................................."
     ]
    },
    {
     "data": {
      "application/javascript": [
       "\n",
       "            setTimeout(function() {\n",
       "                var nbb_cell_id = 17;\n",
       "                var nbb_unformatted_code = \"history_pcapMax = do_workload(host, daemonCfgs[\\\"pcapMax\\\"], stream)\";\n",
       "                var nbb_formatted_code = \"history_pcapMax = do_workload(host, daemonCfgs[\\\"pcapMax\\\"], stream)\";\n",
       "                var nbb_cells = Jupyter.notebook.get_cells();\n",
       "                for (var i = 0; i < nbb_cells.length; ++i) {\n",
       "                    if (nbb_cells[i].input_prompt_number == nbb_cell_id) {\n",
       "                        if (nbb_cells[i].get_text() == nbb_unformatted_code) {\n",
       "                             nbb_cells[i].set_text(nbb_formatted_code);\n",
       "                        }\n",
       "                        break;\n",
       "                    }\n",
       "                }\n",
       "            }, 500);\n",
       "            "
      ],
      "text/plain": [
       "<IPython.core.display.Javascript object>"
      ]
     },
     "metadata": {},
     "output_type": "display_data"
    }
   ],
   "source": [
    "history_pcapMax = do_workload(host, daemonCfgs[\"pcapMax\"], stream)"
   ]
  },
  {
   "cell_type": "code",
   "execution_count": 16,
   "metadata": {},
   "outputs": [
    {
     "name": "stdout",
     "output_type": "stream",
     "text": [
      "connecting\n",
      "connected to tcp://localhost:2345\n",
      "Starting the workload\n",
      "Problem \n",
      "    \u001b[1m\u001b[96m{\u001b[0m sensors = Map \n",
      "        \u001b[1m\u001b[93m[\u001b[0m \n",
      "            \u001b[35m(\u001b[0m SensorID \u001b[36m{\u001b[0m sensorID = \u001b[1m\u001b[97m\"\u001b[0m\u001b[1m\u001b[94mDownstreamCmdKey (DownstreamCmdID 80f15e81-5a05-438d-b0d1-e230e5c35b03)\u001b[0m\u001b[1m\u001b[97m\"\u001b[0m \u001b[36m}\u001b[0m\n",
      "            \u001b[35m,\u001b[0m Sensor \n",
      "                \u001b[36m{\u001b[0m range = 0.0 ... 7.3470702614e10\n",
      "                \u001b[36m,\u001b[0m maxFrequency = 1.0\n",
      "                \u001b[36m}\u001b[0m \n",
      "            \u001b[35m)\u001b[0m \n",
      "        \u001b[1m\u001b[93m,\u001b[0m \n",
      "            \u001b[35m(\u001b[0m SensorID \u001b[36m{\u001b[0m sensorID = \u001b[1m\u001b[97m\"\u001b[0m\u001b[1m\u001b[94mRaplKey (PackageID 0)\u001b[0m\u001b[1m\u001b[97m\"\u001b[0m \u001b[36m}\u001b[0m\n",
      "            \u001b[35m,\u001b[0m Sensor \n",
      "                \u001b[36m{\u001b[0m range = 0.0 ... 300.0\n",
      "                \u001b[36m,\u001b[0m maxFrequency = 3.0\n",
      "                \u001b[36m}\u001b[0m \n",
      "            \u001b[35m)\u001b[0m \n",
      "        \u001b[1m\u001b[93m]\u001b[0m \n",
      "    \u001b[1m\u001b[96m,\u001b[0m actuators = Map \n",
      "        \u001b[1m\u001b[93m[\u001b[0m \n",
      "            \u001b[35m(\u001b[0m ActuatorID \u001b[36m{\u001b[0m actuatorID = \u001b[1m\u001b[97m\"\u001b[0m\u001b[1m\u001b[94mRaplKey (PackageID 0)\u001b[0m\u001b[1m\u001b[97m\"\u001b[0m \u001b[36m}\u001b[0m\n",
      "            \u001b[35m,\u001b[0m Actuator \n",
      "                \u001b[36m{\u001b[0m actions = \n",
      "                    \u001b[33m[\u001b[0m DiscreteDouble 100.0\n",
      "                    \u001b[33m,\u001b[0m DiscreteDouble 200.0\n",
      "                    \u001b[33m]\u001b[0m \n",
      "                \u001b[36m}\u001b[0m\n",
      "            \u001b[35m)\u001b[0m \n",
      "        \u001b[1m\u001b[93m]\u001b[0m\n",
      "    \u001b[1m\u001b[96m,\u001b[0m objectives = \u001b[1m\u001b[93m[\u001b[0m\u001b[1m\u001b[93m]\u001b[0m\n",
      "    \u001b[1m\u001b[96m,\u001b[0m constraints = \u001b[1m\u001b[93m[\u001b[0m\u001b[1m\u001b[93m]\u001b[0m\n",
      "    \u001b[1m\u001b[96m}\u001b[0m \n",
      "Sensor identifier list:\n",
      "- DownstreamCmdKey (DownstreamCmdID 80f15e81-5a05-438d-b0d1-e230e5c35b03)\n",
      "- RaplKey (PackageID 0)\n",
      "Actuator identifier list:\n",
      "- RaplKey (PackageID 0)\n",
      "..................................................................................................................................................................................................................................................................................................................................................................................................................................................................................................................................................................................................."
     ]
    },
    {
     "data": {
      "application/javascript": [
       "\n",
       "            setTimeout(function() {\n",
       "                var nbb_cell_id = 16;\n",
       "                var nbb_unformatted_code = \"history_pcapMin = do_workload(host, daemonCfgs[\\\"pcapMin\\\"], stream)\";\n",
       "                var nbb_formatted_code = \"history_pcapMin = do_workload(host, daemonCfgs[\\\"pcapMin\\\"], stream)\";\n",
       "                var nbb_cells = Jupyter.notebook.get_cells();\n",
       "                for (var i = 0; i < nbb_cells.length; ++i) {\n",
       "                    if (nbb_cells[i].input_prompt_number == nbb_cell_id) {\n",
       "                        if (nbb_cells[i].get_text() == nbb_unformatted_code) {\n",
       "                             nbb_cells[i].set_text(nbb_formatted_code);\n",
       "                        }\n",
       "                        break;\n",
       "                    }\n",
       "                }\n",
       "            }, 500);\n",
       "            "
      ],
      "text/plain": [
       "<IPython.core.display.Javascript object>"
      ]
     },
     "metadata": {},
     "output_type": "display_data"
    }
   ],
   "source": [
    "history_pcapMin = do_workload(host, daemonCfgs[\"pcapMin\"], stream)"
   ]
  },
  {
   "cell_type": "code",
   "execution_count": 46,
   "metadata": {
    "scrolled": false
   },
   "outputs": [
    {
     "ename": "AttributeError",
     "evalue": "'dict' object has no attribute 'remove'",
     "output_type": "error",
     "traceback": [
      "\u001b[0;31m---------------------------------------------------------------------------\u001b[0m",
      "\u001b[0;31mAttributeError\u001b[0m                            Traceback (most recent call last)",
      "\u001b[0;32m<ipython-input-46-a45004adea2b>\u001b[0m in \u001b[0;36m<module>\u001b[0;34m\u001b[0m\n\u001b[1;32m      8\u001b[0m \u001b[0;34m\u001b[0m\u001b[0m\n\u001b[1;32m      9\u001b[0m \u001b[0;34m\u001b[0m\u001b[0m\n\u001b[0;32m---> 10\u001b[0;31m \u001b[0mfixedSummary\u001b[0m\u001b[0;34m(\u001b[0m\u001b[0mhistory_pcapMin\u001b[0m\u001b[0;34m)\u001b[0m\u001b[0;34m\u001b[0m\u001b[0;34m\u001b[0m\u001b[0m\n\u001b[0m\u001b[1;32m     11\u001b[0m \u001b[0mfixedSummary\u001b[0m\u001b[0;34m(\u001b[0m\u001b[0mhistory_pcapMax\u001b[0m\u001b[0;34m)\u001b[0m\u001b[0;34m\u001b[0m\u001b[0;34m\u001b[0m\u001b[0m\n",
      "\u001b[0;32m<ipython-input-46-a45004adea2b>\u001b[0m in \u001b[0;36mfixedSummary\u001b[0;34m(history)\u001b[0m\n\u001b[1;32m      1\u001b[0m \u001b[0;32mdef\u001b[0m \u001b[0mfixedSummary\u001b[0m\u001b[0;34m(\u001b[0m\u001b[0mhistory\u001b[0m\u001b[0;34m)\u001b[0m\u001b[0;34m:\u001b[0m\u001b[0;34m\u001b[0m\u001b[0;34m\u001b[0m\u001b[0m\n\u001b[0;32m----> 2\u001b[0;31m     \u001b[0mh\u001b[0m \u001b[0;34m=\u001b[0m \u001b[0mdict\u001b[0m\u001b[0;34m(\u001b[0m\u001b[0mhistory\u001b[0m\u001b[0;34m.\u001b[0m\u001b[0mitems\u001b[0m\u001b[0;34m(\u001b[0m\u001b[0;34m)\u001b[0m\u001b[0;34m)\u001b[0m\u001b[0;34m.\u001b[0m\u001b[0mremove\u001b[0m\u001b[0;34m(\u001b[0m\u001b[0;34m(\u001b[0m\u001b[0;34m\"\"\u001b[0m\u001b[0;34m,\u001b[0m \u001b[0;34m[\u001b[0m\u001b[0;34m]\u001b[0m\u001b[0;34m)\u001b[0m\u001b[0;34m)\u001b[0m\u001b[0;34m\u001b[0m\u001b[0;34m\u001b[0m\u001b[0m\n\u001b[0m\u001b[1;32m      3\u001b[0m     \u001b[0mt_min\u001b[0m\u001b[0;34m,\u001b[0m \u001b[0mt_max\u001b[0m \u001b[0;34m=\u001b[0m \u001b[0mplot_history\u001b[0m\u001b[0;34m(\u001b[0m\u001b[0mh\u001b[0m\u001b[0;34m,\u001b[0m \u001b[0;36m2\u001b[0m\u001b[0;34m)\u001b[0m\u001b[0;34m\u001b[0m\u001b[0;34m\u001b[0m\u001b[0m\n\u001b[1;32m      4\u001b[0m     \u001b[0mruntime\u001b[0m \u001b[0;34m=\u001b[0m \u001b[0mt_max\u001b[0m \u001b[0;34m-\u001b[0m \u001b[0mt_min\u001b[0m\u001b[0;34m\u001b[0m\u001b[0;34m\u001b[0m\u001b[0m\n\u001b[1;32m      5\u001b[0m     \u001b[0mpowerMeasurements\u001b[0m \u001b[0;34m=\u001b[0m \u001b[0;34m[\u001b[0m\u001b[0mv\u001b[0m \u001b[0;32mfor\u001b[0m \u001b[0mk\u001b[0m\u001b[0;34m,\u001b[0m \u001b[0mv\u001b[0m \u001b[0;32min\u001b[0m \u001b[0mhistory\u001b[0m\u001b[0;34m[\u001b[0m\u001b[0;34m\"sensor-RaplKey (PackageID 0)\"\u001b[0m\u001b[0;34m]\u001b[0m\u001b[0;34m]\u001b[0m\u001b[0;34m\u001b[0m\u001b[0;34m\u001b[0m\u001b[0m\n",
      "\u001b[0;31mAttributeError\u001b[0m: 'dict' object has no attribute 'remove'"
     ]
    },
    {
     "data": {
      "application/javascript": [
       "\n",
       "            setTimeout(function() {\n",
       "                var nbb_cell_id = 46;\n",
       "                var nbb_unformatted_code = \"def fixedSummary(history):\\n    h = dict(history.items()).remove((\\\"\\\", []))\\n    t_min, t_max = plot_history(h, 2)\\n    runtime = t_max - t_min\\n    powerMeasurements = [v for k, v in history[\\\"sensor-RaplKey (PackageID 0)\\\"]]\\n    print(\\\"Runtime: %s\\\" % runtime)\\n    print(\\\"Energy: %s\\\" % sum(powerMeasurements) / len(powerMeasurements))\\n\\n\\nfixedSummary(history_pcapMin)\\nfixedSummary(history_pcapMax)\";\n",
       "                var nbb_formatted_code = \"def fixedSummary(history):\\n    h = dict(history.items()).remove((\\\"\\\", []))\\n    t_min, t_max = plot_history(h, 2)\\n    runtime = t_max - t_min\\n    powerMeasurements = [v for k, v in history[\\\"sensor-RaplKey (PackageID 0)\\\"]]\\n    print(\\\"Runtime: %s\\\" % runtime)\\n    print(\\\"Energy: %s\\\" % sum(powerMeasurements) / len(powerMeasurements))\\n\\n\\nfixedSummary(history_pcapMin)\\nfixedSummary(history_pcapMax)\";\n",
       "                var nbb_cells = Jupyter.notebook.get_cells();\n",
       "                for (var i = 0; i < nbb_cells.length; ++i) {\n",
       "                    if (nbb_cells[i].input_prompt_number == nbb_cell_id) {\n",
       "                        if (nbb_cells[i].get_text() == nbb_unformatted_code) {\n",
       "                             nbb_cells[i].set_text(nbb_formatted_code);\n",
       "                        }\n",
       "                        break;\n",
       "                    }\n",
       "                }\n",
       "            }, 500);\n",
       "            "
      ],
      "text/plain": [
       "<IPython.core.display.Javascript object>"
      ]
     },
     "metadata": {},
     "output_type": "display_data"
    }
   ],
   "source": [
    "def summary(history,n):\n",
    "    t_min, t_max = plot_history(h, 10)\n",
    "    runtime = t_max - t_min\n",
    "    powerMeasurements = [v for k, v in history[\"sensor-RaplKey (PackageID 0)\"]]\n",
    "    print(\"Runtime: %s\" % runtime)\n",
    "    print(\"Energy: %s\" % sum(powerMeasurements) / len(powerMeasurements))\n",
    "    \n",
    "def fixedSummary(h):\n",
    "    summary(h,2)\n",
    "\n",
    "fixedSummary(history_pcapMin)\n",
    "fixedSummary(history_pcapMax)"
   ]
  },
  {
   "cell_type": "code",
   "execution_count": null,
   "metadata": {
    "scrolled": false
   },
   "outputs": [],
   "source": [
    "history_controlOn = do_workload(host, daemonCfgs[\"controlOn\"], stream)"
   ]
  },
  {
   "cell_type": "code",
   "execution_count": null,
   "metadata": {},
   "outputs": [],
   "source": [
    "summary(history_controlOn, 11)"
   ]
  },
  {
   "cell_type": "code",
   "execution_count": null,
   "metadata": {},
   "outputs": [],
   "source": []
  }
 ],
 "metadata": {
  "kernelspec": {
   "display_name": "Python 3",
   "language": "python",
   "name": "python3"
  },
  "language_info": {
   "codemirror_mode": {
    "name": "ipython",
    "version": 3
   },
   "file_extension": ".py",
   "mimetype": "text/x-python",
   "name": "python",
   "nbconvert_exporter": "python",
   "pygments_lexer": "ipython3",
   "version": "3.7.4"
  }
 },
 "nbformat": 4,
 "nbformat_minor": 4
}
