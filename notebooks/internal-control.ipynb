{
 "cells": [
  {
   "cell_type": "markdown",
   "metadata": {},
   "source": [
    "# Internal control experiments\n",
    "\n",
    "This notebooks runs some experiments with internal bandit NRM control. "
   ]
  },
  {
   "cell_type": "markdown",
   "metadata": {},
   "source": [
    "For the application of the NRM model to resource management to one\n",
    "computational job, the global resource optimization problem is the following:\n",
    "\n",
    "$$\n",
    "\\begin{array}{l}\n",
    "    \\min \\quad e_{\\text{total}} \\\\\n",
    "\t\\text{s.t.} \\quad  t > \\tau t_{\\text{ref}}\n",
    "\\end{array}\n",
    "$$\n",
    "\n",
    "Where $e_{\\text{total}}$ denotes the total energy spent by the system during\n",
    "the lifetime of the job, whose duration is denoted by $t^T$. We denote by\n",
    "$t_{\\text{ref}}$ a reference measurement of the runtime of the job on an\n",
    "unmanaged system. $\\tau <1$ is a parameter controlling the amount of runtime\n",
    "degradation allowed for the job.\n",
    "\n",
    "The value of this global objective can be easily measured a-posteriori for a\n",
    "computational job using power instrumentation techniques. Assuming both\n",
    "workload and platform behavior to be deterministic, this objective is measured\n",
    "using two runs of the system: A first run without resource management to\n",
    "acquire $t_{\\text{ref}}$, and one run with NRM enabled. In order for NRM's\n",
    "round-based control strategy to address this problem, we need an online loss\n",
    "value however. This loss is obtained using the following loose assumptions:\n",
    "\n",
    "- The passive power consumption of the node is fixed and known. [1]\n",
    "\n",
    "- The total power consumption in a given time period can be estimated as\n",
    "  the sum of the static node consumption over that period and the RAPL power\n",
    "  measurement over that period. [2]\n",
    "\n",
    "- The impact of a choice of power-cap on the job's runtime can be\n",
    "  interpolated linearly from its impact on CPU counters. [3]\n",
    "\n",
    "\n",
    "Denoting as in the previous section the round counter by $0<r<T$, the known\n",
    "passive static power consumption by $p_{\\text{static}}$, the starting time of\n",
    "the job by $t^0$ and the end time of round $r$ by $t^r$, we can write the total\n",
    "energy expenditure of the job based on RAPL power measurements $p^r$ using\n",
    "assumptions 1 and 2 as:\n",
    "\n",
    "$$\n",
    "\te_{\\text{total}} = \\sum_{r=1}^{r=T} (p^r + p_{\\text{static}}) (t^{r-1} - t^{r})\n",
    "$$\n",
    "\n",
    "Using assumption 3 means that we can reasonably estimate the\n",
    "change in job runtime incurred by the choice of power-cap in round $r$ by\n",
    "evaluating $\\frac{s^r_{\\text{ref}}}{s^r}$. We use this as part of our proxy\n",
    "cost in two ways. First, this quantity is used to evaluate breaching of the\n",
    "constraint on $t$, and second, it is used to adjust for an expected increase in\n",
    "the number of rounds due to the impact on job runtime. This gives rise to the\n",
    "following value for the loss at round $r$:\n",
    "\n",
    "$$\n",
    "\t\\ell^r = \\mathbb{\\huge 1}_{\\left( \\frac{s^r}{s^r_{\\text{ref}}}>\\tau \\right)}\n",
    "   \\left( \\frac{s^r_{\\text{ref}}}{s^r} \\left( p^r + p_{\\text{static}} \\right) \\right)\n",
    "$$\n"
   ]
  },
  {
   "cell_type": "code",
   "execution_count": 1,
   "metadata": {},
   "outputs": [
    {
     "name": "stdout",
     "output_type": "stream",
     "text": [
      "/home/fre/workspace/hnrm\n"
     ]
    }
   ],
   "source": [
    "cd .."
   ]
  },
  {
   "cell_type": "code",
   "execution_count": 2,
   "metadata": {},
   "outputs": [],
   "source": [
    "%%capture\n",
    "%%bashtt\n",
    "./shake.sh build # for the daemon \n",
    "./shake.sh client # for the upstream client\n",
    "./shake.sh pyclient # for the shared client library"
   ]
  },
  {
   "cell_type": "code",
   "execution_count": 20,
   "metadata": {},
   "outputs": [
    {
     "name": "stdout",
     "output_type": "stream",
     "text": [
      "The nb_black extension is already loaded. To reload it, use:\n",
      "  %reload_ext nb_black\n"
     ]
    },
    {
     "data": {
      "application/javascript": [
       "\n",
       "            setTimeout(function() {\n",
       "                var nbb_cell_id = 20;\n",
       "                var nbb_unformatted_code = \"%load_ext nb_black\\nimport json\\n\\ndaemonCfgs = {\\n    \\\"controlOn\\\": {\\n        \\\"controlCfg\\\": {\\n            \\\"staticPower\\\": {\\\"fromuW\\\": 200000000},\\n            \\\"referenceMeasurementRoundInterval\\\": 10,\\n            \\\"learnCfg\\\": {\\\"lagrangeConstraint\\\": 1},\\n            \\\"speedThreshold\\\": 0.9,\\n            \\\"minimumControlInterval\\\": {\\\"fromuS\\\": 1000000},\\n        },\\n        \\\"verbose\\\": \\\"Debug\\\",\\n    },\\n    \\\"pcapMax\\\": {},\\n}\\n\\n\\ndef perfwrapped(cmd, args):\\n    return [\\n        {\\n            \\\"cmd\\\": cmd,\\n            \\\"args\\\": args,\\n            \\\"sliceID\\\": \\\"toto\\\",\\n            \\\"manifest\\\": {\\n                \\\"app\\\": {\\n                    \\\"slice\\\": {\\\"cpus\\\": 1, \\\"mems\\\": 1},\\n                    \\\"perfwrapper\\\": {\\n                        \\\"perfLimit\\\": {\\\"fromOps\\\": 100000},\\n                        \\\"perfFreq\\\": {\\\"fromHz\\\": 1},\\n                    },\\n                },\\n                \\\"name\\\": \\\"perfwrap\\\",\\n            },\\n        }\\n    ]\\n\\n\\nstream = perfwrapped(\\\"stream_c\\\", [])\\nlammps = perfwrapped(\\n    \\\"mpiexec\\\",\\n    [\\\"-n\\\", \\\"24\\\", \\\"amg\\\", \\\"-problem\\\", \\\"2\\\", \\\"-n\\\", \\\"90\\\", \\\"90\\\", \\\"90\\\", \\\"-P\\\", \\\"2\\\", \\\"12\\\", \\\"1\\\"],\\n)\";\n",
       "                var nbb_formatted_code = \"%load_ext nb_black\\nimport json\\n\\ndaemonCfgs = {\\n    \\\"controlOn\\\": {\\n        \\\"controlCfg\\\": {\\n            \\\"staticPower\\\": {\\\"fromuW\\\": 200000000},\\n            \\\"referenceMeasurementRoundInterval\\\": 10,\\n            \\\"learnCfg\\\": {\\\"lagrangeConstraint\\\": 1},\\n            \\\"speedThreshold\\\": 0.9,\\n            \\\"minimumControlInterval\\\": {\\\"fromuS\\\": 1000000},\\n        },\\n        \\\"verbose\\\": \\\"Debug\\\",\\n    },\\n    \\\"pcapMax\\\": {},\\n}\\n\\n\\ndef perfwrapped(cmd, args):\\n    return [\\n        {\\n            \\\"cmd\\\": cmd,\\n            \\\"args\\\": args,\\n            \\\"sliceID\\\": \\\"toto\\\",\\n            \\\"manifest\\\": {\\n                \\\"app\\\": {\\n                    \\\"slice\\\": {\\\"cpus\\\": 1, \\\"mems\\\": 1},\\n                    \\\"perfwrapper\\\": {\\n                        \\\"perfLimit\\\": {\\\"fromOps\\\": 100000},\\n                        \\\"perfFreq\\\": {\\\"fromHz\\\": 1},\\n                    },\\n                },\\n                \\\"name\\\": \\\"perfwrap\\\",\\n            },\\n        }\\n    ]\\n\\n\\nstream = perfwrapped(\\\"stream_c\\\", [])\\nlammps = perfwrapped(\\n    \\\"mpiexec\\\",\\n    [\\\"-n\\\", \\\"24\\\", \\\"amg\\\", \\\"-problem\\\", \\\"2\\\", \\\"-n\\\", \\\"90\\\", \\\"90\\\", \\\"90\\\", \\\"-P\\\", \\\"2\\\", \\\"12\\\", \\\"1\\\"],\\n)\";\n",
       "                var nbb_cells = Jupyter.notebook.get_cells();\n",
       "                for (var i = 0; i < nbb_cells.length; ++i) {\n",
       "                    if (nbb_cells[i].input_prompt_number == nbb_cell_id) {\n",
       "                        if (nbb_cells[i].get_text() == nbb_unformatted_code) {\n",
       "                             nbb_cells[i].set_text(nbb_formatted_code);\n",
       "                        }\n",
       "                        break;\n",
       "                    }\n",
       "                }\n",
       "            }, 500);\n",
       "            "
      ],
      "text/plain": [
       "<IPython.core.display.Javascript object>"
      ]
     },
     "metadata": {},
     "output_type": "display_data"
    }
   ],
   "source": [
    "%load_ext nb_black\n",
    "import json\n",
    "\n",
    "daemonCfgs = {\n",
    "    \"controlOn\": {\n",
    "        \"controlCfg\": {\n",
    "            \"staticPower\": {\"fromuW\": 200000000},\n",
    "            \"referenceMeasurementRoundInterval\": 10,\n",
    "            \"learnCfg\": {\"lagrangeConstraint\": 1},\n",
    "            \"speedThreshold\": 0.9,\n",
    "            \"minimumControlInterval\": {\"fromuS\": 1000000},\n",
    "        },\n",
    "        \"verbose\": \"Debug\",\n",
    "    },\n",
    "    \"pcapMax\": {},\n",
    "}\n",
    "\n",
    "\n",
    "def perfwrapped(cmd, args):\n",
    "    return [\n",
    "        {\n",
    "            \"cmd\": cmd,\n",
    "            \"args\": args,\n",
    "            \"sliceID\": \"toto\",\n",
    "            \"manifest\": {\n",
    "                \"app\": {\n",
    "                    \"slice\": {\"cpus\": 1, \"mems\": 1},\n",
    "                    \"perfwrapper\": {\n",
    "                        \"perfLimit\": {\"fromOps\": 100000},\n",
    "                        \"perfFreq\": {\"fromHz\": 1},\n",
    "                    },\n",
    "                },\n",
    "                \"name\": \"perfwrap\",\n",
    "            },\n",
    "        }\n",
    "    ]\n",
    "\n",
    "\n",
    "stream = perfwrapped(\"stream_c\", [])\n",
    "lammps = perfwrapped(\n",
    "    \"mpiexec\",\n",
    "    [\"-n\", \"24\", \"amg\", \"-problem\", \"2\", \"-n\", \"90\", \"90\", \"90\", \"-P\", \"2\", \"12\", \"1\"],\n",
    ")"
   ]
  },
  {
   "cell_type": "code",
   "execution_count": 21,
   "metadata": {},
   "outputs": [
    {
     "data": {
      "application/javascript": [
       "\n",
       "            setTimeout(function() {\n",
       "                var nbb_cell_id = 21;\n",
       "                var nbb_unformatted_code = \"import nrm.tooling as nrm\\n\\nhost = nrm.Local()\";\n",
       "                var nbb_formatted_code = \"import nrm.tooling as nrm\\n\\nhost = nrm.Local()\";\n",
       "                var nbb_cells = Jupyter.notebook.get_cells();\n",
       "                for (var i = 0; i < nbb_cells.length; ++i) {\n",
       "                    if (nbb_cells[i].input_prompt_number == nbb_cell_id) {\n",
       "                        if (nbb_cells[i].get_text() == nbb_unformatted_code) {\n",
       "                             nbb_cells[i].set_text(nbb_formatted_code);\n",
       "                        }\n",
       "                        break;\n",
       "                    }\n",
       "                }\n",
       "            }, 500);\n",
       "            "
      ],
      "text/plain": [
       "<IPython.core.display.Javascript object>"
      ]
     },
     "metadata": {},
     "output_type": "display_data"
    }
   ],
   "source": [
    "import nrm.tooling as nrm\n",
    "\n",
    "host = nrm.Local()"
   ]
  },
  {
   "cell_type": "code",
   "execution_count": 22,
   "metadata": {},
   "outputs": [
    {
     "name": "stdout",
     "output_type": "stream",
     "text": [
      "connecting\n",
      "connected to tcp://localhost:2345\n",
      "Pretty-printing the control problem description:\n",
      " Problem \n",
      "    \u001b[1m\u001b[96m{\u001b[0m sensors = Map \n",
      "        \u001b[1m\u001b[93m[\u001b[0m \n",
      "            \u001b[35m(\u001b[0m SensorID \u001b[36m{\u001b[0m sensorID = \u001b[1m\u001b[97m\"\u001b[0m\u001b[1m\u001b[94mRaplKey (PackageID 0)\u001b[0m\u001b[1m\u001b[97m\"\u001b[0m \u001b[36m}\u001b[0m\n",
      "            \u001b[35m,\u001b[0m Sensor \n",
      "                \u001b[36m{\u001b[0m range = 0.0 ... 300.0\n",
      "                \u001b[36m,\u001b[0m maxFrequency = 3.0\n",
      "                \u001b[36m}\u001b[0m \n",
      "            \u001b[35m)\u001b[0m \n",
      "        \u001b[1m\u001b[93m]\u001b[0m\n",
      "    \u001b[1m\u001b[96m,\u001b[0m actuators = Map \n",
      "        \u001b[1m\u001b[93m[\u001b[0m \n",
      "            \u001b[35m(\u001b[0m ActuatorID \u001b[36m{\u001b[0m actuatorID = \u001b[1m\u001b[97m\"\u001b[0m\u001b[1m\u001b[94mRaplKey (PackageID 0)\u001b[0m\u001b[1m\u001b[97m\"\u001b[0m \u001b[36m}\u001b[0m\n",
      "            \u001b[35m,\u001b[0m Actuator \n",
      "                \u001b[36m{\u001b[0m actions = \n",
      "                    \u001b[33m[\u001b[0m DiscreteDouble 100.0\n",
      "                    \u001b[33m,\u001b[0m DiscreteDouble 200.0\n",
      "                    \u001b[33m]\u001b[0m \n",
      "                \u001b[36m}\u001b[0m\n",
      "            \u001b[35m)\u001b[0m \n",
      "        \u001b[1m\u001b[93m]\u001b[0m\n",
      "    \u001b[1m\u001b[96m,\u001b[0m objectives = \u001b[1m\u001b[93m[\u001b[0m\u001b[1m\u001b[93m]\u001b[0m\n",
      "    \u001b[1m\u001b[96m,\u001b[0m constraints = \u001b[1m\u001b[93m[\u001b[0m\u001b[1m\u001b[93m]\u001b[0m\n",
      "    \u001b[1m\u001b[96m}\u001b[0m \n",
      "Python dictionary version: {'objectives': [], 'constraints': [], 'sensors': [['RaplKey (PackageID 0)', {'maxFrequency': 3, 'range': {'i': [0, 300]}}]], 'actuators': [['RaplKey (PackageID 0)', {'actions': [100, 200]}]]}\n"
     ]
    },
    {
     "data": {
      "application/javascript": [
       "\n",
       "            setTimeout(function() {\n",
       "                var nbb_cell_id = 22;\n",
       "                var nbb_unformatted_code = \"host.start_daemon(daemonCfgs[\\\"pcapMax\\\"])\\nassert host.check_daemon()\\n\\ncpd = host.get_cpd()\\nprint(\\\"Pretty-printing the control problem description:\\\\n %s\\\" % cpd)\\ncpdd = dict(cpd)\\nprint(\\\"Python dictionary version: %s\\\" % cpdd)\\n# s = host.get_state()\\n# print(s)\\n# print(dict(s))\";\n",
       "                var nbb_formatted_code = \"host.start_daemon(daemonCfgs[\\\"pcapMax\\\"])\\nassert host.check_daemon()\\n\\ncpd = host.get_cpd()\\nprint(\\\"Pretty-printing the control problem description:\\\\n %s\\\" % cpd)\\ncpdd = dict(cpd)\\nprint(\\\"Python dictionary version: %s\\\" % cpdd)\\n# s = host.get_state()\\n# print(s)\\n# print(dict(s))\";\n",
       "                var nbb_cells = Jupyter.notebook.get_cells();\n",
       "                for (var i = 0; i < nbb_cells.length; ++i) {\n",
       "                    if (nbb_cells[i].input_prompt_number == nbb_cell_id) {\n",
       "                        if (nbb_cells[i].get_text() == nbb_unformatted_code) {\n",
       "                             nbb_cells[i].set_text(nbb_formatted_code);\n",
       "                        }\n",
       "                        break;\n",
       "                    }\n",
       "                }\n",
       "            }, 500);\n",
       "            "
      ],
      "text/plain": [
       "<IPython.core.display.Javascript object>"
      ]
     },
     "metadata": {},
     "output_type": "display_data"
    }
   ],
   "source": [
    "host.start_daemon(daemonCfgs[\"pcapMax\"])\n",
    "assert host.check_daemon()\n",
    "print(host.get_cpd())"
   ]
  },
  {
   "cell_type": "markdown",
   "metadata": {},
   "source": [
    "The next cell just stops the daemon cleanly."
   ]
  },
  {
   "cell_type": "code",
   "execution_count": 23,
   "metadata": {},
   "outputs": [
    {
     "data": {
      "application/javascript": [
       "\n",
       "            setTimeout(function() {\n",
       "                var nbb_cell_id = 23;\n",
       "                var nbb_unformatted_code = \"host.stop_daemon()\\nassert host.check_daemon() == False\";\n",
       "                var nbb_formatted_code = \"host.stop_daemon()\\nassert host.check_daemon() == False\";\n",
       "                var nbb_cells = Jupyter.notebook.get_cells();\n",
       "                for (var i = 0; i < nbb_cells.length; ++i) {\n",
       "                    if (nbb_cells[i].input_prompt_number == nbb_cell_id) {\n",
       "                        if (nbb_cells[i].get_text() == nbb_unformatted_code) {\n",
       "                             nbb_cells[i].set_text(nbb_formatted_code);\n",
       "                        }\n",
       "                        break;\n",
       "                    }\n",
       "                }\n",
       "            }, 500);\n",
       "            "
      ],
      "text/plain": [
       "<IPython.core.display.Javascript object>"
      ]
     },
     "metadata": {},
     "output_type": "display_data"
    }
   ],
   "source": [
    "host.stop_daemon()\n",
    "assert host.check_daemon() == False"
   ]
  },
  {
   "cell_type": "markdown",
   "metadata": {},
   "source": [
    "### Helpers\n",
    "\n",
    "For performing experiments:"
   ]
  },
  {
   "cell_type": "code",
   "execution_count": 30,
   "metadata": {
    "scrolled": true
   },
   "outputs": [
    {
     "data": {
      "application/javascript": [
       "\n",
       "            setTimeout(function() {\n",
       "                var nbb_cell_id = 30;\n",
       "                var nbb_unformatted_code = \"import time\\nfrom collections import defaultdict\\n\\n\\ndef do_workload(host, daemonCfg, workload):\\n    host.start_daemon(daemonCfg)\\n    print(\\\"Starting the workload\\\")\\n    host.run_workload(workload)\\n    history = defaultdict(list)\\n    # print(host.get_state())\\n    getCPD = True\\n    try:\\n        while host.check_daemon() and not host.workload_finished():\\n            measurement_message = host.workload_recv()\\n            msg = json.loads(measurement_message)\\n            if \\\"pubMeasurements\\\" in msg:\\n                if getCPD:\\n                    getCPD = False\\n                    time.sleep(3)\\n                    cpd = host.get_cpd()\\n                    print(cpd)\\n                    cpd = dict(cpd)\\n                    print(\\\"Sensor identifier list:\\\")\\n                    for sensorID in [sensor[0] for sensor in cpd[\\\"sensors\\\"]]:\\n                        print(\\\"- %s\\\" % sensorID)\\n                    print(\\\"Actuator identifier list:\\\")\\n                    for sensorID in [sensor[0] for sensor in cpd[\\\"actuators\\\"]]:\\n                        print(\\\"- %s\\\" % sensorID)\\n                content = msg[\\\"pubMeasurements\\\"][1][0]\\n                t = content[\\\"time\\\"]\\n                sensorID = content[\\\"sensorID\\\"]\\n                x = content[\\\"sensorValue\\\"]\\n                print(\\n                    \\\".\\\",\\n                    end=\\\"\\\"\\n                    # \\\"Measurement: originating at time %s for sensor %s of value %s\\\"\\n                    #% (content[\\\"time\\\"], content[\\\"sensorID\\\"], content[\\\"sensorValue\\\"])\\n                )\\n                history[\\\"sensor-\\\" + sensorID].append((t, x))\\n            if \\\"pubCPD\\\" in msg:\\n                print(\\\"R\\\")\\n            if \\\"pubAction\\\" in msg:\\n                # print(host.get_state())\\n                # print(msg)\\n                t, contents, meta, controller = msg[\\\"pubAction\\\"]\\n                if \\\"bandit\\\" in controller.keys():\\n                    for key in meta.keys():\\n                        history[\\\"actionType\\\"].append((t, key))\\n                    if \\\"referenceMeasurementDecision\\\" in meta.keys():\\n                        print(\\\"a:reference\\\")\\n                    elif \\\"initialDecision\\\" in meta.keys():\\n                        print(\\\"a:initial decision\\\")\\n                    elif \\\"innerDecision\\\" in meta.keys():\\n                        print(\\\"a:inner\\\")\\n                        counter = 0\\n                        for value in meta[\\\"innerDecision\\\"][\\\"constraints\\\"]:\\n                            history[\\\"constraint-\\\" + str(counter)].append(\\n                                (t, value[\\\"fromConstraintValue\\\"])\\n                            )\\n                            counter = counter + 1\\n                        counter = 0\\n                        for value in meta[\\\"innerDecision\\\"][\\\"objectives\\\"]:\\n                            history[\\\"objective-\\\" + str(counter)].append(\\n                                (t, value[\\\"fromObjectiveValue\\\"])\\n                            )\\n                            counter = counter + 1\\n                        history[\\\"reward\\\"] = history[\\\"reward\\\"].append(\\n                            meta[\\\"innerDecision\\\"][\\\"reward\\\"]\\n                        )\\n                for content in contents:\\n                    actuatorID = content[\\\"actuatorID\\\"] + \\\"(action)\\\"\\n                    x = content[\\\"actuatorValue\\\"]\\n                    history[actuatorID].append((t, x))\\n                    for arm in controller[\\\"bandit\\\"][\\\"lagrange\\\"][\\\"lagrangeConstraint\\\"][\\n                        \\\"weights\\\"\\n                    ]:\\n                        value = arm[\\\"action\\\"][0][\\\"actuatorValue\\\"]\\n                        history[str(value / 1000000) + \\\"-probability\\\"].append(\\n                            (t, arm[\\\"probability\\\"][\\\"getProbability\\\"])\\n                        )\\n                        history[str(value / 1000000) + \\\"-cumulativeLoss\\\"].append(\\n                            (t, arm[\\\"cumulativeLoss\\\"][\\\"getCumulativeLoss\\\"])\\n                        )\\n                # print(\\n                # \\\"Action: originating at time %s for actuator %s of value %s\\\"\\n                #% (t,actuatorID,x)\\n                # )\\n            host.check_daemon()\\n    except:\\n        return history\\n    host.stop_daemon()\\n    return history\";\n",
       "                var nbb_formatted_code = \"import time\\nfrom collections import defaultdict\\n\\n\\ndef do_workload(host, daemonCfg, workload):\\n    host.start_daemon(daemonCfg)\\n    print(\\\"Starting the workload\\\")\\n    host.run_workload(workload)\\n    history = defaultdict(list)\\n    # print(host.get_state())\\n    getCPD = True\\n    try:\\n        while host.check_daemon() and not host.workload_finished():\\n            measurement_message = host.workload_recv()\\n            msg = json.loads(measurement_message)\\n            if \\\"pubMeasurements\\\" in msg:\\n                if getCPD:\\n                    getCPD = False\\n                    time.sleep(3)\\n                    cpd = host.get_cpd()\\n                    print(cpd)\\n                    cpd = dict(cpd)\\n                    print(\\\"Sensor identifier list:\\\")\\n                    for sensorID in [sensor[0] for sensor in cpd[\\\"sensors\\\"]]:\\n                        print(\\\"- %s\\\" % sensorID)\\n                    print(\\\"Actuator identifier list:\\\")\\n                    for sensorID in [sensor[0] for sensor in cpd[\\\"actuators\\\"]]:\\n                        print(\\\"- %s\\\" % sensorID)\\n                content = msg[\\\"pubMeasurements\\\"][1][0]\\n                t = content[\\\"time\\\"]\\n                sensorID = content[\\\"sensorID\\\"]\\n                x = content[\\\"sensorValue\\\"]\\n                print(\\n                    \\\".\\\",\\n                    end=\\\"\\\"\\n                    # \\\"Measurement: originating at time %s for sensor %s of value %s\\\"\\n                    #% (content[\\\"time\\\"], content[\\\"sensorID\\\"], content[\\\"sensorValue\\\"])\\n                )\\n                history[\\\"sensor-\\\" + sensorID].append((t, x))\\n            if \\\"pubCPD\\\" in msg:\\n                print(\\\"R\\\")\\n            if \\\"pubAction\\\" in msg:\\n                # print(host.get_state())\\n                # print(msg)\\n                t, contents, meta, controller = msg[\\\"pubAction\\\"]\\n                if \\\"bandit\\\" in controller.keys():\\n                    for key in meta.keys():\\n                        history[\\\"actionType\\\"].append((t, key))\\n                    if \\\"referenceMeasurementDecision\\\" in meta.keys():\\n                        print(\\\"a:reference\\\")\\n                    elif \\\"initialDecision\\\" in meta.keys():\\n                        print(\\\"a:initial decision\\\")\\n                    elif \\\"innerDecision\\\" in meta.keys():\\n                        print(\\\"a:inner\\\")\\n                        counter = 0\\n                        for value in meta[\\\"innerDecision\\\"][\\\"constraints\\\"]:\\n                            history[\\\"constraint-\\\" + str(counter)].append(\\n                                (t, value[\\\"fromConstraintValue\\\"])\\n                            )\\n                            counter = counter + 1\\n                        counter = 0\\n                        for value in meta[\\\"innerDecision\\\"][\\\"objectives\\\"]:\\n                            history[\\\"objective-\\\" + str(counter)].append(\\n                                (t, value[\\\"fromObjectiveValue\\\"])\\n                            )\\n                            counter = counter + 1\\n                        history[\\\"reward\\\"] = history[\\\"reward\\\"].append(\\n                            meta[\\\"innerDecision\\\"][\\\"reward\\\"]\\n                        )\\n                for content in contents:\\n                    actuatorID = content[\\\"actuatorID\\\"] + \\\"(action)\\\"\\n                    x = content[\\\"actuatorValue\\\"]\\n                    history[actuatorID].append((t, x))\\n                    for arm in controller[\\\"bandit\\\"][\\\"lagrange\\\"][\\\"lagrangeConstraint\\\"][\\n                        \\\"weights\\\"\\n                    ]:\\n                        value = arm[\\\"action\\\"][0][\\\"actuatorValue\\\"]\\n                        history[str(value / 1000000) + \\\"-probability\\\"].append(\\n                            (t, arm[\\\"probability\\\"][\\\"getProbability\\\"])\\n                        )\\n                        history[str(value / 1000000) + \\\"-cumulativeLoss\\\"].append(\\n                            (t, arm[\\\"cumulativeLoss\\\"][\\\"getCumulativeLoss\\\"])\\n                        )\\n                # print(\\n                # \\\"Action: originating at time %s for actuator %s of value %s\\\"\\n                #% (t,actuatorID,x)\\n                # )\\n            host.check_daemon()\\n    except:\\n        return history\\n    host.stop_daemon()\\n    return history\";\n",
       "                var nbb_cells = Jupyter.notebook.get_cells();\n",
       "                for (var i = 0; i < nbb_cells.length; ++i) {\n",
       "                    if (nbb_cells[i].input_prompt_number == nbb_cell_id) {\n",
       "                        if (nbb_cells[i].get_text() == nbb_unformatted_code) {\n",
       "                             nbb_cells[i].set_text(nbb_formatted_code);\n",
       "                        }\n",
       "                        break;\n",
       "                    }\n",
       "                }\n",
       "            }, 500);\n",
       "            "
      ],
      "text/plain": [
       "<IPython.core.display.Javascript object>"
      ]
     },
     "metadata": {},
     "output_type": "display_data"
    }
   ],
   "source": [
    "import time\n",
    "from collections import defaultdict\n",
    "\n",
    "\n",
    "def do_workload(host, daemonCfg, workload):\n",
    "    host.start_daemon(daemonCfg)\n",
    "    print(\"Starting the workload\")\n",
    "    host.run_workload(workload)\n",
    "    history = defaultdict(list)\n",
    "    # print(host.get_state())\n",
    "    getCPD = True\n",
    "    try:\n",
    "        while host.check_daemon() and not host.workload_finished():\n",
    "            measurement_message = host.workload_recv()\n",
    "            msg = json.loads(measurement_message)\n",
    "            if \"pubMeasurements\" in msg:\n",
    "                if getCPD:\n",
    "                    getCPD = False\n",
    "                    time.sleep(3)\n",
    "                    cpd = host.get_cpd()\n",
    "                    print(cpd)\n",
    "                    cpd = dict(cpd)\n",
    "                    print(\"Sensor identifier list:\")\n",
    "                    for sensorID in [sensor[0] for sensor in cpd[\"sensors\"]]:\n",
    "                        print(\"- %s\" % sensorID)\n",
    "                    print(\"Actuator identifier list:\")\n",
    "                    for sensorID in [sensor[0] for sensor in cpd[\"actuators\"]]:\n",
    "                        print(\"- %s\" % sensorID)\n",
    "                content = msg[\"pubMeasurements\"][1][0]\n",
    "                t = content[\"time\"]\n",
    "                sensorID = content[\"sensorID\"]\n",
    "                x = content[\"sensorValue\"]\n",
    "                print(\n",
    "                    \".\",\n",
    "                    end=\"\"\n",
    "                    # \"Measurement: originating at time %s for sensor %s of value %s\"\n",
    "                    #% (content[\"time\"], content[\"sensorID\"], content[\"sensorValue\"])\n",
    "                )\n",
    "                history[\"sensor-\" + sensorID].append((t, x))\n",
    "            if \"pubCPD\" in msg:\n",
    "                print(\"R\")\n",
    "            if \"pubAction\" in msg:\n",
    "                # print(host.get_state())\n",
    "                # print(msg)\n",
    "                t, contents, meta, controller = msg[\"pubAction\"]\n",
    "                if \"bandit\" in controller.keys():\n",
    "                    for key in meta.keys():\n",
    "                        history[\"actionType\"].append((t, key))\n",
    "                    if \"referenceMeasurementDecision\" in meta.keys():\n",
    "                        print(\"a:reference\")\n",
    "                    elif \"initialDecision\" in meta.keys():\n",
    "                        print(\"a:initial decision\")\n",
    "                    elif \"innerDecision\" in meta.keys():\n",
    "                        print(\"a:inner\")\n",
    "                        counter = 0\n",
    "                        for value in meta[\"innerDecision\"][\"constraints\"]:\n",
    "                            history[\"constraint-\" + str(counter)].append(\n",
    "                                (t, value[\"fromConstraintValue\"])\n",
    "                            )\n",
    "                            counter = counter + 1\n",
    "                        counter = 0\n",
    "                        for value in meta[\"innerDecision\"][\"objectives\"]:\n",
    "                            history[\"objective-\" + str(counter)].append(\n",
    "                                (t, value[\"fromObjectiveValue\"])\n",
    "                            )\n",
    "                            counter = counter + 1\n",
    "                        history[\"reward\"] = history[\"reward\"].append(\n",
    "                            meta[\"innerDecision\"][\"reward\"]\n",
    "                        )\n",
    "                for content in contents:\n",
    "                    actuatorID = content[\"actuatorID\"] + \"(action)\"\n",
    "                    x = content[\"actuatorValue\"]\n",
    "                    history[actuatorID].append((t, x))\n",
    "                    for arm in controller[\"bandit\"][\"lagrange\"][\"lagrangeConstraint\"][\n",
    "                        \"weights\"\n",
    "                    ]:\n",
    "                        value = arm[\"action\"][0][\"actuatorValue\"]\n",
    "                        history[str(value / 1000000) + \"-probability\"].append(\n",
    "                            (t, arm[\"probability\"][\"getProbability\"])\n",
    "                        )\n",
    "                        history[str(value / 1000000) + \"-cumulativeLoss\"].append(\n",
    "                            (t, arm[\"cumulativeLoss\"][\"getCumulativeLoss\"])\n",
    "                        )\n",
    "                # print(\n",
    "                # \"Action: originating at time %s for actuator %s of value %s\"\n",
    "                #% (t,actuatorID,x)\n",
    "                # )\n",
    "            host.check_daemon()\n",
    "    except:\n",
    "        return history\n",
    "    host.stop_daemon()\n",
    "    return history"
   ]
  },
  {
   "cell_type": "markdown",
   "metadata": {},
   "source": [
    "For plotting:"
   ]
  },
  {
   "cell_type": "code",
   "execution_count": 29,
   "metadata": {
    "scrolled": false
   },
   "outputs": [
    {
     "data": {
      "application/javascript": [
       "\n",
       "            setTimeout(function() {\n",
       "                var nbb_cell_id = 29;\n",
       "                var nbb_unformatted_code = \"import pandas as pd\\nimport matplotlib.pyplot as plt\\nimport seaborn as sns\\n\\n\\ndef plot_history(history, nplots):\\n    fig = plt.figure()\\n    fig, (axes) = plt.subplots(nplots, 1, sharex=True)\\n    fig.subplots_adjust(wspace=0.1)\\n    fig.set_size_inches(17, 25 * nplots / 10, forward=True)\\n\\n    minTime = min(\\n        [\\n            min([pd.Timestamp(m[0], unit=\\\"us\\\") for m in measurements])\\n            for cname, measurements in history.items()\\n        ]\\n    )\\n    maxTime = max(\\n        [\\n            max([pd.Timestamp(m[0], unit=\\\"us\\\") for m in measurements])\\n            for cname, measurements in history.items()\\n        ]\\n    )\\n\\n    plt.xlim(minTime, maxTime)\\n\\n    for ((columnName, measurements), ax) in zip(history.items(), axes):\\n        ax.set_title(columnName)\\n        dataframe = pd.DataFrame(\\n            data=[(pd.Timestamp(t, unit=\\\"us\\\"), m) for t, m in measurements]\\n        )\\n        dataframe.columns = [\\\"time\\\", \\\"value\\\"]\\n        if dataframe.dtypes[\\\"value\\\"] == \\\"object\\\":\\n            sns.catplot(ax=ax, x=\\\"time\\\", y=\\\"value\\\", kind=\\\"swarm\\\", data=dataframe)\\n        else:\\n            sns.scatterplot(ax=ax, x=\\\"time\\\", y=\\\"value\\\", data=dataframe)\\n    return (minTime,maxTime)\";\n",
       "                var nbb_formatted_code = \"import pandas as pd\\nimport matplotlib.pyplot as plt\\nimport seaborn as sns\\n\\n\\ndef plot_history(history, nplots):\\n    fig = plt.figure()\\n    fig, (axes) = plt.subplots(nplots, 1, sharex=True)\\n    fig.subplots_adjust(wspace=0.1)\\n    fig.set_size_inches(17, 25 * nplots / 10, forward=True)\\n\\n    minTime = min(\\n        [\\n            min([pd.Timestamp(m[0], unit=\\\"us\\\") for m in measurements])\\n            for cname, measurements in history.items()\\n        ]\\n    )\\n    maxTime = max(\\n        [\\n            max([pd.Timestamp(m[0], unit=\\\"us\\\") for m in measurements])\\n            for cname, measurements in history.items()\\n        ]\\n    )\\n\\n    plt.xlim(minTime, maxTime)\\n\\n    for ((columnName, measurements), ax) in zip(history.items(), axes):\\n        ax.set_title(columnName)\\n        dataframe = pd.DataFrame(\\n            data=[(pd.Timestamp(t, unit=\\\"us\\\"), m) for t, m in measurements]\\n        )\\n        dataframe.columns = [\\\"time\\\", \\\"value\\\"]\\n        if dataframe.dtypes[\\\"value\\\"] == \\\"object\\\":\\n            sns.catplot(ax=ax, x=\\\"time\\\", y=\\\"value\\\", kind=\\\"swarm\\\", data=dataframe)\\n        else:\\n            sns.scatterplot(ax=ax, x=\\\"time\\\", y=\\\"value\\\", data=dataframe)\\n    return (minTime, maxTime)\";\n",
       "                var nbb_cells = Jupyter.notebook.get_cells();\n",
       "                for (var i = 0; i < nbb_cells.length; ++i) {\n",
       "                    if (nbb_cells[i].input_prompt_number == nbb_cell_id) {\n",
       "                        if (nbb_cells[i].get_text() == nbb_unformatted_code) {\n",
       "                             nbb_cells[i].set_text(nbb_formatted_code);\n",
       "                        }\n",
       "                        break;\n",
       "                    }\n",
       "                }\n",
       "            }, 500);\n",
       "            "
      ],
      "text/plain": [
       "<IPython.core.display.Javascript object>"
      ]
     },
     "metadata": {},
     "output_type": "display_data"
    }
   ],
   "source": [
    "import pandas as pd\n",
    "import matplotlib.pyplot as plt\n",
    "import seaborn as sns\n",
    "\n",
    "\n",
    "def plot_history(history, nplots):\n",
    "    fig = plt.figure()\n",
    "    fig, (axes) = plt.subplots(nplots, 1, sharex=True)\n",
    "    fig.subplots_adjust(wspace=0.1)\n",
    "    fig.set_size_inches(17, 25 * nplots / 10, forward=True)\n",
    "\n",
    "    minTime = min(\n",
    "        [\n",
    "            min([pd.Timestamp(m[0], unit=\"us\") for m in measurements])\n",
    "            for cname, measurements in history.items()\n",
    "        ]\n",
    "    )\n",
    "    maxTime = max(\n",
    "        [\n",
    "            max([pd.Timestamp(m[0], unit=\"us\") for m in measurements])\n",
    "            for cname, measurements in history.items()\n",
    "        ]\n",
    "    )\n",
    "\n",
    "    plt.xlim(minTime, maxTime)\n",
    "\n",
    "    for ((columnName, measurements), ax) in zip(history.items(), axes):\n",
    "        ax.set_title(columnName)\n",
    "        dataframe = pd.DataFrame(\n",
    "            data=[(pd.Timestamp(t, unit=\"us\"), m) for t, m in measurements]\n",
    "        )\n",
    "        dataframe.columns = [\"time\", \"value\"]\n",
    "        if dataframe.dtypes[\"value\"] == \"object\":\n",
    "            sns.catplot(ax=ax, x=\"time\", y=\"value\", kind=\"swarm\", data=dataframe)\n",
    "        else:\n",
    "            sns.scatterplot(ax=ax, x=\"time\", y=\"value\", data=dataframe)\n",
    "    return (minTime, maxTime)"
   ]
  },
  {
   "cell_type": "code",
   "execution_count": 34,
   "metadata": {
    "scrolled": false
   },
   "outputs": [
    {
     "name": "stdout",
     "output_type": "stream",
     "text": [
      "connecting\n",
      "connected to tcp://localhost:2345\n",
      "Starting the workload\n"
     ]
    },
    {
     "data": {
      "application/javascript": [
       "\n",
       "            setTimeout(function() {\n",
       "                var nbb_cell_id = 34;\n",
       "                var nbb_unformatted_code = \"history_pcapMax = do_workload(host, daemonCfgs[\\\"pcapMax\\\"], stream)\";\n",
       "                var nbb_formatted_code = \"history_pcapMax = do_workload(host, daemonCfgs[\\\"pcapMax\\\"], stream)\";\n",
       "                var nbb_cells = Jupyter.notebook.get_cells();\n",
       "                for (var i = 0; i < nbb_cells.length; ++i) {\n",
       "                    if (nbb_cells[i].input_prompt_number == nbb_cell_id) {\n",
       "                        if (nbb_cells[i].get_text() == nbb_unformatted_code) {\n",
       "                             nbb_cells[i].set_text(nbb_formatted_code);\n",
       "                        }\n",
       "                        break;\n",
       "                    }\n",
       "                }\n",
       "            }, 500);\n",
       "            "
      ],
      "text/plain": [
       "<IPython.core.display.Javascript object>"
      ]
     },
     "metadata": {},
     "output_type": "display_data"
    }
   ],
   "source": [
    "history_pcapMax = do_workload(host, daemonCfgs[\"pcapMax\"], stream)"
   ]
  },
  {
   "cell_type": "code",
   "execution_count": 28,
   "metadata": {},
   "outputs": [
    {
     "name": "stdout",
     "output_type": "stream",
     "text": [
      "Runtime: 0 days 00:01:44.000545\n"
     ]
    },
    {
     "data": {
      "text/plain": [
       "<Figure size 432x288 with 0 Axes>"
      ]
     },
     "metadata": {},
     "output_type": "display_data"
    },
    {
     "data": {
      "image/png": "[encoded data removed]",
      "text/plain": [
       "<Figure size 1224x360 with 2 Axes>"
      ]
     },
     "metadata": {
      "needs_background": "light"
     },
     "output_type": "display_data"
    },
    {
     "data": {
      "application/javascript": [
       "\n",
       "            setTimeout(function() {\n",
       "                var nbb_cell_id = 28;\n",
       "                var nbb_unformatted_code = \"t_min_pMax, t_max_pMax  = plot_history(history_pcapMax, 2)\\nruntime = t_max_pMax - t_min_pMax\\nprint(\\\"Runtime: %s\\\" %runtime)\";\n",
       "                var nbb_formatted_code = \"t_min_pMax, t_max_pMax = plot_history(history_pcapMax, 2)\\nruntime = t_max_pMax - t_min_pMax\\nprint(\\\"Runtime: %s\\\" % runtime)\";\n",
       "                var nbb_cells = Jupyter.notebook.get_cells();\n",
       "                for (var i = 0; i < nbb_cells.length; ++i) {\n",
       "                    if (nbb_cells[i].input_prompt_number == nbb_cell_id) {\n",
       "                        if (nbb_cells[i].get_text() == nbb_unformatted_code) {\n",
       "                             nbb_cells[i].set_text(nbb_formatted_code);\n",
       "                        }\n",
       "                        break;\n",
       "                    }\n",
       "                }\n",
       "            }, 500);\n",
       "            "
      ],
      "text/plain": [
       "<IPython.core.display.Javascript object>"
      ]
     },
     "metadata": {},
     "output_type": "display_data"
    }
   ],
   "source": [
    "t_min_pMax, t_max_pMax = plot_history(history_pcapMax, 2)\n",
    "runtime = t_max_pMax - t_min_pMax\n",
    "print(\"Runtime: %s\" % runtime)"
   ]
  },
  {
   "cell_type": "code",
   "execution_count": 36,
   "metadata": {},
   "outputs": [
    {
     "name": "stdout",
     "output_type": "stream",
     "text": [
      "connecting\n",
      "connected to tcp://localhost:2345\n",
      "Starting the workload\n",
      "Problem \n",
      "    \u001b[1m\u001b[96m{\u001b[0m sensors = Map \n",
      "        \u001b[1m\u001b[93m[\u001b[0m \n",
      "            \u001b[35m(\u001b[0m SensorID \u001b[36m{\u001b[0m sensorID = \u001b[1m\u001b[97m\"\u001b[0m\u001b[1m\u001b[94mRaplKey (PackageID 0)\u001b[0m\u001b[1m\u001b[97m\"\u001b[0m \u001b[36m}\u001b[0m\n",
      "            \u001b[35m,\u001b[0m Sensor \n",
      "                \u001b[36m{\u001b[0m range = 0.0 ... 300.0\n",
      "                \u001b[36m,\u001b[0m maxFrequency = 3.0\n",
      "                \u001b[36m}\u001b[0m \n",
      "            \u001b[35m)\u001b[0m \n",
      "        \u001b[1m\u001b[93m]\u001b[0m\n",
      "    \u001b[1m\u001b[96m,\u001b[0m actuators = Map \n",
      "        \u001b[1m\u001b[93m[\u001b[0m \n",
      "            \u001b[35m(\u001b[0m ActuatorID \u001b[36m{\u001b[0m actuatorID = \u001b[1m\u001b[97m\"\u001b[0m\u001b[1m\u001b[94mRaplKey (PackageID 0)\u001b[0m\u001b[1m\u001b[97m\"\u001b[0m \u001b[36m}\u001b[0m\n",
      "            \u001b[35m,\u001b[0m Actuator \n",
      "                \u001b[36m{\u001b[0m actions = \n",
      "                    \u001b[33m[\u001b[0m DiscreteDouble 100.0\n",
      "                    \u001b[33m,\u001b[0m DiscreteDouble 200.0\n",
      "                    \u001b[33m]\u001b[0m \n",
      "                \u001b[36m}\u001b[0m\n",
      "            \u001b[35m)\u001b[0m \n",
      "        \u001b[1m\u001b[93m]\u001b[0m\n",
      "    \u001b[1m\u001b[96m,\u001b[0m objectives = \n",
      "        \u001b[1m\u001b[93m[\u001b[0m \n",
      "            \u001b[35m(\u001b[0m 1.0\n",
      "            \u001b[35m,\u001b[0m OAdd \n",
      "                \u001b[36m(\u001b[0m OValue \n",
      "                    \u001b[33m(\u001b[0m SensorID \u001b[1m\u001b[35m{\u001b[0m sensorID = \u001b[1m\u001b[97m\"\u001b[0m\u001b[1m\u001b[94mRaplKey (PackageID 0)\u001b[0m\u001b[1m\u001b[97m\"\u001b[0m \u001b[1m\u001b[35m}\u001b[0m \u001b[33m)\u001b[0m\n",
      "                \u001b[36m)\u001b[0m \u001b[36m(\u001b[0m OScalar 200.0 \u001b[36m)\u001b[0m\n",
      "            \u001b[35m)\u001b[0m \n",
      "        \u001b[1m\u001b[93m]\u001b[0m\n",
      "    \u001b[1m\u001b[96m,\u001b[0m constraints = \u001b[1m\u001b[93m[\u001b[0m\u001b[1m\u001b[93m]\u001b[0m\n",
      "    \u001b[1m\u001b[96m}\u001b[0m \n",
      "Sensor identifier list:\n",
      "- RaplKey (PackageID 0)\n",
      "Actuator identifier list:\n",
      "- RaplKey (PackageID 0)\n",
      ".................."
     ]
    },
    {
     "data": {
      "application/javascript": [
       "\n",
       "            setTimeout(function() {\n",
       "                var nbb_cell_id = 36;\n",
       "                var nbb_unformatted_code = \"history_controlOn = do_workload(host, daemonCfgs[\\\"controlOn\\\"], stream)\";\n",
       "                var nbb_formatted_code = \"history_controlOn = do_workload(host, daemonCfgs[\\\"controlOn\\\"], stream)\";\n",
       "                var nbb_cells = Jupyter.notebook.get_cells();\n",
       "                for (var i = 0; i < nbb_cells.length; ++i) {\n",
       "                    if (nbb_cells[i].input_prompt_number == nbb_cell_id) {\n",
       "                        if (nbb_cells[i].get_text() == nbb_unformatted_code) {\n",
       "                             nbb_cells[i].set_text(nbb_formatted_code);\n",
       "                        }\n",
       "                        break;\n",
       "                    }\n",
       "                }\n",
       "            }, 500);\n",
       "            "
      ],
      "text/plain": [
       "<IPython.core.display.Javascript object>"
      ]
     },
     "metadata": {},
     "output_type": "display_data"
    }
   ],
   "source": [
    "history_controlOn = do_workload(host, daemonCfgs[\"controlOn\"], stream)"
   ]
  },
  {
   "cell_type": "code",
   "execution_count": 19,
   "metadata": {},
   "outputs": [
    {
     "ename": "NameError",
     "evalue": "name 'history_controlOn' is not defined",
     "output_type": "error",
     "traceback": [
      "\u001b[0;31m---------------------------------------------------------------------------\u001b[0m",
      "\u001b[0;31mNameError\u001b[0m                                 Traceback (most recent call last)",
      "\u001b[0;32m<ipython-input-19-340e69d54a91>\u001b[0m in \u001b[0;36m<module>\u001b[0;34m\u001b[0m\n\u001b[0;32m----> 1\u001b[0;31m \u001b[0mplot_history\u001b[0m\u001b[0;34m(\u001b[0m\u001b[0mhistory_controlOn\u001b[0m\u001b[0;34m,\u001b[0m\u001b[0;36m10\u001b[0m\u001b[0;34m)\u001b[0m\u001b[0;34m\u001b[0m\u001b[0;34m\u001b[0m\u001b[0m\n\u001b[0m",
      "\u001b[0;31mNameError\u001b[0m: name 'history_controlOn' is not defined"
     ]
    },
    {
     "data": {
      "application/javascript": [
       "\n",
       "            setTimeout(function() {\n",
       "                var nbb_cell_id = 19;\n",
       "                var nbb_unformatted_code = \"plot_history(history_controlOn,10)\";\n",
       "                var nbb_formatted_code = \"plot_history(history_controlOn, 10)\";\n",
       "                var nbb_cells = Jupyter.notebook.get_cells();\n",
       "                for (var i = 0; i < nbb_cells.length; ++i) {\n",
       "                    if (nbb_cells[i].input_prompt_number == nbb_cell_id) {\n",
       "                        if (nbb_cells[i].get_text() == nbb_unformatted_code) {\n",
       "                             nbb_cells[i].set_text(nbb_formatted_code);\n",
       "                        }\n",
       "                        break;\n",
       "                    }\n",
       "                }\n",
       "            }, 500);\n",
       "            "
      ],
      "text/plain": [
       "<IPython.core.display.Javascript object>"
      ]
     },
     "metadata": {},
     "output_type": "display_data"
    }
   ],
   "source": [
    "plot_history(history_controlOn,11)"
   ]
  }
 ],
 "metadata": {
  "kernelspec": {
   "display_name": "Python 3",
   "language": "python",
   "name": "python3"
  },
  "language_info": {
   "codemirror_mode": {
    "name": "ipython",
    "version": 3
   },
   "file_extension": ".py",
   "mimetype": "text/x-python",
   "name": "python",
   "nbconvert_exporter": "python",
   "pygments_lexer": "ipython3",
   "version": "3.7.4"
  }
 },
 "nbformat": 4,
 "nbformat_minor": 4
}
