{
 "cells": [
  {
   "cell_type": "markdown",
   "metadata": {},
   "source": [
    "# Internal control experiments\n",
    "\n",
    "This notebooks runs some experiments with internal bandit NRM control. "
   ]
  },
  {
   "cell_type": "markdown",
   "metadata": {},
   "source": [
    "For the application of the NRM model to resource management to one\n",
    "computational job, the global resource optimization problem is the following:\n",
    "\n",
    "$$\n",
    "\\begin{array}{l}\n",
    "    \\min \\quad e_{\\text{total}} \\\\\n",
    "\t\\text{s.t.} \\quad  t > \\tau t_{\\text{ref}}\n",
    "\\end{array}\n",
    "$$\n",
    "\n",
    "Where $e_{\\text{total}}$ denotes the total energy spent by the system during\n",
    "the lifetime of the job, whose duration is denoted by $t^T$. We denote by\n",
    "$t_{\\text{ref}}$ a reference measurement of the runtime of the job on an\n",
    "unmanaged system. $\\tau <1$ is a parameter controlling the amount of runtime\n",
    "degradation allowed for the job.\n",
    "\n",
    "The value of this global objective can be easily measured a-posteriori for a\n",
    "computational job using power instrumentation techniques. Assuming both\n",
    "workload and platform behavior to be deterministic, this objective is measured\n",
    "using two runs of the system: A first run without resource management to\n",
    "acquire $t_{\\text{ref}}$, and one run with NRM enabled. In order for NRM's\n",
    "round-based control strategy to address this problem, we need an online loss\n",
    "value however. This loss is obtained using the following loose assumptions:\n",
    "\n",
    "- The passive power consumption of the node is fixed and known. [1]\n",
    "\n",
    "- The total power consumption in a given time period can be estimated as\n",
    "  the sum of the static node consumption over that period and the RAPL power\n",
    "  measurement over that period. [2]\n",
    "\n",
    "- The impact of a choice of power-cap on the job's runtime can be\n",
    "  interpolated linearly from its impact on CPU counters. [3]\n",
    "\n",
    "\n",
    "Denoting as in the previous section the round counter by $0<r<T$, the known\n",
    "passive static power consumption by $p_{\\text{static}}$, the starting time of\n",
    "the job by $t^0$ and the end time of round $r$ by $t^r$, we can write the total\n",
    "energy expenditure of the job based on RAPL power measurements $p^r$ using\n",
    "assumptions 1 and 2 as:\n",
    "\n",
    "$$\n",
    "\te_{\\text{total}} = \\sum_{r=1}^{r=T} (p^r + p_{\\text{static}}) (t^{r-1} - t^{r})\n",
    "$$\n",
    "\n",
    "Using assumption 3 means that we can reasonably estimate the\n",
    "change in job runtime incurred by the choice of power-cap in round $r$ by\n",
    "evaluating $\\frac{s^r_{\\text{ref}}}{s^r}$. We use this as part of our proxy\n",
    "cost in two ways. First, this quantity is used to evaluate breaching of the\n",
    "constraint on $t$, and second, it is used to adjust for an expected increase in\n",
    "the number of rounds due to the impact on job runtime. This gives rise to the\n",
    "following value for the loss at round $r$:\n",
    "\n",
    "$$\n",
    "\t\\ell^r = \\mathbb{\\huge 1}_{\\left( \\frac{s^r}{s^r_{\\text{ref}}}>\\tau \\right)}\n",
    "   \\left( \\frac{s^r_{\\text{ref}}}{s^r} \\left( p^r + p_{\\text{static}} \\right) \\right)\n",
    "$$\n"
   ]
  },
  {
   "cell_type": "code",
   "execution_count": 1,
   "metadata": {},
   "outputs": [
    {
     "name": "stdout",
     "output_type": "stream",
     "text": [
      "/home/fre/workspace/hnrm\n"
     ]
    }
   ],
   "source": [
    "cd .."
   ]
  },
  {
   "cell_type": "code",
   "execution_count": null,
   "metadata": {},
   "outputs": [],
   "source": [
    "%%capture\n",
    "%%bash\n",
    "./shake.sh build # for the daemon \n",
    "./shake.sh client # for the upstream client\n",
    "./shake.sh pyclient # for the shared client libraryt"
   ]
  },
  {
   "cell_type": "code",
   "execution_count": null,
   "metadata": {},
   "outputs": [],
   "source": [
    "%%bash\n",
    "dhall-to-json <<< '\n",
    "    let \n",
    "        Cfg = ./resources/types/Cfg.dhall\n",
    "    in \n",
    "        (./resources/defaults/Cfg.dhall // {controlCfg = Some {\n",
    "         minimumControlInterval = {fromuS = 1000000.0},\n",
    "         learnCfg = < Lagrange :{lagrangeConstraint: Double}|\n",
    "                      Knapsack :{knapsackConstraint: Double} >.Lagrange {\n",
    "                        lagrangeConstraint = 1.0 \n",
    "                      },\n",
    "          speedThreshold = 0.9,\n",
    "        referenceMeasurementRoundInterval = +10\n",
    "        }}):Cfg'"
   ]
  },
  {
   "cell_type": "code",
   "execution_count": null,
   "metadata": {},
   "outputs": [],
   "source": [
    "%load_ext nb_black\n",
    "import json\n",
    "\n",
    "daemonCfg = {\n",
    "    \"controlCfg\": {\n",
    "        \"referenceMeasurementRoundInterval\": 10,\n",
    "        \"learnCfg\": {\"lagrangeConstraint\": 1},\n",
    "        \"speedThreshold\": 0.9,\n",
    "        \"minimumControlInterval\": {\"fromuS\": 1000000},\n",
    "    },\n",
    "    \"verbose\": \"Info\",\n",
    "}\n",
    "\n",
    "\n",
    "print(daemonCfg)\n",
    "\n",
    "workloads = {\n",
    "    \"dummy\": [\n",
    "        {\n",
    "            \"cmd\": \"stream_c\",\n",
    "            \"args\": [],  # running the sleep command for 10 seconds.\n",
    "            \"sliceID\": \"toto\",\n",
    "            \"manifest\": {\n",
    "                \"app\": {\n",
    "                    \"slice\": {\"cpus\": 1, \"mems\": 1},\n",
    "                    \"perfwrapper\": {\n",
    "                        \"perfLimit\": {\"fromOps\": 100000},\n",
    "                        \"perfFreq\": {\"fromHz\": 1},\n",
    "                    },\n",
    "                },\n",
    "                \"name\": \"perfwrap\",\n",
    "            },\n",
    "        }\n",
    "    ],\n",
    "    # \"other\":your code\n",
    "}"
   ]
  },
  {
   "cell_type": "code",
   "execution_count": null,
   "metadata": {},
   "outputs": [],
   "source": [
    "import nrm.tooling as nrm\n",
    "\n",
    "host = nrm.Local()"
   ]
  },
  {
   "cell_type": "code",
   "execution_count": null,
   "metadata": {},
   "outputs": [],
   "source": [
    "host.start_daemon(daemonCfg)\n",
    "assert host.check_daemon()\n",
    "\n",
    "cpd = host.get_cpd()\n",
    "print(\"Pretty-printing the control problem description:\\n %s\" % cpd)\n",
    "cpdd = dict(cpd)\n",
    "print(\"Python dictionary version: %s\" % cpdd)"
   ]
  },
  {
   "cell_type": "code",
   "execution_count": null,
   "metadata": {},
   "outputs": [],
   "source": [
    "s = host.get_state()\n",
    "print(s)\n",
    "print(dict(s))"
   ]
  },
  {
   "cell_type": "markdown",
   "metadata": {},
   "source": [
    "The next cell just stops the daemon cleanly."
   ]
  },
  {
   "cell_type": "code",
   "execution_count": null,
   "metadata": {},
   "outputs": [],
   "source": [
    "host.stop_daemon()\n",
    "assert host.check_daemon() == False"
   ]
  },
  {
   "cell_type": "markdown",
   "metadata": {},
   "source": [
    "### Dummy experiment: printing measurements\n",
    "\n",
    "We now are ready to run an external resource management strategy. The next cell uses the low-level \"upstream\" message passing interface to run a dummy strategy that takes a constant action. Message schemas for this API can be browsed in the [./resources/](./resources/) folder."
   ]
  },
  {
   "cell_type": "code",
   "execution_count": null,
   "metadata": {
    "scrolled": true
   },
   "outputs": [],
   "source": [
    "import time\n",
    "\n",
    "for name, workload in workloads.items():\n",
    "    host.start_daemon(daemonCfg)\n",
    "    print(\"Starting the workload\")\n",
    "    host.run_workload(workload)\n",
    "    history = {}\n",
    "    print(host.get_state())\n",
    "    getCPD = True\n",
    "    while host.check_daemon() and not host.workload_finished():\n",
    "        measurement_message = host.workload_recv()\n",
    "        msg = json.loads(measurement_message)\n",
    "        #print(msg)\n",
    "        if \"pubMeasurements\" in msg:\n",
    "            if getCPD:\n",
    "                getCPD = False\n",
    "                time.sleep(1)\n",
    "                cpd = dict(host.get_cpd())\n",
    "                print(\"Sensor identifier list:\")\n",
    "                for sensorID in [sensor[0] for sensor in cpd[\"sensors\"]]:\n",
    "                    print(\"- %s\" % sensorID)\n",
    "                print(\"Actuator identifier list:\")\n",
    "                for sensorID in [sensor[0] for sensor in cpd[\"actuators\"]]:\n",
    "                    print(\"- %s\" % sensorID)\n",
    "            content = msg[\"pubMeasurements\"][1][0]\n",
    "            t = content[\"time\"]\n",
    "            sensorID = content[\"sensorID\"]\n",
    "            x = content[\"sensorValue\"]\n",
    "            print(\n",
    "                \"Received measurement originating at time %s for sensor %s of value %s\"\n",
    "                % (content[\"time\"], content[\"sensorID\"], content[\"sensorValue\"])\n",
    "            )\n",
    "            if sensorID in history:\n",
    "                history[sensorID].append((t, x))\n",
    "            else:\n",
    "                history[sensorID] = [(t, x)]\n",
    "    host.check_daemon()\n",
    "host.stop_daemon()"
   ]
  },
  {
   "cell_type": "markdown",
   "metadata": {},
   "source": [
    "Let's plot those sensor measurements. Not very interesting since our sleep job did not produce any operations, but here goes:"
   ]
  },
  {
   "cell_type": "code",
   "execution_count": null,
   "metadata": {},
   "outputs": [],
   "source": [
    "import pandas as pd\n",
    "\n",
    "print(history)\n",
    "\n",
    "for sensorID, measurements in history.items():\n",
    "    dataframe = pd.DataFrame(t\n",
    "        data=[(pd.Timestamp(t, unit=\"us\"), m) for t, m in measurements]\n",
    "    )\n",
    "    dataframe.columns = [\"time\", \"value\"]\n",
    "    dataframe = dataframe.set_index(\"time\")\n",
    "    ax = dataframe.plot(\n",
    "        marker=\"o\", linestyle=\"-\", title='values for sensor \"%s[..]\"' % sensorID[:20]\n",
    "    )"
   ]
  },
  {
   "cell_type": "code",
   "execution_count": null,
   "metadata": {},
   "outputs": [],
   "source": [
    "ax"
   ]
  },
  {
   "cell_type": "code",
   "execution_count": null,
   "metadata": {},
   "outputs": [],
   "source": []
  }
 ],
 "metadata": {
  "kernelspec": {
   "display_name": "Python 3",
   "language": "python",
   "name": "python3"
  },
  "language_info": {
   "codemirror_mode": {
    "name": "ipython",
    "version": 3
   },
   "file_extension": ".py",
   "mimetype": "text/x-python",
   "name": "python",
   "nbconvert_exporter": "python",
   "pygments_lexer": "ipython3",
   "version": "3.7.4"
  }
 },
 "nbformat": 4,
 "nbformat_minor": 4
}
