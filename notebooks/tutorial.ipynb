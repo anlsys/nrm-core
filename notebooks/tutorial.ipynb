{
 "cells": [
  {
   "cell_type": "markdown",
   "metadata": {},
   "source": [
    "# NRM python upstream client library tutorial\n",
    "\n",
    "This tutorial covers the use of NRM's python upstream client library, in the context of running an external resource management strategy. Its cell's output are deterministic, and the executed version that is vendored in the source tree is checked by the project's CI, so its behavior should always be up-to-date with the latest version of the software, and no cells should be throwing exceptions.  \n",
    "\n",
    "The next few cells are for setup purposes."
   ]
  },
  {
   "cell_type": "code",
   "execution_count": 1,
   "metadata": {},
   "outputs": [],
   "source": [
    "%%capture\n",
    "cd .."
   ]
  },
  {
   "cell_type": "code",
   "execution_count": 2,
   "metadata": {},
   "outputs": [
    {
     "data": {
      "application/javascript": [
       "\n",
       "            setTimeout(function() {\n",
       "                var nbb_cell_id = 2;\n",
       "                var nbb_unformatted_code = \"%load_ext nb_black\";\n",
       "                var nbb_formatted_code = \"%load_ext nb_black\";\n",
       "                var nbb_cells = Jupyter.notebook.get_cells();\n",
       "                for (var i = 0; i < nbb_cells.length; ++i) {\n",
       "                    if (nbb_cells[i].input_prompt_number == nbb_cell_id) {\n",
       "                        if (nbb_cells[i].get_text() == nbb_unformatted_code) {\n",
       "                             nbb_cells[i].set_text(nbb_formatted_code);\n",
       "                        }\n",
       "                        break;\n",
       "                    }\n",
       "                }\n",
       "            }, 500);\n",
       "            "
      ],
      "text/plain": [
       "<IPython.core.display.Javascript object>"
      ]
     },
     "metadata": {},
     "output_type": "display_data"
    }
   ],
   "source": [
    "%load_ext nb_black"
   ]
  },
  {
   "cell_type": "markdown",
   "metadata": {},
   "source": [
    "## Setup\n",
    "\n",
    "This notebook uses `nrm`'s python library bindings and needs the `nrmd` daemon in the `$PATH`. \n",
    "\n",
    "Assuming the project is cloned **with submodules updated** (and the code unmodified), one needs to run the following from the root of the project before running it:"
   ]
  },
  {
   "cell_type": "code",
   "execution_count": 3,
   "metadata": {},
   "outputs": [
    {
     "data": {
      "application/javascript": [
       "\n",
       "            setTimeout(function() {\n",
       "                var nbb_cell_id = 3;\n",
       "                var nbb_unformatted_code = \"%%capture\\n%%bash\\n./shake.sh build # for the daemon \\n./shake.sh client # for the upstream client\\n./shake.sh pyclient # for the shared client library\";\n",
       "                var nbb_formatted_code = \"%%capture\\n%%bash\\n./shake.sh build # for the daemon \\n./shake.sh client # for the upstream client\\n./shake.sh pyclient # for the shared client library\";\n",
       "                var nbb_cells = Jupyter.notebook.get_cells();\n",
       "                for (var i = 0; i < nbb_cells.length; ++i) {\n",
       "                    if (nbb_cells[i].input_prompt_number == nbb_cell_id) {\n",
       "                        if (nbb_cells[i].get_text() == nbb_unformatted_code) {\n",
       "                             nbb_cells[i].set_text(nbb_formatted_code);\n",
       "                        }\n",
       "                        break;\n",
       "                    }\n",
       "                }\n",
       "            }, 500);\n",
       "            "
      ],
      "text/plain": [
       "<IPython.core.display.Javascript object>"
      ]
     },
     "metadata": {},
     "output_type": "display_data"
    }
   ],
   "source": [
    "%%capture\n",
    "%%bash\n",
    "./shake.sh build # for the daemon \n",
    "./shake.sh client # for the upstream client\n",
    "./shake.sh pyclient # for the shared client library"
   ]
  },
  {
   "cell_type": "markdown",
   "metadata": {},
   "source": [
    "This allows to use the command-line daemon and client in the working directory, should you need to for debugging purposes. Those should be available in the jupyter-lab terminal."
   ]
  },
  {
   "cell_type": "code",
   "execution_count": 4,
   "metadata": {},
   "outputs": [
    {
     "name": "stdout",
     "output_type": "stream",
     "text": [
      "nrmd\n",
      "\n",
      "Usage: <unknown> [-i|--stdin] [CONFIG] [-y|--yaml]\n",
      "  NRM Daemon\n",
      "\n",
      "Available options:\n",
      "  -h,--help                Show this help text\n",
      "  -i,--stdin               Read configuration on stdin.\n",
      "  CONFIG                   Input configuration with .yml/.yaml/.dh/.dhall\n",
      "                           extension. Leave void for stdin (dhall) input.\n",
      "  -y,--yaml                Assume configuration to be yaml(json is valid yaml)\n",
      "                           instead of dhall.\n",
      "  -h,--help                Show this help text\n"
     ]
    },
    {
     "data": {
      "application/javascript": [
       "\n",
       "            setTimeout(function() {\n",
       "                var nbb_cell_id = 4;\n",
       "                var nbb_unformatted_code = \"%%bash\\nnrmd --help\";\n",
       "                var nbb_formatted_code = \"%%bash\\nnrmd --help\";\n",
       "                var nbb_cells = Jupyter.notebook.get_cells();\n",
       "                for (var i = 0; i < nbb_cells.length; ++i) {\n",
       "                    if (nbb_cells[i].input_prompt_number == nbb_cell_id) {\n",
       "                        if (nbb_cells[i].get_text() == nbb_unformatted_code) {\n",
       "                             nbb_cells[i].set_text(nbb_formatted_code);\n",
       "                        }\n",
       "                        break;\n",
       "                    }\n",
       "                }\n",
       "            }, 500);\n",
       "            "
      ],
      "text/plain": [
       "<IPython.core.display.Javascript object>"
      ]
     },
     "metadata": {},
     "output_type": "display_data"
    }
   ],
   "source": [
    "%%bash\n",
    "nrmd --help"
   ]
  },
  {
   "cell_type": "code",
   "execution_count": 5,
   "metadata": {},
   "outputs": [
    {
     "name": "stdout",
     "output_type": "stream",
     "text": [
      "nrm\n",
      "\n",
      "Usage: nrm COMMAND\n",
      "  NRM Client\n",
      "\n",
      "Available options:\n",
      "  -h,--help                Show this help text\n",
      "  COMMAND                  Choice of operation.\n",
      "\n",
      "Available commands:\n",
      "  run                      Run the application via NRM\n",
      "  killcmd                  Kill cmd\n",
      "  killslice                Kill slice\n",
      "  setpower                 Set power limit\n",
      "  cpd                      Show current CPD\n",
      "  list                     List existing slices\n",
      "  state                    Show NRM state\n",
      "  config                   Show NRM configuration\n",
      "  listen-raw               Listen to raw NRM upstream pub messages\n",
      "  listen-cpd               Listen to CPD messages\n",
      "  listen-all               Listen to all upstream pub messages\n"
     ]
    },
    {
     "data": {
      "application/javascript": [
       "\n",
       "            setTimeout(function() {\n",
       "                var nbb_cell_id = 5;\n",
       "                var nbb_unformatted_code = \"%%bash\\nnrm --help\";\n",
       "                var nbb_formatted_code = \"%%bash\\nnrm --help\";\n",
       "                var nbb_cells = Jupyter.notebook.get_cells();\n",
       "                for (var i = 0; i < nbb_cells.length; ++i) {\n",
       "                    if (nbb_cells[i].input_prompt_number == nbb_cell_id) {\n",
       "                        if (nbb_cells[i].get_text() == nbb_unformatted_code) {\n",
       "                             nbb_cells[i].set_text(nbb_formatted_code);\n",
       "                        }\n",
       "                        break;\n",
       "                    }\n",
       "                }\n",
       "            }, 500);\n",
       "            "
      ],
      "text/plain": [
       "<IPython.core.display.Javascript object>"
      ]
     },
     "metadata": {},
     "output_type": "display_data"
    }
   ],
   "source": [
    "%%bash\n",
    "nrm --help"
   ]
  },
  {
   "cell_type": "markdown",
   "metadata": {},
   "source": [
    "## Defining experiments\n",
    "\n",
    "Now that the daemon is properly set-up, we will configure and run some experiments using the python interface.\n",
    "\n",
    "The next cell imports the upstream client library:"
   ]
  },
  {
   "cell_type": "code",
   "execution_count": 6,
   "metadata": {},
   "outputs": [
    {
     "data": {
      "application/javascript": [
       "\n",
       "            setTimeout(function() {\n",
       "                var nbb_cell_id = 6;\n",
       "                var nbb_unformatted_code = \"import nrm.tooling\";\n",
       "                var nbb_formatted_code = \"import nrm.tooling\";\n",
       "                var nbb_cells = Jupyter.notebook.get_cells();\n",
       "                for (var i = 0; i < nbb_cells.length; ++i) {\n",
       "                    if (nbb_cells[i].input_prompt_number == nbb_cell_id) {\n",
       "                        if (nbb_cells[i].get_text() == nbb_unformatted_code) {\n",
       "                             nbb_cells[i].set_text(nbb_formatted_code);\n",
       "                        }\n",
       "                        break;\n",
       "                    }\n",
       "                }\n",
       "            }, 500);\n",
       "            "
      ],
      "text/plain": [
       "<IPython.core.display.Javascript object>"
      ]
     },
     "metadata": {},
     "output_type": "display_data"
    }
   ],
   "source": [
    "import nrm.tooling"
   ]
  },
  {
   "cell_type": "markdown",
   "metadata": {},
   "source": [
    "This notebook will start `nrmd` on the same machine as the notebok, but the same interface should be available for remote execution:"
   ]
  },
  {
   "cell_type": "code",
   "execution_count": 15,
   "metadata": {},
   "outputs": [
    {
     "data": {
      "application/javascript": [
       "\n",
       "            setTimeout(function() {\n",
       "                var nbb_cell_id = 15;\n",
       "                var nbb_unformatted_code = \"host = nrm.tooling.Local()\\n# host=Remote( target=\\\"cc@129.114.108.201\\\")\";\n",
       "                var nbb_formatted_code = \"host = nrm.tooling.Local()\\n# host=Remote( target=\\\"cc@129.114.108.201\\\")\";\n",
       "                var nbb_cells = Jupyter.notebook.get_cells();\n",
       "                for (var i = 0; i < nbb_cells.length; ++i) {\n",
       "                    if (nbb_cells[i].input_prompt_number == nbb_cell_id) {\n",
       "                        if (nbb_cells[i].get_text() == nbb_unformatted_code) {\n",
       "                             nbb_cells[i].set_text(nbb_formatted_code);\n",
       "                        }\n",
       "                        break;\n",
       "                    }\n",
       "                }\n",
       "            }, 500);\n",
       "            "
      ],
      "text/plain": [
       "<IPython.core.display.Javascript object>"
      ]
     },
     "metadata": {},
     "output_type": "display_data"
    }
   ],
   "source": [
    "host = nrm.tooling.Local()\n",
    "# host=Remote( target=\"cc@129.114.108.201\")"
   ]
  },
  {
   "cell_type": "markdown",
   "metadata": {},
   "source": [
    "Note that the two classes (`Local` and `Remote`) offer the same methods to start nrmd and interact via blocking message passing primitives. The supported methods are the following:"
   ]
  },
  {
   "cell_type": "code",
   "execution_count": 8,
   "metadata": {
    "jupyter": {
     "source_hidden": true
    }
   },
   "outputs": [
    {
     "name": "stdout",
     "output_type": "stream",
     "text": [
      "__init__: None\n",
      "check_daemon:  checks if nrmd is alive \n",
      "get_cpd:  Obtain the current Control Problem Description \n",
      "get_state:  Obtain the current daemon state \n",
      "run_workload:  Runs a workload via NRM. The `nrmd` daemon must be running. \n",
      "start_daemon:  start nrmd \n",
      "stop_daemon:  stops nrmd \n",
      "workload_exit_status:  Check the workload's exit status. \n",
      "workload_finished:  Checks NRM to see whether all tasks are finished. \n",
      "workload_recv:  Receive a message from NRM's upstream API. \n",
      "workload_send:  Send a message to NRM's upstream API. \n"
     ]
    },
    {
     "data": {
      "application/javascript": [
       "\n",
       "            setTimeout(function() {\n",
       "                var nbb_cell_id = 8;\n",
       "                var nbb_unformatted_code = \"import inspect\\n\\nfor a, x in inspect.getmembers(host, predicate=inspect.ismethod):\\n    print(\\\"%s: %s\\\" % (a, x.__doc__))\";\n",
       "                var nbb_formatted_code = \"import inspect\\n\\nfor a, x in inspect.getmembers(host, predicate=inspect.ismethod):\\n    print(\\\"%s: %s\\\" % (a, x.__doc__))\";\n",
       "                var nbb_cells = Jupyter.notebook.get_cells();\n",
       "                for (var i = 0; i < nbb_cells.length; ++i) {\n",
       "                    if (nbb_cells[i].input_prompt_number == nbb_cell_id) {\n",
       "                        if (nbb_cells[i].get_text() == nbb_unformatted_code) {\n",
       "                             nbb_cells[i].set_text(nbb_formatted_code);\n",
       "                        }\n",
       "                        break;\n",
       "                    }\n",
       "                }\n",
       "            }, 500);\n",
       "            "
      ],
      "text/plain": [
       "<IPython.core.display.Javascript object>"
      ]
     },
     "metadata": {},
     "output_type": "display_data"
    }
   ],
   "source": [
    "import inspect\n",
    "\n",
    "for a, x in inspect.getmembers(host, predicate=inspect.ismethod):\n",
    "    print(\"%s: %s\" % (a, x.__doc__))"
   ]
  },
  {
   "cell_type": "markdown",
   "metadata": {},
   "source": [
    "The next cell defines some node experimental node (`nrmd`) daemon configurations and some workloads. Please see notebook [notebooks/configuration.ipynb](notebooks/configuration.ipynb) for an overview of `nrmd`'s and the \"Manifest\"'s configuration format."
   ]
  },
  {
   "cell_type": "code",
   "execution_count": 13,
   "metadata": {},
   "outputs": [
    {
     "name": "stdout",
     "output_type": "stream",
     "text": [
      "{'dummy': [{'cmd': 'sleep', 'args': ['60'], 'sliceID': 'toto', 'manifest': {'app': {'slice': {'cpus': 1, 'mems': 1}, 'perfwrapper': {'perfLimit': {'fromOps': 100000}, 'perfFreq': {'fromHz': 1}}}, 'name': 'perfwrap'}}]}\n"
     ]
    },
    {
     "data": {
      "application/javascript": [
       "\n",
       "            setTimeout(function() {\n",
       "                var nbb_cell_id = 13;\n",
       "                var nbb_unformatted_code = \"daemonCfgs = {\\n    \\\"redirected_log\\\": {\\\"logfile\\\": \\\"/tmp/logfile_experiment2\\\", \\\"verbose\\\": \\\"Info\\\"},\\n    # \\\"other\\\":your code\\n}\\n\\nworkloads = {\\n    \\\"dummy\\\":[{\\\"cmd\\\":\\\"sleep\\\",\\n              \\\"args\\\": [\\\"60\\\"] ,\\n              \\\"sliceID\\\": \\\"toto\\\",\\n              \\\"manifest\\\":{\\n                  \\\"app\\\": { \\\"slice\\\": {\\n                                 \\\"cpus\\\": 1,\\n                                 \\\"mems\\\": 1 \\n                           },  \\n                           \\\"perfwrapper\\\":{\\\"perfLimit\\\":{\\\"fromOps\\\":100000},\\\"perfFreq\\\":{\\\"fromHz\\\":1}}\\n                         },\\n                          \\\"name\\\": \\\"perfwrap\\\",\\n                         }\\n            }\\n            ],\\n    #\\\"other\\\":your code\\n}\\nprint(workloads)\";\n",
       "                var nbb_formatted_code = \"daemonCfgs = {\\n    \\\"redirected_log\\\": {\\\"logfile\\\": \\\"/tmp/logfile_experiment2\\\", \\\"verbose\\\": \\\"Info\\\"},\\n    # \\\"other\\\":your code\\n}\\n\\nworkloads = {\\n    \\\"dummy\\\": [\\n        {\\n            \\\"cmd\\\": \\\"sleep\\\",\\n            \\\"args\\\": [\\\"60\\\"],\\n            \\\"sliceID\\\": \\\"toto\\\",\\n            \\\"manifest\\\": {\\n                \\\"app\\\": {\\n                    \\\"slice\\\": {\\\"cpus\\\": 1, \\\"mems\\\": 1},\\n                    \\\"perfwrapper\\\": {\\n                        \\\"perfLimit\\\": {\\\"fromOps\\\": 100000},\\n                        \\\"perfFreq\\\": {\\\"fromHz\\\": 1},\\n                    },\\n                },\\n                \\\"name\\\": \\\"perfwrap\\\",\\n            },\\n        }\\n    ],\\n    # \\\"other\\\":your code\\n}\\nprint(workloads)\";\n",
       "                var nbb_cells = Jupyter.notebook.get_cells();\n",
       "                for (var i = 0; i < nbb_cells.length; ++i) {\n",
       "                    if (nbb_cells[i].input_prompt_number == nbb_cell_id) {\n",
       "                        if (nbb_cells[i].get_text() == nbb_unformatted_code) {\n",
       "                             nbb_cells[i].set_text(nbb_formatted_code);\n",
       "                        }\n",
       "                        break;\n",
       "                    }\n",
       "                }\n",
       "            }, 500);\n",
       "            "
      ],
      "text/plain": [
       "<IPython.core.display.Javascript object>"
      ]
     },
     "metadata": {},
     "output_type": "display_data"
    }
   ],
   "source": [
    "daemonCfgs = {\n",
    "    \"redirected_log\": {\"logfile\": \"/tmp/logfile_experiment2\", \"verbose\": \"Info\"},\n",
    "    # \"other\":your code\n",
    "}\n",
    "\n",
    "workloads = {\n",
    "    \"dummy\":[{\"cmd\":\"sleep\",\n",
    "              \"args\": [\"60\"] ,\n",
    "              \"sliceID\": \"toto\",\n",
    "              \"manifest\":{\n",
    "                  \"app\": { \"slice\": {\n",
    "                                 \"cpus\": 1,\n",
    "                                 \"mems\": 1 \n",
    "                           },  \n",
    "                           \"perfwrapper\":{\"perfLimit\":{\"fromOps\":100000},\"perfFreq\":{\"fromHz\":1}}\n",
    "                         },\n",
    "                          \"name\": \"perfwrap\",\n",
    "                         }\n",
    "            }\n",
    "            ],\n",
    "    #\"other\":your code\n",
    "}"
   ]
  },
  {
   "cell_type": "markdown",
   "metadata": {},
   "source": [
    "The next cell defines some experiments:"
   ]
  },
  {
   "cell_type": "code",
   "execution_count": 10,
   "metadata": {},
   "outputs": [
    {
     "data": {
      "application/javascript": [
       "\n",
       "            setTimeout(function() {\n",
       "                var nbb_cell_id = 10;\n",
       "                var nbb_unformatted_code = \"experiments = {\\n    \\\"example\\\": (daemonCfgs[\\\"redirected_log\\\"], workloads[\\\"dummy\\\"]),\\n    # \\\"other\\\": your code\\n}\";\n",
       "                var nbb_formatted_code = \"experiments = {\\n    \\\"example\\\": (daemonCfgs[\\\"redirected_log\\\"], workloads[\\\"dummy\\\"]),\\n    # \\\"other\\\": your code\\n}\";\n",
       "                var nbb_cells = Jupyter.notebook.get_cells();\n",
       "                for (var i = 0; i < nbb_cells.length; ++i) {\n",
       "                    if (nbb_cells[i].input_prompt_number == nbb_cell_id) {\n",
       "                        if (nbb_cells[i].get_text() == nbb_unformatted_code) {\n",
       "                             nbb_cells[i].set_text(nbb_formatted_code);\n",
       "                        }\n",
       "                        break;\n",
       "                    }\n",
       "                }\n",
       "            }, 500);\n",
       "            "
      ],
      "text/plain": [
       "<IPython.core.display.Javascript object>"
      ]
     },
     "metadata": {},
     "output_type": "display_data"
    }
   ],
   "source": [
    "experiments = {\n",
    "    \"example\": (daemonCfgs[\"redirected_log\"], workloads[\"dummy\"]),\n",
    "    # \"other\": your code\n",
    "}"
   ]
  },
  {
   "cell_type": "markdown",
   "metadata": {},
   "source": [
    "## Running experiments\n",
    "The next cell shows how to start the daemon and obtain the current control description problem."
   ]
  },
  {
   "cell_type": "code",
   "execution_count": 16,
   "metadata": {},
   "outputs": [
    {
     "name": "stdout",
     "output_type": "stream",
     "text": [
      "connecting\n",
      "connected to tcp://localhost:2345\n",
      "The control problem description is:\n",
      " Problem \n",
      "    \u001b[1m\u001b[96m{\u001b[0m sensors = fromList \n",
      "        \u001b[1m\u001b[93m[\u001b[0m \n",
      "            \u001b[35m(\u001b[0m SensorID \u001b[36m{\u001b[0m sensorID = \u001b[1m\u001b[97m\"\u001b[0m\u001b[1m\u001b[94mRaplKey (PackageID 0)\u001b[0m\u001b[1m\u001b[97m\"\u001b[0m \u001b[36m}\u001b[0m\n",
      "            \u001b[35m,\u001b[0m Sensor \n",
      "                \u001b[36m{\u001b[0m range = 0.0 ... 2.6214332885e11\n",
      "                \u001b[36m,\u001b[0m maxFrequency = 3.0\n",
      "                \u001b[36m}\u001b[0m \n",
      "            \u001b[35m)\u001b[0m \n",
      "        \u001b[1m\u001b[93m]\u001b[0m\n",
      "    \u001b[1m\u001b[96m,\u001b[0m actuators = fromList \n",
      "        \u001b[1m\u001b[93m[\u001b[0m \n",
      "            \u001b[35m(\u001b[0m ActuatorID \u001b[36m{\u001b[0m actuatorID = \u001b[1m\u001b[97m\"\u001b[0m\u001b[1m\u001b[94mRaplKey (PackageID 0)\u001b[0m\u001b[1m\u001b[97m\"\u001b[0m \u001b[36m}\u001b[0m\n",
      "            \u001b[35m,\u001b[0m Actuator \n",
      "                \u001b[36m{\u001b[0m actions = \n",
      "                    \u001b[33m[\u001b[0m DiscreteDouble 180.0\n",
      "                    \u001b[33m,\u001b[0m DiscreteDouble 200.0\n",
      "                    \u001b[33m]\u001b[0m \n",
      "                \u001b[36m}\u001b[0m\n",
      "            \u001b[35m)\u001b[0m \n",
      "        \u001b[1m\u001b[93m]\u001b[0m\n",
      "    \u001b[1m\u001b[96m,\u001b[0m objectives = \u001b[1m\u001b[93m[\u001b[0m\u001b[1m\u001b[93m]\u001b[0m\n",
      "    \u001b[1m\u001b[96m,\u001b[0m constraints = \u001b[1m\u001b[93m[\u001b[0m\u001b[1m\u001b[93m]\u001b[0m\n",
      "    \u001b[1m\u001b[96m}\u001b[0m \n"
     ]
    },
    {
     "data": {
      "application/javascript": [
       "\n",
       "            setTimeout(function() {\n",
       "                var nbb_cell_id = 16;\n",
       "                var nbb_unformatted_code = \"host.start_daemon(daemonCfgs[\\\"redirected_log\\\"])\\nassert host.check_daemon()\\ncpd=host.get_cpd()\\nprint(\\\"The control problem description is:\\\\n %s\\\" % cpd)\";\n",
       "                var nbb_formatted_code = \"host.start_daemon(daemonCfgs[\\\"redirected_log\\\"])\\nassert host.check_daemon()\\ncpd = host.get_cpd()\\nprint(\\\"The control problem description is:\\\\n %s\\\" % cpd)\";\n",
       "                var nbb_cells = Jupyter.notebook.get_cells();\n",
       "                for (var i = 0; i < nbb_cells.length; ++i) {\n",
       "                    if (nbb_cells[i].input_prompt_number == nbb_cell_id) {\n",
       "                        if (nbb_cells[i].get_text() == nbb_unformatted_code) {\n",
       "                             nbb_cells[i].set_text(nbb_formatted_code);\n",
       "                        }\n",
       "                        break;\n",
       "                    }\n",
       "                }\n",
       "            }, 500);\n",
       "            "
      ],
      "text/plain": [
       "<IPython.core.display.Javascript object>"
      ]
     },
     "metadata": {},
     "output_type": "display_data"
    }
   ],
   "source": [
    "host.start_daemon(daemonCfgs[\"redirected_log\"])\n",
    "assert host.check_daemon()\n",
    "cpd=host.get_cpd()\n",
    "print(\"The control problem description is:\\n %s\" % cpd)"
   ]
  },
  {
   "cell_type": "code",
   "execution_count": 12,
   "metadata": {},
   "outputs": [
    {
     "data": {
      "application/javascript": [
       "\n",
       "            setTimeout(function() {\n",
       "                var nbb_cell_id = 12;\n",
       "                var nbb_unformatted_code = \"host.stop_daemon()\\nassert host.check_daemon() == False\";\n",
       "                var nbb_formatted_code = \"host.stop_daemon()\\nassert host.check_daemon() == False\";\n",
       "                var nbb_cells = Jupyter.notebook.get_cells();\n",
       "                for (var i = 0; i < nbb_cells.length; ++i) {\n",
       "                    if (nbb_cells[i].input_prompt_number == nbb_cell_id) {\n",
       "                        if (nbb_cells[i].get_text() == nbb_unformatted_code) {\n",
       "                             nbb_cells[i].set_text(nbb_formatted_code);\n",
       "                        }\n",
       "                        break;\n",
       "                    }\n",
       "                }\n",
       "            }, 500);\n",
       "            "
      ],
      "text/plain": [
       "<IPython.core.display.Javascript object>"
      ]
     },
     "metadata": {},
     "output_type": "display_data"
    }
   ],
   "source": [
    "host.stop_daemon()\n",
    "assert host.check_daemon() == False"
   ]
  },
  {
   "cell_type": "markdown",
   "metadata": {},
   "source": [
    "### Dummy experiment: printing measurements\n",
    "\n",
    "We now are ready to run an external resource management strategy. Using the low-level message passing interface:"
   ]
  },
  {
   "cell_type": "code",
   "execution_count": 20,
   "metadata": {},
   "outputs": [
    {
     "name": "stdout",
     "output_type": "stream",
     "text": [
      "connecting\n",
      "connected to tcp://localhost:2345\n",
      "Starting the workload\n",
      "Operating with the following problem:\n",
      "Problem \n",
      "    \u001b[1m\u001b[96m{\u001b[0m sensors = fromList \n",
      "        \u001b[1m\u001b[93m[\u001b[0m \n",
      "            \u001b[35m(\u001b[0m SensorID \u001b[36m{\u001b[0m sensorID = \u001b[1m\u001b[97m\"\u001b[0m\u001b[1m\u001b[94mRaplKey (PackageID 0)\u001b[0m\u001b[1m\u001b[97m\"\u001b[0m \u001b[36m}\u001b[0m\n",
      "            \u001b[35m,\u001b[0m Sensor \n",
      "                \u001b[36m{\u001b[0m range = 0.0 ... 2.6214332885e11\n",
      "                \u001b[36m,\u001b[0m maxFrequency = 3.0\n",
      "                \u001b[36m}\u001b[0m \n",
      "            \u001b[35m)\u001b[0m \n",
      "        \u001b[1m\u001b[93m]\u001b[0m\n",
      "    \u001b[1m\u001b[96m,\u001b[0m actuators = fromList \n",
      "        \u001b[1m\u001b[93m[\u001b[0m \n",
      "            \u001b[35m(\u001b[0m ActuatorID \u001b[36m{\u001b[0m actuatorID = \u001b[1m\u001b[97m\"\u001b[0m\u001b[1m\u001b[94mRaplKey (PackageID 0)\u001b[0m\u001b[1m\u001b[97m\"\u001b[0m \u001b[36m}\u001b[0m\n",
      "            \u001b[35m,\u001b[0m Actuator \n",
      "                \u001b[36m{\u001b[0m actions = \n",
      "                    \u001b[33m[\u001b[0m DiscreteDouble 180.0\n",
      "                    \u001b[33m,\u001b[0m DiscreteDouble 200.0\n",
      "                    \u001b[33m]\u001b[0m \n",
      "                \u001b[36m}\u001b[0m\n",
      "            \u001b[35m)\u001b[0m \n",
      "        \u001b[1m\u001b[93m]\u001b[0m\n",
      "    \u001b[1m\u001b[96m,\u001b[0m objectives = \u001b[1m\u001b[93m[\u001b[0m\u001b[1m\u001b[93m]\u001b[0m\n",
      "    \u001b[1m\u001b[96m,\u001b[0m constraints = \u001b[1m\u001b[93m[\u001b[0m\u001b[1m\u001b[93m]\u001b[0m\n",
      "    \u001b[1m\u001b[96m}\u001b[0m \n",
      "receiving\n",
      "{'pubMeasurements': [1579806163155595, [{'time': 1579806163155595, 'sensorValue': 148802207322, 'sensorID': {'sensorID': 'RaplKey (PackageID 0)'}}]]}\n",
      "receiving\n",
      "{'pubMeasurements': [1579806164155466.8, [{'time': 1579806164155466.8, 'sensorValue': 148812892780, 'sensorID': {'sensorID': 'RaplKey (PackageID 0)'}}]]}\n",
      "receiving\n",
      "{'pubMeasurements': [1579806164821552.8, [{'time': 1579806164821552.8, 'sensorValue': 0, 'sensorID': {'sensorID': 'DownstreamCmdKey (DownstreamCmdID cd5737e9-c5af-4190-9fa0-f66de98589a6)'}}]]}\n",
      "receiving\n",
      "{'pubPerformance': [1579806164821552.8, 'eeaa1e57-3e12-11ea-8001-8c1645edb774', 0]}\n",
      "receiving\n",
      "{'pubMeasurements': [1579806165155973, [{'time': 1579806165155973, 'sensorValue': 148823433097, 'sensorID': {'sensorID': 'RaplKey (PackageID 0)'}}]]}\n",
      "receiving\n",
      "{'pubMeasurements': [1579806165821792.8, [{'time': 1579806165821792.8, 'sensorValue': 0, 'sensorID': {'sensorID': 'DownstreamCmdKey (DownstreamCmdID cd5737e9-c5af-4190-9fa0-f66de98589a6)'}}]]}\n",
      "receiving\n",
      "{'pubPerformance': [1579806165821792.8, 'eeaa1e57-3e12-11ea-8001-8c1645edb774', 0]}\n",
      "receiving\n",
      "{'pubMeasurements': [1579806166155632, [{'time': 1579806166155632, 'sensorValue': 148837709428, 'sensorID': {'sensorID': 'RaplKey (PackageID 0)'}}]]}\n",
      "receiving\n",
      "{'pubMeasurements': [1579806166822102, [{'time': 1579806166822102, 'sensorValue': 0, 'sensorID': {'sensorID': 'DownstreamCmdKey (DownstreamCmdID cd5737e9-c5af-4190-9fa0-f66de98589a6)'}}]]}\n",
      "receiving\n",
      "{'pubPerformance': [1579806166822102, 'eeaa1e57-3e12-11ea-8001-8c1645edb774', 0]}\n",
      "receiving\n",
      "{'pubMeasurements': [1579806167155079.8, [{'time': 1579806167155079.8, 'sensorValue': 148853074318, 'sensorID': {'sensorID': 'RaplKey (PackageID 0)'}}]]}\n",
      "receiving\n",
      "{'pubMeasurements': [1579806167822051.2, [{'time': 1579806167822051.2, 'sensorValue': 0, 'sensorID': {'sensorID': 'DownstreamCmdKey (DownstreamCmdID cd5737e9-c5af-4190-9fa0-f66de98589a6)'}}]]}\n",
      "receiving\n",
      "{'pubPerformance': [1579806167822051.2, 'eeaa1e57-3e12-11ea-8001-8c1645edb774', 0]}\n",
      "receiving\n",
      "{'pubMeasurements': [1579806168155594.8, [{'time': 1579806168155594.8, 'sensorValue': 148867472352, 'sensorID': {'sensorID': 'RaplKey (PackageID 0)'}}]]}\n",
      "receiving\n",
      "{'pubMeasurements': [1579806168822139, [{'time': 1579806168822139, 'sensorValue': 0, 'sensorID': {'sensorID': 'DownstreamCmdKey (DownstreamCmdID cd5737e9-c5af-4190-9fa0-f66de98589a6)'}}]]}\n",
      "receiving\n",
      "{'pubPerformance': [1579806168822139, 'eeaa1e57-3e12-11ea-8001-8c1645edb774', 0]}\n",
      "receiving\n",
      "{'pubMeasurements': [1579806169155539.8, [{'time': 1579806169155539.8, 'sensorValue': 148882440149, 'sensorID': {'sensorID': 'RaplKey (PackageID 0)'}}]]}\n",
      "receiving\n",
      "{'pubMeasurements': [1579806169822347.2, [{'time': 1579806169822347.2, 'sensorValue': 0, 'sensorID': {'sensorID': 'DownstreamCmdKey (DownstreamCmdID cd5737e9-c5af-4190-9fa0-f66de98589a6)'}}]]}\n",
      "receiving\n",
      "{'pubPerformance': [1579806169822347.2, 'eeaa1e57-3e12-11ea-8001-8c1645edb774', 0]}\n",
      "receiving\n",
      "{'pubMeasurements': [1579806170155622.5, [{'time': 1579806170155622.5, 'sensorValue': 148897333299, 'sensorID': {'sensorID': 'RaplKey (PackageID 0)'}}]]}\n",
      "receiving\n",
      "{'pubMeasurements': [1579806170822930.5, [{'time': 1579806170822930.5, 'sensorValue': 0, 'sensorID': {'sensorID': 'DownstreamCmdKey (DownstreamCmdID cd5737e9-c5af-4190-9fa0-f66de98589a6)'}}]]}\n",
      "receiving\n",
      "{'pubPerformance': [1579806170822930.5, 'eeaa1e57-3e12-11ea-8001-8c1645edb774', 0]}\n",
      "receiving\n",
      "{'pubMeasurements': [1579806171156025.5, [{'time': 1579806171156025.5, 'sensorValue': 148911325512, 'sensorID': {'sensorID': 'RaplKey (PackageID 0)'}}]]}\n",
      "receiving\n",
      "{'pubMeasurements': [1579806171822384.2, [{'time': 1579806171822384.2, 'sensorValue': 0, 'sensorID': {'sensorID': 'DownstreamCmdKey (DownstreamCmdID cd5737e9-c5af-4190-9fa0-f66de98589a6)'}}]]}\n",
      "receiving\n",
      "{'pubPerformance': [1579806171822384.2, 'eeaa1e57-3e12-11ea-8001-8c1645edb774', 0]}\n",
      "receiving\n",
      "{'pubMeasurements': [1579806172156182.5, [{'time': 1579806172156182.5, 'sensorValue': 148923075176, 'sensorID': {'sensorID': 'RaplKey (PackageID 0)'}}]]}\n",
      "receiving\n",
      "{'pubMeasurements': [1579806172822517.8, [{'time': 1579806172822517.8, 'sensorValue': 0, 'sensorID': {'sensorID': 'DownstreamCmdKey (DownstreamCmdID cd5737e9-c5af-4190-9fa0-f66de98589a6)'}}]]}\n",
      "receiving\n",
      "{'pubPerformance': [1579806172822517.8, 'eeaa1e57-3e12-11ea-8001-8c1645edb774', 0]}\n",
      "receiving\n",
      "{'pubMeasurements': [1579806173156022.5, [{'time': 1579806173156022.5, 'sensorValue': 148932007588, 'sensorID': {'sensorID': 'RaplKey (PackageID 0)'}}]]}\n",
      "receiving\n",
      "{'pubMeasurements': [1579806173822747.2, [{'time': 1579806173822747.2, 'sensorValue': 0, 'sensorID': {'sensorID': 'DownstreamCmdKey (DownstreamCmdID cd5737e9-c5af-4190-9fa0-f66de98589a6)'}}]]}\n",
      "receiving\n",
      "{'pubPerformance': [1579806173822747.2, 'eeaa1e57-3e12-11ea-8001-8c1645edb774', 0]}\n",
      "receiving\n",
      "{'pubMeasurements': [1579806174155970, [{'time': 1579806174155970, 'sensorValue': 148943811268, 'sensorID': {'sensorID': 'RaplKey (PackageID 0)'}}]]}\n",
      "receiving\n",
      "{'pubMeasurements': [1579806174823041.5, [{'time': 1579806174823041.5, 'sensorValue': 0, 'sensorID': {'sensorID': 'DownstreamCmdKey (DownstreamCmdID cd5737e9-c5af-4190-9fa0-f66de98589a6)'}}]]}\n",
      "receiving\n",
      "{'pubPerformance': [1579806174823041.5, 'eeaa1e57-3e12-11ea-8001-8c1645edb774', 0]}\n",
      "receiving\n",
      "{'pubMeasurements': [1579806175155957.2, [{'time': 1579806175155957.2, 'sensorValue': 148954680259, 'sensorID': {'sensorID': 'RaplKey (PackageID 0)'}}]]}\n",
      "receiving\n",
      "{'pubMeasurements': [1579806175823603.2, [{'time': 1579806175823603.2, 'sensorValue': 0, 'sensorID': {'sensorID': 'DownstreamCmdKey (DownstreamCmdID cd5737e9-c5af-4190-9fa0-f66de98589a6)'}}]]}\n",
      "receiving\n",
      "{'pubPerformance': [1579806175823603.2, 'eeaa1e57-3e12-11ea-8001-8c1645edb774', 0]}\n",
      "receiving\n",
      "{'pubMeasurements': [1579806176154908.5, [{'time': 1579806176154908.5, 'sensorValue': 148966754935, 'sensorID': {'sensorID': 'RaplKey (PackageID 0)'}}]]}\n",
      "receiving\n",
      "{'pubMeasurements': [1579806176823738.8, [{'time': 1579806176823738.8, 'sensorValue': 0, 'sensorID': {'sensorID': 'DownstreamCmdKey (DownstreamCmdID cd5737e9-c5af-4190-9fa0-f66de98589a6)'}}]]}\n",
      "receiving\n",
      "{'pubPerformance': [1579806176823738.8, 'eeaa1e57-3e12-11ea-8001-8c1645edb774', 0]}\n",
      "receiving\n",
      "{'pubMeasurements': [1579806177155968, [{'time': 1579806177155968, 'sensorValue': 148978104821, 'sensorID': {'sensorID': 'RaplKey (PackageID 0)'}}]]}\n",
      "receiving\n",
      "{'pubMeasurements': [1579806177823914.8, [{'time': 1579806177823914.8, 'sensorValue': 0, 'sensorID': {'sensorID': 'DownstreamCmdKey (DownstreamCmdID cd5737e9-c5af-4190-9fa0-f66de98589a6)'}}]]}\n",
      "receiving\n",
      "{'pubPerformance': [1579806177823914.8, 'eeaa1e57-3e12-11ea-8001-8c1645edb774', 0]}\n",
      "receiving\n",
      "{'pubMeasurements': [1579806178154970.8, [{'time': 1579806178154970.8, 'sensorValue': 148989157527, 'sensorID': {'sensorID': 'RaplKey (PackageID 0)'}}]]}\n",
      "receiving\n",
      "{'pubMeasurements': [1579806178824057.5, [{'time': 1579806178824057.5, 'sensorValue': 0, 'sensorID': {'sensorID': 'DownstreamCmdKey (DownstreamCmdID cd5737e9-c5af-4190-9fa0-f66de98589a6)'}}]]}\n",
      "receiving\n",
      "{'pubPerformance': [1579806178824057.5, 'eeaa1e57-3e12-11ea-8001-8c1645edb774', 0]}\n",
      "receiving\n",
      "{'pubMeasurements': [1579806179155105, [{'time': 1579806179155105, 'sensorValue': 149000560757, 'sensorID': {'sensorID': 'RaplKey (PackageID 0)'}}]]}\n",
      "receiving\n",
      "{'pubMeasurements': [1579806179824334.8, [{'time': 1579806179824334.8, 'sensorValue': 0, 'sensorID': {'sensorID': 'DownstreamCmdKey (DownstreamCmdID cd5737e9-c5af-4190-9fa0-f66de98589a6)'}}]]}\n",
      "receiving\n",
      "{'pubPerformance': [1579806179824334.8, 'eeaa1e57-3e12-11ea-8001-8c1645edb774', 0]}\n",
      "receiving\n",
      "{'pubMeasurements': [1579806180155589.8, [{'time': 1579806180155589.8, 'sensorValue': 149011937376, 'sensorID': {'sensorID': 'RaplKey (PackageID 0)'}}]]}\n",
      "receiving\n",
      "{'pubMeasurements': [1579806180824584.8, [{'time': 1579806180824584.8, 'sensorValue': 0, 'sensorID': {'sensorID': 'DownstreamCmdKey (DownstreamCmdID cd5737e9-c5af-4190-9fa0-f66de98589a6)'}}]]}\n",
      "receiving\n",
      "{'pubPerformance': [1579806180824584.8, 'eeaa1e57-3e12-11ea-8001-8c1645edb774', 0]}\n",
      "receiving\n",
      "{'pubMeasurements': [1579806181155612.8, [{'time': 1579806181155612.8, 'sensorValue': 149023468230, 'sensorID': {'sensorID': 'RaplKey (PackageID 0)'}}]]}\n",
      "receiving\n",
      "{'pubMeasurements': [1579806181825110.8, [{'time': 1579806181825110.8, 'sensorValue': 0, 'sensorID': {'sensorID': 'DownstreamCmdKey (DownstreamCmdID cd5737e9-c5af-4190-9fa0-f66de98589a6)'}}]]}\n",
      "receiving\n",
      "{'pubPerformance': [1579806181825110.8, 'eeaa1e57-3e12-11ea-8001-8c1645edb774', 0]}\n",
      "receiving\n",
      "{'pubMeasurements': [1579806182156025.5, [{'time': 1579806182156025.5, 'sensorValue': 149035113403, 'sensorID': {'sensorID': 'RaplKey (PackageID 0)'}}]]}\n",
      "receiving\n",
      "{'pubMeasurements': [1579806182825513, [{'time': 1579806182825513, 'sensorValue': 0, 'sensorID': {'sensorID': 'DownstreamCmdKey (DownstreamCmdID cd5737e9-c5af-4190-9fa0-f66de98589a6)'}}]]}\n",
      "receiving\n",
      "{'pubPerformance': [1579806182825513, 'eeaa1e57-3e12-11ea-8001-8c1645edb774', 0]}\n",
      "receiving\n",
      "{'pubMeasurements': [1579806183155667.8, [{'time': 1579806183155667.8, 'sensorValue': 149045694308, 'sensorID': {'sensorID': 'RaplKey (PackageID 0)'}}]]}\n",
      "receiving\n",
      "{'pubMeasurements': [1579806183825850.5, [{'time': 1579806183825850.5, 'sensorValue': 0, 'sensorID': {'sensorID': 'DownstreamCmdKey (DownstreamCmdID cd5737e9-c5af-4190-9fa0-f66de98589a6)'}}]]}\n",
      "receiving\n",
      "{'pubPerformance': [1579806183825850.5, 'eeaa1e57-3e12-11ea-8001-8c1645edb774', 0]}\n",
      "receiving\n",
      "{'pubMeasurements': [1579806184155997.8, [{'time': 1579806184155997.8, 'sensorValue': 149054417064, 'sensorID': {'sensorID': 'RaplKey (PackageID 0)'}}]]}\n",
      "receiving\n",
      "{'pubMeasurements': [1579806184826265.2, [{'time': 1579806184826265.2, 'sensorValue': 0, 'sensorID': {'sensorID': 'DownstreamCmdKey (DownstreamCmdID cd5737e9-c5af-4190-9fa0-f66de98589a6)'}}]]}\n",
      "receiving\n",
      "{'pubPerformance': [1579806184826265.2, 'eeaa1e57-3e12-11ea-8001-8c1645edb774', 0]}\n",
      "receiving\n",
      "{'pubMeasurements': [1579806185154977.5, [{'time': 1579806185154977.5, 'sensorValue': 149063110951, 'sensorID': {'sensorID': 'RaplKey (PackageID 0)'}}]]}\n",
      "receiving\n",
      "{'pubMeasurements': [1579806185826796.8, [{'time': 1579806185826796.8, 'sensorValue': 0, 'sensorID': {'sensorID': 'DownstreamCmdKey (DownstreamCmdID cd5737e9-c5af-4190-9fa0-f66de98589a6)'}}]]}\n",
      "receiving\n",
      "{'pubPerformance': [1579806185826796.8, 'eeaa1e57-3e12-11ea-8001-8c1645edb774', 0]}\n",
      "receiving\n",
      "{'pubMeasurements': [1579806186155122.2, [{'time': 1579806186155122.2, 'sensorValue': 149072167141, 'sensorID': {'sensorID': 'RaplKey (PackageID 0)'}}]]}\n",
      "receiving\n",
      "{'pubMeasurements': [1579806186827078, [{'time': 1579806186827078, 'sensorValue': 0, 'sensorID': {'sensorID': 'DownstreamCmdKey (DownstreamCmdID cd5737e9-c5af-4190-9fa0-f66de98589a6)'}}]]}\n",
      "receiving\n",
      "{'pubPerformance': [1579806186827078, 'eeaa1e57-3e12-11ea-8001-8c1645edb774', 0]}\n",
      "receiving\n",
      "{'pubMeasurements': [1579806187154964, [{'time': 1579806187154964, 'sensorValue': 149081322208, 'sensorID': {'sensorID': 'RaplKey (PackageID 0)'}}]]}\n",
      "receiving\n",
      "{'pubMeasurements': [1579806187826870.2, [{'time': 1579806187826870.2, 'sensorValue': 0, 'sensorID': {'sensorID': 'DownstreamCmdKey (DownstreamCmdID cd5737e9-c5af-4190-9fa0-f66de98589a6)'}}]]}\n",
      "receiving\n",
      "{'pubPerformance': [1579806187826870.2, 'eeaa1e57-3e12-11ea-8001-8c1645edb774', 0]}\n",
      "receiving\n",
      "{'pubMeasurements': [1579806188155224.2, [{'time': 1579806188155224.2, 'sensorValue': 149094278718, 'sensorID': {'sensorID': 'RaplKey (PackageID 0)'}}]]}\n",
      "receiving\n",
      "{'pubMeasurements': [1579806188827109.2, [{'time': 1579806188827109.2, 'sensorValue': 0, 'sensorID': {'sensorID': 'DownstreamCmdKey (DownstreamCmdID cd5737e9-c5af-4190-9fa0-f66de98589a6)'}}]]}\n",
      "receiving\n",
      "{'pubPerformance': [1579806188827109.2, 'eeaa1e57-3e12-11ea-8001-8c1645edb774', 0]}\n",
      "receiving\n",
      "{'pubMeasurements': [1579806189155978.8, [{'time': 1579806189155978.8, 'sensorValue': 149105096561, 'sensorID': {'sensorID': 'RaplKey (PackageID 0)'}}]]}\n",
      "receiving\n",
      "{'pubMeasurements': [1579806189827355.8, [{'time': 1579806189827355.8, 'sensorValue': 0, 'sensorID': {'sensorID': 'DownstreamCmdKey (DownstreamCmdID cd5737e9-c5af-4190-9fa0-f66de98589a6)'}}]]}\n",
      "receiving\n",
      "{'pubPerformance': [1579806189827355.8, 'eeaa1e57-3e12-11ea-8001-8c1645edb774', 0]}\n",
      "receiving\n",
      "{'pubMeasurements': [1579806190156006.5, [{'time': 1579806190156006.5, 'sensorValue': 149113527509, 'sensorID': {'sensorID': 'RaplKey (PackageID 0)'}}]]}\n",
      "receiving\n",
      "{'pubMeasurements': [1579806190827726.2, [{'time': 1579806190827726.2, 'sensorValue': 0, 'sensorID': {'sensorID': 'DownstreamCmdKey (DownstreamCmdID cd5737e9-c5af-4190-9fa0-f66de98589a6)'}}]]}\n",
      "receiving\n",
      "{'pubPerformance': [1579806190827726.2, 'eeaa1e57-3e12-11ea-8001-8c1645edb774', 0]}\n",
      "receiving\n",
      "{'pubMeasurements': [1579806191155982.8, [{'time': 1579806191155982.8, 'sensorValue': 149123308123, 'sensorID': {'sensorID': 'RaplKey (PackageID 0)'}}]]}\n",
      "receiving\n",
      "{'pubMeasurements': [1579806191828234.2, [{'time': 1579806191828234.2, 'sensorValue': 0, 'sensorID': {'sensorID': 'DownstreamCmdKey (DownstreamCmdID cd5737e9-c5af-4190-9fa0-f66de98589a6)'}}]]}\n",
      "receiving\n",
      "{'pubPerformance': [1579806191828234.2, 'eeaa1e57-3e12-11ea-8001-8c1645edb774', 0]}\n",
      "receiving\n",
      "{'pubMeasurements': [1579806192156037.5, [{'time': 1579806192156037.5, 'sensorValue': 149130784422, 'sensorID': {'sensorID': 'RaplKey (PackageID 0)'}}]]}\n",
      "receiving\n",
      "{'pubMeasurements': [1579806192828069.8, [{'time': 1579806192828069.8, 'sensorValue': 0, 'sensorID': {'sensorID': 'DownstreamCmdKey (DownstreamCmdID cd5737e9-c5af-4190-9fa0-f66de98589a6)'}}]]}\n",
      "receiving\n",
      "{'pubPerformance': [1579806192828069.8, 'eeaa1e57-3e12-11ea-8001-8c1645edb774', 0]}\n",
      "receiving\n",
      "{'pubMeasurements': [1579806193155683.5, [{'time': 1579806193155683.5, 'sensorValue': 149138576273, 'sensorID': {'sensorID': 'RaplKey (PackageID 0)'}}]]}\n",
      "receiving\n",
      "{'pubMeasurements': [1579806193828491.2, [{'time': 1579806193828491.2, 'sensorValue': 0, 'sensorID': {'sensorID': 'DownstreamCmdKey (DownstreamCmdID cd5737e9-c5af-4190-9fa0-f66de98589a6)'}}]]}\n",
      "receiving\n",
      "{'pubPerformance': [1579806193828491.2, 'eeaa1e57-3e12-11ea-8001-8c1645edb774', 0]}\n",
      "receiving\n",
      "{'pubMeasurements': [1579806194156263.8, [{'time': 1579806194156263.8, 'sensorValue': 149151647406, 'sensorID': {'sensorID': 'RaplKey (PackageID 0)'}}]]}\n",
      "receiving\n",
      "{'pubMeasurements': [1579806194830025.2, [{'time': 1579806194830025.2, 'sensorValue': 0, 'sensorID': {'sensorID': 'DownstreamCmdKey (DownstreamCmdID cd5737e9-c5af-4190-9fa0-f66de98589a6)'}}]]}\n",
      "receiving\n",
      "{'pubPerformance': [1579806194830025.2, 'eeaa1e57-3e12-11ea-8001-8c1645edb774', 0]}\n",
      "receiving\n",
      "{'pubMeasurements': [1579806195155147, [{'time': 1579806195155147, 'sensorValue': 149166050934, 'sensorID': {'sensorID': 'RaplKey (PackageID 0)'}}]]}\n",
      "receiving\n",
      "{'pubMeasurements': [1579806195829576.8, [{'time': 1579806195829576.8, 'sensorValue': 0, 'sensorID': {'sensorID': 'DownstreamCmdKey (DownstreamCmdID cd5737e9-c5af-4190-9fa0-f66de98589a6)'}}]]}\n",
      "receiving\n",
      "{'pubPerformance': [1579806195829576.8, 'eeaa1e57-3e12-11ea-8001-8c1645edb774', 0]}\n",
      "receiving\n",
      "{'pubMeasurements': [1579806196155971.8, [{'time': 1579806196155971.8, 'sensorValue': 149178422423, 'sensorID': {'sensorID': 'RaplKey (PackageID 0)'}}]]}\n",
      "receiving\n",
      "{'pubMeasurements': [1579806196829496.2, [{'time': 1579806196829496.2, 'sensorValue': 0, 'sensorID': {'sensorID': 'DownstreamCmdKey (DownstreamCmdID cd5737e9-c5af-4190-9fa0-f66de98589a6)'}}]]}\n",
      "receiving\n",
      "{'pubPerformance': [1579806196829496.2, 'eeaa1e57-3e12-11ea-8001-8c1645edb774', 0]}\n",
      "receiving\n",
      "{'pubMeasurements': [1579806197155599, [{'time': 1579806197155599, 'sensorValue': 149190250762, 'sensorID': {'sensorID': 'RaplKey (PackageID 0)'}}]]}\n",
      "receiving\n",
      "{'pubMeasurements': [1579806197830185, [{'time': 1579806197830185, 'sensorValue': 0, 'sensorID': {'sensorID': 'DownstreamCmdKey (DownstreamCmdID cd5737e9-c5af-4190-9fa0-f66de98589a6)'}}]]}\n",
      "receiving\n",
      "{'pubPerformance': [1579806197830185, 'eeaa1e57-3e12-11ea-8001-8c1645edb774', 0]}\n",
      "receiving\n",
      "{'pubMeasurements': [1579806198155584, [{'time': 1579806198155584, 'sensorValue': 149200514163, 'sensorID': {'sensorID': 'RaplKey (PackageID 0)'}}]]}\n",
      "receiving\n",
      "{'pubMeasurements': [1579806198830094.8, [{'time': 1579806198830094.8, 'sensorValue': 0, 'sensorID': {'sensorID': 'DownstreamCmdKey (DownstreamCmdID cd5737e9-c5af-4190-9fa0-f66de98589a6)'}}]]}\n",
      "receiving\n",
      "{'pubPerformance': [1579806198830094.8, 'eeaa1e57-3e12-11ea-8001-8c1645edb774', 0]}\n",
      "receiving\n",
      "{'pubMeasurements': [1579806199155983.5, [{'time': 1579806199155983.5, 'sensorValue': 149212310825, 'sensorID': {'sensorID': 'RaplKey (PackageID 0)'}}]]}\n",
      "receiving\n",
      "{'pubMeasurements': [1579806199830672.5, [{'time': 1579806199830672.5, 'sensorValue': 0, 'sensorID': {'sensorID': 'DownstreamCmdKey (DownstreamCmdID cd5737e9-c5af-4190-9fa0-f66de98589a6)'}}]]}\n",
      "receiving\n",
      "{'pubPerformance': [1579806199830672.5, 'eeaa1e57-3e12-11ea-8001-8c1645edb774', 0]}\n",
      "receiving\n",
      "{'pubMeasurements': [1579806200155971.5, [{'time': 1579806200155971.5, 'sensorValue': 149222852607, 'sensorID': {'sensorID': 'RaplKey (PackageID 0)'}}]]}\n",
      "receiving\n",
      "{'pubMeasurements': [1579806200831000.5, [{'time': 1579806200831000.5, 'sensorValue': 0, 'sensorID': {'sensorID': 'DownstreamCmdKey (DownstreamCmdID cd5737e9-c5af-4190-9fa0-f66de98589a6)'}}]]}\n",
      "receiving\n",
      "{'pubPerformance': [1579806200831000.5, 'eeaa1e57-3e12-11ea-8001-8c1645edb774', 0]}\n",
      "receiving\n",
      "{'pubMeasurements': [1579806201155965.8, [{'time': 1579806201155965.8, 'sensorValue': 149231720565, 'sensorID': {'sensorID': 'RaplKey (PackageID 0)'}}]]}\n",
      "receiving\n",
      "{'pubMeasurements': [1579806201831269.8, [{'time': 1579806201831269.8, 'sensorValue': 0, 'sensorID': {'sensorID': 'DownstreamCmdKey (DownstreamCmdID cd5737e9-c5af-4190-9fa0-f66de98589a6)'}}]]}\n",
      "receiving\n",
      "{'pubPerformance': [1579806201831269.8, 'eeaa1e57-3e12-11ea-8001-8c1645edb774', 0]}\n",
      "receiving\n",
      "{'pubMeasurements': [1579806202155944.2, [{'time': 1579806202155944.2, 'sensorValue': 149243451492, 'sensorID': {'sensorID': 'RaplKey (PackageID 0)'}}]]}\n",
      "receiving\n",
      "{'pubMeasurements': [1579806202832129.5, [{'time': 1579806202832129.5, 'sensorValue': 0, 'sensorID': {'sensorID': 'DownstreamCmdKey (DownstreamCmdID cd5737e9-c5af-4190-9fa0-f66de98589a6)'}}]]}\n",
      "receiving\n",
      "{'pubPerformance': [1579806202832129.5, 'eeaa1e57-3e12-11ea-8001-8c1645edb774', 0]}\n",
      "receiving\n",
      "{'pubMeasurements': [1579806203155997.2, [{'time': 1579806203155997.2, 'sensorValue': 149254594774, 'sensorID': {'sensorID': 'RaplKey (PackageID 0)'}}]]}\n",
      "receiving\n",
      "{'pubMeasurements': [1579806203831285, [{'time': 1579806203831285, 'sensorValue': 0, 'sensorID': {'sensorID': 'DownstreamCmdKey (DownstreamCmdID cd5737e9-c5af-4190-9fa0-f66de98589a6)'}}]]}\n",
      "receiving\n",
      "{'pubPerformance': [1579806203831285, 'eeaa1e57-3e12-11ea-8001-8c1645edb774', 0]}\n",
      "receiving\n",
      "{'pubMeasurements': [1579806204155938.2, [{'time': 1579806204155938.2, 'sensorValue': 149262843288, 'sensorID': {'sensorID': 'RaplKey (PackageID 0)'}}]]}\n",
      "receiving\n",
      "{'pubMeasurements': [1579806204831925.8, [{'time': 1579806204831925.8, 'sensorValue': 0, 'sensorID': {'sensorID': 'DownstreamCmdKey (DownstreamCmdID cd5737e9-c5af-4190-9fa0-f66de98589a6)'}}]]}\n",
      "receiving\n",
      "{'pubPerformance': [1579806204831925.8, 'eeaa1e57-3e12-11ea-8001-8c1645edb774', 0]}\n",
      "receiving\n",
      "{'pubMeasurements': [1579806205156000.5, [{'time': 1579806205156000.5, 'sensorValue': 149270723029, 'sensorID': {'sensorID': 'RaplKey (PackageID 0)'}}]]}\n",
      "receiving\n",
      "{'pubMeasurements': [1579806205832184.8, [{'time': 1579806205832184.8, 'sensorValue': 0, 'sensorID': {'sensorID': 'DownstreamCmdKey (DownstreamCmdID cd5737e9-c5af-4190-9fa0-f66de98589a6)'}}]]}\n",
      "receiving\n",
      "{'pubPerformance': [1579806205832184.8, 'eeaa1e57-3e12-11ea-8001-8c1645edb774', 0]}\n",
      "receiving\n",
      "{'pubMeasurements': [1579806206156036.5, [{'time': 1579806206156036.5, 'sensorValue': 149278451403, 'sensorID': {'sensorID': 'RaplKey (PackageID 0)'}}]]}\n",
      "receiving\n",
      "{'pubMeasurements': [1579806206832644, [{'time': 1579806206832644, 'sensorValue': 0, 'sensorID': {'sensorID': 'DownstreamCmdKey (DownstreamCmdID cd5737e9-c5af-4190-9fa0-f66de98589a6)'}}]]}\n",
      "receiving\n",
      "{'pubPerformance': [1579806206832644, 'eeaa1e57-3e12-11ea-8001-8c1645edb774', 0]}\n",
      "receiving\n",
      "{'pubMeasurements': [1579806207156265.2, [{'time': 1579806207156265.2, 'sensorValue': 149287135280, 'sensorID': {'sensorID': 'RaplKey (PackageID 0)'}}]]}\n",
      "receiving\n",
      "{'pubMeasurements': [1579806207832998.8, [{'time': 1579806207832998.8, 'sensorValue': 0, 'sensorID': {'sensorID': 'DownstreamCmdKey (DownstreamCmdID cd5737e9-c5af-4190-9fa0-f66de98589a6)'}}]]}\n",
      "receiving\n",
      "{'pubPerformance': [1579806207832998.8, 'eeaa1e57-3e12-11ea-8001-8c1645edb774', 0]}\n",
      "receiving\n",
      "{'pubMeasurements': [1579806208155396, [{'time': 1579806208155396, 'sensorValue': 149302301256, 'sensorID': {'sensorID': 'RaplKey (PackageID 0)'}}]]}\n",
      "receiving\n",
      "{'pubMeasurements': [1579806208833289, [{'time': 1579806208833289, 'sensorValue': 0, 'sensorID': {'sensorID': 'DownstreamCmdKey (DownstreamCmdID cd5737e9-c5af-4190-9fa0-f66de98589a6)'}}]]}\n",
      "receiving\n",
      "{'pubPerformance': [1579806208833289, 'eeaa1e57-3e12-11ea-8001-8c1645edb774', 0]}\n",
      "receiving\n",
      "{'pubMeasurements': [1579806209155186.8, [{'time': 1579806209155186.8, 'sensorValue': 149316985301, 'sensorID': {'sensorID': 'RaplKey (PackageID 0)'}}]]}\n",
      "receiving\n",
      "{'pubMeasurements': [1579806209833618, [{'time': 1579806209833618, 'sensorValue': 0, 'sensorID': {'sensorID': 'DownstreamCmdKey (DownstreamCmdID cd5737e9-c5af-4190-9fa0-f66de98589a6)'}}]]}\n",
      "receiving\n",
      "{'pubPerformance': [1579806209833618, 'eeaa1e57-3e12-11ea-8001-8c1645edb774', 0]}\n",
      "receiving\n",
      "{'pubMeasurements': [1579806210156489.5, [{'time': 1579806210156489.5, 'sensorValue': 149333116729, 'sensorID': {'sensorID': 'RaplKey (PackageID 0)'}}]]}\n",
      "receiving\n",
      "{'pubMeasurements': [1579806210834120, [{'time': 1579806210834120, 'sensorValue': 0, 'sensorID': {'sensorID': 'DownstreamCmdKey (DownstreamCmdID cd5737e9-c5af-4190-9fa0-f66de98589a6)'}}]]}\n",
      "receiving\n",
      "{'pubPerformance': [1579806210834120, 'eeaa1e57-3e12-11ea-8001-8c1645edb774', 0]}\n",
      "receiving\n",
      "{'pubMeasurements': [1579806211155358.2, [{'time': 1579806211155358.2, 'sensorValue': 149345087096, 'sensorID': {'sensorID': 'RaplKey (PackageID 0)'}}]]}\n",
      "receiving\n",
      "{'pubMeasurements': [1579806211834693, [{'time': 1579806211834693, 'sensorValue': 0, 'sensorID': {'sensorID': 'DownstreamCmdKey (DownstreamCmdID cd5737e9-c5af-4190-9fa0-f66de98589a6)'}}]]}\n",
      "receiving\n",
      "{'pubPerformance': [1579806211834693, 'eeaa1e57-3e12-11ea-8001-8c1645edb774', 0]}\n",
      "receiving\n",
      "{'pubMeasurements': [1579806212154999.8, [{'time': 1579806212154999.8, 'sensorValue': 149355860445, 'sensorID': {'sensorID': 'RaplKey (PackageID 0)'}}]]}\n",
      "receiving\n",
      "{'pubMeasurements': [1579806212835744, [{'time': 1579806212835744, 'sensorValue': 0, 'sensorID': {'sensorID': 'DownstreamCmdKey (DownstreamCmdID cd5737e9-c5af-4190-9fa0-f66de98589a6)'}}]]}\n",
      "receiving\n",
      "{'pubPerformance': [1579806212835744, 'eeaa1e57-3e12-11ea-8001-8c1645edb774', 0]}\n",
      "receiving\n",
      "{'pubMeasurements': [1579806213156000, [{'time': 1579806213156000, 'sensorValue': 149363247267, 'sensorID': {'sensorID': 'RaplKey (PackageID 0)'}}]]}\n",
      "receiving\n",
      "{'pubMeasurements': [1579806213835033.2, [{'time': 1579806213835033.2, 'sensorValue': 0, 'sensorID': {'sensorID': 'DownstreamCmdKey (DownstreamCmdID cd5737e9-c5af-4190-9fa0-f66de98589a6)'}}]]}\n",
      "receiving\n",
      "{'pubPerformance': [1579806213835033.2, 'eeaa1e57-3e12-11ea-8001-8c1645edb774', 0]}\n",
      "receiving\n",
      "{'pubMeasurements': [1579806214156023.8, [{'time': 1579806214156023.8, 'sensorValue': 149377186135, 'sensorID': {'sensorID': 'RaplKey (PackageID 0)'}}]]}\n",
      "receiving\n",
      "{'pubMeasurements': [1579806214835454.8, [{'time': 1579806214835454.8, 'sensorValue': 0, 'sensorID': {'sensorID': 'DownstreamCmdKey (DownstreamCmdID cd5737e9-c5af-4190-9fa0-f66de98589a6)'}}]]}\n",
      "receiving\n",
      "{'pubPerformance': [1579806214835454.8, 'eeaa1e57-3e12-11ea-8001-8c1645edb774', 0]}\n",
      "receiving\n",
      "{'pubMeasurements': [1579806215155642, [{'time': 1579806215155642, 'sensorValue': 149390263250, 'sensorID': {'sensorID': 'RaplKey (PackageID 0)'}}]]}\n",
      "receiving\n",
      "{'pubMeasurements': [1579806215835120.8, [{'time': 1579806215835120.8, 'sensorValue': 0, 'sensorID': {'sensorID': 'DownstreamCmdKey (DownstreamCmdID cd5737e9-c5af-4190-9fa0-f66de98589a6)'}}]]}\n",
      "receiving\n",
      "{'pubPerformance': [1579806215835120.8, 'eeaa1e57-3e12-11ea-8001-8c1645edb774', 0]}\n",
      "receiving\n",
      "{'pubMeasurements': [1579806216155852, [{'time': 1579806216155852, 'sensorValue': 149404832854, 'sensorID': {'sensorID': 'RaplKey (PackageID 0)'}}]]}\n",
      "receiving\n",
      "{'pubMeasurements': [1579806216835103.5, [{'time': 1579806216835103.5, 'sensorValue': 0, 'sensorID': {'sensorID': 'DownstreamCmdKey (DownstreamCmdID cd5737e9-c5af-4190-9fa0-f66de98589a6)'}}]]}\n",
      "receiving\n",
      "{'pubPerformance': [1579806216835103.5, 'eeaa1e57-3e12-11ea-8001-8c1645edb774', 0]}\n",
      "receiving\n",
      "{'pubMeasurements': [1579806217155596.2, [{'time': 1579806217155596.2, 'sensorValue': 149413940192, 'sensorID': {'sensorID': 'RaplKey (PackageID 0)'}}]]}\n",
      "receiving\n",
      "{'pubMeasurements': [1579806217835211.8, [{'time': 1579806217835211.8, 'sensorValue': 0, 'sensorID': {'sensorID': 'DownstreamCmdKey (DownstreamCmdID cd5737e9-c5af-4190-9fa0-f66de98589a6)'}}]]}\n",
      "receiving\n",
      "{'pubPerformance': [1579806217835211.8, 'eeaa1e57-3e12-11ea-8001-8c1645edb774', 0]}\n",
      "receiving\n",
      "{'pubMeasurements': [1579806218155938.8, [{'time': 1579806218155938.8, 'sensorValue': 149422906111, 'sensorID': {'sensorID': 'RaplKey (PackageID 0)'}}]]}\n",
      "receiving\n",
      "{'pubMeasurements': [1579806218836700.2, [{'time': 1579806218836700.2, 'sensorValue': 0, 'sensorID': {'sensorID': 'DownstreamCmdKey (DownstreamCmdID cd5737e9-c5af-4190-9fa0-f66de98589a6)'}}]]}\n",
      "receiving\n",
      "{'pubPerformance': [1579806218836700.2, 'eeaa1e57-3e12-11ea-8001-8c1645edb774', 0]}\n",
      "receiving\n",
      "{'pubMeasurements': [1579806219155988.5, [{'time': 1579806219155988.5, 'sensorValue': 149431971029, 'sensorID': {'sensorID': 'RaplKey (PackageID 0)'}}]]}\n",
      "receiving\n",
      "{'pubMeasurements': [1579806219836029.2, [{'time': 1579806219836029.2, 'sensorValue': 0, 'sensorID': {'sensorID': 'DownstreamCmdKey (DownstreamCmdID cd5737e9-c5af-4190-9fa0-f66de98589a6)'}}]]}\n",
      "receiving\n",
      "{'pubPerformance': [1579806219836029.2, 'eeaa1e57-3e12-11ea-8001-8c1645edb774', 0]}\n",
      "receiving\n",
      "{'pubMeasurements': [1579806220156724.5, [{'time': 1579806220156724.5, 'sensorValue': 149442053767, 'sensorID': {'sensorID': 'RaplKey (PackageID 0)'}}]]}\n",
      "receiving\n",
      "{'pubMeasurements': [1579806220836041.5, [{'time': 1579806220836041.5, 'sensorValue': 0, 'sensorID': {'sensorID': 'DownstreamCmdKey (DownstreamCmdID cd5737e9-c5af-4190-9fa0-f66de98589a6)'}}]]}\n",
      "receiving\n",
      "{'pubPerformance': [1579806220836041.5, 'eeaa1e57-3e12-11ea-8001-8c1645edb774', 0]}\n",
      "receiving\n",
      "{'pubMeasurements': [1579806221155842.8, [{'time': 1579806221155842.8, 'sensorValue': 149451501131, 'sensorID': {'sensorID': 'RaplKey (PackageID 0)'}}]]}\n",
      "receiving\n",
      "{'pubMeasurements': [1579806221836090.2, [{'time': 1579806221836090.2, 'sensorValue': 0, 'sensorID': {'sensorID': 'DownstreamCmdKey (DownstreamCmdID cd5737e9-c5af-4190-9fa0-f66de98589a6)'}}]]}\n",
      "receiving\n",
      "{'pubPerformance': [1579806221836090.2, 'eeaa1e57-3e12-11ea-8001-8c1645edb774', 0]}\n",
      "receiving\n",
      "{'pubMeasurements': [1579806222155936.2, [{'time': 1579806222155936.2, 'sensorValue': 149460312998, 'sensorID': {'sensorID': 'RaplKey (PackageID 0)'}}]]}\n",
      "receiving\n",
      "{'pubMeasurements': [1579806223156231, [{'time': 1579806223156231, 'sensorValue': 149468591663, 'sensorID': {'sensorID': 'RaplKey (PackageID 0)'}}]]}\n",
      "True\n"
     ]
    },
    {
     "data": {
      "application/javascript": [
       "\n",
       "            setTimeout(function() {\n",
       "                var nbb_cell_id = 20;\n",
       "                var nbb_unformatted_code = \"import json\\nfor name, (daemonCfg, workload) in experiments.items():\\n    # starting the daemon (does act as silent restart)\\n    host.start_daemon(daemonCfg)\\n    print(\\\"Starting the workload\\\")\\n    host.run_workload(workload)\\n    print(\\\"Operating with the following problem:\\\")\\n    print(host.get_cpd())\\n    # message passting exchange:\\n    while host.check_daemon() and not host.workload_finished():\\n        measurement_message = host.workload_recv()\\n        print(json.loads(measurement_message))\\n        command_message = \\\"insert your code here\\\"\\n        host.workload_send(command_message)\\n    print(host.check_daemon())\\n\\nhost.stop_daemon()\";\n",
       "                var nbb_formatted_code = \"import json\\n\\nfor name, (daemonCfg, workload) in experiments.items():\\n    # starting the daemon (does act as silent restart)\\n    host.start_daemon(daemonCfg)\\n    print(\\\"Starting the workload\\\")\\n    host.run_workload(workload)\\n    print(\\\"Operating with the following problem:\\\")\\n    print(host.get_cpd())\\n    # message passting exchange:\\n    while host.check_daemon() and not host.workload_finished():\\n        measurement_message = host.workload_recv()\\n        print(json.loads(measurement_message))\\n        command_message = \\\"insert your code here\\\"\\n        host.workload_send(command_message)\\n    print(host.check_daemon())\\n\\nhost.stop_daemon()\";\n",
       "                var nbb_cells = Jupyter.notebook.get_cells();\n",
       "                for (var i = 0; i < nbb_cells.length; ++i) {\n",
       "                    if (nbb_cells[i].input_prompt_number == nbb_cell_id) {\n",
       "                        if (nbb_cells[i].get_text() == nbb_unformatted_code) {\n",
       "                             nbb_cells[i].set_text(nbb_formatted_code);\n",
       "                        }\n",
       "                        break;\n",
       "                    }\n",
       "                }\n",
       "            }, 500);\n",
       "            "
      ],
      "text/plain": [
       "<IPython.core.display.Javascript object>"
      ]
     },
     "metadata": {},
     "output_type": "display_data"
    }
   ],
   "source": [
    "import json\n",
    "for name, (daemonCfg, workload) in experiments.items():\n",
    "    # starting the daemon (does act as silent restart)\n",
    "    host.start_daemon(daemonCfg)\n",
    "    print(\"Starting the workload\")\n",
    "    host.run_workload(workload)\n",
    "    print(\"Operating with the following problem:\")\n",
    "    print(host.get_cpd())\n",
    "    # message passting exchange:\n",
    "    while host.check_daemon() and not host.workload_finished():\n",
    "        measurement_message = host.workload_recv()\n",
    "        msg=json.loads(measurement_message)\n",
    "        if \"pubMeasurements\" in msg:\n",
    "            print(\"received raw data %s\" % (str(msg)))\n",
    "            \n",
    "            \n",
    "        command_message = \"insert your code here\"\n",
    "        host.workload_send(command_message)\n",
    "    print(host.check_daemon())\n",
    "\n",
    "host.stop_daemon()"
   ]
  },
  {
   "cell_type": "code",
   "execution_count": 29,
   "metadata": {},
   "outputs": [
    {
     "data": {
      "text/plain": [
       "((0, False, False), 2345, 3456, 'localhost')"
      ]
     },
     "execution_count": 29,
     "metadata": {},
     "output_type": "execute_result"
    },
    {
     "data": {
      "application/javascript": [
       "\n",
       "            setTimeout(function() {\n",
       "                var nbb_cell_id = 29;\n",
       "                var nbb_unformatted_code = \"host.commonOpts\";\n",
       "                var nbb_formatted_code = \"host.commonOpts\";\n",
       "                var nbb_cells = Jupyter.notebook.get_cells();\n",
       "                for (var i = 0; i < nbb_cells.length; ++i) {\n",
       "                    if (nbb_cells[i].input_prompt_number == nbb_cell_id) {\n",
       "                        if (nbb_cells[i].get_text() == nbb_unformatted_code) {\n",
       "                             nbb_cells[i].set_text(nbb_formatted_code);\n",
       "                        }\n",
       "                        break;\n",
       "                    }\n",
       "                }\n",
       "            }, 500);\n",
       "            "
      ],
      "text/plain": [
       "<IPython.core.display.Javascript object>"
      ]
     },
     "metadata": {},
     "output_type": "display_data"
    }
   ],
   "source": []
  },
  {
   "cell_type": "code",
   "execution_count": 30,
   "metadata": {},
   "outputs": [
    {
     "data": {
      "text/plain": [
       "'tcp://localhost:2345'"
      ]
     },
     "execution_count": 30,
     "metadata": {},
     "output_type": "execute_result"
    },
    {
     "data": {
      "application/javascript": [
       "\n",
       "            setTimeout(function() {\n",
       "                var nbb_cell_id = 30;\n",
       "                var nbb_unformatted_code = \"nrm.tooling.lib.pubAddress(host.commonOpts)\";\n",
       "                var nbb_formatted_code = \"nrm.tooling.lib.pubAddress(host.commonOpts)\";\n",
       "                var nbb_cells = Jupyter.notebook.get_cells();\n",
       "                for (var i = 0; i < nbb_cells.length; ++i) {\n",
       "                    if (nbb_cells[i].input_prompt_number == nbb_cell_id) {\n",
       "                        if (nbb_cells[i].get_text() == nbb_unformatted_code) {\n",
       "                             nbb_cells[i].set_text(nbb_formatted_code);\n",
       "                        }\n",
       "                        break;\n",
       "                    }\n",
       "                }\n",
       "            }, 500);\n",
       "            "
      ],
      "text/plain": [
       "<IPython.core.display.Javascript object>"
      ]
     },
     "metadata": {},
     "output_type": "display_data"
    }
   ],
   "source": [
    "nrm.tooling.lib.pubAddress(host.commonOpts)"
   ]
  },
  {
   "cell_type": "code",
   "execution_count": null,
   "metadata": {},
   "outputs": [],
   "source": []
  }
 ],
 "metadata": {
  "kernelspec": {
   "display_name": "Python3 - Nix",
   "language": "python",
   "name": "ipython_nix"
  },
  "language_info": {
   "codemirror_mode": {
    "name": "ipython",
    "version": 3
   },
   "file_extension": ".py",
   "mimetype": "text/x-python",
   "name": "python",
   "nbconvert_exporter": "python",
   "pygments_lexer": "ipython3",
   "version": "3.7.4"
  }
 },
 "nbformat": 4,
 "nbformat_minor": 4
}
