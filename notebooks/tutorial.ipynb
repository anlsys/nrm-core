{
 "cells": [
  {
   "cell_type": "markdown",
   "metadata": {},
   "source": [
    "# NRM python upstream client library tutorial\n",
    "\n",
    "This tutorial covers the use of NRM's python upstream client library, in the context of running an external resource management strategy. Its cell's output are deterministic, and the executed version that is vendored in the source tree is checked by the project's CI, so its behavior should always be up-to-date with the latest version of the software, and no cells should be throwing exceptions.  \n",
    "\n"
   ]
  },
  {
   "cell_type": "markdown",
   "metadata": {},
   "source": [
    "## Setup\n",
    "\n",
    "This notebook uses `nrm`'s python library bindings and needs the `nrmd` daemon in the `$PATH`. \n",
    "\n",
    "Assuming the project is cloned **with submodules updated** (and the code unmodified), one needs to run the following from the root of the project before running it:"
   ]
  },
  {
   "cell_type": "code",
   "execution_count": 1,
   "metadata": {},
   "outputs": [
    {
     "name": "stdout",
     "output_type": "stream",
     "text": [
      "/home/fre/workspace/hnrm\n"
     ]
    }
   ],
   "source": [
    "cd .."
   ]
  },
  {
   "cell_type": "markdown",
   "metadata": {},
   "source": [
    "The next cell builds the shared libraries. This should take about a minute on a modern laptop."
   ]
  },
  {
   "cell_type": "code",
   "execution_count": 2,
   "metadata": {},
   "outputs": [],
   "source": [
    "%%capture\n",
    "%%bash\n",
    "./shake.sh build # for the daemon \n",
    "./shake.sh client # for the upstream client\n",
    "./shake.sh pyclient # for the shared client library"
   ]
  },
  {
   "cell_type": "markdown",
   "metadata": {},
   "source": [
    "This allows to use the command-line daemon and client in the working directory, should you need to for debugging purposes. Those should be available in jupyter-lab terminal tabs once the previous cell finishes. You should however only need them for debugging purposes: this notebook shows how to use the python nrm interface. "
   ]
  },
  {
   "cell_type": "code",
   "execution_count": 3,
   "metadata": {},
   "outputs": [
    {
     "name": "stdout",
     "output_type": "stream",
     "text": [
      "nrmd\n",
      "\n",
      "Usage: <unknown> [-i|--stdin] [CONFIG] [-y|--yaml]\n",
      "  NRM Daemon\n",
      "\n",
      "Available options:\n",
      "  -h,--help                Show this help text\n",
      "  -i,--stdin               Read configuration on stdin.\n",
      "  CONFIG                   Input configuration with .yml/.yaml/.dh/.dhall\n",
      "                           extension. Leave void for stdin (dhall) input.\n",
      "  -y,--yaml                Assume configuration to be yaml(json is valid yaml)\n",
      "                           instead of dhall.\n",
      "  -h,--help                Show this help text\n"
     ]
    }
   ],
   "source": [
    "%%bash\n",
    "nrmd --help"
   ]
  },
  {
   "cell_type": "code",
   "execution_count": 4,
   "metadata": {},
   "outputs": [
    {
     "name": "stdout",
     "output_type": "stream",
     "text": [
      "nrm\n",
      "\n",
      "Usage: nrm COMMAND\n",
      "  NRM Client\n",
      "\n",
      "Available options:\n",
      "  -h,--help                Show this help text\n",
      "  COMMAND                  Choice of operation.\n",
      "\n",
      "Available commands:\n",
      "  run                      Run the application via NRM\n",
      "  killcmd                  Kill cmd\n",
      "  killslice                Kill slice\n",
      "  actuate                  Send actuator action\n",
      "  cpd                      Show current CPD\n",
      "  list                     List existing slices\n",
      "  state                    Show NRM state\n",
      "  config                   Show NRM configuration\n",
      "  listen-raw               Listen to raw NRM upstream pub messages\n",
      "  listen-cpd               Listen to CPD messages\n",
      "  listen-all               Listen to all upstream pub messages\n",
      "\n",
      "Usage: nrm run [-i|--stdin] [-y|--yaml] [-d|--detach] [--manifest MANIFEST]\n",
      "               [-s|--slice CONTAINER] CMD [ARG] [-v|--verbose] [-j|--json]\n",
      "               [-c|--color] [--pub_port PORT] [--rpc_port PORT]\n",
      "               [--bind_address ADDRESS]\n",
      "  Run the application via NRM\n",
      "\n",
      "Available options:\n",
      "  -i,--stdin               Read configuration on stdin.\n",
      "  -y,--yaml                Assume stdin to be yaml(json is valid yaml) instead\n",
      "                           of dhall.\n",
      "  -d,--detach              Detach the command.\n",
      "  --manifest MANIFEST      Input manifest with .yml/.yaml/.dh/.dhall extension.\n",
      "  -s,--slice CONTAINER     Slice name/ID\n",
      "  CMD                      Command name\n",
      "  ARG                      Command arguments\n",
      "  -v,--verbose             Enable verbose mode.\n",
      "  -j,--json                Enable json printing.\n",
      "  -c,--color               Enable color printing.\n",
      "  --pub_port PORT          upstream pub port (default 2345).\n",
      "  --rpc_port PORT          upstream rpc port (default 3456).\n",
      "  --bind_address ADDRESS   upstream bind address (default localhost).\n",
      "  -h,--help                Show this help text\n"
     ]
    }
   ],
   "source": [
    "%%bash \n",
    "nrm --help\n",
    "echo \"\"\n",
    "nrm run --help"
   ]
  },
  {
   "cell_type": "markdown",
   "metadata": {},
   "source": [
    "## Defining experiments\n",
    "\n",
    "Now that the daemon is properly set-up, we will configure and run some experiments using the python interface.\n",
    "\n"
   ]
  },
  {
   "cell_type": "code",
   "execution_count": 5,
   "metadata": {},
   "outputs": [
    {
     "data": {
      "application/javascript": [
       "\n",
       "            setTimeout(function() {\n",
       "                var nbb_cell_id = 5;\n",
       "                var nbb_unformatted_code = \"%load_ext nb_black\\nimport nrm.tooling as nrm\\nimport time\\nimport json\\nimport pandas as pd\\nimport matplotlib.pyplot as plt\";\n",
       "                var nbb_formatted_code = \"%load_ext nb_black\\nimport nrm.tooling as nrm\\nimport time\\nimport json\\nimport pandas as pd\\nimport matplotlib.pyplot as plt\";\n",
       "                var nbb_cells = Jupyter.notebook.get_cells();\n",
       "                for (var i = 0; i < nbb_cells.length; ++i) {\n",
       "                    if (nbb_cells[i].input_prompt_number == nbb_cell_id) {\n",
       "                        if (nbb_cells[i].get_text() == nbb_unformatted_code) {\n",
       "                             nbb_cells[i].set_text(nbb_formatted_code);\n",
       "                        }\n",
       "                        break;\n",
       "                    }\n",
       "                }\n",
       "            }, 500);\n",
       "            "
      ],
      "text/plain": [
       "<IPython.core.display.Javascript object>"
      ]
     },
     "metadata": {},
     "output_type": "display_data"
    }
   ],
   "source": [
    "import nrm.tooling as nrm\n",
    "import time\n",
    "import json\n",
    "import pandas as pd\n",
    "import matplotlib.pyplot as plt"
   ]
  },
  {
   "cell_type": "markdown",
   "metadata": {},
   "source": [
    "This notebook will start `nrmd` on the same machine as the notebok, but the same interface should be available for remote execution:"
   ]
  },
  {
   "cell_type": "code",
   "execution_count": 6,
   "metadata": {},
   "outputs": [
    {
     "data": {
      "application/javascript": [
       "\n",
       "            setTimeout(function() {\n",
       "                var nbb_cell_id = 6;\n",
       "                var nbb_unformatted_code = \"host = nrm.Local()\\n# host=Remote( target=\\\"cc@129.114.108.201\\\")\";\n",
       "                var nbb_formatted_code = \"host = nrm.Local()\\n# host=Remote( target=\\\"cc@129.114.108.201\\\")\";\n",
       "                var nbb_cells = Jupyter.notebook.get_cells();\n",
       "                for (var i = 0; i < nbb_cells.length; ++i) {\n",
       "                    if (nbb_cells[i].input_prompt_number == nbb_cell_id) {\n",
       "                        if (nbb_cells[i].get_text() == nbb_unformatted_code) {\n",
       "                             nbb_cells[i].set_text(nbb_formatted_code);\n",
       "                        }\n",
       "                        break;\n",
       "                    }\n",
       "                }\n",
       "            }, 500);\n",
       "            "
      ],
      "text/plain": [
       "<IPython.core.display.Javascript object>"
      ]
     },
     "metadata": {},
     "output_type": "display_data"
    }
   ],
   "source": [
    "host = nrm.Local()\n",
    "# host=Remote( target=\"cc@129.114.108.201\")"
   ]
  },
  {
   "cell_type": "markdown",
   "metadata": {},
   "source": [
    "Note that the two classes (`Local` and `Remote`) offer the same methods to start nrmd and interact via blocking message passing primitives. The supported methods are the following:"
   ]
  },
  {
   "cell_type": "code",
   "execution_count": 7,
   "metadata": {
    "jupyter": {
     "source_hidden": true
    }
   },
   "outputs": [
    {
     "name": "stdout",
     "output_type": "stream",
     "text": [
      "__init__: None\n",
      "check_daemon:  checks if nrmd is alive \n",
      "get_cpd:  Obtain the current Control Problem Description \n",
      "get_state:  Obtain the current daemon state \n",
      "run_workload:  Runs a workload via NRM. The `nrmd` daemon must be running. \n",
      "start_daemon:  start nrmd \n",
      "stop_daemon:  stops nrmd \n",
      "workload_action:  Send a message to NRM's upstream API. \n",
      "workload_exit_status:  Check the workload's exit status. \n",
      "workload_finished:  Checks NRM to see whether all tasks are finished. \n",
      "workload_recv:  Receive a message from NRM's upstream API. \n"
     ]
    },
    {
     "data": {
      "application/javascript": [
       "\n",
       "            setTimeout(function() {\n",
       "                var nbb_cell_id = 7;\n",
       "                var nbb_unformatted_code = \"import inspect\\n\\nfor a, x in inspect.getmembers(host, predicate=inspect.ismethod):\\n    print(\\\"%s: %s\\\" % (a, x.__doc__))\";\n",
       "                var nbb_formatted_code = \"import inspect\\n\\nfor a, x in inspect.getmembers(host, predicate=inspect.ismethod):\\n    print(\\\"%s: %s\\\" % (a, x.__doc__))\";\n",
       "                var nbb_cells = Jupyter.notebook.get_cells();\n",
       "                for (var i = 0; i < nbb_cells.length; ++i) {\n",
       "                    if (nbb_cells[i].input_prompt_number == nbb_cell_id) {\n",
       "                        if (nbb_cells[i].get_text() == nbb_unformatted_code) {\n",
       "                             nbb_cells[i].set_text(nbb_formatted_code);\n",
       "                        }\n",
       "                        break;\n",
       "                    }\n",
       "                }\n",
       "            }, 500);\n",
       "            "
      ],
      "text/plain": [
       "<IPython.core.display.Javascript object>"
      ]
     },
     "metadata": {},
     "output_type": "display_data"
    }
   ],
   "source": [
    "import inspect\n",
    "\n",
    "for a, x in inspect.getmembers(host, predicate=inspect.ismethod):\n",
    "    print(\"%s: %s\" % (a, x.__doc__))"
   ]
  },
  {
   "cell_type": "markdown",
   "metadata": {},
   "source": [
    "The next cell defines some node experimental node (`nrmd`) daemon configurations and some workloads. Please see notebook [notebooks/configuration.ipynb](notebooks/configuration.ipynb) for an overview of `nrmd`'s and the \"Manifest\"'s configuration format."
   ]
  },
  {
   "cell_type": "code",
   "execution_count": 8,
   "metadata": {},
   "outputs": [
    {
     "data": {
      "application/javascript": [
       "\n",
       "            setTimeout(function() {\n",
       "                var nbb_cell_id = 8;\n",
       "                var nbb_unformatted_code = \"powerCaps = [60, 75, 60, 100, 110, 120, 150, 180, 210]\\ndaemonCfgs = {\\n    \\\"manyActions\\\": {\\n        \\\"raplCfg\\\": {\\n            \\\"raplActions\\\": [{\\\"fromuW\\\": 1000000 * p} for p in powerCaps],\\n            \\\"raplFrequency\\\": {\\\"fromHz\\\": 1},\\n            \\\"raplPath\\\": \\\"/sys/devices/virtual/powercap/intel-rapl\\\",\\n        }\\n    }\\n}\\n\\nworkloads = {\\n    \\\"dummy\\\": [\\n        {\\n            \\\"cmd\\\": \\\"sleep\\\",\\n            \\\"args\\\": [\\\"10\\\"],  # running the sleep command for 10 seconds.\\n            \\\"sliceID\\\": \\\"toto\\\",\\n            \\\"manifest\\\": {\\n                \\\"app\\\": {\\n                    \\\"slice\\\": {\\\"cpus\\\": 1, \\\"mems\\\": 1},\\n                    \\\"perfwrapper\\\": {\\n                        \\\"perfLimit\\\": {\\\"fromOps\\\": 100000},\\n                        \\\"perfFreq\\\": {\\\"fromHz\\\": 1},\\n                    },\\n                },\\n                \\\"name\\\": \\\"perfwrap\\\",\\n            },\\n        }\\n    ],\\n    # \\\"other\\\":your code\\n}\";\n",
       "                var nbb_formatted_code = \"powerCaps = [60, 75, 60, 100, 110, 120, 150, 180, 210]\\ndaemonCfgs = {\\n    \\\"manyActions\\\": {\\n        \\\"raplCfg\\\": {\\n            \\\"raplActions\\\": [{\\\"fromuW\\\": 1000000 * p} for p in powerCaps],\\n            \\\"raplFrequency\\\": {\\\"fromHz\\\": 1},\\n            \\\"raplPath\\\": \\\"/sys/devices/virtual/powercap/intel-rapl\\\",\\n        }\\n    }\\n}\\n\\nworkloads = {\\n    \\\"dummy\\\": [\\n        {\\n            \\\"cmd\\\": \\\"sleep\\\",\\n            \\\"args\\\": [\\\"10\\\"],  # running the sleep command for 10 seconds.\\n            \\\"sliceID\\\": \\\"toto\\\",\\n            \\\"manifest\\\": {\\n                \\\"app\\\": {\\n                    \\\"slice\\\": {\\\"cpus\\\": 1, \\\"mems\\\": 1},\\n                    \\\"perfwrapper\\\": {\\n                        \\\"perfLimit\\\": {\\\"fromOps\\\": 100000},\\n                        \\\"perfFreq\\\": {\\\"fromHz\\\": 1},\\n                    },\\n                },\\n                \\\"name\\\": \\\"perfwrap\\\",\\n            },\\n        }\\n    ],\\n    # \\\"other\\\":your code\\n}\";\n",
       "                var nbb_cells = Jupyter.notebook.get_cells();\n",
       "                for (var i = 0; i < nbb_cells.length; ++i) {\n",
       "                    if (nbb_cells[i].input_prompt_number == nbb_cell_id) {\n",
       "                        if (nbb_cells[i].get_text() == nbb_unformatted_code) {\n",
       "                             nbb_cells[i].set_text(nbb_formatted_code);\n",
       "                        }\n",
       "                        break;\n",
       "                    }\n",
       "                }\n",
       "            }, 500);\n",
       "            "
      ],
      "text/plain": [
       "<IPython.core.display.Javascript object>"
      ]
     },
     "metadata": {},
     "output_type": "display_data"
    }
   ],
   "source": [
    "powerCaps = [60, 75, 60, 100, 110, 120, 150, 180, 210]\n",
    "daemonCfgs = {\n",
    "    \"manyActions\": {\n",
    "        \"raplCfg\": {\n",
    "            \"raplActions\": [{\"fromuW\": 1000000 * p} for p in powerCaps],\n",
    "            \"raplFrequency\": {\"fromHz\": 1},\n",
    "            \"raplPath\": \"/sys/devices/virtual/powercap/intel-rapl\",\n",
    "        }\n",
    "    }\n",
    "}\n",
    "\n",
    "workloads = {\n",
    "    \"dummy\": [\n",
    "        {\n",
    "            \"cmd\": \"sleep\",\n",
    "            \"args\": [\"10\"],  # running the sleep command for 10 seconds.\n",
    "            \"sliceID\": \"toto\",\n",
    "            \"manifest\": {\n",
    "                \"app\": {\n",
    "                    \"slice\": {\"cpus\": 1, \"mems\": 1},\n",
    "                    \"perfwrapper\": {\n",
    "                        \"perfLimit\": {\"fromOps\": 100000},\n",
    "                        \"perfFreq\": {\"fromHz\": 1},\n",
    "                    },\n",
    "                },\n",
    "                \"name\": \"perfwrap\",\n",
    "            },\n",
    "        }\n",
    "    ],\n",
    "    # \"other\":your code\n",
    "}"
   ]
  },
  {
   "cell_type": "markdown",
   "metadata": {},
   "source": [
    "The next cell defines some experiments:"
   ]
  },
  {
   "cell_type": "code",
   "execution_count": 9,
   "metadata": {},
   "outputs": [
    {
     "data": {
      "application/javascript": [
       "\n",
       "            setTimeout(function() {\n",
       "                var nbb_cell_id = 9;\n",
       "                var nbb_unformatted_code = \"experiments = {\\\"example\\\": (daemonCfgs[\\\"manyActions\\\"], workloads[\\\"dummy\\\"])}\";\n",
       "                var nbb_formatted_code = \"experiments = {\\\"example\\\": (daemonCfgs[\\\"manyActions\\\"], workloads[\\\"dummy\\\"])}\";\n",
       "                var nbb_cells = Jupyter.notebook.get_cells();\n",
       "                for (var i = 0; i < nbb_cells.length; ++i) {\n",
       "                    if (nbb_cells[i].input_prompt_number == nbb_cell_id) {\n",
       "                        if (nbb_cells[i].get_text() == nbb_unformatted_code) {\n",
       "                             nbb_cells[i].set_text(nbb_formatted_code);\n",
       "                        }\n",
       "                        break;\n",
       "                    }\n",
       "                }\n",
       "            }, 500);\n",
       "            "
      ],
      "text/plain": [
       "<IPython.core.display.Javascript object>"
      ]
     },
     "metadata": {},
     "output_type": "display_data"
    }
   ],
   "source": [
    "experiments = {\"example\": (daemonCfgs[\"manyActions\"], workloads[\"dummy\"])}"
   ]
  },
  {
   "cell_type": "markdown",
   "metadata": {},
   "source": [
    "## Running experiments\n",
    "\n",
    "Previous to those example experiments, you want to set correct permissions on your RAPL sysfs interface."
   ]
  },
  {
   "cell_type": "code",
   "execution_count": 10,
   "metadata": {},
   "outputs": [
    {
     "data": {
      "application/javascript": [
       "\n",
       "            setTimeout(function() {\n",
       "                var nbb_cell_id = 10;\n",
       "                var nbb_unformatted_code = \"%%bash\\ncd /sys/devices/virtual/powercap/intel-rapl\\n#sudo chown user:users -R *\";\n",
       "                var nbb_formatted_code = \"%%bash\\ncd /sys/devices/virtual/powercap/intel-rapl\\n#sudo chown user:users -R *\";\n",
       "                var nbb_cells = Jupyter.notebook.get_cells();\n",
       "                for (var i = 0; i < nbb_cells.length; ++i) {\n",
       "                    if (nbb_cells[i].input_prompt_number == nbb_cell_id) {\n",
       "                        if (nbb_cells[i].get_text() == nbb_unformatted_code) {\n",
       "                             nbb_cells[i].set_text(nbb_formatted_code);\n",
       "                        }\n",
       "                        break;\n",
       "                    }\n",
       "                }\n",
       "            }, 500);\n",
       "            "
      ],
      "text/plain": [
       "<IPython.core.display.Javascript object>"
      ]
     },
     "metadata": {},
     "output_type": "display_data"
    }
   ],
   "source": [
    "%%bash\n",
    "cd /sys/devices/virtual/powercap/intel-rapl\n",
    "#sudo chown user:users -R *"
   ]
  },
  {
   "cell_type": "markdown",
   "metadata": {},
   "source": [
    "The next cell shows how to start the daemon. This acts as a silent restart in case the daemon was still running beforehand."
   ]
  },
  {
   "cell_type": "code",
   "execution_count": 11,
   "metadata": {},
   "outputs": [
    {
     "name": "stdout",
     "output_type": "stream",
     "text": [
      "connecting\n",
      "connected to tcp://localhost:2345\n"
     ]
    },
    {
     "data": {
      "application/javascript": [
       "\n",
       "            setTimeout(function() {\n",
       "                var nbb_cell_id = 11;\n",
       "                var nbb_unformatted_code = \"host.start_daemon(daemonCfgs[\\\"manyActions\\\"])\\nassert host.check_daemon()\";\n",
       "                var nbb_formatted_code = \"host.start_daemon(daemonCfgs[\\\"manyActions\\\"])\\nassert host.check_daemon()\";\n",
       "                var nbb_cells = Jupyter.notebook.get_cells();\n",
       "                for (var i = 0; i < nbb_cells.length; ++i) {\n",
       "                    if (nbb_cells[i].input_prompt_number == nbb_cell_id) {\n",
       "                        if (nbb_cells[i].get_text() == nbb_unformatted_code) {\n",
       "                             nbb_cells[i].set_text(nbb_formatted_code);\n",
       "                        }\n",
       "                        break;\n",
       "                    }\n",
       "                }\n",
       "            }, 500);\n",
       "            "
      ],
      "text/plain": [
       "<IPython.core.display.Javascript object>"
      ]
     },
     "metadata": {},
     "output_type": "display_data"
    }
   ],
   "source": [
    "host.start_daemon(daemonCfgs[\"manyActions\"])\n",
    "assert host.check_daemon()"
   ]
  },
  {
   "cell_type": "markdown",
   "metadata": {},
   "source": [
    "We can obtain the current control description problem:"
   ]
  },
  {
   "cell_type": "code",
   "execution_count": 12,
   "metadata": {},
   "outputs": [
    {
     "name": "stdout",
     "output_type": "stream",
     "text": [
      "Pretty-printing the control problem description:\n",
      " Problem \n",
      "    \u001b[1m\u001b[96m{\u001b[0m sensors = Map \n",
      "        \u001b[1m\u001b[93m[\u001b[0m \n",
      "            \u001b[35m(\u001b[0m SensorID \u001b[36m{\u001b[0m sensorID = \u001b[1m\u001b[97m\"\u001b[0m\u001b[1m\u001b[94mRaplKey (PackageID 0)\u001b[0m\u001b[1m\u001b[97m\"\u001b[0m \u001b[36m}\u001b[0m\n",
      "            \u001b[35m,\u001b[0m Sensor \n",
      "                \u001b[36m{\u001b[0m range = 0.0 ... 300.0\n",
      "                \u001b[36m,\u001b[0m maxFrequency = 3.0\n",
      "                \u001b[36m}\u001b[0m \n",
      "            \u001b[35m)\u001b[0m \n",
      "        \u001b[1m\u001b[93m]\u001b[0m\n",
      "    \u001b[1m\u001b[96m,\u001b[0m actuators = Map \n",
      "        \u001b[1m\u001b[93m[\u001b[0m \n",
      "            \u001b[35m(\u001b[0m ActuatorID \u001b[36m{\u001b[0m actuatorID = \u001b[1m\u001b[97m\"\u001b[0m\u001b[1m\u001b[94mRaplKey (PackageID 0)\u001b[0m\u001b[1m\u001b[97m\"\u001b[0m \u001b[36m}\u001b[0m\n",
      "            \u001b[35m,\u001b[0m Actuator \n",
      "                \u001b[36m{\u001b[0m actions = \n",
      "                    \u001b[33m[\u001b[0m DiscreteDouble 60.0\n",
      "                    \u001b[33m,\u001b[0m DiscreteDouble 75.0\n",
      "                    \u001b[33m,\u001b[0m DiscreteDouble 60.0\n",
      "                    \u001b[33m,\u001b[0m DiscreteDouble 100.0\n",
      "                    \u001b[33m,\u001b[0m DiscreteDouble 110.0\n",
      "                    \u001b[33m,\u001b[0m DiscreteDouble 120.0\n",
      "                    \u001b[33m,\u001b[0m DiscreteDouble 150.0\n",
      "                    \u001b[33m,\u001b[0m DiscreteDouble 180.0\n",
      "                    \u001b[33m,\u001b[0m DiscreteDouble 210.0\n",
      "                    \u001b[33m]\u001b[0m \n",
      "                \u001b[36m}\u001b[0m\n",
      "            \u001b[35m)\u001b[0m \n",
      "        \u001b[1m\u001b[93m]\u001b[0m\n",
      "    \u001b[1m\u001b[96m,\u001b[0m objectives = \u001b[1m\u001b[93m[\u001b[0m\u001b[1m\u001b[93m]\u001b[0m\n",
      "    \u001b[1m\u001b[96m,\u001b[0m constraints = \u001b[1m\u001b[93m[\u001b[0m\u001b[1m\u001b[93m]\u001b[0m\n",
      "    \u001b[1m\u001b[96m}\u001b[0m \n",
      "Python dictionary version: {'objectives': [], 'constraints': [], 'sensors': [['RaplKey (PackageID 0)', {'maxFrequency': 3, 'range': {'i': [0, 300]}}]], 'actuators': [['RaplKey (PackageID 0)', {'actions': [60, 75, 60, 100, 110, 120, 150, 180, 210]}]]}\n"
     ]
    },
    {
     "data": {
      "application/javascript": [
       "\n",
       "            setTimeout(function() {\n",
       "                var nbb_cell_id = 12;\n",
       "                var nbb_unformatted_code = \"cpd = host.get_cpd()\\nprint(\\\"Pretty-printing the control problem description:\\\\n %s\\\" % cpd)\\ncpdd = dict(cpd)\\nprint(\\\"Python dictionary version: %s\\\" % cpdd)\";\n",
       "                var nbb_formatted_code = \"cpd = host.get_cpd()\\nprint(\\\"Pretty-printing the control problem description:\\\\n %s\\\" % cpd)\\ncpdd = dict(cpd)\\nprint(\\\"Python dictionary version: %s\\\" % cpdd)\";\n",
       "                var nbb_cells = Jupyter.notebook.get_cells();\n",
       "                for (var i = 0; i < nbb_cells.length; ++i) {\n",
       "                    if (nbb_cells[i].input_prompt_number == nbb_cell_id) {\n",
       "                        if (nbb_cells[i].get_text() == nbb_unformatted_code) {\n",
       "                             nbb_cells[i].set_text(nbb_formatted_code);\n",
       "                        }\n",
       "                        break;\n",
       "                    }\n",
       "                }\n",
       "            }, 500);\n",
       "            "
      ],
      "text/plain": [
       "<IPython.core.display.Javascript object>"
      ]
     },
     "metadata": {},
     "output_type": "display_data"
    }
   ],
   "source": [
    "cpd = host.get_cpd()\n",
    "print(\"Pretty-printing the control problem description:\\n %s\" % cpd)\n",
    "cpdd = dict(cpd)\n",
    "print(\"Python dictionary version: %s\" % cpdd)"
   ]
  },
  {
   "cell_type": "markdown",
   "metadata": {},
   "source": [
    "As you can see, there is one sensor and one actuator, both corresponding to the same RAPL package. Not very interesting until we start a workload. We can take an action like so:"
   ]
  },
  {
   "cell_type": "code",
   "execution_count": 13,
   "metadata": {},
   "outputs": [
    {
     "name": "stdout",
     "output_type": "stream",
     "text": [
      "We take the first available action (60) for the first actuator (RaplKey (PackageID 0)).\n"
     ]
    },
    {
     "data": {
      "application/javascript": [
       "\n",
       "            setTimeout(function() {\n",
       "                var nbb_cell_id = 13;\n",
       "                var nbb_unformatted_code = \"actuator0 = cpdd[\\\"actuators\\\"][0]\\nactuator0ID = actuator0[0]\\nactuator0FirstAction = actuator0[1][\\\"actions\\\"][0]\\nprint(\\n    \\\"We take the first available action (%s) for the first actuator (%s).\\\"\\n    % (actuator0FirstAction, actuator0ID)\\n)\\nhost.workload_action([nrm.Action(actuator0ID, actuator0FirstAction)])\";\n",
       "                var nbb_formatted_code = \"actuator0 = cpdd[\\\"actuators\\\"][0]\\nactuator0ID = actuator0[0]\\nactuator0FirstAction = actuator0[1][\\\"actions\\\"][0]\\nprint(\\n    \\\"We take the first available action (%s) for the first actuator (%s).\\\"\\n    % (actuator0FirstAction, actuator0ID)\\n)\\nhost.workload_action([nrm.Action(actuator0ID, actuator0FirstAction)])\";\n",
       "                var nbb_cells = Jupyter.notebook.get_cells();\n",
       "                for (var i = 0; i < nbb_cells.length; ++i) {\n",
       "                    if (nbb_cells[i].input_prompt_number == nbb_cell_id) {\n",
       "                        if (nbb_cells[i].get_text() == nbb_unformatted_code) {\n",
       "                             nbb_cells[i].set_text(nbb_formatted_code);\n",
       "                        }\n",
       "                        break;\n",
       "                    }\n",
       "                }\n",
       "            }, 500);\n",
       "            "
      ],
      "text/plain": [
       "<IPython.core.display.Javascript object>"
      ]
     },
     "metadata": {},
     "output_type": "display_data"
    }
   ],
   "source": [
    "actuator0 = cpdd[\"actuators\"][0]\n",
    "actuator0ID = actuator0[0]\n",
    "actuator0FirstAction = actuator0[1][\"actions\"][0]\n",
    "print(\n",
    "    \"We take the first available action (%s) for the first actuator (%s).\"\n",
    "    % (actuator0FirstAction, actuator0ID)\n",
    ")\n",
    "host.workload_action([nrm.Action(actuator0ID, actuator0FirstAction)])"
   ]
  },
  {
   "cell_type": "markdown",
   "metadata": {},
   "source": [
    "Internal daemon state inspection, should you need it, is achieved in the following way:"
   ]
  },
  {
   "cell_type": "code",
   "execution_count": 14,
   "metadata": {
    "scrolled": false
   },
   "outputs": [
    {
     "name": "stdout",
     "output_type": "stream",
     "text": [
      "NRMState \n",
      "    \u001b[1m\u001b[96m{\u001b[0m pus = Map \n",
      "        \u001b[1m\u001b[93m[\u001b[0m \n",
      "            \u001b[35m(\u001b[0m PUID 0\n",
      "            \u001b[35m,\u001b[0m PU\n",
      "            \u001b[35m)\u001b[0m \n",
      "        \u001b[1m\u001b[93m,\u001b[0m \n",
      "            \u001b[35m(\u001b[0m PUID 4\n",
      "            \u001b[35m,\u001b[0m PU\n",
      "            \u001b[35m)\u001b[0m \n",
      "        \u001b[1m\u001b[93m,\u001b[0m \n",
      "            \u001b[35m(\u001b[0m PUID 1\n",
      "            \u001b[35m,\u001b[0m PU\n",
      "            \u001b[35m)\u001b[0m \n",
      "        \u001b[1m\u001b[93m,\u001b[0m \n",
      "            \u001b[35m(\u001b[0m PUID 5\n",
      "            \u001b[35m,\u001b[0m PU\n",
      "            \u001b[35m)\u001b[0m \n",
      "        \u001b[1m\u001b[93m,\u001b[0m \n",
      "            \u001b[35m(\u001b[0m PUID 2\n",
      "            \u001b[35m,\u001b[0m PU\n",
      "            \u001b[35m)\u001b[0m \n",
      "        \u001b[1m\u001b[93m,\u001b[0m \n",
      "            \u001b[35m(\u001b[0m PUID 6\n",
      "            \u001b[35m,\u001b[0m PU\n",
      "            \u001b[35m)\u001b[0m \n",
      "        \u001b[1m\u001b[93m,\u001b[0m \n",
      "            \u001b[35m(\u001b[0m PUID 3\n",
      "            \u001b[35m,\u001b[0m PU\n",
      "            \u001b[35m)\u001b[0m \n",
      "        \u001b[1m\u001b[93m,\u001b[0m \n",
      "            \u001b[35m(\u001b[0m PUID 7\n",
      "            \u001b[35m,\u001b[0m PU\n",
      "            \u001b[35m)\u001b[0m \n",
      "        \u001b[1m\u001b[93m]\u001b[0m \n",
      "    \u001b[1m\u001b[96m,\u001b[0m cores = Map \n",
      "        \u001b[1m\u001b[93m[\u001b[0m \n",
      "            \u001b[35m(\u001b[0m CoreID 0\n",
      "            \u001b[35m,\u001b[0m Core\n",
      "            \u001b[35m)\u001b[0m \n",
      "        \u001b[1m\u001b[93m,\u001b[0m \n",
      "            \u001b[35m(\u001b[0m CoreID 1\n",
      "            \u001b[35m,\u001b[0m Core\n",
      "            \u001b[35m)\u001b[0m \n",
      "        \u001b[1m\u001b[93m,\u001b[0m \n",
      "            \u001b[35m(\u001b[0m CoreID 2\n",
      "            \u001b[35m,\u001b[0m Core\n",
      "            \u001b[35m)\u001b[0m \n",
      "        \u001b[1m\u001b[93m,\u001b[0m \n",
      "            \u001b[35m(\u001b[0m CoreID 3\n",
      "            \u001b[35m,\u001b[0m Core\n",
      "            \u001b[35m)\u001b[0m \n",
      "        \u001b[1m\u001b[93m]\u001b[0m \n",
      "    \u001b[1m\u001b[96m,\u001b[0m packages = Map \n",
      "        \u001b[1m\u001b[93m[\u001b[0m \n",
      "            \u001b[35m(\u001b[0m PackageID 0\n",
      "            \u001b[35m,\u001b[0m Package \n",
      "                \u001b[36m{\u001b[0m rapl = Just \n",
      "                    \u001b[33m(\u001b[0m Rapl \n",
      "                        \u001b[1m\u001b[35m{\u001b[0m raplPath = \u001b[1m\u001b[97m\"\u001b[0m\u001b[1m\u001b[94m/sys/devices/virtual/powercap/intel-rapl/intel-rapl:0\u001b[0m\u001b[1m\u001b[97m\"\u001b[0m \n",
      "                        \u001b[1m\u001b[35m,\u001b[0m max = 3.0e8\n",
      "                        \u001b[1m\u001b[35m,\u001b[0m maxEnergyCounterValue = 2.6214332885e11\n",
      "                        \u001b[1m\u001b[35m,\u001b[0m frequency = 3.0\n",
      "                        \u001b[1m\u001b[35m,\u001b[0m discreteChoices = \n",
      "                            \u001b[1m\u001b[36m[\u001b[0m 6.0e7\n",
      "                            \u001b[1m\u001b[36m,\u001b[0m 7.5e7\n",
      "                            \u001b[1m\u001b[36m,\u001b[0m 6.0e7\n",
      "                            \u001b[1m\u001b[36m,\u001b[0m 1.0e8\n",
      "                            \u001b[1m\u001b[36m,\u001b[0m 1.1e8\n",
      "                            \u001b[1m\u001b[36m,\u001b[0m 1.2e8\n",
      "                            \u001b[1m\u001b[36m,\u001b[0m 1.5e8\n",
      "                            \u001b[1m\u001b[36m,\u001b[0m 1.8e8\n",
      "                            \u001b[1m\u001b[36m,\u001b[0m 2.1e8\n",
      "                            \u001b[1m\u001b[36m]\u001b[0m \n",
      "                        \u001b[1m\u001b[35m,\u001b[0m defaultPower = 2.0e8\n",
      "                        \u001b[1m\u001b[35m,\u001b[0m lastRead = Nothing\n",
      "                        \u001b[1m\u001b[35m,\u001b[0m history = Refined \u001b[1m\u001b[36m[\u001b[0m\u001b[1m\u001b[36m]\u001b[0m\n",
      "                        \u001b[1m\u001b[35m}\u001b[0m \n",
      "                    \u001b[33m)\u001b[0m\n",
      "                \u001b[36m}\u001b[0m\n",
      "            \u001b[35m)\u001b[0m \n",
      "        \u001b[1m\u001b[93m]\u001b[0m\n",
      "    \u001b[1m\u001b[96m,\u001b[0m slices = Map \u001b[1m\u001b[93m[\u001b[0m\u001b[1m\u001b[93m]\u001b[0m\n",
      "    \u001b[1m\u001b[96m,\u001b[0m dummyRuntime = Just \n",
      "        \u001b[1m\u001b[93m(\u001b[0m Dummy \u001b[35m(\u001b[0m fromList \u001b[36m[\u001b[0m\u001b[36m]\u001b[0m \u001b[35m)\u001b[0m \u001b[1m\u001b[93m)\u001b[0m\n",
      "    \u001b[1m\u001b[96m,\u001b[0m singularityRuntime = Nothing\n",
      "    \u001b[1m\u001b[96m,\u001b[0m nodeosRuntime = Nothing\n",
      "    \u001b[1m\u001b[96m,\u001b[0m controller = Nothing\n",
      "    \u001b[1m\u001b[96m}\u001b[0m \n",
      "{'controller': None, 'slices': [], 'pus': [[0, []], [4, []], [1, []], [5, []], [2, []], [6, []], [3, []], [7, []]], 'packages': [[0, {'rapl': {'max': 300000000, 'defaultPower': 200000000, 'frequency': 3, 'history': [], 'raplPath': '/sys/devices/virtual/powercap/intel-rapl/intel-rapl:0', 'lastRead': None, 'discreteChoices': [60000000, 75000000, 60000000, 100000000, 110000000, 120000000, 150000000, 180000000, 210000000], 'maxEnergyCounterValue': 262143328850}}]], 'dummyRuntime': [], 'nodeosRuntime': None, 'cores': [[0, []], [1, []], [2, []], [3, []]], 'singularityRuntime': None}\n"
     ]
    },
    {
     "data": {
      "application/javascript": [
       "\n",
       "            setTimeout(function() {\n",
       "                var nbb_cell_id = 14;\n",
       "                var nbb_unformatted_code = \"s = host.get_state()\\nprint(s)\\nprint(dict(s))\";\n",
       "                var nbb_formatted_code = \"s = host.get_state()\\nprint(s)\\nprint(dict(s))\";\n",
       "                var nbb_cells = Jupyter.notebook.get_cells();\n",
       "                for (var i = 0; i < nbb_cells.length; ++i) {\n",
       "                    if (nbb_cells[i].input_prompt_number == nbb_cell_id) {\n",
       "                        if (nbb_cells[i].get_text() == nbb_unformatted_code) {\n",
       "                             nbb_cells[i].set_text(nbb_formatted_code);\n",
       "                        }\n",
       "                        break;\n",
       "                    }\n",
       "                }\n",
       "            }, 500);\n",
       "            "
      ],
      "text/plain": [
       "<IPython.core.display.Javascript object>"
      ]
     },
     "metadata": {},
     "output_type": "display_data"
    }
   ],
   "source": [
    "s = host.get_state()\n",
    "print(s)\n",
    "print(dict(s))"
   ]
  },
  {
   "cell_type": "markdown",
   "metadata": {},
   "source": [
    "The next cell just stops the daemon cleanly."
   ]
  },
  {
   "cell_type": "code",
   "execution_count": 15,
   "metadata": {},
   "outputs": [
    {
     "data": {
      "application/javascript": [
       "\n",
       "            setTimeout(function() {\n",
       "                var nbb_cell_id = 15;\n",
       "                var nbb_unformatted_code = \"host.stop_daemon()\\nassert host.check_daemon() == False\";\n",
       "                var nbb_formatted_code = \"host.stop_daemon()\\nassert host.check_daemon() == False\";\n",
       "                var nbb_cells = Jupyter.notebook.get_cells();\n",
       "                for (var i = 0; i < nbb_cells.length; ++i) {\n",
       "                    if (nbb_cells[i].input_prompt_number == nbb_cell_id) {\n",
       "                        if (nbb_cells[i].get_text() == nbb_unformatted_code) {\n",
       "                             nbb_cells[i].set_text(nbb_formatted_code);\n",
       "                        }\n",
       "                        break;\n",
       "                    }\n",
       "                }\n",
       "            }, 500);\n",
       "            "
      ],
      "text/plain": [
       "<IPython.core.display.Javascript object>"
      ]
     },
     "metadata": {},
     "output_type": "display_data"
    }
   ],
   "source": [
    "host.stop_daemon()\n",
    "assert host.check_daemon() == False"
   ]
  },
  {
   "cell_type": "markdown",
   "metadata": {},
   "source": [
    "### Dummy experiment: printing measurements\n",
    "\n",
    "We now are ready to run an external resource management strategy. The next cell uses the low-level \"upstream\" message passing interface to run a dummy strategy that takes a constant action. Message schemas for this API can be browsed in the [./resources/](./resources/) folder."
   ]
  },
  {
   "cell_type": "code",
   "execution_count": 16,
   "metadata": {},
   "outputs": [
    {
     "name": "stdout",
     "output_type": "stream",
     "text": [
      "connecting\n",
      "connected to tcp://localhost:2345\n",
      "Starting the workload\n",
      "1585803231.5284595\n",
      "Sensor identifier list:\n",
      "- DownstreamCmdKey (DownstreamCmdID 9b63738d-1426-4307-8e2d-842d83c35445)\n",
      "- RaplKey (PackageID 0)\n",
      "Actuator identifier list:\n",
      "- RaplKey (PackageID 0)\n",
      "measured at time 1585803231527137.2: sensor RaplKey (PackageID 0), value 11.30911500000002\n",
      "1585803232.5476637\n",
      "measured at time 1585803232527184.5: sensor RaplKey (PackageID 0), value 9.075172000000748\n",
      "1585803233.5281143\n",
      "measured at time 1585803233527007.5: sensor RaplKey (PackageID 0), value 7.450114999999641\n",
      "1585803234.1337261\n",
      "measured at time 1585803234132703.8: sensor DownstreamCmdKey (DownstreamCmdID 9b63738d-1426-4307-8e2d-842d83c35445), value 0\n",
      "1585803234.5284696\n",
      "measured at time 1585803234527442.8: sensor RaplKey (PackageID 0), value 7.9661660000001575\n",
      "1585803235.1345613\n",
      "measured at time 1585803235133367.5: sensor DownstreamCmdKey (DownstreamCmdID 9b63738d-1426-4307-8e2d-842d83c35445), value 0\n",
      "1585803235.529306\n",
      "measured at time 1585803235528051.8: sensor RaplKey (PackageID 0), value 15.378989000000729\n",
      "1585803236.1344712\n",
      "measured at time 1585803236133290.8: sensor DownstreamCmdKey (DownstreamCmdID 9b63738d-1426-4307-8e2d-842d83c35445), value 0\n",
      "1585803236.5282028\n",
      "measured at time 1585803236527005: sensor RaplKey (PackageID 0), value 16.851213999998436\n",
      "1585803237.134349\n",
      "measured at time 1585803237133406.8: sensor DownstreamCmdKey (DownstreamCmdID 9b63738d-1426-4307-8e2d-842d83c35445), value 0\n",
      "1585803237.527531\n",
      "measured at time 1585803237526441: sensor RaplKey (PackageID 0), value 13.05373900000086\n",
      "1585803238.134748\n",
      "measured at time 1585803238133580.5: sensor DownstreamCmdKey (DownstreamCmdID 9b63738d-1426-4307-8e2d-842d83c35445), value 0\n",
      "1585803238.5282598\n",
      "measured at time 1585803238527038.8: sensor RaplKey (PackageID 0), value 9.916172999999617\n",
      "1585803239.1349437\n",
      "measured at time 1585803239133953: sensor DownstreamCmdKey (DownstreamCmdID 9b63738d-1426-4307-8e2d-842d83c35445), value 0\n",
      "1585803239.5283322\n",
      "measured at time 1585803239527050.8: sensor RaplKey (PackageID 0), value 11.422334000000774\n",
      "1585803240.1352584\n",
      "measured at time 1585803240134316.8: sensor DownstreamCmdKey (DownstreamCmdID 9b63738d-1426-4307-8e2d-842d83c35445), value 0\n",
      "1585803240.5285597\n",
      "measured at time 1585803240527461: sensor RaplKey (PackageID 0), value 13.025234999999157\n",
      "1585803241.529183\n",
      "measured at time 1585803241528135.5: sensor RaplKey (PackageID 0), value 13.282803000000058\n"
     ]
    },
    {
     "data": {
      "application/javascript": [
       "\n",
       "            setTimeout(function() {\n",
       "                var nbb_cell_id = 16;\n",
       "                var nbb_unformatted_code = \"from collections import defaultdict\\n\\nfor name, (daemonCfg, workload) in experiments.items():\\n    host.start_daemon(daemonCfg)\\n    print(\\\"Starting the workload\\\")\\n    host.run_workload(workload)\\n    history = defaultdict(list)\\n    getCPD = True\\n    while host.check_daemon() and not host.workload_finished():\\n        measurement_message = host.workload_recv()\\n        msg = json.loads(measurement_message)\\n        # print(\\\"received raw message: %s\\\" %msg)\\n        if \\\"pubMeasurements\\\" in msg:\\n            # print(msg)\\n            ts = time.time()\\n            print(ts)\\n            if getCPD:\\n                getCPD = False\\n                time.sleep(1)\\n                cpd = dict(host.get_cpd())\\n                print(\\\"Sensor identifier list:\\\")\\n                for sensorID in [sensor[0] for sensor in cpd[\\\"sensors\\\"]]:\\n                    print(\\\"- %s\\\" % sensorID)\\n                print(\\\"Actuator identifier list:\\\")\\n                for sensorID in [sensor[0] for sensor in cpd[\\\"actuators\\\"]]:\\n                    print(\\\"- %s\\\" % sensorID)\\n            content = msg[\\\"pubMeasurements\\\"][1][0]\\n            t = content[\\\"time\\\"]\\n            sensorID = content[\\\"sensorID\\\"]\\n            x = content[\\\"sensorValue\\\"]\\n            print(\\\"measured at time %s: sensor %s, value %s\\\" % (t, sensorID, x))\\n            history[sensorID].append((t, x))\\n        host.workload_action([nrm.Action(\\\"RaplKey (PackageID 0)\\\", 210)])\\n    host.check_daemon()\\n\\nhost.stop_daemon()\";\n",
       "                var nbb_formatted_code = \"from collections import defaultdict\\n\\nfor name, (daemonCfg, workload) in experiments.items():\\n    host.start_daemon(daemonCfg)\\n    print(\\\"Starting the workload\\\")\\n    host.run_workload(workload)\\n    history = defaultdict(list)\\n    getCPD = True\\n    while host.check_daemon() and not host.workload_finished():\\n        measurement_message = host.workload_recv()\\n        msg = json.loads(measurement_message)\\n        # print(\\\"received raw message: %s\\\" %msg)\\n        if \\\"pubMeasurements\\\" in msg:\\n            # print(msg)\\n            ts = time.time()\\n            print(ts)\\n            if getCPD:\\n                getCPD = False\\n                time.sleep(1)\\n                cpd = dict(host.get_cpd())\\n                print(\\\"Sensor identifier list:\\\")\\n                for sensorID in [sensor[0] for sensor in cpd[\\\"sensors\\\"]]:\\n                    print(\\\"- %s\\\" % sensorID)\\n                print(\\\"Actuator identifier list:\\\")\\n                for sensorID in [sensor[0] for sensor in cpd[\\\"actuators\\\"]]:\\n                    print(\\\"- %s\\\" % sensorID)\\n            content = msg[\\\"pubMeasurements\\\"][1][0]\\n            t = content[\\\"time\\\"]\\n            sensorID = content[\\\"sensorID\\\"]\\n            x = content[\\\"sensorValue\\\"]\\n            print(\\\"measured at time %s: sensor %s, value %s\\\" % (t, sensorID, x))\\n            history[sensorID].append((t, x))\\n        host.workload_action([nrm.Action(\\\"RaplKey (PackageID 0)\\\", 210)])\\n    host.check_daemon()\\n\\nhost.stop_daemon()\";\n",
       "                var nbb_cells = Jupyter.notebook.get_cells();\n",
       "                for (var i = 0; i < nbb_cells.length; ++i) {\n",
       "                    if (nbb_cells[i].input_prompt_number == nbb_cell_id) {\n",
       "                        if (nbb_cells[i].get_text() == nbb_unformatted_code) {\n",
       "                             nbb_cells[i].set_text(nbb_formatted_code);\n",
       "                        }\n",
       "                        break;\n",
       "                    }\n",
       "                }\n",
       "            }, 500);\n",
       "            "
      ],
      "text/plain": [
       "<IPython.core.display.Javascript object>"
      ]
     },
     "metadata": {},
     "output_type": "display_data"
    }
   ],
   "source": [
    "from collections import defaultdict\n",
    "\n",
    "for name, (daemonCfg, workload) in experiments.items():\n",
    "    host.start_daemon(daemonCfg)\n",
    "    print(\"Starting the workload\")\n",
    "    host.run_workload(workload)\n",
    "    history = defaultdict(list)\n",
    "    getCPD = True\n",
    "    while host.check_daemon() and not host.workload_finished():\n",
    "        measurement_message = host.workload_recv()\n",
    "        msg = json.loads(measurement_message)\n",
    "        # print(\"received raw message: %s\" %msg)\n",
    "        if \"pubMeasurements\" in msg:\n",
    "            # print(msg)\n",
    "            ts = time.time()\n",
    "            print(ts)\n",
    "            if getCPD:\n",
    "                getCPD = False\n",
    "                time.sleep(1)\n",
    "                cpd = dict(host.get_cpd())\n",
    "                print(\"Sensor identifier list:\")\n",
    "                for sensorID in [sensor[0] for sensor in cpd[\"sensors\"]]:\n",
    "                    print(\"- %s\" % sensorID)\n",
    "                print(\"Actuator identifier list:\")\n",
    "                for sensorID in [sensor[0] for sensor in cpd[\"actuators\"]]:\n",
    "                    print(\"- %s\" % sensorID)\n",
    "            content = msg[\"pubMeasurements\"][1][0]\n",
    "            t = content[\"time\"]\n",
    "            sensorID = content[\"sensorID\"]\n",
    "            x = content[\"sensorValue\"]\n",
    "            print(\"measured at time %s: sensor %s, value %s\" % (t, sensorID, x))\n",
    "            history[sensorID].append((t, x))\n",
    "        host.workload_action([nrm.Action(\"RaplKey (PackageID 0)\", 210)])\n",
    "    host.check_daemon()\n",
    "\n",
    "host.stop_daemon()"
   ]
  },
  {
   "cell_type": "markdown",
   "metadata": {},
   "source": [
    "Let's plot those sensor measurements. Not very interesting since our sleep job did not produce any operations, but here goes:"
   ]
  },
  {
   "cell_type": "code",
   "execution_count": 18,
   "metadata": {},
   "outputs": [
    {
     "data": {
      "image/png": "[encoded data removed]",
      "text/plain": [
       "<Figure size 432x288 with 1 Axes>"
      ]
     },
     "metadata": {
      "needs_background": "light"
     },
     "output_type": "display_data"
    },
    {
     "data": {
      "image/png": "[encoded data removed]",
      "text/plain": [
       "<Figure size 432x288 with 1 Axes>"
      ]
     },
     "metadata": {
      "needs_background": "light"
     },
     "output_type": "display_data"
    },
    {
     "data": {
      "application/javascript": [
       "\n",
       "            setTimeout(function() {\n",
       "                var nbb_cell_id = 18;\n",
       "                var nbb_unformatted_code = \"for sensorID, measurements in history.items():\\n    dataframe = pd.DataFrame(\\n        data=[(pd.Timestamp(t, unit=\\\"us\\\"), m) for t, m in measurements]\\n    )\\n    dataframe.columns = [\\\"time\\\", \\\"value\\\"]\\n    dataframe = dataframe.set_index(\\\"time\\\")\\n    ax = dataframe.plot(\\n        marker=\\\"o\\\", linestyle=\\\"-\\\", title='values for sensor \\\"%s[..]\\\"' % sensorID[:20]\\n    )\";\n",
       "                var nbb_formatted_code = \"for sensorID, measurements in history.items():\\n    dataframe = pd.DataFrame(\\n        data=[(pd.Timestamp(t, unit=\\\"us\\\"), m) for t, m in measurements]\\n    )\\n    dataframe.columns = [\\\"time\\\", \\\"value\\\"]\\n    dataframe = dataframe.set_index(\\\"time\\\")\\n    ax = dataframe.plot(\\n        marker=\\\"o\\\", linestyle=\\\"-\\\", title='values for sensor \\\"%s[..]\\\"' % sensorID[:20]\\n    )\";\n",
       "                var nbb_cells = Jupyter.notebook.get_cells();\n",
       "                for (var i = 0; i < nbb_cells.length; ++i) {\n",
       "                    if (nbb_cells[i].input_prompt_number == nbb_cell_id) {\n",
       "                        if (nbb_cells[i].get_text() == nbb_unformatted_code) {\n",
       "                             nbb_cells[i].set_text(nbb_formatted_code);\n",
       "                        }\n",
       "                        break;\n",
       "                    }\n",
       "                }\n",
       "            }, 500);\n",
       "            "
      ],
      "text/plain": [
       "<IPython.core.display.Javascript object>"
      ]
     },
     "metadata": {},
     "output_type": "display_data"
    }
   ],
   "source": [
    "for sensorID, measurements in history.items():\n",
    "    dataframe = pd.DataFrame(\n",
    "        data=[(pd.Timestamp(t, unit=\"us\"), m) for t, m in measurements]\n",
    "    )\n",
    "    dataframe.columns = [\"time\", \"value\"]\n",
    "    dataframe = dataframe.set_index(\"time\")\n",
    "    ax = dataframe.plot(\n",
    "        marker=\"o\", linestyle=\"-\", title='values for sensor \"%s[..]\"' % sensorID[:20]\n",
    "    )"
   ]
  },
  {
   "cell_type": "code",
   "execution_count": null,
   "metadata": {},
   "outputs": [],
   "source": []
  }
 ],
 "metadata": {
  "kernelspec": {
   "display_name": "Python 3",
   "language": "python",
   "name": "python3"
  },
  "language_info": {
   "codemirror_mode": {
    "name": "ipython",
    "version": 3
   },
   "file_extension": ".py",
   "mimetype": "text/x-python",
   "name": "python",
   "nbconvert_exporter": "python",
   "pygments_lexer": "ipython3",
   "version": "3.7.6"
  }
 },
 "nbformat": 4,
 "nbformat_minor": 4
}
