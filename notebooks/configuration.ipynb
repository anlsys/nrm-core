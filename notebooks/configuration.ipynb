{
 "cells": [
  {
   "cell_type": "markdown",
   "metadata": {},
   "source": [
    "# NRM Configuration/Manifest guide\n",
    "\n",
    "This notebook documents NRM's configuration and manifest format. The two next cells are for setup purposes."
   ]
  },
  {
   "cell_type": "code",
   "execution_count": 1,
   "metadata": {},
   "outputs": [],
   "source": [
    "%%capture\n",
    "cd .."
   ]
  },
  {
   "cell_type": "code",
   "execution_count": 2,
   "metadata": {},
   "outputs": [],
   "source": [
    "import json\n",
    "import pprint\n",
    "\n",
    "pp = pprint.PrettyPrinter(indent=4)"
   ]
  },
  {
   "cell_type": "markdown",
   "metadata": {},
   "source": [
    "## Daemon configuration"
   ]
  },
  {
   "cell_type": "markdown",
   "metadata": {},
   "source": [
    "`nrmd`'s configuration can be defined in the json/yaml/[Dhall](https://dhall-lang.org/) formats. Admissible values are defined in file [hsnrm/hsnrm/dhall/types/nrmd.dhall](hsnrm/hsnrm/dhall/types/nrmd.dhall)."
   ]
  },
  {
   "cell_type": "code",
   "execution_count": 19,
   "metadata": {
    "scrolled": false
   },
   "outputs": [
    {
     "name": "stdout",
     "output_type": "stream",
     "text": [
      "-- ******************************************************************************\n",
      "--  Copyright 2019 UChicago Argonne, LLC.\n",
      "--  (c.f. AUTHORS, LICENSE)\n",
      "--\n",
      "--  SPDX-License-Identifier: BSD-3-Clause\n",
      "-- ******************************************************************************\n",
      "--\n",
      "-- types used by nrmd's configuration.\n",
      "--\n",
      "--\n",
      "let types =\n",
      "    -- This import defines a few base types that are common to manifest and\n",
      "    -- configuration formats.\n",
      "      ./types.dhall\n",
      "\n",
      "let Verbosity =\n",
      "    -- Daemon verbosity:\n",
      "    --   Error: Only report errors\n",
      "    --   Info: Be verbose\n",
      "    --   Debug: Report all that can possibly be reported\n",
      "      < Error | Info | Debug >\n",
      "\n",
      "let SensorBehavior =\n",
      "    -- Sensor Behavior.\n",
      "    -- IntervalBased: a sensor that measures an average value for the time\n",
      "    -- period since its last reading.\n",
      "    -- Cumulative: a sensor that measures a counter. NRM must substract between\n",
      "    -- subsequent counter values to obtain a reading for the corresponding time\n",
      "    -- period.\n",
      "    -- CumulativeWithCapacity: same as `Cumulative`, except the sensor gives\n",
      "    -- bounded values that go back to zero after a given threshold. Typical of\n",
      "    -- RAPL sysfs sensors, for instance .\n",
      "      < IntervalBased | Cumulative | CumulativeWithCapacity : Double >\n",
      "\n",
      "let Range =\n",
      "    -- An inclusive range of values\n",
      "      { lower : Double, upper : Double }\n",
      "\n",
      "let DownstreamCfg =\n",
      "    -- Configuration for the dowstream API\n",
      "      { downstreamBindAddress : Text }\n",
      "\n",
      "let UpstreamCfg =\n",
      "    -- Configuration for the upstream API\n",
      "      { upstreamBindAddress : Text, pubPort : Integer, rpcPort : Integer }\n",
      "\n",
      "let Tag =\n",
      "    -- Available tags for describing sensors. Tags are used for setting\n",
      "    -- objective functions up.\n",
      "      < TagPower\n",
      "      | TagRapl\n",
      "      | TagDownstreamThreadSignal\n",
      "      | TagDownstreamCmdSignal\n",
      "      | TagMinimize\n",
      "      | TagMaximize\n",
      "      >\n",
      "\n",
      "let Sensor =\n",
      "    -- Configuration for an arbitrary sensor.\n",
      "      { sensorBinary : Text\n",
      "      , sensorArguments : List Text\n",
      "      , range : Range\n",
      "      , tags : List Tag\n",
      "      , sensorBehavior : SensorBehavior\n",
      "      }\n",
      "\n",
      "let Actuator =\n",
      "    -- Configuration for an arbitrary actuator.\n",
      "      { actuatorBinary : Text\n",
      "      , actuatorArguments : List Text\n",
      "      , actions : List Double\n",
      "      , referenceAction : Double\n",
      "      }\n",
      "\n",
      "let ActuatorKV =\n",
      "    -- Key-value representation for an actuator.\n",
      "      { actuatorID : Text, actuator : Actuator }\n",
      "\n",
      "let SensorKV =\n",
      "    -- Key-value representation for a sensor.\n",
      "      { sensorID : Text, sensor : Sensor }\n",
      "\n",
      "let RaplCfg =\n",
      "    -- Configuration for auto-discovered RAPL power sensors/actuators\n",
      "      { raplPath : Text\n",
      "      , raplActions : List types.Power\n",
      "      , referencePower : types.Power\n",
      "      }\n",
      "\n",
      "let ActuatorValue =\n",
      "    -- Actuator value configuration for the internal control loop configuration.\n",
      "      { actuatorValueID : Text, actuatorValue : Double }\n",
      "\n",
      "let Hint =\n",
      "    -- Action space configuration for internal control loop.\n",
      "      < Full\n",
      "      | Only :\n",
      "          { neHead : List ActuatorValue, neTail : List (List ActuatorValue) }\n",
      "      >\n",
      "\n",
      "let LearnCfg =\n",
      "    -- Internal control loop algorithm type and hyperparameters.\n",
      "      < Lagrange : { lagrange : Double }\n",
      "      | Random : { seed : Integer }\n",
      "      | Contextual : { horizon : Integer }\n",
      "      >\n",
      "\n",
      "let ControlCfg =\n",
      "    -- Root control configuration.\n",
      "    -- ControlCfg: configures an internal control loop\n",
      "    -- ControlOff: bypass mode\n",
      "      < ControlCfg :\n",
      "          { minimumControlInterval : types.Time\n",
      "          , minimumWaitInterval : types.Time\n",
      "          , staticPower : types.Power\n",
      "          , learnCfg : LearnCfg\n",
      "          , speedThreshold : Double\n",
      "          , referenceMeasurementRoundInterval : Integer\n",
      "          , hint : Hint\n",
      "          }\n",
      "      | ControlOff\n",
      "      >\n",
      "\n",
      "let Cfg =\n",
      "    -- The configuration type for `nrmd`.\n",
      "    -- verbose : a verbosity level configuration.\n",
      "    -- logfile : the main log file for the daemon.\n",
      "    -- perfPath : the path/binary name of the linux perf executable.\n",
      "    -- perfwrapperPath : the path/binary name of the nrm-perfwrapper executable\n",
      "    -- libnrmPath : the path to the libnrm.so to use. leave at None to disable\n",
      "    --              the feature globally (for all apps).\n",
      "    -- downstreamCfg : Downstream API configuration.\n",
      "    -- upstreamCfg : Upstream API configuration.\n",
      "    -- raplCfg : RAPL configuration. Leave at None to disable the feature\n",
      "    --           globally.\n",
      "    -- controlCfg : resource control configuration\n",
      "    -- passiveSensorFrequency : unified frequency for all NRM's passive sensors.\n",
      "    -- extraStaticPassiveSensors : list of extra static passive sensors.\n",
      "    -- extraStaticActuators : list of extra actuators.\n",
      "      { verbose : Verbosity\n",
      "      , logfile : Text\n",
      "      , perfPath : Text\n",
      "      , perfwrapperPath : Text\n",
      "      , libnrmPath : Optional Text\n",
      "      , downstreamCfg : DownstreamCfg\n",
      "      , upstreamCfg : UpstreamCfg\n",
      "      , raplCfg : Optional RaplCfg\n",
      "      , controlCfg : ControlCfg\n",
      "      , passiveSensorFrequency : types.Frequency\n",
      "      , extraStaticPassiveSensors : List SensorKV\n",
      "      , extraStaticActuators : List ActuatorKV\n",
      "      }\n",
      "\n",
      "let output =\n",
      "      { Verbosity = Verbosity\n",
      "      , UpstreamCfg = UpstreamCfg\n",
      "      , DownstreamCfg = DownstreamCfg\n",
      "      , Tag = Tag\n",
      "      , SensorBehavior = SensorBehavior\n",
      "      , Actuator = Actuator\n",
      "      , SensorKV = SensorKV\n",
      "      , Sensor = Sensor\n",
      "      , ActuatorKV = ActuatorKV\n",
      "      , Range = Range\n",
      "      , PassiveSensorCfg = Sensor\n",
      "      , ActuatorValue = ActuatorValue\n",
      "      , ActuatorCfg = Actuator\n",
      "      , LearnCfg = LearnCfg\n",
      "      , RaplCfg = RaplCfg\n",
      "      , ControlCfg = ControlCfg\n",
      "      , Hint = Hint\n",
      "      , Cfg = Cfg\n",
      "      }\n",
      "\n",
      "in  types ⫽ output\n"
     ]
    }
   ],
   "source": [
    "%%bash\n",
    "cat ./hsnrm/hsnrm/dhall/types/nrmd.dhall"
   ]
  },
  {
   "cell_type": "markdown",
   "metadata": {},
   "source": [
    "Optional values are filled using defaults that can be found either in Dhall or JSON format: \n",
    "\n",
    "-[hsnrm/hsnrm/dhall/defaults/nrmd.dhall](hsnrm/hsnrm/dhall/defaults/nrmd.dhall) \n",
    "-[resources/defaults/nrmd.json](resources/defaults/nrmd.json)"
   ]
  },
  {
   "cell_type": "code",
   "execution_count": 21,
   "metadata": {},
   "outputs": [
    {
     "name": "stdout",
     "output_type": "stream",
     "text": [
      "let t = ../types/nrmd.dhall\n",
      "\n",
      "in    { verbose = t.Verbosity.Error\n",
      "      , logfile = \"/tmp/nrm.log\"\n",
      "      , perfPath = \"perf\"\n",
      "      , perfwrapperPath = \"nrm-perfwrapper\"\n",
      "      , libnrmPath = None Text\n",
      "      , downstreamCfg.downstreamBindAddress = \"ipc:///tmp/nrm-downstream-event\"\n",
      "      , upstreamCfg =\n",
      "          { upstreamBindAddress = \"*\", pubPort = +2345, rpcPort = +3456 }\n",
      "      , raplCfg = Some\n",
      "          { raplPath = \"/sys/devices/virtual/powercap/intel-rapl\"\n",
      "          , raplActions = [ { microwatts = 1.0e8 }, { microwatts = 2.0e8 } ]\n",
      "          , referencePower.microwatts = 2.5e8\n",
      "          }\n",
      "      , controlCfg = t.ControlCfg.ControlOff\n",
      "      , passiveSensorFrequency.hertz = 1.0\n",
      "      , extraStaticPassiveSensors = [] : List t.SensorKV\n",
      "      , extraStaticActuators = [] : List t.ActuatorKV\n",
      "      }\n",
      "    : t.Cfg\n"
     ]
    }
   ],
   "source": [
    "%%bash\n",
    "cat ./hsnrm/hsnrm/dhall/defaults/nrmd.dhall"
   ]
  },
  {
   "cell_type": "code",
   "execution_count": 31,
   "metadata": {},
   "outputs": [
    {
     "name": "stdout",
     "output_type": "stream",
     "text": [
      "extraStaticPassiveSensors: []\n",
      "perfPath: perf\n",
      "verbose: Error\n",
      "logfile: /tmp/nrm.log\n",
      "controlCfg: ControlOff\n",
      "upstreamCfg:\n",
      "  upstreamBindAddress: '*'\n",
      "  rpcPort: 3456\n",
      "  pubPort: 2345\n",
      "libnrmPath: null\n",
      "downstreamCfg:\n",
      "  downstreamBindAddress: ipc:///tmp/nrm-downstream-event\n",
      "perfwrapperPath: nrm-perfwrapper\n",
      "extraStaticActuators: []\n",
      "raplCfg:\n",
      "  referencePower:\n",
      "    microwatts: 250000000\n",
      "  raplActions:\n",
      "    - microwatts: 100000000\n",
      "    - microwatts: 200000000\n",
      "  raplPath: /sys/devices/virtual/powercap/intel-rapl\n",
      "passiveSensorFrequency:\n",
      "  hertz: 1\n"
     ]
    }
   ],
   "source": [
    "%%bash\n",
    "cat ./resources/defaults/nrmd.json | yq '' --yaml-output"
   ]
  },
  {
   "cell_type": "markdown",
   "metadata": {},
   "source": [
    "Attribute merging is always performed with those defaults. Example configurations are located in the `examples` folder:"
   ]
  },
  {
   "cell_type": "code",
   "execution_count": 27,
   "metadata": {},
   "outputs": [
    {
     "name": "stdout",
     "output_type": "stream",
     "text": [
      "passiveSensorFrequency:\n",
      "  hertz: 1\n",
      "controlCfg:\n",
      "  hint: Full\n",
      "  learnCfg:\n",
      "    horizon: 4000\n",
      "  minimumWaitInterval:\n",
      "    microseconds: 100000\n",
      "  minimumControlInterval:\n",
      "    microseconds: 100000\n",
      "  referenceMeasurementRoundInterval: 6\n",
      "  speedThreshold: 1.1\n",
      "  staticPower:\n",
      "    microwatts: 200000000\n",
      "raplCfg:\n",
      "  raplActions:\n",
      "    - microwatts: 100000000\n",
      "    - microwatts: 200000000\n",
      "  raplPath: /sys/devices/virtual/powercap/intel-rapl\n",
      "  referencePower:\n",
      "    microwatts: 250000000\n"
     ]
    }
   ],
   "source": [
    "%%bash\n",
    "cat ./examples/nrmd/control.yaml"
   ]
  },
  {
   "cell_type": "markdown",
   "metadata": {},
   "source": [
    "## Manifest configuration"
   ]
  },
  {
   "cell_type": "markdown",
   "metadata": {},
   "source": [
    "Manifest files can also be defined either using Dhall, YAML, or JSON, and are at similar locations. "
   ]
  },
  {
   "cell_type": "code",
   "execution_count": 28,
   "metadata": {},
   "outputs": [
    {
     "name": "stdout",
     "output_type": "stream",
     "text": [
      "-- ******************************************************************************\n",
      "--  Copyright 2019 UChicago Argonne, LLC.\n",
      "--  (c.f. AUTHORS, LICENSE)\n",
      "--\n",
      "--  SPDX-License-Identifier: BSD-3-Clause\n",
      "-- ******************************************************************************\n",
      "let types =\n",
      "    -- This import defines a few base types that are common to manifest and\n",
      "    -- configuration formats.\n",
      "      ./types.dhall\n",
      "\n",
      "let Perfwrapper =\n",
      "    -- Configuration for linux perf performance measurements. A fixed frequency\n",
      "    -- is provided, along with a tentative upper bound on the maximum value of\n",
      "    -- the sensor. This upper bound should be set to a low positive value if\n",
      "    -- no a-priori information is known; NRM will then use a recursive-doubling\n",
      "    -- strategy to maintain its own bound.\n",
      "      { perfFreq : types.Frequency, perfLimit : Integer }\n",
      "\n",
      "let Instrumentation =\n",
      "    -- Libnrm instrumentation. The only attribute that configures this feature\n",
      "    -- is a message rate limitation.\n",
      "      { ratelimit : types.Frequency }\n",
      "\n",
      "let App =\n",
      "    -- Application configuration. Two features can be enabled or disabled:\n",
      "    -- perfwrapper: an optional linux perf configuration\n",
      "    -- instrumentation: an optional libnrm instrumentation configuration\n",
      "      { perfwrapper : Optional Perfwrapper\n",
      "      , instrumentation : Optional Instrumentation\n",
      "      }\n",
      "\n",
      "let Manifest =\n",
      "    -- A manifest has a name, and an application configuration.\n",
      "      { name : Text, app : App }\n",
      "\n",
      "in    types\n",
      "    ⫽ { Perfwrapper = Perfwrapper\n",
      "      , Instrumentation = Instrumentation\n",
      "      , App = App\n",
      "      , Manifest = Manifest\n",
      "      }\n"
     ]
    }
   ],
   "source": [
    "%%bash\n",
    "cat ./hsnrm/hsnrm/dhall/types/manifest.dhall"
   ]
  },
  {
   "cell_type": "code",
   "execution_count": 42,
   "metadata": {},
   "outputs": [
    {
     "name": "stdout",
     "output_type": "stream",
     "text": [
      "-- ******************************************************************************\n",
      "--  Copyright 2019 UChicago Argonne, LLC.\n",
      "--  (c.f. AUTHORS, LICENSE)\n",
      "--\n",
      "--  SPDX-License-Identifier: BSD-3-Clause\n",
      "-- ******************************************************************************\n",
      "\n",
      "let t = ../types/manifest.dhall\n",
      "\n",
      "in  { name = \"default\"\n",
      "    , app =\n",
      "        { perfwrapper = None t.Perfwrapper\n",
      "        , instrumentation = None t.Instrumentation\n",
      "        }\n",
      "    }\n"
     ]
    }
   ],
   "source": [
    "%%bash\n",
    "cat ./hsnrm/hsnrm/dhall/defaults/manifest.dhall"
   ]
  },
  {
   "cell_type": "markdown",
   "metadata": {},
   "source": [
    "Under-specified manifests like the one in our `workloads` above (with missing optional fields from the schema) fill missing values with defaults, which are located in file [resources/defaults/Manifest.json](../../resources/examples/default.json):"
   ]
  },
  {
   "cell_type": "code",
   "execution_count": 43,
   "metadata": {},
   "outputs": [
    {
     "name": "stdout",
     "output_type": "stream",
     "text": [
      "-- ******************************************************************************\n",
      "--  Copyright 2019 UChicago Argonne, LLC.\n",
      "--  (c.f. AUTHORS, LICENSE)\n",
      "--\n",
      "--  SPDX-License-Identifier: BSD-3-Clause\n",
      "-- ******************************************************************************\n",
      "\n",
      "let t = ../types/manifest.dhall\n",
      "\n",
      "in  { name = \"default\"\n",
      "    , app =\n",
      "        { perfwrapper = None t.Perfwrapper\n",
      "        , instrumentation = None t.Instrumentation\n",
      "        }\n",
      "    }\n"
     ]
    }
   ],
   "source": [
    "%%bash\n",
    "cat ./hsnrm/hsnrm/dhall/defaults/manifest.dhall"
   ]
  },
  {
   "cell_type": "markdown",
   "metadata": {},
   "source": [
    "The `dhall` and `dhall-to-json` utilities are available as convenience in this environment should you need them. Dhall is useful as a configuration language in itself:"
   ]
  },
  {
   "cell_type": "code",
   "execution_count": 44,
   "metadata": {},
   "outputs": [
    {
     "name": "stdout",
     "output_type": "stream",
     "text": [
      "app:\n",
      "  instrumentation: null\n",
      "  perfwrapper: null\n",
      "name: default\n"
     ]
    }
   ],
   "source": [
    "%%bash\n",
    "cat ./resources/defaults/manifest.json | yq '' --yaml-output"
   ]
  },
  {
   "cell_type": "code",
   "execution_count": 45,
   "metadata": {},
   "outputs": [
    {
     "name": "stdout",
     "output_type": "stream",
     "text": [
      "name: linuxperf-wrapped\n",
      "app:\n",
      "  perfwrapper:\n",
      "    perfFreq:\n",
      "      hertz: 1\n",
      "    perfLimit: 100000\n"
     ]
    }
   ],
   "source": [
    "%%bash\n",
    "cat ./examples/manifests/perfwrap.yaml"
   ]
  }
 ],
 "metadata": {
  "kernelspec": {
   "display_name": "Python 3",
   "language": "python",
   "name": "python3"
  },
  "language_info": {
   "codemirror_mode": {
    "name": "ipython",
    "version": 3
   },
   "file_extension": ".py",
   "mimetype": "text/x-python",
   "name": "python",
   "nbconvert_exporter": "python",
   "pygments_lexer": "ipython3",
   "version": "3.7.6"
  }
 },
 "nbformat": 4,
 "nbformat_minor": 4
}
