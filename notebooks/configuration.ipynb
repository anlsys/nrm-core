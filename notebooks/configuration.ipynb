{
 "cells": [
  {
   "cell_type": "markdown",
   "metadata": {},
   "source": [
    "# NRM Configuration/Manifest guide\n",
    "\n",
    "This notebook documents NRM's configuration and manifest format. The two next cells are for setup purposes."
   ]
  },
  {
   "cell_type": "code",
   "execution_count": 1,
   "metadata": {},
   "outputs": [],
   "source": [
    "%%capture\n",
    "cd .."
   ]
  },
  {
   "cell_type": "code",
   "execution_count": 2,
   "metadata": {},
   "outputs": [],
   "source": [
    "import json\n",
    "import pprint\n",
    "\n",
    "pp = pprint.PrettyPrinter(indent=4)"
   ]
  },
  {
   "cell_type": "markdown",
   "metadata": {},
   "source": [
    "## Daemon configuration"
   ]
  },
  {
   "cell_type": "markdown",
   "metadata": {},
   "source": [
    "`nrmd`'s configuration can be defined in the json/yaml/[Dhall](https://dhall-lang.org/) formats. Admissible values are defined in file [resources/configurationSchema.json](./resources/configurationSchema.json), and alternatively available as a Dhall type in [resources/types/Cfg.dhall](resources/types/Configuration.dhall). Schema files get large, so the next cells shows the Dhall Configuration type as a more readable alternative."
   ]
  },
  {
   "cell_type": "code",
   "execution_count": 3,
   "metadata": {},
   "outputs": [
    {
     "name": "stdout",
     "output_type": "stream",
     "text": [
      "{ activeSensorFrequency =\n",
      "    { fromHz = 1.0 }\n",
      ", argo_nodeos_config =\n",
      "    \"argo_nodeos_config\"\n",
      ", argo_perf_wrapper =\n",
      "    \"nrm-perfwrapper\"\n",
      ", controlCfg =\n",
      "    < ControlCfg :\n",
      "        { hint :\n",
      "            < Full\n",
      "            | Only :\n",
      "                { only :\n",
      "                    List (List { actuatorID : Text, actuatorValue : Double })\n",
      "                }\n",
      "            >\n",
      "        , learnCfg :\n",
      "            < Contextual :\n",
      "                { contextual : { horizon : Integer } }\n",
      "            | Lagrange :\n",
      "                { lagrange : Double }\n",
      "            | Random :\n",
      "                { random : Optional Integer }\n",
      "            >\n",
      "        , minimumControlInterval :\n",
      "            { fromuS : Double }\n",
      "        , referenceMeasurementRoundInterval :\n",
      "            Integer\n",
      "        , speedThreshold :\n",
      "            Double\n",
      "        , staticPower :\n",
      "            { fromuW : Double }\n",
      "        }\n",
      "    | FixedCommand :\n",
      "        { fixedPower : { fromuW : Double } }\n",
      "    >.FixedCommand\n",
      "    { fixedPower = { fromuW = 2.5e8 } }\n",
      ", downstreamCfg =\n",
      "    { downstreamBindAddress = \"ipc:///tmp/nrm-downstream-event\" }\n",
      ", dummy =\n",
      "    True\n",
      ", hwloc =\n",
      "    \"hwloc\"\n",
      ", hwmonCfg =\n",
      "    { hwmonEnabled = True, hwmonPath = \"/sys/class/hwmon\" }\n",
      ", libnrmPath =\n",
      "    None Text\n",
      ", logfile =\n",
      "    \"/tmp/nrm.log\"\n",
      ", nodeos =\n",
      "    False\n",
      ", perf =\n",
      "    \"perf\"\n",
      ", pmpi_lib =\n",
      "    \"pmpi_lib\"\n",
      ", raplCfg =\n",
      "    Some\n",
      "    { raplActions =\n",
      "        [ { fromuW = 1.0e8 }, { fromuW = 2.0e8 } ]\n",
      "    , raplPath =\n",
      "        \"/sys/devices/virtual/powercap/intel-rapl\"\n",
      "    , referencePower =\n",
      "        { fromuW = 2.5e8 }\n",
      "    }\n",
      ", singularity =\n",
      "    False\n",
      ", slice_runtime =\n",
      "    < Dummy | Nodeos | Singularity >.Dummy\n",
      ", upstreamCfg =\n",
      "    { pubPort = +2345, rpcPort = +3456, upstreamBindAddress = \"*\" }\n",
      ", verbose =\n",
      "    < Debug | Error | Info >.Error\n",
      "}\n"
     ]
    }
   ],
   "source": [
    "%%script dhall resolve\n",
    "./hsnrm/resources/defaults/Cfg.dhall"
   ]
  },
  {
   "cell_type": "markdown",
   "metadata": {},
   "source": [
    "Optional values are filled using defaults that can be found in [resources/defaults/Cfg.json](resources/defaults/Configuration.json) (also available in the Dhall format):"
   ]
  },
  {
   "cell_type": "code",
   "execution_count": 4,
   "metadata": {},
   "outputs": [
    {
     "name": "stdout",
     "output_type": "stream",
     "text": [
      "{\n",
      "  \"pmpi_lib\": \"pmpi_lib\",\n",
      "  \"verbose\": \"Error\",\n",
      "  \"logfile\": \"/tmp/nrm.log\",\n",
      "  \"singularity\": false,\n",
      "  \"argo_nodeos_config\": \"argo_nodeos_config\",\n",
      "  \"controlCfg\": {\n",
      "    \"fixedPower\": {\n",
      "      \"fromuW\": 250000000\n",
      "    }\n",
      "  },\n",
      "  \"upstreamCfg\": {\n",
      "    \"upstreamBindAddress\": \"*\",\n",
      "    \"rpcPort\": 3456,\n",
      "    \"pubPort\": 2345\n",
      "  },\n",
      "  \"libnrmPath\": null,\n",
      "  \"activeSensorFrequency\": {\n",
      "    \"fromHz\": 1\n",
      "  },\n",
      "  \"perf\": \"perf\",\n",
      "  \"argo_perf_wrapper\": \"nrm-perfwrapper\",\n",
      "  \"downstreamCfg\": {\n",
      "    \"downstreamBindAddress\": \"ipc:///tmp/nrm-downstream-event\"\n",
      "  },\n",
      "  \"nodeos\": false,\n",
      "  \"hwloc\": \"hwloc\",\n",
      "  \"raplCfg\": {\n",
      "    \"referencePower\": {\n",
      "      \"fromuW\": 250000000\n",
      "    },\n",
      "    \"raplActions\": [\n",
      "      {\n",
      "        \"fromuW\": 100000000\n",
      "      },\n",
      "      {\n",
      "        \"fromuW\": 200000000\n",
      "      }\n",
      "    ],\n",
      "    \"raplPath\": \"/sys/devices/virtual/powercap/intel-rapl\"\n",
      "  },\n",
      "  \"dummy\": true,\n",
      "  \"slice_runtime\": \"Dummy\",\n",
      "  \"hwmonCfg\": {\n",
      "    \"hwmonPath\": \"/sys/class/hwmon\",\n",
      "    \"hwmonEnabled\": true\n",
      "  }\n",
      "}\n"
     ]
    }
   ],
   "source": [
    "%%bash\n",
    "cat ./hsnrm/resources/defaults/Cfg.json | jq"
   ]
  },
  {
   "cell_type": "markdown",
   "metadata": {},
   "source": [
    "## Manifest configuration"
   ]
  },
  {
   "cell_type": "markdown",
   "metadata": {},
   "source": [
    "Example manifest files are in [resources/examples](../resources/examples) in JSON/YAML/Dhall format. For instance, the manifest file [resources/examples/perfwrap.json](../resources/examples/perfwrap.json) enables enables performance monitoring:"
   ]
  },
  {
   "cell_type": "code",
   "execution_count": 5,
   "metadata": {},
   "outputs": [
    {
     "name": "stdout",
     "output_type": "stream",
     "text": [
      "{\n",
      "  \"image\": null,\n",
      "  \"hwbind\": false,\n",
      "  \"app\": {\n",
      "    \"scheduler\": \"FIFO\",\n",
      "    \"instrumentation\": null,\n",
      "    \"power\": {\n",
      "      \"slowdown\": 1,\n",
      "      \"profile\": false,\n",
      "      \"policy\": \"NoPowerPolicy\"\n",
      "    },\n",
      "    \"perfwrapper\": {\n",
      "      \"perfLimit\": {\n",
      "        \"fromOps\": 100000\n",
      "      },\n",
      "      \"perfFreq\": {\n",
      "        \"fromHz\": 1\n",
      "      }\n",
      "    },\n",
      "    \"slice\": {\n",
      "      \"cpus\": 1,\n",
      "      \"mems\": 1\n",
      "    }\n",
      "  },\n",
      "  \"name\": \"default\"\n",
      "}\n"
     ]
    }
   ],
   "source": [
    "%%bash\n",
    "cat ./hsnrm/resources/examples/perfwrap.json | jq"
   ]
  },
  {
   "cell_type": "markdown",
   "metadata": {},
   "source": [
    "Manifest options are documented in schema file [resources/manifestSchema.json](../resources/manifestSchema.json). The next cell shows the corresponding [Dhall](https://dhall-lang.org/) type."
   ]
  },
  {
   "cell_type": "code",
   "execution_count": 6,
   "metadata": {},
   "outputs": [
    {
     "name": "stdout",
     "output_type": "stream",
     "text": [
      "{ app :\n",
      "    { instrumentation :\n",
      "        Optional { ratelimit : { fromHz : Double } }\n",
      "    , perfwrapper :\n",
      "        < Perfwrapper :\n",
      "            { perfFreq :\n",
      "                { fromHz : Double }\n",
      "            , perfLimit :\n",
      "                { fromOps : Integer }\n",
      "            }\n",
      "        | PerfwrapperDisabled\n",
      "        >\n",
      "    , power :\n",
      "        { policy :\n",
      "            < Combined | DDCM | DVFS | NoPowerPolicy >\n",
      "        , profile :\n",
      "            Bool\n",
      "        , slowdown :\n",
      "            Integer\n",
      "        }\n",
      "    , scheduler :\n",
      "        < FIFO | HPC | Other : { _1 : Integer } >\n",
      "    , slice :\n",
      "        { cpus : Integer, mems : Integer }\n",
      "    }\n",
      ", hwbind :\n",
      "    Bool\n",
      ", image :\n",
      "    Optional\n",
      "    { binds : Optional (List Text), imagetype : < Docker | Sif >, path : Text }\n",
      ", name :\n",
      "    Text\n",
      "}\n"
     ]
    }
   ],
   "source": [
    "%%script dhall resolve\n",
    "./hsnrm/resources/types/Manifest.dhall"
   ]
  },
  {
   "cell_type": "markdown",
   "metadata": {},
   "source": [
    "Under-specified manifests like the one in our `workloads` above (with missing optional fields from the schema) fill missing values with defaults, which are located in file [resources/defaults/Manifest.json](../../resources/examples/default.json):"
   ]
  },
  {
   "cell_type": "code",
   "execution_count": 7,
   "metadata": {},
   "outputs": [
    {
     "name": "stdout",
     "output_type": "stream",
     "text": [
      "{\n",
      "  \"image\": null,\n",
      "  \"hwbind\": false,\n",
      "  \"app\": {\n",
      "    \"scheduler\": \"FIFO\",\n",
      "    \"instrumentation\": null,\n",
      "    \"power\": {\n",
      "      \"slowdown\": 1,\n",
      "      \"profile\": false,\n",
      "      \"policy\": \"NoPowerPolicy\"\n",
      "    },\n",
      "    \"perfwrapper\": \"PerfwrapperDisabled\",\n",
      "    \"slice\": {\n",
      "      \"cpus\": 1,\n",
      "      \"mems\": 1\n",
      "    }\n",
      "  },\n",
      "  \"name\": \"default\"\n",
      "}\n"
     ]
    }
   ],
   "source": [
    "%%bash\n",
    "cat hsnrm/resources/defaults/Manifest.json | jq"
   ]
  },
  {
   "cell_type": "markdown",
   "metadata": {},
   "source": [
    "The `dhall` and `dhall-to-json` utilities are available as convenience in this environment should you need them. Dhall is useful as a configuration language in itself:"
   ]
  },
  {
   "cell_type": "code",
   "execution_count": 8,
   "metadata": {},
   "outputs": [
    {
     "name": "stdout",
     "output_type": "stream",
     "text": [
      "{\n",
      "  \"image\": null,\n",
      "  \"hwbind\": false,\n",
      "  \"app\": {\n",
      "    \"scheduler\": \"FIFO\",\n",
      "    \"instrumentation\": null,\n",
      "    \"power\": {\n",
      "      \"slowdown\": 1,\n",
      "      \"profile\": false,\n",
      "      \"policy\": \"NoPowerPolicy\"\n",
      "    },\n",
      "    \"perfwrapper\": \"PerfwrapperDisabled\",\n",
      "    \"slice\": {\n",
      "      \"cpus\": 1,\n",
      "      \"mems\": 1\n",
      "    }\n",
      "  },\n",
      "  \"name\": \"default-appended\"\n",
      "}\n"
     ]
    }
   ],
   "source": [
    "%%script bash\n",
    "dhall-to-json <<< 'let Manifest = ./hsnrm/resources/types/Manifest.dhall \n",
    "    let appendName = \\(m: Manifest) -> m // {name = m.name ++ \"-appended\" }\n",
    "    in appendName ./hsnrm/resources/defaults/Manifest.dhall\n",
    "' | jq"
   ]
  },
  {
   "cell_type": "markdown",
   "metadata": {},
   "source": [
    "Remember that any json document is one little step away from being a Python dictionaryy:"
   ]
  }
 ],
 "metadata": {
  "kernelspec": {
   "display_name": "Python 3",
   "language": "python",
   "name": "python3"
  },
  "language_info": {
   "codemirror_mode": {
    "name": "ipython",
    "version": 3
   },
   "file_extension": ".py",
   "mimetype": "text/x-python",
   "name": "python",
   "nbconvert_exporter": "python",
   "pygments_lexer": "ipython3",
   "version": "3.7.6"
  }
 },
 "nbformat": 4,
 "nbformat_minor": 4
}
