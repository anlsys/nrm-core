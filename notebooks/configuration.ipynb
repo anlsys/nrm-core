{
 "cells": [
  {
   "cell_type": "markdown",
   "metadata": {},
   "source": [
    "# NRM Configuration/Manifest guide\n",
    "\n",
    "This notebook documents NRM's configuration and manifest format. The two next cells are for setup purposes."
   ]
  },
  {
   "cell_type": "code",
   "execution_count": 1,
   "metadata": {},
   "outputs": [],
   "source": [
    "%%capture\n",
    "cd .."
   ]
  },
  {
   "cell_type": "code",
   "execution_count": 2,
   "metadata": {},
   "outputs": [
    {
     "data": {
      "application/javascript": [
       "\n",
       "            setTimeout(function() {\n",
       "                var nbb_cell_id = 2;\n",
       "                var nbb_unformatted_code = \"%load_ext nb_black\";\n",
       "                var nbb_formatted_code = \"%load_ext nb_black\";\n",
       "                var nbb_cells = Jupyter.notebook.get_cells();\n",
       "                for (var i = 0; i < nbb_cells.length; ++i) {\n",
       "                    if (nbb_cells[i].input_prompt_number == nbb_cell_id) {\n",
       "                        if (nbb_cells[i].get_text() == nbb_unformatted_code) {\n",
       "                             nbb_cells[i].set_text(nbb_formatted_code);\n",
       "                        }\n",
       "                        break;\n",
       "                    }\n",
       "                }\n",
       "            }, 500);\n",
       "            "
      ],
      "text/plain": [
       "<IPython.core.display.Javascript object>"
      ]
     },
     "metadata": {},
     "output_type": "display_data"
    }
   ],
   "source": [
    "%load_ext nb_black"
   ]
  },
  {
   "cell_type": "markdown",
   "metadata": {},
   "source": [
    "## Daemon configuration"
   ]
  },
  {
   "cell_type": "markdown",
   "metadata": {},
   "source": [
    "`nrmd`'s configuration can be defined in the json/yaml/[Dhall](https://dhall-lang.org/) formats. Admissible values are defined in file [resources/configurationSchema.json](./resources/configurationSchema.json), and alternatively available as a Dhall type in [resources/types/Cfg.dhall](resources/types/Configuration.dhall). Schema files get large, so the next cells shows the Dhall Configuration type as a more readable alternative."
   ]
  },
  {
   "cell_type": "code",
   "execution_count": 3,
   "metadata": {},
   "outputs": [
    {
     "name": "stdout",
     "output_type": "stream",
     "text": [
      "{ argo_nodeos_config =\n",
      "    \"argo_nodeos_config\"\n",
      ", argo_perf_wrapper =\n",
      "    \"nrm-perfwrapper\"\n",
      ", controlCfg =\n",
      "    None\n",
      "    { learnCfg :\n",
      "        < KnapsackConstraints :\n",
      "            { _1 : { _1 : Double } }\n",
      "        | LagrangeConstraints :\n",
      "            { _1 : { _1 : Double } }\n",
      "        >\n",
      "    , minimumControlInterval :\n",
      "        { fromuS : Double }\n",
      "    , referenceMeasurementRoundInterval :\n",
      "        Integer\n",
      "    , speedThreshold :\n",
      "        Double\n",
      "    }\n",
      ", downstreamCfg =\n",
      "    { downstreamBindAddress = \"ipc:///tmp/nrm-downstream-event\" }\n",
      ", dummy =\n",
      "    True\n",
      ", hwloc =\n",
      "    \"hwloc\"\n",
      ", hwmonCfg =\n",
      "    { hwmonEnabled = True, hwmonPath = \"/sys/class/hwmon\" }\n",
      ", libnrmPath =\n",
      "    None Text\n",
      ", logfile =\n",
      "    \"/tmp/nrm.log\"\n",
      ", nodeos =\n",
      "    False\n",
      ", perf =\n",
      "    \"perf\"\n",
      ", pmpi_lib =\n",
      "    \"pmpi_lib\"\n",
      ", raplCfg =\n",
      "    None { raplFrequency : { fromHz : Double }, raplPath : Text }\n",
      ", singularity =\n",
      "    False\n",
      ", slice_runtime =\n",
      "    < Dummy | Nodeos | Singularity >.Dummy\n",
      ", upstreamCfg =\n",
      "    { pubPort = +2345, rpcPort = +3456, upstreamBindAddress = \"*\" }\n",
      ", verbose =\n",
      "    < Debug | Error | Info >.Error\n",
      "}\n"
     ]
    },
    {
     "data": {
      "application/javascript": [
       "\n",
       "            setTimeout(function() {\n",
       "                var nbb_cell_id = 3;\n",
       "                var nbb_unformatted_code = \"%%script dhall resolve\\n./resources/defaults/Cfg.dhall\";\n",
       "                var nbb_formatted_code = \"%%script dhall resolve\\n./resources/defaults/Cfg.dhall\";\n",
       "                var nbb_cells = Jupyter.notebook.get_cells();\n",
       "                for (var i = 0; i < nbb_cells.length; ++i) {\n",
       "                    if (nbb_cells[i].input_prompt_number == nbb_cell_id) {\n",
       "                        if (nbb_cells[i].get_text() == nbb_unformatted_code) {\n",
       "                             nbb_cells[i].set_text(nbb_formatted_code);\n",
       "                        }\n",
       "                        break;\n",
       "                    }\n",
       "                }\n",
       "            }, 500);\n",
       "            "
      ],
      "text/plain": [
       "<IPython.core.display.Javascript object>"
      ]
     },
     "metadata": {},
     "output_type": "display_data"
    }
   ],
   "source": [
    "%%script dhall resolve\n",
    "./resources/defaults/Cfg.dhall"
   ]
  },
  {
   "cell_type": "markdown",
   "metadata": {},
   "source": [
    "Optional values are filled using defaults that can be found in [resources/defaults/Cfg.json](resources/defaults/Configuration.json) (also available in the Dhall format):"
   ]
  },
  {
   "cell_type": "code",
   "execution_count": 4,
   "metadata": {},
   "outputs": [
    {
     "name": "stdout",
     "output_type": "stream",
     "text": [
      "{\n",
      "  \"pmpi_lib\": \"pmpi_lib\",\n",
      "  \"verbose\": \"error\",\n",
      "  \"logfile\": \"/tmp/nrm.log\",\n",
      "  \"singularity\": false,\n",
      "  \"argo_nodeos_config\": \"argo_nodeos_config\",\n",
      "  \"upstreamCfg\": {\n",
      "    \"upstreamBindAddress\": \"*\",\n",
      "    \"rpcPort\": 3456,\n",
      "    \"pubPort\": 2345\n",
      "  },\n",
      "  \"perf\": \"perf\",\n",
      "  \"argo_perf_wrapper\": \"nrm-perfwrapper\",\n",
      "  \"downstreamCfg\": {\n",
      "    \"downstreamBindAddress\": \"ipc:///tmp/nrm-downstream-event\"\n",
      "  },\n",
      "  \"nodeos\": false,\n",
      "  \"hwloc\": \"hwloc\",\n",
      "  \"dummy\": true,\n",
      "  \"slice_runtime\": \"dummy\",\n",
      "  \"hwmonCfg\": {\n",
      "    \"hwmonPath\": \"/sys/class/hwmon\",\n",
      "    \"hwmonEnabled\": true\n",
      "  }\n",
      "}\n"
     ]
    },
    {
     "data": {
      "application/javascript": [
       "\n",
       "            setTimeout(function() {\n",
       "                var nbb_cell_id = 4;\n",
       "                var nbb_unformatted_code = \"%%bash\\ncat ./resources/defaults/Cfg.json | jq\";\n",
       "                var nbb_formatted_code = \"%%bash\\ncat ./resources/defaults/Cfg.json | jq\";\n",
       "                var nbb_cells = Jupyter.notebook.get_cells();\n",
       "                for (var i = 0; i < nbb_cells.length; ++i) {\n",
       "                    if (nbb_cells[i].input_prompt_number == nbb_cell_id) {\n",
       "                        if (nbb_cells[i].get_text() == nbb_unformatted_code) {\n",
       "                             nbb_cells[i].set_text(nbb_formatted_code);\n",
       "                        }\n",
       "                        break;\n",
       "                    }\n",
       "                }\n",
       "            }, 500);\n",
       "            "
      ],
      "text/plain": [
       "<IPython.core.display.Javascript object>"
      ]
     },
     "metadata": {},
     "output_type": "display_data"
    }
   ],
   "source": [
    "%%bash\n",
    "cat ./resources/defaults/Cfg.json | jq"
   ]
  },
  {
   "cell_type": "markdown",
   "metadata": {},
   "source": [
    "## Manifest configuration"
   ]
  },
  {
   "cell_type": "markdown",
   "metadata": {},
   "source": [
    "Example manifest files are in [resources/examples](../resources/examples) in JSON/YAML/Dhall format. For instance, the manifest file [resources/examples/perfwrap.json](../resources/examples/perfwrap.json) enables enables performance monitoring:"
   ]
  },
  {
   "cell_type": "code",
   "execution_count": 5,
   "metadata": {},
   "outputs": [
    {
     "name": "stdout",
     "output_type": "stream",
     "text": [
      "{\n",
      "  \"hwbind\": false,\n",
      "  \"app\": {\n",
      "    \"scheduler\": {\n",
      "      \"fIFO\": {}\n",
      "    },\n",
      "    \"power\": {\n",
      "      \"slowdown\": 1,\n",
      "      \"profile\": false,\n",
      "      \"policy\": \"noPowerPolicy\"\n",
      "    },\n",
      "    \"perfwrapper\": {\n",
      "      \"perfwrapper\": {\n",
      "        \"perfLimit\": 100000,\n",
      "        \"perfFreq\": 1\n",
      "      }\n",
      "    },\n",
      "    \"slice\": {\n",
      "      \"cpus\": 1,\n",
      "      \"mems\": 1\n",
      "    }\n",
      "  },\n",
      "  \"name\": \"default\"\n",
      "}\n"
     ]
    },
    {
     "data": {
      "application/javascript": [
       "\n",
       "            setTimeout(function() {\n",
       "                var nbb_cell_id = 5;\n",
       "                var nbb_unformatted_code = \"%%bash\\ncat resources/examples/perfwrap.json | jq\";\n",
       "                var nbb_formatted_code = \"%%bash\\ncat resources/examples/perfwrap.json | jq\";\n",
       "                var nbb_cells = Jupyter.notebook.get_cells();\n",
       "                for (var i = 0; i < nbb_cells.length; ++i) {\n",
       "                    if (nbb_cells[i].input_prompt_number == nbb_cell_id) {\n",
       "                        if (nbb_cells[i].get_text() == nbb_unformatted_code) {\n",
       "                             nbb_cells[i].set_text(nbb_formatted_code);\n",
       "                        }\n",
       "                        break;\n",
       "                    }\n",
       "                }\n",
       "            }, 500);\n",
       "            "
      ],
      "text/plain": [
       "<IPython.core.display.Javascript object>"
      ]
     },
     "metadata": {},
     "output_type": "display_data"
    }
   ],
   "source": [
    "%%bash\n",
    "cat resources/examples/perfwrap.json | jq"
   ]
  },
  {
   "cell_type": "markdown",
   "metadata": {},
   "source": [
    "Manifest options are documented in schema file [resources/manifestSchema.json](../resources/manifestSchema.json). The next cell shows the corresponding [Dhall](https://dhall-lang.org/) type."
   ]
  },
  {
   "cell_type": "code",
   "execution_count": 6,
   "metadata": {},
   "outputs": [
    {
     "name": "stdout",
     "output_type": "stream",
     "text": [
      "{ app :\n",
      "    { instrumentation :\n",
      "        Optional { ratelimit : { fromHz : Double } }\n",
      "    , perfwrapper :\n",
      "        < Perfwrapper :\n",
      "            { _1 :\n",
      "                { perfFreq :\n",
      "                    { fromHz : Double }\n",
      "                , perfLimit :\n",
      "                    { fromOps : Integer }\n",
      "                }\n",
      "            }\n",
      "        | PerfwrapperDisabled\n",
      "        >\n",
      "    , power :\n",
      "        { policy :\n",
      "            < Combined | DDCM | DVFS | NoPowerPolicy >\n",
      "        , profile :\n",
      "            Bool\n",
      "        , slowdown :\n",
      "            Integer\n",
      "        }\n",
      "    , scheduler :\n",
      "        < FIFO | HPC | Other : { _1 : Integer } >\n",
      "    , slice :\n",
      "        { cpus : Integer, mems : Integer }\n",
      "    }\n",
      ", hwbind :\n",
      "    Bool\n",
      ", image :\n",
      "    Optional\n",
      "    { binds : Optional (List Text), imagetype : < Docker | Sif >, path : Text }\n",
      ", name :\n",
      "    Text\n",
      "}\n"
     ]
    },
    {
     "data": {
      "application/javascript": [
       "\n",
       "            setTimeout(function() {\n",
       "                var nbb_cell_id = 6;\n",
       "                var nbb_unformatted_code = \"%%script dhall resolve\\n./resources/types/Manifest.dhall\";\n",
       "                var nbb_formatted_code = \"%%script dhall resolve\\n./resources/types/Manifest.dhall\";\n",
       "                var nbb_cells = Jupyter.notebook.get_cells();\n",
       "                for (var i = 0; i < nbb_cells.length; ++i) {\n",
       "                    if (nbb_cells[i].input_prompt_number == nbb_cell_id) {\n",
       "                        if (nbb_cells[i].get_text() == nbb_unformatted_code) {\n",
       "                             nbb_cells[i].set_text(nbb_formatted_code);\n",
       "                        }\n",
       "                        break;\n",
       "                    }\n",
       "                }\n",
       "            }, 500);\n",
       "            "
      ],
      "text/plain": [
       "<IPython.core.display.Javascript object>"
      ]
     },
     "metadata": {},
     "output_type": "display_data"
    }
   ],
   "source": [
    "%%script dhall resolve\n",
    "./resources/types/Manifest.dhall"
   ]
  },
  {
   "cell_type": "markdown",
   "metadata": {},
   "source": [
    "Under-specified manifests like the one in our `workloads` above (with missing optional fields from the schema) fill missing values with defaults, which are located in file [resources/defaults/Manifest.json](../../resources/examples/default.json):"
   ]
  },
  {
   "cell_type": "code",
   "execution_count": 7,
   "metadata": {},
   "outputs": [
    {
     "name": "stdout",
     "output_type": "stream",
     "text": [
      "{\n",
      "  \"hwbind\": false,\n",
      "  \"app\": {\n",
      "    \"scheduler\": {\n",
      "      \"fIFO\": {}\n",
      "    },\n",
      "    \"power\": {\n",
      "      \"slowdown\": 1,\n",
      "      \"profile\": false,\n",
      "      \"policy\": \"noPowerPolicy\"\n",
      "    },\n",
      "    \"perfwrapper\": {\n",
      "      \"perfwrapperDisabled\": {}\n",
      "    },\n",
      "    \"slice\": {\n",
      "      \"cpus\": 1,\n",
      "      \"mems\": 1\n",
      "    }\n",
      "  },\n",
      "  \"name\": \"default\"\n",
      "}\n"
     ]
    },
    {
     "data": {
      "application/javascript": [
       "\n",
       "            setTimeout(function() {\n",
       "                var nbb_cell_id = 7;\n",
       "                var nbb_unformatted_code = \"%%bash\\ncat resources/defaults/Manifest.json | jq\";\n",
       "                var nbb_formatted_code = \"%%bash\\ncat resources/defaults/Manifest.json | jq\";\n",
       "                var nbb_cells = Jupyter.notebook.get_cells();\n",
       "                for (var i = 0; i < nbb_cells.length; ++i) {\n",
       "                    if (nbb_cells[i].input_prompt_number == nbb_cell_id) {\n",
       "                        if (nbb_cells[i].get_text() == nbb_unformatted_code) {\n",
       "                             nbb_cells[i].set_text(nbb_formatted_code);\n",
       "                        }\n",
       "                        break;\n",
       "                    }\n",
       "                }\n",
       "            }, 500);\n",
       "            "
      ],
      "text/plain": [
       "<IPython.core.display.Javascript object>"
      ]
     },
     "metadata": {},
     "output_type": "display_data"
    }
   ],
   "source": [
    "%%bash\n",
    "cat resources/defaults/Manifest.json | jq"
   ]
  },
  {
   "cell_type": "markdown",
   "metadata": {},
   "source": [
    "The `dhall` and `dhall-to-json` utilities are available as convenience in this environment should you need them. Dhall is useful as a configuration language in itself."
   ]
  },
  {
   "cell_type": "code",
   "execution_count": 8,
   "metadata": {},
   "outputs": [
    {
     "name": "stdout",
     "output_type": "stream",
     "text": [
      "{\"image\":null,\"hwbind\":false,\"app\":{\"scheduler\":\"FIFO\",\"instrumentation\":null,\"power\":{\"slowdown\":1,\"profile\":false,\"policy\":\"NoPowerPolicy\"},\"perfwrapper\":\"PerfwrapperDisabled\",\"slice\":{\"cpus\":1,\"mems\":1}},\"name\":\"default-appended\"}\n"
     ]
    },
    {
     "data": {
      "application/javascript": [
       "\n",
       "            setTimeout(function() {\n",
       "                var nbb_cell_id = 8;\n",
       "                var nbb_unformatted_code = \"%%script dhall-to-json\\nlet Manifest = ./resources/types/Manifest.dhall \\nlet appendName = \\\\(m: Manifest) -> m // {name = m.name ++ \\\"-appended\\\" }\\nin appendName ./resources/defaults/Manifest.dhall\";\n",
       "                var nbb_formatted_code = \"%%script dhall-to-json\\nlet Manifest = ./resources/types/Manifest.dhall \\nlet appendName = \\\\(m: Manifest) -> m // {name = m.name ++ \\\"-appended\\\" }\\nin appendName ./resources/defaults/Manifest.dhall\";\n",
       "                var nbb_cells = Jupyter.notebook.get_cells();\n",
       "                for (var i = 0; i < nbb_cells.length; ++i) {\n",
       "                    if (nbb_cells[i].input_prompt_number == nbb_cell_id) {\n",
       "                        if (nbb_cells[i].get_text() == nbb_unformatted_code) {\n",
       "                             nbb_cells[i].set_text(nbb_formatted_code);\n",
       "                        }\n",
       "                        break;\n",
       "                    }\n",
       "                }\n",
       "            }, 500);\n",
       "            "
      ],
      "text/plain": [
       "<IPython.core.display.Javascript object>"
      ]
     },
     "metadata": {},
     "output_type": "display_data"
    }
   ],
   "source": [
    "%%script dhall-to-json\n",
    "let Manifest = ./resources/types/Manifest.dhall \n",
    "let appendName = \\(m: Manifest) -> m // {name = m.name ++ \"-appended\" }\n",
    "in appendName ./resources/defaults/Manifest.dhall"
   ]
  },
  {
   "cell_type": "markdown",
   "metadata": {},
   "source": [
    "Remember that any json document is one little step away from being a Python dictionaryy:"
   ]
  },
  {
   "cell_type": "code",
   "execution_count": 10,
   "metadata": {
    "scrolled": true
   },
   "outputs": [
    {
     "name": "stdout",
     "output_type": "stream",
     "text": [
      "{'hwbind': False, 'app': {'scheduler': {'fIFO': {}}, 'power': {'slowdown': 1, 'profile': False, 'policy': 'noPowerPolicy'}, 'perfwrapper': {'perfwrapper': {'perfLimit': 100000, 'perfFreq': 1}}, 'slice': {'cpus': 1, 'mems': 1}}, 'name': 'default'}\n"
     ]
    },
    {
     "data": {
      "application/javascript": [
       "\n",
       "            setTimeout(function() {\n",
       "                var nbb_cell_id = 10;\n",
       "                var nbb_unformatted_code = \"import json\\n\\nwith open(\\\"resources/examples/perfwrap.json\\\") as f:\\n    print(json.load(f))\";\n",
       "                var nbb_formatted_code = \"import json\\n\\nwith open(\\\"resources/examples/perfwrap.json\\\") as f:\\n    print(json.load(f))\";\n",
       "                var nbb_cells = Jupyter.notebook.get_cells();\n",
       "                for (var i = 0; i < nbb_cells.length; ++i) {\n",
       "                    if (nbb_cells[i].input_prompt_number == nbb_cell_id) {\n",
       "                        if (nbb_cells[i].get_text() == nbb_unformatted_code) {\n",
       "                             nbb_cells[i].set_text(nbb_formatted_code);\n",
       "                        }\n",
       "                        break;\n",
       "                    }\n",
       "                }\n",
       "            }, 500);\n",
       "            "
      ],
      "text/plain": [
       "<IPython.core.display.Javascript object>"
      ]
     },
     "metadata": {},
     "output_type": "display_data"
    }
   ],
   "source": [
    "import json\n",
    "\n",
    "with open(\"resources/examples/perfwrap.json\") as f:\n",
    "    print(json.load(f))"
   ]
  },
  {
   "cell_type": "code",
   "execution_count": null,
   "metadata": {},
   "outputs": [],
   "source": []
  }
 ],
 "metadata": {
  "kernelspec": {
   "display_name": "Python3 - Nix",
   "language": "python",
   "name": "ipython_nix"
  },
  "language_info": {
   "codemirror_mode": {
    "name": "ipython",
    "version": 3
   },
   "file_extension": ".py",
   "mimetype": "text/x-python",
   "name": "python",
   "nbconvert_exporter": "python",
   "pygments_lexer": "ipython3",
   "version": "3.7.4"
  }
 },
 "nbformat": 4,
 "nbformat_minor": 4
}
